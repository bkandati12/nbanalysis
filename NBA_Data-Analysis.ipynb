{
 "cells": [
  {
   "cell_type": "markdown",
   "id": "b9682519",
   "metadata": {},
   "source": [
    "### NBA Player Data Analysis"
   ]
  },
  {
   "cell_type": "code",
   "execution_count": null,
   "id": "b3f67a21",
   "metadata": {},
   "outputs": [],
   "source": [
    "import pandas as pd  \n",
    "\n",
    "# requests api to get data from NBA site\n",
    "import requests \n",
    "\n",
    "# to see all columns in a wide dataframe\n",
    "pd.set_option('display.max_columns', None) \n",
    "import time\n",
    "import numpy as np\n",
    "import plotly\n",
    "import plotly.express as px\n",
    "import plotly.graph_objects as go\n",
    "%matplotlib inline"
   ]
  },
  {
   "cell_type": "code",
   "execution_count": 121,
   "id": "5b96dd78-44a2-4e25-b396-870b187bb822",
   "metadata": {},
   "outputs": [
    {
     "name": "stdout",
     "output_type": "stream",
     "text": [
      "https://stats.nba.com/stats/leagueLeaders?LeagueID=00&PerMode=Totals&Scope=S&Season=2021-22&SeasonType=Regular%20Season&StatCategory=PTS\n"
     ]
    }
   ],
   "source": [
    "'''\n",
    "Print this value to check query string values\n",
    "\n",
    "data_url = 'https://stats.nba.com/stats/leagueLeaders?' \\\n",
    "           'LeagueID=00' \\\n",
    "           '&PerMode=Totals' \\\n",
    "           '&Scope=S' \\\n",
    "           '&Season=2021-22' \\\n",
    "           '&SeasonType=Regular' \\\n",
    "           'Season&StatCategory=PTS'\n",
    "'''\n",
    "\n",
    "data_url = 'https://stats.nba.com/stats/leagueLeaders?LeagueID=00&PerMode=Totals&Scope=S&Season=2021-22&SeasonType=Regular%20Season&StatCategory=PTS'\n",
    "print(data_url)"
   ]
  },
  {
   "cell_type": "code",
   "execution_count": 126,
   "id": "7c6837d3-51f8-4028-887a-139de8b18a02",
   "metadata": {},
   "outputs": [
    {
     "data": {
      "text/plain": [
       "dict"
      ]
     },
     "execution_count": 126,
     "metadata": {},
     "output_type": "execute_result"
    }
   ],
   "source": [
    "'''\n",
    "    Create request object to get data in json format\n",
    "'''\n",
    "#r = requests.get(url=data_url).json()\n",
    "# r['resultSet']['headers']\n",
    "# r['parameters']\n",
    "type(r)"
   ]
  },
  {
   "cell_type": "code",
   "execution_count": 65,
   "id": "18ca0afc-ab56-4b21-9413-11a8be771284",
   "metadata": {},
   "outputs": [],
   "source": [
    "table_headers = r['resultSet']['headers']\n",
    "table_rows = r['resultSet']['rowSet']"
   ]
  },
  {
   "cell_type": "code",
   "execution_count": 66,
   "id": "1f322eb6-f779-458a-b9c0-b77eab4d1807",
   "metadata": {},
   "outputs": [
    {
     "data": {
      "text/plain": [
       "list"
      ]
     },
     "execution_count": 66,
     "metadata": {},
     "output_type": "execute_result"
    }
   ],
   "source": [
    "type(table_rows)"
   ]
  },
  {
   "cell_type": "code",
   "execution_count": 127,
   "id": "bd54e848-956c-40fa-b202-302a766a17d2",
   "metadata": {},
   "outputs": [],
   "source": [
    "'''\n",
    "    Create dataframe to data with columns and records\n",
    "    Pass the list object and column names\n",
    "'''\n",
    "temp_df1 = pd.DataFrame(table_rows, columns=table_headers)"
   ]
  },
  {
   "cell_type": "code",
   "execution_count": 128,
   "id": "43eba4fe-3b65-4e4f-a00d-017a546f9427",
   "metadata": {},
   "outputs": [
    {
     "data": {
      "text/html": [
       "<div>\n",
       "<style scoped>\n",
       "    .dataframe tbody tr th:only-of-type {\n",
       "        vertical-align: middle;\n",
       "    }\n",
       "\n",
       "    .dataframe tbody tr th {\n",
       "        vertical-align: top;\n",
       "    }\n",
       "\n",
       "    .dataframe thead th {\n",
       "        text-align: right;\n",
       "    }\n",
       "</style>\n",
       "<table border=\"1\" class=\"dataframe\">\n",
       "  <thead>\n",
       "    <tr style=\"text-align: right;\">\n",
       "      <th></th>\n",
       "      <th>PLAYER_ID</th>\n",
       "      <th>RANK</th>\n",
       "      <th>PLAYER</th>\n",
       "      <th>TEAM_ID</th>\n",
       "      <th>TEAM</th>\n",
       "      <th>GP</th>\n",
       "      <th>MIN</th>\n",
       "      <th>FGM</th>\n",
       "      <th>FGA</th>\n",
       "      <th>FG_PCT</th>\n",
       "      <th>FG3M</th>\n",
       "      <th>FG3A</th>\n",
       "      <th>FG3_PCT</th>\n",
       "      <th>FTM</th>\n",
       "      <th>FTA</th>\n",
       "      <th>FT_PCT</th>\n",
       "      <th>OREB</th>\n",
       "      <th>DREB</th>\n",
       "      <th>REB</th>\n",
       "      <th>AST</th>\n",
       "      <th>STL</th>\n",
       "      <th>BLK</th>\n",
       "      <th>TOV</th>\n",
       "      <th>PF</th>\n",
       "      <th>PTS</th>\n",
       "      <th>EFF</th>\n",
       "      <th>AST_TOV</th>\n",
       "      <th>STL_TOV</th>\n",
       "    </tr>\n",
       "  </thead>\n",
       "  <tbody>\n",
       "    <tr>\n",
       "      <th>0</th>\n",
       "      <td>1628369</td>\n",
       "      <td>1</td>\n",
       "      <td>Jayson Tatum</td>\n",
       "      <td>1610612738</td>\n",
       "      <td>BOS</td>\n",
       "      <td>24</td>\n",
       "      <td>983</td>\n",
       "      <td>201</td>\n",
       "      <td>472</td>\n",
       "      <td>0.426</td>\n",
       "      <td>77</td>\n",
       "      <td>196</td>\n",
       "      <td>0.393</td>\n",
       "      <td>136</td>\n",
       "      <td>170</td>\n",
       "      <td>0.800</td>\n",
       "      <td>24</td>\n",
       "      <td>137</td>\n",
       "      <td>161</td>\n",
       "      <td>148</td>\n",
       "      <td>29</td>\n",
       "      <td>21</td>\n",
       "      <td>100</td>\n",
       "      <td>72</td>\n",
       "      <td>615</td>\n",
       "      <td>569</td>\n",
       "      <td>1.48</td>\n",
       "      <td>0.29</td>\n",
       "    </tr>\n",
       "    <tr>\n",
       "      <th>1</th>\n",
       "      <td>201939</td>\n",
       "      <td>2</td>\n",
       "      <td>Stephen Curry</td>\n",
       "      <td>1610612744</td>\n",
       "      <td>GSW</td>\n",
       "      <td>22</td>\n",
       "      <td>764</td>\n",
       "      <td>202</td>\n",
       "      <td>440</td>\n",
       "      <td>0.459</td>\n",
       "      <td>91</td>\n",
       "      <td>229</td>\n",
       "      <td>0.397</td>\n",
       "      <td>107</td>\n",
       "      <td>129</td>\n",
       "      <td>0.829</td>\n",
       "      <td>11</td>\n",
       "      <td>104</td>\n",
       "      <td>115</td>\n",
       "      <td>129</td>\n",
       "      <td>29</td>\n",
       "      <td>8</td>\n",
       "      <td>57</td>\n",
       "      <td>59</td>\n",
       "      <td>602</td>\n",
       "      <td>566</td>\n",
       "      <td>2.26</td>\n",
       "      <td>0.51</td>\n",
       "    </tr>\n",
       "    <tr>\n",
       "      <th>2</th>\n",
       "      <td>1627759</td>\n",
       "      <td>3</td>\n",
       "      <td>Jaylen Brown</td>\n",
       "      <td>1610612738</td>\n",
       "      <td>BOS</td>\n",
       "      <td>24</td>\n",
       "      <td>920</td>\n",
       "      <td>197</td>\n",
       "      <td>419</td>\n",
       "      <td>0.470</td>\n",
       "      <td>60</td>\n",
       "      <td>161</td>\n",
       "      <td>0.373</td>\n",
       "      <td>100</td>\n",
       "      <td>131</td>\n",
       "      <td>0.763</td>\n",
       "      <td>33</td>\n",
       "      <td>133</td>\n",
       "      <td>166</td>\n",
       "      <td>85</td>\n",
       "      <td>27</td>\n",
       "      <td>10</td>\n",
       "      <td>74</td>\n",
       "      <td>71</td>\n",
       "      <td>554</td>\n",
       "      <td>515</td>\n",
       "      <td>1.15</td>\n",
       "      <td>0.36</td>\n",
       "    </tr>\n",
       "    <tr>\n",
       "      <th>3</th>\n",
       "      <td>1629029</td>\n",
       "      <td>4</td>\n",
       "      <td>Luka Doncic</td>\n",
       "      <td>1610612742</td>\n",
       "      <td>DAL</td>\n",
       "      <td>15</td>\n",
       "      <td>552</td>\n",
       "      <td>160</td>\n",
       "      <td>352</td>\n",
       "      <td>0.455</td>\n",
       "      <td>51</td>\n",
       "      <td>148</td>\n",
       "      <td>0.345</td>\n",
       "      <td>104</td>\n",
       "      <td>135</td>\n",
       "      <td>0.770</td>\n",
       "      <td>10</td>\n",
       "      <td>137</td>\n",
       "      <td>147</td>\n",
       "      <td>96</td>\n",
       "      <td>27</td>\n",
       "      <td>9</td>\n",
       "      <td>59</td>\n",
       "      <td>44</td>\n",
       "      <td>475</td>\n",
       "      <td>472</td>\n",
       "      <td>1.63</td>\n",
       "      <td>0.46</td>\n",
       "    </tr>\n",
       "    <tr>\n",
       "      <th>4</th>\n",
       "      <td>202710</td>\n",
       "      <td>5</td>\n",
       "      <td>Jimmy Butler</td>\n",
       "      <td>1610612748</td>\n",
       "      <td>MIA</td>\n",
       "      <td>17</td>\n",
       "      <td>629</td>\n",
       "      <td>166</td>\n",
       "      <td>328</td>\n",
       "      <td>0.506</td>\n",
       "      <td>23</td>\n",
       "      <td>68</td>\n",
       "      <td>0.338</td>\n",
       "      <td>111</td>\n",
       "      <td>132</td>\n",
       "      <td>0.841</td>\n",
       "      <td>41</td>\n",
       "      <td>84</td>\n",
       "      <td>125</td>\n",
       "      <td>78</td>\n",
       "      <td>35</td>\n",
       "      <td>11</td>\n",
       "      <td>25</td>\n",
       "      <td>25</td>\n",
       "      <td>466</td>\n",
       "      <td>507</td>\n",
       "      <td>3.12</td>\n",
       "      <td>1.40</td>\n",
       "    </tr>\n",
       "  </tbody>\n",
       "</table>\n",
       "</div>"
      ],
      "text/plain": [
       "   PLAYER_ID  RANK         PLAYER     TEAM_ID TEAM  GP  MIN  FGM  FGA  FG_PCT  \\\n",
       "0    1628369     1   Jayson Tatum  1610612738  BOS  24  983  201  472   0.426   \n",
       "1     201939     2  Stephen Curry  1610612744  GSW  22  764  202  440   0.459   \n",
       "2    1627759     3   Jaylen Brown  1610612738  BOS  24  920  197  419   0.470   \n",
       "3    1629029     4    Luka Doncic  1610612742  DAL  15  552  160  352   0.455   \n",
       "4     202710     5   Jimmy Butler  1610612748  MIA  17  629  166  328   0.506   \n",
       "\n",
       "   FG3M  FG3A  FG3_PCT  FTM  FTA  FT_PCT  OREB  DREB  REB  AST  STL  BLK  TOV  \\\n",
       "0    77   196    0.393  136  170   0.800    24   137  161  148   29   21  100   \n",
       "1    91   229    0.397  107  129   0.829    11   104  115  129   29    8   57   \n",
       "2    60   161    0.373  100  131   0.763    33   133  166   85   27   10   74   \n",
       "3    51   148    0.345  104  135   0.770    10   137  147   96   27    9   59   \n",
       "4    23    68    0.338  111  132   0.841    41    84  125   78   35   11   25   \n",
       "\n",
       "   PF  PTS  EFF  AST_TOV  STL_TOV  \n",
       "0  72  615  569     1.48     0.29  \n",
       "1  59  602  566     2.26     0.51  \n",
       "2  71  554  515     1.15     0.36  \n",
       "3  44  475  472     1.63     0.46  \n",
       "4  25  466  507     3.12     1.40  "
      ]
     },
     "execution_count": 128,
     "metadata": {},
     "output_type": "execute_result"
    }
   ],
   "source": [
    "temp_df1.head()"
   ]
  },
  {
   "cell_type": "code",
   "execution_count": 129,
   "id": "c5c82052-054d-47cb-827d-b37ac4498dd4",
   "metadata": {},
   "outputs": [],
   "source": [
    "'''\n",
    "    Create dataframe with columns Year and Season type \n",
    "    Pass a dictionary object with column name and constant values\n",
    "'''\n",
    "# Create Season types list\n",
    "Season_Types = ['Regular%20Season', 'Playoffs']\n",
    "\n",
    "# Create years type list\n",
    "Years = ['2019-20','2020-21','2021-22']\n",
    "\n",
    "temp_df2 = pd.DataFrame({'Year' : ['2021-22' for i in range(len(temp_df1))],\n",
    "                         'Season_Type' : ['Regular' for i in range(len(temp_df1))]})"
   ]
  },
  {
   "cell_type": "code",
   "execution_count": 130,
   "id": "e1e0e1d7-80e0-48d8-bdf3-e10c935f7db4",
   "metadata": {},
   "outputs": [
    {
     "data": {
      "text/html": [
       "<div>\n",
       "<style scoped>\n",
       "    .dataframe tbody tr th:only-of-type {\n",
       "        vertical-align: middle;\n",
       "    }\n",
       "\n",
       "    .dataframe tbody tr th {\n",
       "        vertical-align: top;\n",
       "    }\n",
       "\n",
       "    .dataframe thead th {\n",
       "        text-align: right;\n",
       "    }\n",
       "</style>\n",
       "<table border=\"1\" class=\"dataframe\">\n",
       "  <thead>\n",
       "    <tr style=\"text-align: right;\">\n",
       "      <th></th>\n",
       "      <th>Year</th>\n",
       "      <th>Season_Type</th>\n",
       "    </tr>\n",
       "  </thead>\n",
       "  <tbody>\n",
       "    <tr>\n",
       "      <th>0</th>\n",
       "      <td>2021-22</td>\n",
       "      <td>Regular</td>\n",
       "    </tr>\n",
       "    <tr>\n",
       "      <th>1</th>\n",
       "      <td>2021-22</td>\n",
       "      <td>Regular</td>\n",
       "    </tr>\n",
       "    <tr>\n",
       "      <th>2</th>\n",
       "      <td>2021-22</td>\n",
       "      <td>Regular</td>\n",
       "    </tr>\n",
       "    <tr>\n",
       "      <th>3</th>\n",
       "      <td>2021-22</td>\n",
       "      <td>Regular</td>\n",
       "    </tr>\n",
       "    <tr>\n",
       "      <th>4</th>\n",
       "      <td>2021-22</td>\n",
       "      <td>Regular</td>\n",
       "    </tr>\n",
       "  </tbody>\n",
       "</table>\n",
       "</div>"
      ],
      "text/plain": [
       "      Year Season_Type\n",
       "0  2021-22     Regular\n",
       "1  2021-22     Regular\n",
       "2  2021-22     Regular\n",
       "3  2021-22     Regular\n",
       "4  2021-22     Regular"
      ]
     },
     "execution_count": 130,
     "metadata": {},
     "output_type": "execute_result"
    }
   ],
   "source": [
    "temp_df2.head()"
   ]
  },
  {
   "cell_type": "code",
   "execution_count": 71,
   "id": "7b4f1e6d-f4e9-47b6-b9e9-c3e739e92283",
   "metadata": {},
   "outputs": [
    {
     "data": {
      "text/html": [
       "<div>\n",
       "<style scoped>\n",
       "    .dataframe tbody tr th:only-of-type {\n",
       "        vertical-align: middle;\n",
       "    }\n",
       "\n",
       "    .dataframe tbody tr th {\n",
       "        vertical-align: top;\n",
       "    }\n",
       "\n",
       "    .dataframe thead th {\n",
       "        text-align: right;\n",
       "    }\n",
       "</style>\n",
       "<table border=\"1\" class=\"dataframe\">\n",
       "  <thead>\n",
       "    <tr style=\"text-align: right;\">\n",
       "      <th></th>\n",
       "      <th>Year</th>\n",
       "      <th>Season_Type</th>\n",
       "      <th>PLAYER_ID</th>\n",
       "      <th>RANK</th>\n",
       "      <th>PLAYER</th>\n",
       "      <th>TEAM_ID</th>\n",
       "      <th>TEAM</th>\n",
       "      <th>GP</th>\n",
       "      <th>MIN</th>\n",
       "      <th>FGM</th>\n",
       "      <th>FGA</th>\n",
       "      <th>FG_PCT</th>\n",
       "      <th>FG3M</th>\n",
       "      <th>FG3A</th>\n",
       "      <th>FG3_PCT</th>\n",
       "      <th>FTM</th>\n",
       "      <th>FTA</th>\n",
       "      <th>FT_PCT</th>\n",
       "      <th>OREB</th>\n",
       "      <th>DREB</th>\n",
       "      <th>REB</th>\n",
       "      <th>AST</th>\n",
       "      <th>STL</th>\n",
       "      <th>BLK</th>\n",
       "      <th>TOV</th>\n",
       "      <th>PF</th>\n",
       "      <th>PTS</th>\n",
       "      <th>EFF</th>\n",
       "      <th>AST_TOV</th>\n",
       "      <th>STL_TOV</th>\n",
       "    </tr>\n",
       "  </thead>\n",
       "  <tbody>\n",
       "    <tr>\n",
       "      <th>0</th>\n",
       "      <td>2021-22</td>\n",
       "      <td>Regular</td>\n",
       "      <td>1629027</td>\n",
       "      <td>1</td>\n",
       "      <td>Trae Young</td>\n",
       "      <td>1610612737</td>\n",
       "      <td>ATL</td>\n",
       "      <td>76</td>\n",
       "      <td>2652</td>\n",
       "      <td>711</td>\n",
       "      <td>1544</td>\n",
       "      <td>0.460</td>\n",
       "      <td>233</td>\n",
       "      <td>610</td>\n",
       "      <td>0.382</td>\n",
       "      <td>500</td>\n",
       "      <td>553</td>\n",
       "      <td>0.904</td>\n",
       "      <td>50</td>\n",
       "      <td>234</td>\n",
       "      <td>284</td>\n",
       "      <td>737</td>\n",
       "      <td>72</td>\n",
       "      <td>7</td>\n",
       "      <td>303</td>\n",
       "      <td>128</td>\n",
       "      <td>2155</td>\n",
       "      <td>2066</td>\n",
       "      <td>2.43</td>\n",
       "      <td>0.24</td>\n",
       "    </tr>\n",
       "    <tr>\n",
       "      <th>1</th>\n",
       "      <td>2021-22</td>\n",
       "      <td>Regular</td>\n",
       "      <td>201942</td>\n",
       "      <td>2</td>\n",
       "      <td>DeMar DeRozan</td>\n",
       "      <td>1610612741</td>\n",
       "      <td>CHI</td>\n",
       "      <td>76</td>\n",
       "      <td>2743</td>\n",
       "      <td>774</td>\n",
       "      <td>1535</td>\n",
       "      <td>0.504</td>\n",
       "      <td>50</td>\n",
       "      <td>142</td>\n",
       "      <td>0.352</td>\n",
       "      <td>520</td>\n",
       "      <td>593</td>\n",
       "      <td>0.877</td>\n",
       "      <td>56</td>\n",
       "      <td>336</td>\n",
       "      <td>392</td>\n",
       "      <td>374</td>\n",
       "      <td>68</td>\n",
       "      <td>24</td>\n",
       "      <td>181</td>\n",
       "      <td>178</td>\n",
       "      <td>2118</td>\n",
       "      <td>1961</td>\n",
       "      <td>2.07</td>\n",
       "      <td>0.38</td>\n",
       "    </tr>\n",
       "    <tr>\n",
       "      <th>2</th>\n",
       "      <td>2021-22</td>\n",
       "      <td>Regular</td>\n",
       "      <td>203954</td>\n",
       "      <td>3</td>\n",
       "      <td>Joel Embiid</td>\n",
       "      <td>1610612755</td>\n",
       "      <td>PHI</td>\n",
       "      <td>68</td>\n",
       "      <td>2296</td>\n",
       "      <td>666</td>\n",
       "      <td>1334</td>\n",
       "      <td>0.499</td>\n",
       "      <td>93</td>\n",
       "      <td>251</td>\n",
       "      <td>0.371</td>\n",
       "      <td>654</td>\n",
       "      <td>803</td>\n",
       "      <td>0.814</td>\n",
       "      <td>146</td>\n",
       "      <td>650</td>\n",
       "      <td>796</td>\n",
       "      <td>284</td>\n",
       "      <td>77</td>\n",
       "      <td>99</td>\n",
       "      <td>214</td>\n",
       "      <td>181</td>\n",
       "      <td>2079</td>\n",
       "      <td>2304</td>\n",
       "      <td>1.33</td>\n",
       "      <td>0.36</td>\n",
       "    </tr>\n",
       "    <tr>\n",
       "      <th>3</th>\n",
       "      <td>2021-22</td>\n",
       "      <td>Regular</td>\n",
       "      <td>1628369</td>\n",
       "      <td>4</td>\n",
       "      <td>Jayson Tatum</td>\n",
       "      <td>1610612738</td>\n",
       "      <td>BOS</td>\n",
       "      <td>76</td>\n",
       "      <td>2731</td>\n",
       "      <td>708</td>\n",
       "      <td>1564</td>\n",
       "      <td>0.453</td>\n",
       "      <td>230</td>\n",
       "      <td>651</td>\n",
       "      <td>0.353</td>\n",
       "      <td>400</td>\n",
       "      <td>469</td>\n",
       "      <td>0.853</td>\n",
       "      <td>85</td>\n",
       "      <td>524</td>\n",
       "      <td>609</td>\n",
       "      <td>334</td>\n",
       "      <td>75</td>\n",
       "      <td>49</td>\n",
       "      <td>217</td>\n",
       "      <td>174</td>\n",
       "      <td>2046</td>\n",
       "      <td>1971</td>\n",
       "      <td>1.54</td>\n",
       "      <td>0.35</td>\n",
       "    </tr>\n",
       "    <tr>\n",
       "      <th>4</th>\n",
       "      <td>2021-22</td>\n",
       "      <td>Regular</td>\n",
       "      <td>203999</td>\n",
       "      <td>5</td>\n",
       "      <td>Nikola Jokic</td>\n",
       "      <td>1610612743</td>\n",
       "      <td>DEN</td>\n",
       "      <td>74</td>\n",
       "      <td>2476</td>\n",
       "      <td>764</td>\n",
       "      <td>1311</td>\n",
       "      <td>0.583</td>\n",
       "      <td>97</td>\n",
       "      <td>288</td>\n",
       "      <td>0.337</td>\n",
       "      <td>379</td>\n",
       "      <td>468</td>\n",
       "      <td>0.810</td>\n",
       "      <td>206</td>\n",
       "      <td>813</td>\n",
       "      <td>1019</td>\n",
       "      <td>584</td>\n",
       "      <td>109</td>\n",
       "      <td>63</td>\n",
       "      <td>281</td>\n",
       "      <td>191</td>\n",
       "      <td>2004</td>\n",
       "      <td>2862</td>\n",
       "      <td>2.08</td>\n",
       "      <td>0.39</td>\n",
       "    </tr>\n",
       "  </tbody>\n",
       "</table>\n",
       "</div>"
      ],
      "text/plain": [
       "      Year Season_Type  PLAYER_ID  RANK         PLAYER     TEAM_ID TEAM  GP  \\\n",
       "0  2021-22     Regular    1629027     1     Trae Young  1610612737  ATL  76   \n",
       "1  2021-22     Regular     201942     2  DeMar DeRozan  1610612741  CHI  76   \n",
       "2  2021-22     Regular     203954     3    Joel Embiid  1610612755  PHI  68   \n",
       "3  2021-22     Regular    1628369     4   Jayson Tatum  1610612738  BOS  76   \n",
       "4  2021-22     Regular     203999     5   Nikola Jokic  1610612743  DEN  74   \n",
       "\n",
       "    MIN  FGM   FGA  FG_PCT  FG3M  FG3A  FG3_PCT  FTM  FTA  FT_PCT  OREB  DREB  \\\n",
       "0  2652  711  1544   0.460   233   610    0.382  500  553   0.904    50   234   \n",
       "1  2743  774  1535   0.504    50   142    0.352  520  593   0.877    56   336   \n",
       "2  2296  666  1334   0.499    93   251    0.371  654  803   0.814   146   650   \n",
       "3  2731  708  1564   0.453   230   651    0.353  400  469   0.853    85   524   \n",
       "4  2476  764  1311   0.583    97   288    0.337  379  468   0.810   206   813   \n",
       "\n",
       "    REB  AST  STL  BLK  TOV   PF   PTS   EFF  AST_TOV  STL_TOV  \n",
       "0   284  737   72    7  303  128  2155  2066     2.43     0.24  \n",
       "1   392  374   68   24  181  178  2118  1961     2.07     0.38  \n",
       "2   796  284   77   99  214  181  2079  2304     1.33     0.36  \n",
       "3   609  334   75   49  217  174  2046  1971     1.54     0.35  \n",
       "4  1019  584  109   63  281  191  2004  2862     2.08     0.39  "
      ]
     },
     "execution_count": 71,
     "metadata": {},
     "output_type": "execute_result"
    }
   ],
   "source": [
    "# Concatenate both dataframes \n",
    "temp_df3 = pd.concat([temp_df2,temp_df1], axis = 1)\n",
    "temp_df3.head()"
   ]
  },
  {
   "cell_type": "code",
   "execution_count": 72,
   "id": "bf562031-f481-4317-b1ea-dd6f3cbf9e77",
   "metadata": {},
   "outputs": [],
   "source": [
    "headers = {\n",
    "    'Accept': '*/*',\n",
    "    'Accept-Encoding': 'gzip, deflate, br',\n",
    "    'Accept-Language': 'en-IN,en-GB;q=0.9,en-US;q=0.8,en;q=0.7',\n",
    "    'Connection': 'keep-alive',\n",
    "    'Host': 'stats.nba.com',\n",
    "    'Origin': 'https://www.nba.com',\n",
    "    'Referer': 'https://www.nba.com/',\n",
    "    'sec-ch-ua': '\"Not?A_Brand\";v=\"8\", \"Chromium\";v=\"108\", \"Google Chrome\";v=\"108\"',\n",
    "    'sec-ch-ua-mobile': '?0',\n",
    "    'sec-ch-ua-platform': '\"macOS\"',\n",
    "    'Sec-Fetch-Dest': 'empty',\n",
    "    'Sec-Fetch-Mode': 'cors',\n",
    "    'Sec-Fetch-Site': 'same-site',\n",
    "    'User-Agent': 'Mozilla/5.0 (Macintosh; Intel Mac OS X 10_15_7) AppleWebKit/537.36 (KHTML, like Gecko) Chrome/108.0.0.0 Safari/537.36'\n",
    "}"
   ]
  },
  {
   "cell_type": "code",
   "execution_count": 131,
   "id": "c29d71f4-827a-47d5-8269-818632f9df3e",
   "metadata": {},
   "outputs": [
    {
     "name": "stdout",
     "output_type": "stream",
     "text": [
      "finished scrapping for 2019-20  Regular%20Season.\n",
      "finished scrapping for 2019-20  Playoffs.\n",
      "finished scrapping for 2020-21  Regular%20Season.\n",
      "finished scrapping for 2020-21  Playoffs.\n",
      "finished scrapping for 2021-22  Regular%20Season.\n",
      "finished scrapping for 2021-22  Playoffs.\n"
     ]
    }
   ],
   "source": [
    "# Create a dataframe columns\n",
    "df_cols = ['Year','SeasonType']+table_headers\n",
    "\n",
    "# Create your DATAFRAME\n",
    "df = pd.DataFrame(columns=df_cols)\n",
    "\n",
    "# Create Season types list\n",
    "Season_Types = ['Regular%20Season', 'Playoffs']\n",
    "\n",
    "# Create years type list\n",
    "Years = ['2019-20','2020-21','2021-22']\n",
    "\n",
    "# Nested loop for each year with two season types \n",
    "for y in Years:\n",
    "    for s in Season_Types:\n",
    "        \n",
    "        # get data dynamically for each season and season type\n",
    "        api_url = 'https://stats.nba.com/stats/leagueLeaders?LeagueID=00&PerMode=Totals&Scope=S&Season='+y+'&SeasonType='+s+'&StatCategory=PTS'\n",
    "        r = requests.get(url=api_url, headers=headers).json()\n",
    "        \n",
    "        # static column heirarchy inside json to pull data\n",
    "        table_headers = r['resultSet']['headers']\n",
    "        table_rows = r['resultSet']['rowSet']\n",
    "        \n",
    "        temp_df1 = pd.DataFrame(table_rows, columns=table_headers)\n",
    "        temp_df2 = pd.DataFrame(\n",
    "                                {'Year':[y for i in range(len(temp_df1))],\n",
    "                                 'SeasonType':[s for i in range(len(temp_df1))]\n",
    "                                }\n",
    "                               )\n",
    "        temp_df3 = pd.concat([temp_df2, temp_df1], axis=1)\n",
    "        \n",
    "        # Concatenate three dataframes into one workable dataframe\n",
    "        df = pd.concat([df, temp_df3], axis=0)\n",
    "        print(f'finished scrapping for {y}  {s}.')\n",
    "        # time.sleep(20)\n",
    "        \n",
    "        \n",
    "        \n",
    "        \n",
    "        \n",
    "        "
   ]
  },
  {
   "cell_type": "code",
   "execution_count": 74,
   "id": "8605caff-e0e9-4d73-9935-889217d8dabe",
   "metadata": {},
   "outputs": [],
   "source": [
    "df.to_excel('nba_player_data.xlsx', index=False)"
   ]
  },
  {
   "cell_type": "code",
   "execution_count": null,
   "id": "0518890b-ee01-4d08-bdbd-400998926486",
   "metadata": {},
   "outputs": [],
   "source": []
  },
  {
   "cell_type": "code",
   "execution_count": 138,
   "id": "93b1fcb4-eb88-4717-83a6-0755aad893cb",
   "metadata": {},
   "outputs": [],
   "source": [
    "data = pd.read_excel('nba_player_data.xlsx')"
   ]
  },
  {
   "cell_type": "code",
   "execution_count": 139,
   "id": "166a38f3-7644-48ae-a366-217c5829cfc9",
   "metadata": {},
   "outputs": [
    {
     "data": {
      "text/html": [
       "<div>\n",
       "<style scoped>\n",
       "    .dataframe tbody tr th:only-of-type {\n",
       "        vertical-align: middle;\n",
       "    }\n",
       "\n",
       "    .dataframe tbody tr th {\n",
       "        vertical-align: top;\n",
       "    }\n",
       "\n",
       "    .dataframe thead th {\n",
       "        text-align: right;\n",
       "    }\n",
       "</style>\n",
       "<table border=\"1\" class=\"dataframe\">\n",
       "  <thead>\n",
       "    <tr style=\"text-align: right;\">\n",
       "      <th></th>\n",
       "      <th>Year</th>\n",
       "      <th>SeasonType</th>\n",
       "      <th>PLAYER_ID</th>\n",
       "      <th>RANK</th>\n",
       "      <th>PLAYER</th>\n",
       "      <th>TEAM_ID</th>\n",
       "      <th>TEAM</th>\n",
       "      <th>GP</th>\n",
       "      <th>MIN</th>\n",
       "      <th>FGM</th>\n",
       "      <th>FGA</th>\n",
       "      <th>FG_PCT</th>\n",
       "      <th>FG3M</th>\n",
       "      <th>FG3A</th>\n",
       "      <th>FG3_PCT</th>\n",
       "      <th>FTM</th>\n",
       "      <th>FTA</th>\n",
       "      <th>FT_PCT</th>\n",
       "      <th>OREB</th>\n",
       "      <th>DREB</th>\n",
       "      <th>REB</th>\n",
       "      <th>AST</th>\n",
       "      <th>STL</th>\n",
       "      <th>BLK</th>\n",
       "      <th>TOV</th>\n",
       "      <th>PF</th>\n",
       "      <th>PTS</th>\n",
       "      <th>EFF</th>\n",
       "      <th>AST_TOV</th>\n",
       "      <th>STL_TOV</th>\n",
       "    </tr>\n",
       "  </thead>\n",
       "  <tbody>\n",
       "    <tr>\n",
       "      <th>0</th>\n",
       "      <td>2019-20</td>\n",
       "      <td>Regular%20Season</td>\n",
       "      <td>201935</td>\n",
       "      <td>1</td>\n",
       "      <td>James Harden</td>\n",
       "      <td>1610612745</td>\n",
       "      <td>HOU</td>\n",
       "      <td>68</td>\n",
       "      <td>2483</td>\n",
       "      <td>672</td>\n",
       "      <td>1514</td>\n",
       "      <td>0.444</td>\n",
       "      <td>299</td>\n",
       "      <td>843</td>\n",
       "      <td>0.355</td>\n",
       "      <td>692</td>\n",
       "      <td>800</td>\n",
       "      <td>0.865</td>\n",
       "      <td>70</td>\n",
       "      <td>376</td>\n",
       "      <td>446</td>\n",
       "      <td>512</td>\n",
       "      <td>125</td>\n",
       "      <td>60</td>\n",
       "      <td>308</td>\n",
       "      <td>227</td>\n",
       "      <td>2335</td>\n",
       "      <td>2220</td>\n",
       "      <td>1.66</td>\n",
       "      <td>0.41</td>\n",
       "    </tr>\n",
       "    <tr>\n",
       "      <th>1</th>\n",
       "      <td>2019-20</td>\n",
       "      <td>Regular%20Season</td>\n",
       "      <td>203081</td>\n",
       "      <td>2</td>\n",
       "      <td>Damian Lillard</td>\n",
       "      <td>1610612757</td>\n",
       "      <td>POR</td>\n",
       "      <td>66</td>\n",
       "      <td>2474</td>\n",
       "      <td>624</td>\n",
       "      <td>1349</td>\n",
       "      <td>0.463</td>\n",
       "      <td>270</td>\n",
       "      <td>674</td>\n",
       "      <td>0.401</td>\n",
       "      <td>460</td>\n",
       "      <td>518</td>\n",
       "      <td>0.888</td>\n",
       "      <td>33</td>\n",
       "      <td>251</td>\n",
       "      <td>284</td>\n",
       "      <td>530</td>\n",
       "      <td>70</td>\n",
       "      <td>22</td>\n",
       "      <td>194</td>\n",
       "      <td>114</td>\n",
       "      <td>1978</td>\n",
       "      <td>1907</td>\n",
       "      <td>2.73</td>\n",
       "      <td>0.36</td>\n",
       "    </tr>\n",
       "    <tr>\n",
       "      <th>2</th>\n",
       "      <td>2019-20</td>\n",
       "      <td>Regular%20Season</td>\n",
       "      <td>1626164</td>\n",
       "      <td>3</td>\n",
       "      <td>Devin Booker</td>\n",
       "      <td>1610612756</td>\n",
       "      <td>PHX</td>\n",
       "      <td>70</td>\n",
       "      <td>2512</td>\n",
       "      <td>627</td>\n",
       "      <td>1283</td>\n",
       "      <td>0.489</td>\n",
       "      <td>141</td>\n",
       "      <td>398</td>\n",
       "      <td>0.354</td>\n",
       "      <td>468</td>\n",
       "      <td>509</td>\n",
       "      <td>0.919</td>\n",
       "      <td>29</td>\n",
       "      <td>268</td>\n",
       "      <td>297</td>\n",
       "      <td>456</td>\n",
       "      <td>49</td>\n",
       "      <td>18</td>\n",
       "      <td>264</td>\n",
       "      <td>213</td>\n",
       "      <td>1863</td>\n",
       "      <td>1722</td>\n",
       "      <td>1.73</td>\n",
       "      <td>0.19</td>\n",
       "    </tr>\n",
       "    <tr>\n",
       "      <th>3</th>\n",
       "      <td>2019-20</td>\n",
       "      <td>Regular%20Season</td>\n",
       "      <td>203507</td>\n",
       "      <td>4</td>\n",
       "      <td>Giannis Antetokounmpo</td>\n",
       "      <td>1610612749</td>\n",
       "      <td>MIL</td>\n",
       "      <td>63</td>\n",
       "      <td>1917</td>\n",
       "      <td>685</td>\n",
       "      <td>1238</td>\n",
       "      <td>0.553</td>\n",
       "      <td>89</td>\n",
       "      <td>293</td>\n",
       "      <td>0.304</td>\n",
       "      <td>398</td>\n",
       "      <td>629</td>\n",
       "      <td>0.633</td>\n",
       "      <td>140</td>\n",
       "      <td>716</td>\n",
       "      <td>856</td>\n",
       "      <td>354</td>\n",
       "      <td>61</td>\n",
       "      <td>66</td>\n",
       "      <td>230</td>\n",
       "      <td>195</td>\n",
       "      <td>1857</td>\n",
       "      <td>2180</td>\n",
       "      <td>1.54</td>\n",
       "      <td>0.27</td>\n",
       "    </tr>\n",
       "    <tr>\n",
       "      <th>4</th>\n",
       "      <td>2019-20</td>\n",
       "      <td>Regular%20Season</td>\n",
       "      <td>1629027</td>\n",
       "      <td>5</td>\n",
       "      <td>Trae Young</td>\n",
       "      <td>1610612737</td>\n",
       "      <td>ATL</td>\n",
       "      <td>60</td>\n",
       "      <td>2120</td>\n",
       "      <td>546</td>\n",
       "      <td>1249</td>\n",
       "      <td>0.437</td>\n",
       "      <td>205</td>\n",
       "      <td>568</td>\n",
       "      <td>0.361</td>\n",
       "      <td>481</td>\n",
       "      <td>559</td>\n",
       "      <td>0.860</td>\n",
       "      <td>32</td>\n",
       "      <td>223</td>\n",
       "      <td>255</td>\n",
       "      <td>560</td>\n",
       "      <td>65</td>\n",
       "      <td>8</td>\n",
       "      <td>289</td>\n",
       "      <td>104</td>\n",
       "      <td>1778</td>\n",
       "      <td>1596</td>\n",
       "      <td>1.94</td>\n",
       "      <td>0.23</td>\n",
       "    </tr>\n",
       "  </tbody>\n",
       "</table>\n",
       "</div>"
      ],
      "text/plain": [
       "      Year        SeasonType  PLAYER_ID  RANK                 PLAYER  \\\n",
       "0  2019-20  Regular%20Season     201935     1           James Harden   \n",
       "1  2019-20  Regular%20Season     203081     2         Damian Lillard   \n",
       "2  2019-20  Regular%20Season    1626164     3           Devin Booker   \n",
       "3  2019-20  Regular%20Season     203507     4  Giannis Antetokounmpo   \n",
       "4  2019-20  Regular%20Season    1629027     5             Trae Young   \n",
       "\n",
       "      TEAM_ID TEAM  GP   MIN  FGM   FGA  FG_PCT  FG3M  FG3A  FG3_PCT  FTM  \\\n",
       "0  1610612745  HOU  68  2483  672  1514   0.444   299   843    0.355  692   \n",
       "1  1610612757  POR  66  2474  624  1349   0.463   270   674    0.401  460   \n",
       "2  1610612756  PHX  70  2512  627  1283   0.489   141   398    0.354  468   \n",
       "3  1610612749  MIL  63  1917  685  1238   0.553    89   293    0.304  398   \n",
       "4  1610612737  ATL  60  2120  546  1249   0.437   205   568    0.361  481   \n",
       "\n",
       "   FTA  FT_PCT  OREB  DREB  REB  AST  STL  BLK  TOV   PF   PTS   EFF  AST_TOV  \\\n",
       "0  800   0.865    70   376  446  512  125   60  308  227  2335  2220     1.66   \n",
       "1  518   0.888    33   251  284  530   70   22  194  114  1978  1907     2.73   \n",
       "2  509   0.919    29   268  297  456   49   18  264  213  1863  1722     1.73   \n",
       "3  629   0.633   140   716  856  354   61   66  230  195  1857  2180     1.54   \n",
       "4  559   0.860    32   223  255  560   65    8  289  104  1778  1596     1.94   \n",
       "\n",
       "   STL_TOV  \n",
       "0     0.41  \n",
       "1     0.36  \n",
       "2     0.19  \n",
       "3     0.27  \n",
       "4     0.23  "
      ]
     },
     "execution_count": 139,
     "metadata": {},
     "output_type": "execute_result"
    }
   ],
   "source": [
    "data.head()\n"
   ]
  },
  {
   "cell_type": "markdown",
   "id": "85f926e7-8427-4fdd-91bf-008221fe6b89",
   "metadata": {},
   "source": [
    "DATA CLEANING"
   ]
  },
  {
   "cell_type": "code",
   "execution_count": 136,
   "id": "5342bc80-a3a3-4f07-89b5-4b14c17cd8d3",
   "metadata": {},
   "outputs": [
    {
     "data": {
      "text/plain": [
       "(2347, 29)"
      ]
     },
     "execution_count": 136,
     "metadata": {},
     "output_type": "execute_result"
    }
   ],
   "source": [
    "data.shape"
   ]
  },
  {
   "cell_type": "code",
   "execution_count": 140,
   "id": "a5f0f7be-c385-4ae5-9245-cbec54e104ab",
   "metadata": {},
   "outputs": [],
   "source": [
    "# remove trivial columns \n",
    "data.drop(columns=['RANK', 'EFF'], inplace=True) "
   ]
  },
  {
   "cell_type": "code",
   "execution_count": 141,
   "id": "7cedfdbe-2714-42d2-9ac0-04c79e2c416a",
   "metadata": {},
   "outputs": [],
   "source": [
    "# get season start year\n",
    "data['SeasonStart']=data.Year.apply(lambda x: x[0:4]).astype(int)  "
   ]
  },
  {
   "cell_type": "code",
   "execution_count": 142,
   "id": "04b9b25d-b2c8-4269-8223-d6942cf75095",
   "metadata": {},
   "outputs": [
    {
     "data": {
      "text/plain": [
       "array(['HOU', 'POR', 'PHX', 'MIL', 'ATL', 'DAL', 'WAS', 'LAL', 'UTA',\n",
       "       'BOS', 'LAC', 'CHI', 'SAS', 'NOP', 'DEN', 'PHI', 'SAC', 'TOR',\n",
       "       'CLE', 'OKC', 'IND', 'BKN', 'NYK', 'ORL', 'MEM', 'GSW', 'MIA',\n",
       "       'CHA', 'MIN', 'DET'], dtype=object)"
      ]
     },
     "execution_count": 142,
     "metadata": {},
     "output_type": "execute_result"
    }
   ],
   "source": [
    "data['TEAM'].unique()"
   ]
  },
  {
   "cell_type": "code",
   "execution_count": 143,
   "id": "433803ef-4731-4bdd-8353-4ad0191677e5",
   "metadata": {},
   "outputs": [],
   "source": [
    "data['SeasonType']=data['SeasonType'].apply(lambda x: x.replace('Regular%20Season', 'RS'))"
   ]
  },
  {
   "cell_type": "code",
   "execution_count": 153,
   "id": "366e76db-fb28-4b22-bad4-9f05048f2a97",
   "metadata": {},
   "outputs": [
    {
     "data": {
      "text/html": [
       "<div>\n",
       "<style scoped>\n",
       "    .dataframe tbody tr th:only-of-type {\n",
       "        vertical-align: middle;\n",
       "    }\n",
       "\n",
       "    .dataframe tbody tr th {\n",
       "        vertical-align: top;\n",
       "    }\n",
       "\n",
       "    .dataframe thead th {\n",
       "        text-align: right;\n",
       "    }\n",
       "</style>\n",
       "<table border=\"1\" class=\"dataframe\">\n",
       "  <thead>\n",
       "    <tr style=\"text-align: right;\">\n",
       "      <th></th>\n",
       "      <th>Year</th>\n",
       "      <th>SeasonType</th>\n",
       "      <th>PLAYER_ID</th>\n",
       "      <th>PLAYER</th>\n",
       "      <th>TEAM_ID</th>\n",
       "      <th>TEAM</th>\n",
       "      <th>GP</th>\n",
       "      <th>MIN</th>\n",
       "      <th>FGM</th>\n",
       "      <th>FGA</th>\n",
       "      <th>FG_PCT</th>\n",
       "      <th>FG3M</th>\n",
       "      <th>FG3A</th>\n",
       "      <th>FG3_PCT</th>\n",
       "      <th>FTM</th>\n",
       "      <th>FTA</th>\n",
       "      <th>FT_PCT</th>\n",
       "      <th>OREB</th>\n",
       "      <th>DREB</th>\n",
       "      <th>REB</th>\n",
       "      <th>AST</th>\n",
       "      <th>STL</th>\n",
       "      <th>BLK</th>\n",
       "      <th>TOV</th>\n",
       "      <th>PF</th>\n",
       "      <th>PTS</th>\n",
       "      <th>AST_TOV</th>\n",
       "      <th>STL_TOV</th>\n",
       "      <th>SeasonStart</th>\n",
       "    </tr>\n",
       "  </thead>\n",
       "  <tbody>\n",
       "    <tr>\n",
       "      <th>80</th>\n",
       "      <td>2019-20</td>\n",
       "      <td>RS</td>\n",
       "      <td>203932</td>\n",
       "      <td>Aaron Gordon</td>\n",
       "      <td>1610612753</td>\n",
       "      <td>ORL</td>\n",
       "      <td>62</td>\n",
       "      <td>2017</td>\n",
       "      <td>335</td>\n",
       "      <td>767</td>\n",
       "      <td>0.437</td>\n",
       "      <td>73</td>\n",
       "      <td>237</td>\n",
       "      <td>0.308</td>\n",
       "      <td>151</td>\n",
       "      <td>224</td>\n",
       "      <td>0.674</td>\n",
       "      <td>107</td>\n",
       "      <td>368</td>\n",
       "      <td>475</td>\n",
       "      <td>228</td>\n",
       "      <td>51</td>\n",
       "      <td>39</td>\n",
       "      <td>100</td>\n",
       "      <td>125</td>\n",
       "      <td>894</td>\n",
       "      <td>2.28</td>\n",
       "      <td>0.51</td>\n",
       "      <td>2019</td>\n",
       "    </tr>\n",
       "    <tr>\n",
       "      <th>901</th>\n",
       "      <td>2020-21</td>\n",
       "      <td>RS</td>\n",
       "      <td>203932</td>\n",
       "      <td>Aaron Gordon</td>\n",
       "      <td>1610612743</td>\n",
       "      <td>DEN</td>\n",
       "      <td>50</td>\n",
       "      <td>1384</td>\n",
       "      <td>231</td>\n",
       "      <td>499</td>\n",
       "      <td>0.463</td>\n",
       "      <td>59</td>\n",
       "      <td>176</td>\n",
       "      <td>0.335</td>\n",
       "      <td>97</td>\n",
       "      <td>149</td>\n",
       "      <td>0.651</td>\n",
       "      <td>77</td>\n",
       "      <td>207</td>\n",
       "      <td>284</td>\n",
       "      <td>161</td>\n",
       "      <td>33</td>\n",
       "      <td>34</td>\n",
       "      <td>97</td>\n",
       "      <td>89</td>\n",
       "      <td>618</td>\n",
       "      <td>1.66</td>\n",
       "      <td>0.34</td>\n",
       "      <td>2020</td>\n",
       "    </tr>\n",
       "    <tr>\n",
       "      <th>1339</th>\n",
       "      <td>2020-21</td>\n",
       "      <td>Playoffs</td>\n",
       "      <td>203932</td>\n",
       "      <td>Aaron Gordon</td>\n",
       "      <td>1610612743</td>\n",
       "      <td>DEN</td>\n",
       "      <td>10</td>\n",
       "      <td>299</td>\n",
       "      <td>43</td>\n",
       "      <td>99</td>\n",
       "      <td>0.434</td>\n",
       "      <td>9</td>\n",
       "      <td>23</td>\n",
       "      <td>0.391</td>\n",
       "      <td>16</td>\n",
       "      <td>25</td>\n",
       "      <td>0.640</td>\n",
       "      <td>21</td>\n",
       "      <td>33</td>\n",
       "      <td>54</td>\n",
       "      <td>20</td>\n",
       "      <td>5</td>\n",
       "      <td>3</td>\n",
       "      <td>14</td>\n",
       "      <td>23</td>\n",
       "      <td>111</td>\n",
       "      <td>1.43</td>\n",
       "      <td>0.36</td>\n",
       "      <td>2020</td>\n",
       "    </tr>\n",
       "    <tr>\n",
       "      <th>1588</th>\n",
       "      <td>2021-22</td>\n",
       "      <td>RS</td>\n",
       "      <td>203932</td>\n",
       "      <td>Aaron Gordon</td>\n",
       "      <td>1610612743</td>\n",
       "      <td>DEN</td>\n",
       "      <td>75</td>\n",
       "      <td>2375</td>\n",
       "      <td>434</td>\n",
       "      <td>834</td>\n",
       "      <td>0.520</td>\n",
       "      <td>87</td>\n",
       "      <td>260</td>\n",
       "      <td>0.335</td>\n",
       "      <td>171</td>\n",
       "      <td>230</td>\n",
       "      <td>0.743</td>\n",
       "      <td>125</td>\n",
       "      <td>314</td>\n",
       "      <td>439</td>\n",
       "      <td>188</td>\n",
       "      <td>44</td>\n",
       "      <td>44</td>\n",
       "      <td>133</td>\n",
       "      <td>148</td>\n",
       "      <td>1126</td>\n",
       "      <td>1.41</td>\n",
       "      <td>0.33</td>\n",
       "      <td>2021</td>\n",
       "    </tr>\n",
       "    <tr>\n",
       "      <th>2212</th>\n",
       "      <td>2021-22</td>\n",
       "      <td>Playoffs</td>\n",
       "      <td>203932</td>\n",
       "      <td>Aaron Gordon</td>\n",
       "      <td>1610612743</td>\n",
       "      <td>DEN</td>\n",
       "      <td>5</td>\n",
       "      <td>160</td>\n",
       "      <td>23</td>\n",
       "      <td>54</td>\n",
       "      <td>0.426</td>\n",
       "      <td>3</td>\n",
       "      <td>15</td>\n",
       "      <td>0.200</td>\n",
       "      <td>20</td>\n",
       "      <td>28</td>\n",
       "      <td>0.714</td>\n",
       "      <td>18</td>\n",
       "      <td>18</td>\n",
       "      <td>36</td>\n",
       "      <td>13</td>\n",
       "      <td>2</td>\n",
       "      <td>6</td>\n",
       "      <td>8</td>\n",
       "      <td>14</td>\n",
       "      <td>69</td>\n",
       "      <td>1.63</td>\n",
       "      <td>0.25</td>\n",
       "      <td>2021</td>\n",
       "    </tr>\n",
       "  </tbody>\n",
       "</table>\n",
       "</div>"
      ],
      "text/plain": [
       "         Year SeasonType  PLAYER_ID        PLAYER     TEAM_ID TEAM  GP   MIN  \\\n",
       "80    2019-20         RS     203932  Aaron Gordon  1610612753  ORL  62  2017   \n",
       "901   2020-21         RS     203932  Aaron Gordon  1610612743  DEN  50  1384   \n",
       "1339  2020-21   Playoffs     203932  Aaron Gordon  1610612743  DEN  10   299   \n",
       "1588  2021-22         RS     203932  Aaron Gordon  1610612743  DEN  75  2375   \n",
       "2212  2021-22   Playoffs     203932  Aaron Gordon  1610612743  DEN   5   160   \n",
       "\n",
       "      FGM  FGA  FG_PCT  FG3M  FG3A  FG3_PCT  FTM  FTA  FT_PCT  OREB  DREB  \\\n",
       "80    335  767   0.437    73   237    0.308  151  224   0.674   107   368   \n",
       "901   231  499   0.463    59   176    0.335   97  149   0.651    77   207   \n",
       "1339   43   99   0.434     9    23    0.391   16   25   0.640    21    33   \n",
       "1588  434  834   0.520    87   260    0.335  171  230   0.743   125   314   \n",
       "2212   23   54   0.426     3    15    0.200   20   28   0.714    18    18   \n",
       "\n",
       "      REB  AST  STL  BLK  TOV   PF   PTS  AST_TOV  STL_TOV  SeasonStart  \n",
       "80    475  228   51   39  100  125   894     2.28     0.51         2019  \n",
       "901   284  161   33   34   97   89   618     1.66     0.34         2020  \n",
       "1339   54   20    5    3   14   23   111     1.43     0.36         2020  \n",
       "1588  439  188   44   44  133  148  1126     1.41     0.33         2021  \n",
       "2212   36   13    2    6    8   14    69     1.63     0.25         2021  "
      ]
     },
     "execution_count": 153,
     "metadata": {},
     "output_type": "execute_result"
    }
   ],
   "source": [
    "data[data['PLAYER'] == 'Aaron Gordon']\n"
   ]
  },
  {
   "cell_type": "code",
   "execution_count": 145,
   "id": "2a101854-4b7f-424c-b6c9-7a3d50af095b",
   "metadata": {},
   "outputs": [],
   "source": [
    "# get regualr season dataframe\n",
    "rs_df = data[data['SeasonType'] == 'RS']\n",
    "playoffs_df = data[data['SeasonType'] == 'Playoffs']"
   ]
  },
  {
   "cell_type": "code",
   "execution_count": 146,
   "id": "f601a474-df4a-4504-b0e1-82695be06a0a",
   "metadata": {},
   "outputs": [
    {
     "data": {
      "text/plain": [
       "Index(['Year', 'SeasonType', 'PLAYER_ID', 'PLAYER', 'TEAM_ID', 'TEAM', 'GP',\n",
       "       'MIN', 'FGM', 'FGA', 'FG_PCT', 'FG3M', 'FG3A', 'FG3_PCT', 'FTM', 'FTA',\n",
       "       'FT_PCT', 'OREB', 'DREB', 'REB', 'AST', 'STL', 'BLK', 'TOV', 'PF',\n",
       "       'PTS', 'AST_TOV', 'STL_TOV', 'SeasonStart'],\n",
       "      dtype='object')"
      ]
     },
     "execution_count": 146,
     "metadata": {},
     "output_type": "execute_result"
    }
   ],
   "source": [
    "data.columns"
   ]
  },
  {
   "cell_type": "code",
   "execution_count": 85,
   "id": "9cabc989-2125-46af-b9b3-6793e4c2e742",
   "metadata": {},
   "outputs": [],
   "source": [
    "total_cols = ['MIN', 'FGM', 'FGA', 'FG_PCT', 'FG3M', 'FG3A', 'FG3_PCT', 'FTM', 'FTA',\n",
    "              'OREB', 'DREB', 'REB', 'AST', 'STL', 'BLK', 'TOV', 'PF','PTS']"
   ]
  },
  {
   "cell_type": "markdown",
   "id": "941f9c00-4868-4004-a351-c59b0e147cdd",
   "metadata": {},
   "source": [
    "Which Player stats are correlated?"
   ]
  },
  {
   "cell_type": "code",
   "execution_count": 147,
   "id": "d0a58031-0704-4405-bed3-f021a3e7d168",
   "metadata": {},
   "outputs": [
    {
     "data": {
      "text/html": [
       "<div>\n",
       "<style scoped>\n",
       "    .dataframe tbody tr th:only-of-type {\n",
       "        vertical-align: middle;\n",
       "    }\n",
       "\n",
       "    .dataframe tbody tr th {\n",
       "        vertical-align: top;\n",
       "    }\n",
       "\n",
       "    .dataframe thead th {\n",
       "        text-align: right;\n",
       "    }\n",
       "</style>\n",
       "<table border=\"1\" class=\"dataframe\">\n",
       "  <thead>\n",
       "    <tr style=\"text-align: right;\">\n",
       "      <th></th>\n",
       "      <th>PLAYER_ID</th>\n",
       "      <th>TEAM_ID</th>\n",
       "      <th>GP</th>\n",
       "      <th>MIN</th>\n",
       "      <th>FGM</th>\n",
       "      <th>FGA</th>\n",
       "      <th>FG_PCT</th>\n",
       "      <th>FG3M</th>\n",
       "      <th>FG3A</th>\n",
       "      <th>FG3_PCT</th>\n",
       "      <th>FTM</th>\n",
       "      <th>FTA</th>\n",
       "      <th>FT_PCT</th>\n",
       "      <th>OREB</th>\n",
       "      <th>DREB</th>\n",
       "      <th>REB</th>\n",
       "      <th>AST</th>\n",
       "      <th>STL</th>\n",
       "      <th>BLK</th>\n",
       "      <th>TOV</th>\n",
       "      <th>PF</th>\n",
       "      <th>PTS</th>\n",
       "      <th>AST_TOV</th>\n",
       "      <th>STL_TOV</th>\n",
       "      <th>SeasonStart</th>\n",
       "    </tr>\n",
       "  </thead>\n",
       "  <tbody>\n",
       "    <tr>\n",
       "      <th>PLAYER_ID</th>\n",
       "      <td>1.000000</td>\n",
       "      <td>0.062374</td>\n",
       "      <td>-0.070859</td>\n",
       "      <td>-0.141167</td>\n",
       "      <td>-0.142317</td>\n",
       "      <td>-0.138216</td>\n",
       "      <td>-0.075999</td>\n",
       "      <td>-0.122621</td>\n",
       "      <td>-0.116010</td>\n",
       "      <td>-0.070587</td>\n",
       "      <td>-0.152929</td>\n",
       "      <td>-0.147363</td>\n",
       "      <td>-0.124394</td>\n",
       "      <td>-0.098678</td>\n",
       "      <td>-0.161212</td>\n",
       "      <td>-0.150186</td>\n",
       "      <td>-0.156763</td>\n",
       "      <td>-0.121434</td>\n",
       "      <td>-0.097889</td>\n",
       "      <td>-0.146967</td>\n",
       "      <td>-0.122486</td>\n",
       "      <td>-0.147984</td>\n",
       "      <td>-0.090712</td>\n",
       "      <td>0.015599</td>\n",
       "      <td>0.118081</td>\n",
       "    </tr>\n",
       "    <tr>\n",
       "      <th>TEAM_ID</th>\n",
       "      <td>0.062374</td>\n",
       "      <td>1.000000</td>\n",
       "      <td>0.030260</td>\n",
       "      <td>0.023886</td>\n",
       "      <td>0.018466</td>\n",
       "      <td>0.023379</td>\n",
       "      <td>-0.041708</td>\n",
       "      <td>0.006581</td>\n",
       "      <td>0.008812</td>\n",
       "      <td>-0.012154</td>\n",
       "      <td>0.014286</td>\n",
       "      <td>0.016180</td>\n",
       "      <td>-0.024276</td>\n",
       "      <td>0.019012</td>\n",
       "      <td>0.013719</td>\n",
       "      <td>0.015629</td>\n",
       "      <td>0.016896</td>\n",
       "      <td>0.029200</td>\n",
       "      <td>0.030876</td>\n",
       "      <td>0.011063</td>\n",
       "      <td>0.025205</td>\n",
       "      <td>0.016949</td>\n",
       "      <td>0.003511</td>\n",
       "      <td>-0.002804</td>\n",
       "      <td>-0.007194</td>\n",
       "    </tr>\n",
       "    <tr>\n",
       "      <th>GP</th>\n",
       "      <td>-0.070859</td>\n",
       "      <td>0.030260</td>\n",
       "      <td>1.000000</td>\n",
       "      <td>0.909254</td>\n",
       "      <td>0.787864</td>\n",
       "      <td>0.792914</td>\n",
       "      <td>0.239317</td>\n",
       "      <td>0.689767</td>\n",
       "      <td>0.712170</td>\n",
       "      <td>0.271154</td>\n",
       "      <td>0.625417</td>\n",
       "      <td>0.642548</td>\n",
       "      <td>0.371127</td>\n",
       "      <td>0.639932</td>\n",
       "      <td>0.783288</td>\n",
       "      <td>0.772777</td>\n",
       "      <td>0.658769</td>\n",
       "      <td>0.815618</td>\n",
       "      <td>0.600561</td>\n",
       "      <td>0.731172</td>\n",
       "      <td>0.892460</td>\n",
       "      <td>0.778368</td>\n",
       "      <td>0.187819</td>\n",
       "      <td>0.094020</td>\n",
       "      <td>0.027897</td>\n",
       "    </tr>\n",
       "    <tr>\n",
       "      <th>MIN</th>\n",
       "      <td>-0.141167</td>\n",
       "      <td>0.023886</td>\n",
       "      <td>0.909254</td>\n",
       "      <td>1.000000</td>\n",
       "      <td>0.931737</td>\n",
       "      <td>0.936778</td>\n",
       "      <td>0.214854</td>\n",
       "      <td>0.805212</td>\n",
       "      <td>0.824595</td>\n",
       "      <td>0.274804</td>\n",
       "      <td>0.783747</td>\n",
       "      <td>0.792368</td>\n",
       "      <td>0.362460</td>\n",
       "      <td>0.643682</td>\n",
       "      <td>0.868514</td>\n",
       "      <td>0.839183</td>\n",
       "      <td>0.801921</td>\n",
       "      <td>0.897222</td>\n",
       "      <td>0.618467</td>\n",
       "      <td>0.871347</td>\n",
       "      <td>0.917384</td>\n",
       "      <td>0.927596</td>\n",
       "      <td>0.189795</td>\n",
       "      <td>0.037683</td>\n",
       "      <td>0.018956</td>\n",
       "    </tr>\n",
       "    <tr>\n",
       "      <th>FGM</th>\n",
       "      <td>-0.142317</td>\n",
       "      <td>0.018466</td>\n",
       "      <td>0.787864</td>\n",
       "      <td>0.931737</td>\n",
       "      <td>1.000000</td>\n",
       "      <td>0.988188</td>\n",
       "      <td>0.221976</td>\n",
       "      <td>0.781028</td>\n",
       "      <td>0.797827</td>\n",
       "      <td>0.248620</td>\n",
       "      <td>0.892560</td>\n",
       "      <td>0.896439</td>\n",
       "      <td>0.325282</td>\n",
       "      <td>0.614601</td>\n",
       "      <td>0.858273</td>\n",
       "      <td>0.823521</td>\n",
       "      <td>0.827016</td>\n",
       "      <td>0.822407</td>\n",
       "      <td>0.579907</td>\n",
       "      <td>0.923337</td>\n",
       "      <td>0.832470</td>\n",
       "      <td>0.994764</td>\n",
       "      <td>0.137348</td>\n",
       "      <td>-0.049533</td>\n",
       "      <td>0.014183</td>\n",
       "    </tr>\n",
       "    <tr>\n",
       "      <th>FGA</th>\n",
       "      <td>-0.138216</td>\n",
       "      <td>0.023379</td>\n",
       "      <td>0.792914</td>\n",
       "      <td>0.936778</td>\n",
       "      <td>0.988188</td>\n",
       "      <td>1.000000</td>\n",
       "      <td>0.169212</td>\n",
       "      <td>0.840138</td>\n",
       "      <td>0.861608</td>\n",
       "      <td>0.270862</td>\n",
       "      <td>0.879040</td>\n",
       "      <td>0.874809</td>\n",
       "      <td>0.341742</td>\n",
       "      <td>0.537150</td>\n",
       "      <td>0.820734</td>\n",
       "      <td>0.773933</td>\n",
       "      <td>0.841277</td>\n",
       "      <td>0.833696</td>\n",
       "      <td>0.520337</td>\n",
       "      <td>0.924512</td>\n",
       "      <td>0.819895</td>\n",
       "      <td>0.991162</td>\n",
       "      <td>0.156976</td>\n",
       "      <td>-0.041871</td>\n",
       "      <td>0.013946</td>\n",
       "    </tr>\n",
       "    <tr>\n",
       "      <th>FG_PCT</th>\n",
       "      <td>-0.075999</td>\n",
       "      <td>-0.041708</td>\n",
       "      <td>0.239317</td>\n",
       "      <td>0.214854</td>\n",
       "      <td>0.221976</td>\n",
       "      <td>0.169212</td>\n",
       "      <td>1.000000</td>\n",
       "      <td>0.046175</td>\n",
       "      <td>0.036748</td>\n",
       "      <td>0.237445</td>\n",
       "      <td>0.182881</td>\n",
       "      <td>0.206489</td>\n",
       "      <td>0.228326</td>\n",
       "      <td>0.345266</td>\n",
       "      <td>0.271669</td>\n",
       "      <td>0.301112</td>\n",
       "      <td>0.123482</td>\n",
       "      <td>0.174292</td>\n",
       "      <td>0.301661</td>\n",
       "      <td>0.179619</td>\n",
       "      <td>0.265568</td>\n",
       "      <td>0.201676</td>\n",
       "      <td>0.059861</td>\n",
       "      <td>0.084925</td>\n",
       "      <td>-0.000352</td>\n",
       "    </tr>\n",
       "    <tr>\n",
       "      <th>FG3M</th>\n",
       "      <td>-0.122621</td>\n",
       "      <td>0.006581</td>\n",
       "      <td>0.689767</td>\n",
       "      <td>0.805212</td>\n",
       "      <td>0.781028</td>\n",
       "      <td>0.840138</td>\n",
       "      <td>0.046175</td>\n",
       "      <td>1.000000</td>\n",
       "      <td>0.992171</td>\n",
       "      <td>0.359086</td>\n",
       "      <td>0.628923</td>\n",
       "      <td>0.595347</td>\n",
       "      <td>0.342722</td>\n",
       "      <td>0.215616</td>\n",
       "      <td>0.573522</td>\n",
       "      <td>0.497957</td>\n",
       "      <td>0.670284</td>\n",
       "      <td>0.702210</td>\n",
       "      <td>0.282340</td>\n",
       "      <td>0.704915</td>\n",
       "      <td>0.653044</td>\n",
       "      <td>0.813658</td>\n",
       "      <td>0.176258</td>\n",
       "      <td>0.020961</td>\n",
       "      <td>0.017865</td>\n",
       "    </tr>\n",
       "    <tr>\n",
       "      <th>FG3A</th>\n",
       "      <td>-0.116010</td>\n",
       "      <td>0.008812</td>\n",
       "      <td>0.712170</td>\n",
       "      <td>0.824595</td>\n",
       "      <td>0.797827</td>\n",
       "      <td>0.861608</td>\n",
       "      <td>0.036748</td>\n",
       "      <td>0.992171</td>\n",
       "      <td>1.000000</td>\n",
       "      <td>0.340873</td>\n",
       "      <td>0.654742</td>\n",
       "      <td>0.624270</td>\n",
       "      <td>0.348259</td>\n",
       "      <td>0.234230</td>\n",
       "      <td>0.595611</td>\n",
       "      <td>0.519902</td>\n",
       "      <td>0.695952</td>\n",
       "      <td>0.727301</td>\n",
       "      <td>0.302417</td>\n",
       "      <td>0.734424</td>\n",
       "      <td>0.676543</td>\n",
       "      <td>0.829765</td>\n",
       "      <td>0.180192</td>\n",
       "      <td>0.020744</td>\n",
       "      <td>0.023287</td>\n",
       "    </tr>\n",
       "    <tr>\n",
       "      <th>FG3_PCT</th>\n",
       "      <td>-0.070587</td>\n",
       "      <td>-0.012154</td>\n",
       "      <td>0.271154</td>\n",
       "      <td>0.274804</td>\n",
       "      <td>0.248620</td>\n",
       "      <td>0.270862</td>\n",
       "      <td>0.237445</td>\n",
       "      <td>0.359086</td>\n",
       "      <td>0.340873</td>\n",
       "      <td>1.000000</td>\n",
       "      <td>0.178129</td>\n",
       "      <td>0.158516</td>\n",
       "      <td>0.333767</td>\n",
       "      <td>0.011652</td>\n",
       "      <td>0.164425</td>\n",
       "      <td>0.129301</td>\n",
       "      <td>0.217590</td>\n",
       "      <td>0.239465</td>\n",
       "      <td>0.048371</td>\n",
       "      <td>0.212787</td>\n",
       "      <td>0.223984</td>\n",
       "      <td>0.259990</td>\n",
       "      <td>0.269571</td>\n",
       "      <td>0.135683</td>\n",
       "      <td>-0.039702</td>\n",
       "    </tr>\n",
       "    <tr>\n",
       "      <th>FTM</th>\n",
       "      <td>-0.152929</td>\n",
       "      <td>0.014286</td>\n",
       "      <td>0.625417</td>\n",
       "      <td>0.783747</td>\n",
       "      <td>0.892560</td>\n",
       "      <td>0.879040</td>\n",
       "      <td>0.182881</td>\n",
       "      <td>0.628923</td>\n",
       "      <td>0.654742</td>\n",
       "      <td>0.178129</td>\n",
       "      <td>1.000000</td>\n",
       "      <td>0.990792</td>\n",
       "      <td>0.290487</td>\n",
       "      <td>0.522287</td>\n",
       "      <td>0.756182</td>\n",
       "      <td>0.720410</td>\n",
       "      <td>0.784360</td>\n",
       "      <td>0.696153</td>\n",
       "      <td>0.503086</td>\n",
       "      <td>0.883355</td>\n",
       "      <td>0.696685</td>\n",
       "      <td>0.918037</td>\n",
       "      <td>0.095549</td>\n",
       "      <td>-0.092303</td>\n",
       "      <td>-0.001792</td>\n",
       "    </tr>\n",
       "    <tr>\n",
       "      <th>FTA</th>\n",
       "      <td>-0.147363</td>\n",
       "      <td>0.016180</td>\n",
       "      <td>0.642548</td>\n",
       "      <td>0.792368</td>\n",
       "      <td>0.896439</td>\n",
       "      <td>0.874809</td>\n",
       "      <td>0.206489</td>\n",
       "      <td>0.595347</td>\n",
       "      <td>0.624270</td>\n",
       "      <td>0.158516</td>\n",
       "      <td>0.990792</td>\n",
       "      <td>1.000000</td>\n",
       "      <td>0.267437</td>\n",
       "      <td>0.585394</td>\n",
       "      <td>0.792818</td>\n",
       "      <td>0.765456</td>\n",
       "      <td>0.776602</td>\n",
       "      <td>0.703928</td>\n",
       "      <td>0.552543</td>\n",
       "      <td>0.890524</td>\n",
       "      <td>0.722474</td>\n",
       "      <td>0.914806</td>\n",
       "      <td>0.083997</td>\n",
       "      <td>-0.092556</td>\n",
       "      <td>-0.002307</td>\n",
       "    </tr>\n",
       "    <tr>\n",
       "      <th>FT_PCT</th>\n",
       "      <td>-0.124394</td>\n",
       "      <td>-0.024276</td>\n",
       "      <td>0.371127</td>\n",
       "      <td>0.362460</td>\n",
       "      <td>0.325282</td>\n",
       "      <td>0.341742</td>\n",
       "      <td>0.228326</td>\n",
       "      <td>0.342722</td>\n",
       "      <td>0.348259</td>\n",
       "      <td>0.333767</td>\n",
       "      <td>0.290487</td>\n",
       "      <td>0.267437</td>\n",
       "      <td>1.000000</td>\n",
       "      <td>0.153046</td>\n",
       "      <td>0.269468</td>\n",
       "      <td>0.247847</td>\n",
       "      <td>0.285939</td>\n",
       "      <td>0.315011</td>\n",
       "      <td>0.162453</td>\n",
       "      <td>0.298477</td>\n",
       "      <td>0.329824</td>\n",
       "      <td>0.334918</td>\n",
       "      <td>0.264635</td>\n",
       "      <td>0.138642</td>\n",
       "      <td>-0.019882</td>\n",
       "    </tr>\n",
       "    <tr>\n",
       "      <th>OREB</th>\n",
       "      <td>-0.098678</td>\n",
       "      <td>0.019012</td>\n",
       "      <td>0.639932</td>\n",
       "      <td>0.643682</td>\n",
       "      <td>0.614601</td>\n",
       "      <td>0.537150</td>\n",
       "      <td>0.345266</td>\n",
       "      <td>0.215616</td>\n",
       "      <td>0.234230</td>\n",
       "      <td>0.011652</td>\n",
       "      <td>0.522287</td>\n",
       "      <td>0.585394</td>\n",
       "      <td>0.153046</td>\n",
       "      <td>1.000000</td>\n",
       "      <td>0.823581</td>\n",
       "      <td>0.900309</td>\n",
       "      <td>0.391613</td>\n",
       "      <td>0.546763</td>\n",
       "      <td>0.798974</td>\n",
       "      <td>0.557453</td>\n",
       "      <td>0.736269</td>\n",
       "      <td>0.572635</td>\n",
       "      <td>-0.015229</td>\n",
       "      <td>-0.003703</td>\n",
       "      <td>0.023170</td>\n",
       "    </tr>\n",
       "    <tr>\n",
       "      <th>DREB</th>\n",
       "      <td>-0.161212</td>\n",
       "      <td>0.013719</td>\n",
       "      <td>0.783288</td>\n",
       "      <td>0.868514</td>\n",
       "      <td>0.858273</td>\n",
       "      <td>0.820734</td>\n",
       "      <td>0.271669</td>\n",
       "      <td>0.573522</td>\n",
       "      <td>0.595611</td>\n",
       "      <td>0.164425</td>\n",
       "      <td>0.756182</td>\n",
       "      <td>0.792818</td>\n",
       "      <td>0.269468</td>\n",
       "      <td>0.823581</td>\n",
       "      <td>1.000000</td>\n",
       "      <td>0.988351</td>\n",
       "      <td>0.681374</td>\n",
       "      <td>0.759244</td>\n",
       "      <td>0.751003</td>\n",
       "      <td>0.815702</td>\n",
       "      <td>0.860533</td>\n",
       "      <td>0.839543</td>\n",
       "      <td>0.085739</td>\n",
       "      <td>-0.021582</td>\n",
       "      <td>0.009493</td>\n",
       "    </tr>\n",
       "    <tr>\n",
       "      <th>REB</th>\n",
       "      <td>-0.150186</td>\n",
       "      <td>0.015629</td>\n",
       "      <td>0.772777</td>\n",
       "      <td>0.839183</td>\n",
       "      <td>0.823521</td>\n",
       "      <td>0.773933</td>\n",
       "      <td>0.301112</td>\n",
       "      <td>0.497957</td>\n",
       "      <td>0.519902</td>\n",
       "      <td>0.129301</td>\n",
       "      <td>0.720410</td>\n",
       "      <td>0.765456</td>\n",
       "      <td>0.247847</td>\n",
       "      <td>0.900309</td>\n",
       "      <td>0.988351</td>\n",
       "      <td>1.000000</td>\n",
       "      <td>0.627942</td>\n",
       "      <td>0.729327</td>\n",
       "      <td>0.790677</td>\n",
       "      <td>0.775519</td>\n",
       "      <td>0.857901</td>\n",
       "      <td>0.797888</td>\n",
       "      <td>0.061707</td>\n",
       "      <td>-0.017555</td>\n",
       "      <td>0.013502</td>\n",
       "    </tr>\n",
       "    <tr>\n",
       "      <th>AST</th>\n",
       "      <td>-0.156763</td>\n",
       "      <td>0.016896</td>\n",
       "      <td>0.658769</td>\n",
       "      <td>0.801921</td>\n",
       "      <td>0.827016</td>\n",
       "      <td>0.841277</td>\n",
       "      <td>0.123482</td>\n",
       "      <td>0.670284</td>\n",
       "      <td>0.695952</td>\n",
       "      <td>0.217590</td>\n",
       "      <td>0.784360</td>\n",
       "      <td>0.776602</td>\n",
       "      <td>0.285939</td>\n",
       "      <td>0.391613</td>\n",
       "      <td>0.681374</td>\n",
       "      <td>0.627942</td>\n",
       "      <td>1.000000</td>\n",
       "      <td>0.807524</td>\n",
       "      <td>0.347216</td>\n",
       "      <td>0.914248</td>\n",
       "      <td>0.672737</td>\n",
       "      <td>0.834620</td>\n",
       "      <td>0.292251</td>\n",
       "      <td>-0.050542</td>\n",
       "      <td>0.016868</td>\n",
       "    </tr>\n",
       "    <tr>\n",
       "      <th>STL</th>\n",
       "      <td>-0.121434</td>\n",
       "      <td>0.029200</td>\n",
       "      <td>0.815618</td>\n",
       "      <td>0.897222</td>\n",
       "      <td>0.822407</td>\n",
       "      <td>0.833696</td>\n",
       "      <td>0.174292</td>\n",
       "      <td>0.702210</td>\n",
       "      <td>0.727301</td>\n",
       "      <td>0.239465</td>\n",
       "      <td>0.696153</td>\n",
       "      <td>0.703928</td>\n",
       "      <td>0.315011</td>\n",
       "      <td>0.546763</td>\n",
       "      <td>0.759244</td>\n",
       "      <td>0.729327</td>\n",
       "      <td>0.807524</td>\n",
       "      <td>1.000000</td>\n",
       "      <td>0.543436</td>\n",
       "      <td>0.817272</td>\n",
       "      <td>0.829698</td>\n",
       "      <td>0.818500</td>\n",
       "      <td>0.224477</td>\n",
       "      <td>0.158089</td>\n",
       "      <td>0.017424</td>\n",
       "    </tr>\n",
       "    <tr>\n",
       "      <th>BLK</th>\n",
       "      <td>-0.097889</td>\n",
       "      <td>0.030876</td>\n",
       "      <td>0.600561</td>\n",
       "      <td>0.618467</td>\n",
       "      <td>0.579907</td>\n",
       "      <td>0.520337</td>\n",
       "      <td>0.301661</td>\n",
       "      <td>0.282340</td>\n",
       "      <td>0.302417</td>\n",
       "      <td>0.048371</td>\n",
       "      <td>0.503086</td>\n",
       "      <td>0.552543</td>\n",
       "      <td>0.162453</td>\n",
       "      <td>0.798974</td>\n",
       "      <td>0.751003</td>\n",
       "      <td>0.790677</td>\n",
       "      <td>0.347216</td>\n",
       "      <td>0.543436</td>\n",
       "      <td>1.000000</td>\n",
       "      <td>0.511237</td>\n",
       "      <td>0.715733</td>\n",
       "      <td>0.552338</td>\n",
       "      <td>-0.019250</td>\n",
       "      <td>0.024953</td>\n",
       "      <td>0.004273</td>\n",
       "    </tr>\n",
       "    <tr>\n",
       "      <th>TOV</th>\n",
       "      <td>-0.146967</td>\n",
       "      <td>0.011063</td>\n",
       "      <td>0.731172</td>\n",
       "      <td>0.871347</td>\n",
       "      <td>0.923337</td>\n",
       "      <td>0.924512</td>\n",
       "      <td>0.179619</td>\n",
       "      <td>0.704915</td>\n",
       "      <td>0.734424</td>\n",
       "      <td>0.212787</td>\n",
       "      <td>0.883355</td>\n",
       "      <td>0.890524</td>\n",
       "      <td>0.298477</td>\n",
       "      <td>0.557453</td>\n",
       "      <td>0.815702</td>\n",
       "      <td>0.775519</td>\n",
       "      <td>0.914248</td>\n",
       "      <td>0.817272</td>\n",
       "      <td>0.511237</td>\n",
       "      <td>1.000000</td>\n",
       "      <td>0.796513</td>\n",
       "      <td>0.927746</td>\n",
       "      <td>0.127368</td>\n",
       "      <td>-0.106300</td>\n",
       "      <td>-0.004551</td>\n",
       "    </tr>\n",
       "    <tr>\n",
       "      <th>PF</th>\n",
       "      <td>-0.122486</td>\n",
       "      <td>0.025205</td>\n",
       "      <td>0.892460</td>\n",
       "      <td>0.917384</td>\n",
       "      <td>0.832470</td>\n",
       "      <td>0.819895</td>\n",
       "      <td>0.265568</td>\n",
       "      <td>0.653044</td>\n",
       "      <td>0.676543</td>\n",
       "      <td>0.223984</td>\n",
       "      <td>0.696685</td>\n",
       "      <td>0.722474</td>\n",
       "      <td>0.329824</td>\n",
       "      <td>0.736269</td>\n",
       "      <td>0.860533</td>\n",
       "      <td>0.857901</td>\n",
       "      <td>0.672737</td>\n",
       "      <td>0.829698</td>\n",
       "      <td>0.715733</td>\n",
       "      <td>0.796513</td>\n",
       "      <td>1.000000</td>\n",
       "      <td>0.819622</td>\n",
       "      <td>0.111425</td>\n",
       "      <td>0.040035</td>\n",
       "      <td>-0.002356</td>\n",
       "    </tr>\n",
       "    <tr>\n",
       "      <th>PTS</th>\n",
       "      <td>-0.147984</td>\n",
       "      <td>0.016949</td>\n",
       "      <td>0.778368</td>\n",
       "      <td>0.927596</td>\n",
       "      <td>0.994764</td>\n",
       "      <td>0.991162</td>\n",
       "      <td>0.201676</td>\n",
       "      <td>0.813658</td>\n",
       "      <td>0.829765</td>\n",
       "      <td>0.259990</td>\n",
       "      <td>0.918037</td>\n",
       "      <td>0.914806</td>\n",
       "      <td>0.334918</td>\n",
       "      <td>0.572635</td>\n",
       "      <td>0.839543</td>\n",
       "      <td>0.797888</td>\n",
       "      <td>0.834620</td>\n",
       "      <td>0.818500</td>\n",
       "      <td>0.552338</td>\n",
       "      <td>0.927746</td>\n",
       "      <td>0.819622</td>\n",
       "      <td>1.000000</td>\n",
       "      <td>0.140262</td>\n",
       "      <td>-0.050853</td>\n",
       "      <td>0.012214</td>\n",
       "    </tr>\n",
       "    <tr>\n",
       "      <th>AST_TOV</th>\n",
       "      <td>-0.090712</td>\n",
       "      <td>0.003511</td>\n",
       "      <td>0.187819</td>\n",
       "      <td>0.189795</td>\n",
       "      <td>0.137348</td>\n",
       "      <td>0.156976</td>\n",
       "      <td>0.059861</td>\n",
       "      <td>0.176258</td>\n",
       "      <td>0.180192</td>\n",
       "      <td>0.269571</td>\n",
       "      <td>0.095549</td>\n",
       "      <td>0.083997</td>\n",
       "      <td>0.264635</td>\n",
       "      <td>-0.015229</td>\n",
       "      <td>0.085739</td>\n",
       "      <td>0.061707</td>\n",
       "      <td>0.292251</td>\n",
       "      <td>0.224477</td>\n",
       "      <td>-0.019250</td>\n",
       "      <td>0.127368</td>\n",
       "      <td>0.111425</td>\n",
       "      <td>0.140262</td>\n",
       "      <td>1.000000</td>\n",
       "      <td>0.468597</td>\n",
       "      <td>0.036412</td>\n",
       "    </tr>\n",
       "    <tr>\n",
       "      <th>STL_TOV</th>\n",
       "      <td>0.015599</td>\n",
       "      <td>-0.002804</td>\n",
       "      <td>0.094020</td>\n",
       "      <td>0.037683</td>\n",
       "      <td>-0.049533</td>\n",
       "      <td>-0.041871</td>\n",
       "      <td>0.084925</td>\n",
       "      <td>0.020961</td>\n",
       "      <td>0.020744</td>\n",
       "      <td>0.135683</td>\n",
       "      <td>-0.092303</td>\n",
       "      <td>-0.092556</td>\n",
       "      <td>0.138642</td>\n",
       "      <td>-0.003703</td>\n",
       "      <td>-0.021582</td>\n",
       "      <td>-0.017555</td>\n",
       "      <td>-0.050542</td>\n",
       "      <td>0.158089</td>\n",
       "      <td>0.024953</td>\n",
       "      <td>-0.106300</td>\n",
       "      <td>0.040035</td>\n",
       "      <td>-0.050853</td>\n",
       "      <td>0.468597</td>\n",
       "      <td>1.000000</td>\n",
       "      <td>0.041425</td>\n",
       "    </tr>\n",
       "    <tr>\n",
       "      <th>SeasonStart</th>\n",
       "      <td>0.118081</td>\n",
       "      <td>-0.007194</td>\n",
       "      <td>0.027897</td>\n",
       "      <td>0.018956</td>\n",
       "      <td>0.014183</td>\n",
       "      <td>0.013946</td>\n",
       "      <td>-0.000352</td>\n",
       "      <td>0.017865</td>\n",
       "      <td>0.023287</td>\n",
       "      <td>-0.039702</td>\n",
       "      <td>-0.001792</td>\n",
       "      <td>-0.002307</td>\n",
       "      <td>-0.019882</td>\n",
       "      <td>0.023170</td>\n",
       "      <td>0.009493</td>\n",
       "      <td>0.013502</td>\n",
       "      <td>0.016868</td>\n",
       "      <td>0.017424</td>\n",
       "      <td>0.004273</td>\n",
       "      <td>-0.004551</td>\n",
       "      <td>-0.002356</td>\n",
       "      <td>0.012214</td>\n",
       "      <td>0.036412</td>\n",
       "      <td>0.041425</td>\n",
       "      <td>1.000000</td>\n",
       "    </tr>\n",
       "  </tbody>\n",
       "</table>\n",
       "</div>"
      ],
      "text/plain": [
       "             PLAYER_ID   TEAM_ID        GP       MIN       FGM       FGA  \\\n",
       "PLAYER_ID     1.000000  0.062374 -0.070859 -0.141167 -0.142317 -0.138216   \n",
       "TEAM_ID       0.062374  1.000000  0.030260  0.023886  0.018466  0.023379   \n",
       "GP           -0.070859  0.030260  1.000000  0.909254  0.787864  0.792914   \n",
       "MIN          -0.141167  0.023886  0.909254  1.000000  0.931737  0.936778   \n",
       "FGM          -0.142317  0.018466  0.787864  0.931737  1.000000  0.988188   \n",
       "FGA          -0.138216  0.023379  0.792914  0.936778  0.988188  1.000000   \n",
       "FG_PCT       -0.075999 -0.041708  0.239317  0.214854  0.221976  0.169212   \n",
       "FG3M         -0.122621  0.006581  0.689767  0.805212  0.781028  0.840138   \n",
       "FG3A         -0.116010  0.008812  0.712170  0.824595  0.797827  0.861608   \n",
       "FG3_PCT      -0.070587 -0.012154  0.271154  0.274804  0.248620  0.270862   \n",
       "FTM          -0.152929  0.014286  0.625417  0.783747  0.892560  0.879040   \n",
       "FTA          -0.147363  0.016180  0.642548  0.792368  0.896439  0.874809   \n",
       "FT_PCT       -0.124394 -0.024276  0.371127  0.362460  0.325282  0.341742   \n",
       "OREB         -0.098678  0.019012  0.639932  0.643682  0.614601  0.537150   \n",
       "DREB         -0.161212  0.013719  0.783288  0.868514  0.858273  0.820734   \n",
       "REB          -0.150186  0.015629  0.772777  0.839183  0.823521  0.773933   \n",
       "AST          -0.156763  0.016896  0.658769  0.801921  0.827016  0.841277   \n",
       "STL          -0.121434  0.029200  0.815618  0.897222  0.822407  0.833696   \n",
       "BLK          -0.097889  0.030876  0.600561  0.618467  0.579907  0.520337   \n",
       "TOV          -0.146967  0.011063  0.731172  0.871347  0.923337  0.924512   \n",
       "PF           -0.122486  0.025205  0.892460  0.917384  0.832470  0.819895   \n",
       "PTS          -0.147984  0.016949  0.778368  0.927596  0.994764  0.991162   \n",
       "AST_TOV      -0.090712  0.003511  0.187819  0.189795  0.137348  0.156976   \n",
       "STL_TOV       0.015599 -0.002804  0.094020  0.037683 -0.049533 -0.041871   \n",
       "SeasonStart   0.118081 -0.007194  0.027897  0.018956  0.014183  0.013946   \n",
       "\n",
       "               FG_PCT      FG3M      FG3A   FG3_PCT       FTM       FTA  \\\n",
       "PLAYER_ID   -0.075999 -0.122621 -0.116010 -0.070587 -0.152929 -0.147363   \n",
       "TEAM_ID     -0.041708  0.006581  0.008812 -0.012154  0.014286  0.016180   \n",
       "GP           0.239317  0.689767  0.712170  0.271154  0.625417  0.642548   \n",
       "MIN          0.214854  0.805212  0.824595  0.274804  0.783747  0.792368   \n",
       "FGM          0.221976  0.781028  0.797827  0.248620  0.892560  0.896439   \n",
       "FGA          0.169212  0.840138  0.861608  0.270862  0.879040  0.874809   \n",
       "FG_PCT       1.000000  0.046175  0.036748  0.237445  0.182881  0.206489   \n",
       "FG3M         0.046175  1.000000  0.992171  0.359086  0.628923  0.595347   \n",
       "FG3A         0.036748  0.992171  1.000000  0.340873  0.654742  0.624270   \n",
       "FG3_PCT      0.237445  0.359086  0.340873  1.000000  0.178129  0.158516   \n",
       "FTM          0.182881  0.628923  0.654742  0.178129  1.000000  0.990792   \n",
       "FTA          0.206489  0.595347  0.624270  0.158516  0.990792  1.000000   \n",
       "FT_PCT       0.228326  0.342722  0.348259  0.333767  0.290487  0.267437   \n",
       "OREB         0.345266  0.215616  0.234230  0.011652  0.522287  0.585394   \n",
       "DREB         0.271669  0.573522  0.595611  0.164425  0.756182  0.792818   \n",
       "REB          0.301112  0.497957  0.519902  0.129301  0.720410  0.765456   \n",
       "AST          0.123482  0.670284  0.695952  0.217590  0.784360  0.776602   \n",
       "STL          0.174292  0.702210  0.727301  0.239465  0.696153  0.703928   \n",
       "BLK          0.301661  0.282340  0.302417  0.048371  0.503086  0.552543   \n",
       "TOV          0.179619  0.704915  0.734424  0.212787  0.883355  0.890524   \n",
       "PF           0.265568  0.653044  0.676543  0.223984  0.696685  0.722474   \n",
       "PTS          0.201676  0.813658  0.829765  0.259990  0.918037  0.914806   \n",
       "AST_TOV      0.059861  0.176258  0.180192  0.269571  0.095549  0.083997   \n",
       "STL_TOV      0.084925  0.020961  0.020744  0.135683 -0.092303 -0.092556   \n",
       "SeasonStart -0.000352  0.017865  0.023287 -0.039702 -0.001792 -0.002307   \n",
       "\n",
       "               FT_PCT      OREB      DREB       REB       AST       STL  \\\n",
       "PLAYER_ID   -0.124394 -0.098678 -0.161212 -0.150186 -0.156763 -0.121434   \n",
       "TEAM_ID     -0.024276  0.019012  0.013719  0.015629  0.016896  0.029200   \n",
       "GP           0.371127  0.639932  0.783288  0.772777  0.658769  0.815618   \n",
       "MIN          0.362460  0.643682  0.868514  0.839183  0.801921  0.897222   \n",
       "FGM          0.325282  0.614601  0.858273  0.823521  0.827016  0.822407   \n",
       "FGA          0.341742  0.537150  0.820734  0.773933  0.841277  0.833696   \n",
       "FG_PCT       0.228326  0.345266  0.271669  0.301112  0.123482  0.174292   \n",
       "FG3M         0.342722  0.215616  0.573522  0.497957  0.670284  0.702210   \n",
       "FG3A         0.348259  0.234230  0.595611  0.519902  0.695952  0.727301   \n",
       "FG3_PCT      0.333767  0.011652  0.164425  0.129301  0.217590  0.239465   \n",
       "FTM          0.290487  0.522287  0.756182  0.720410  0.784360  0.696153   \n",
       "FTA          0.267437  0.585394  0.792818  0.765456  0.776602  0.703928   \n",
       "FT_PCT       1.000000  0.153046  0.269468  0.247847  0.285939  0.315011   \n",
       "OREB         0.153046  1.000000  0.823581  0.900309  0.391613  0.546763   \n",
       "DREB         0.269468  0.823581  1.000000  0.988351  0.681374  0.759244   \n",
       "REB          0.247847  0.900309  0.988351  1.000000  0.627942  0.729327   \n",
       "AST          0.285939  0.391613  0.681374  0.627942  1.000000  0.807524   \n",
       "STL          0.315011  0.546763  0.759244  0.729327  0.807524  1.000000   \n",
       "BLK          0.162453  0.798974  0.751003  0.790677  0.347216  0.543436   \n",
       "TOV          0.298477  0.557453  0.815702  0.775519  0.914248  0.817272   \n",
       "PF           0.329824  0.736269  0.860533  0.857901  0.672737  0.829698   \n",
       "PTS          0.334918  0.572635  0.839543  0.797888  0.834620  0.818500   \n",
       "AST_TOV      0.264635 -0.015229  0.085739  0.061707  0.292251  0.224477   \n",
       "STL_TOV      0.138642 -0.003703 -0.021582 -0.017555 -0.050542  0.158089   \n",
       "SeasonStart -0.019882  0.023170  0.009493  0.013502  0.016868  0.017424   \n",
       "\n",
       "                  BLK       TOV        PF       PTS   AST_TOV   STL_TOV  \\\n",
       "PLAYER_ID   -0.097889 -0.146967 -0.122486 -0.147984 -0.090712  0.015599   \n",
       "TEAM_ID      0.030876  0.011063  0.025205  0.016949  0.003511 -0.002804   \n",
       "GP           0.600561  0.731172  0.892460  0.778368  0.187819  0.094020   \n",
       "MIN          0.618467  0.871347  0.917384  0.927596  0.189795  0.037683   \n",
       "FGM          0.579907  0.923337  0.832470  0.994764  0.137348 -0.049533   \n",
       "FGA          0.520337  0.924512  0.819895  0.991162  0.156976 -0.041871   \n",
       "FG_PCT       0.301661  0.179619  0.265568  0.201676  0.059861  0.084925   \n",
       "FG3M         0.282340  0.704915  0.653044  0.813658  0.176258  0.020961   \n",
       "FG3A         0.302417  0.734424  0.676543  0.829765  0.180192  0.020744   \n",
       "FG3_PCT      0.048371  0.212787  0.223984  0.259990  0.269571  0.135683   \n",
       "FTM          0.503086  0.883355  0.696685  0.918037  0.095549 -0.092303   \n",
       "FTA          0.552543  0.890524  0.722474  0.914806  0.083997 -0.092556   \n",
       "FT_PCT       0.162453  0.298477  0.329824  0.334918  0.264635  0.138642   \n",
       "OREB         0.798974  0.557453  0.736269  0.572635 -0.015229 -0.003703   \n",
       "DREB         0.751003  0.815702  0.860533  0.839543  0.085739 -0.021582   \n",
       "REB          0.790677  0.775519  0.857901  0.797888  0.061707 -0.017555   \n",
       "AST          0.347216  0.914248  0.672737  0.834620  0.292251 -0.050542   \n",
       "STL          0.543436  0.817272  0.829698  0.818500  0.224477  0.158089   \n",
       "BLK          1.000000  0.511237  0.715733  0.552338 -0.019250  0.024953   \n",
       "TOV          0.511237  1.000000  0.796513  0.927746  0.127368 -0.106300   \n",
       "PF           0.715733  0.796513  1.000000  0.819622  0.111425  0.040035   \n",
       "PTS          0.552338  0.927746  0.819622  1.000000  0.140262 -0.050853   \n",
       "AST_TOV     -0.019250  0.127368  0.111425  0.140262  1.000000  0.468597   \n",
       "STL_TOV      0.024953 -0.106300  0.040035 -0.050853  0.468597  1.000000   \n",
       "SeasonStart  0.004273 -0.004551 -0.002356  0.012214  0.036412  0.041425   \n",
       "\n",
       "             SeasonStart  \n",
       "PLAYER_ID       0.118081  \n",
       "TEAM_ID        -0.007194  \n",
       "GP              0.027897  \n",
       "MIN             0.018956  \n",
       "FGM             0.014183  \n",
       "FGA             0.013946  \n",
       "FG_PCT         -0.000352  \n",
       "FG3M            0.017865  \n",
       "FG3A            0.023287  \n",
       "FG3_PCT        -0.039702  \n",
       "FTM            -0.001792  \n",
       "FTA            -0.002307  \n",
       "FT_PCT         -0.019882  \n",
       "OREB            0.023170  \n",
       "DREB            0.009493  \n",
       "REB             0.013502  \n",
       "AST             0.016868  \n",
       "STL             0.017424  \n",
       "BLK             0.004273  \n",
       "TOV            -0.004551  \n",
       "PF             -0.002356  \n",
       "PTS             0.012214  \n",
       "AST_TOV         0.036412  \n",
       "STL_TOV         0.041425  \n",
       "SeasonStart     1.000000  "
      ]
     },
     "execution_count": 147,
     "metadata": {},
     "output_type": "execute_result"
    }
   ],
   "source": [
    "data.corr(numeric_only=True)"
   ]
  },
  {
   "cell_type": "code",
   "execution_count": 154,
   "id": "831d5791-67f7-4f26-b5bc-dc181047cf02",
   "metadata": {},
   "outputs": [
    {
     "data": {
      "text/html": [
       "<div>\n",
       "<style scoped>\n",
       "    .dataframe tbody tr th:only-of-type {\n",
       "        vertical-align: middle;\n",
       "    }\n",
       "\n",
       "    .dataframe tbody tr th {\n",
       "        vertical-align: top;\n",
       "    }\n",
       "\n",
       "    .dataframe thead th {\n",
       "        text-align: right;\n",
       "    }\n",
       "</style>\n",
       "<table border=\"1\" class=\"dataframe\">\n",
       "  <thead>\n",
       "    <tr style=\"text-align: right;\">\n",
       "      <th></th>\n",
       "      <th>Year</th>\n",
       "      <th>SeasonType</th>\n",
       "      <th>PLAYER_ID</th>\n",
       "      <th>PLAYER</th>\n",
       "      <th>TEAM_ID</th>\n",
       "      <th>TEAM</th>\n",
       "      <th>GP</th>\n",
       "      <th>MIN</th>\n",
       "      <th>FGM</th>\n",
       "      <th>FGA</th>\n",
       "      <th>FG_PCT</th>\n",
       "      <th>FG3M</th>\n",
       "      <th>FG3A</th>\n",
       "      <th>FG3_PCT</th>\n",
       "      <th>FTM</th>\n",
       "      <th>FTA</th>\n",
       "      <th>FT_PCT</th>\n",
       "      <th>OREB</th>\n",
       "      <th>DREB</th>\n",
       "      <th>REB</th>\n",
       "      <th>AST</th>\n",
       "      <th>STL</th>\n",
       "      <th>BLK</th>\n",
       "      <th>TOV</th>\n",
       "      <th>PF</th>\n",
       "      <th>PTS</th>\n",
       "      <th>AST_TOV</th>\n",
       "      <th>STL_TOV</th>\n",
       "      <th>SeasonStart</th>\n",
       "    </tr>\n",
       "  </thead>\n",
       "  <tbody>\n",
       "    <tr>\n",
       "      <th>80</th>\n",
       "      <td>2019-20</td>\n",
       "      <td>RS</td>\n",
       "      <td>203932</td>\n",
       "      <td>Aaron Gordon</td>\n",
       "      <td>1610612753</td>\n",
       "      <td>ORL</td>\n",
       "      <td>62</td>\n",
       "      <td>2017</td>\n",
       "      <td>335</td>\n",
       "      <td>767</td>\n",
       "      <td>0.437</td>\n",
       "      <td>73</td>\n",
       "      <td>237</td>\n",
       "      <td>0.308</td>\n",
       "      <td>151</td>\n",
       "      <td>224</td>\n",
       "      <td>0.674</td>\n",
       "      <td>107</td>\n",
       "      <td>368</td>\n",
       "      <td>475</td>\n",
       "      <td>228</td>\n",
       "      <td>51</td>\n",
       "      <td>39</td>\n",
       "      <td>100</td>\n",
       "      <td>125</td>\n",
       "      <td>894</td>\n",
       "      <td>2.28</td>\n",
       "      <td>0.51</td>\n",
       "      <td>2019</td>\n",
       "    </tr>\n",
       "    <tr>\n",
       "      <th>901</th>\n",
       "      <td>2020-21</td>\n",
       "      <td>RS</td>\n",
       "      <td>203932</td>\n",
       "      <td>Aaron Gordon</td>\n",
       "      <td>1610612743</td>\n",
       "      <td>DEN</td>\n",
       "      <td>50</td>\n",
       "      <td>1384</td>\n",
       "      <td>231</td>\n",
       "      <td>499</td>\n",
       "      <td>0.463</td>\n",
       "      <td>59</td>\n",
       "      <td>176</td>\n",
       "      <td>0.335</td>\n",
       "      <td>97</td>\n",
       "      <td>149</td>\n",
       "      <td>0.651</td>\n",
       "      <td>77</td>\n",
       "      <td>207</td>\n",
       "      <td>284</td>\n",
       "      <td>161</td>\n",
       "      <td>33</td>\n",
       "      <td>34</td>\n",
       "      <td>97</td>\n",
       "      <td>89</td>\n",
       "      <td>618</td>\n",
       "      <td>1.66</td>\n",
       "      <td>0.34</td>\n",
       "      <td>2020</td>\n",
       "    </tr>\n",
       "    <tr>\n",
       "      <th>1339</th>\n",
       "      <td>2020-21</td>\n",
       "      <td>Playoffs</td>\n",
       "      <td>203932</td>\n",
       "      <td>Aaron Gordon</td>\n",
       "      <td>1610612743</td>\n",
       "      <td>DEN</td>\n",
       "      <td>10</td>\n",
       "      <td>299</td>\n",
       "      <td>43</td>\n",
       "      <td>99</td>\n",
       "      <td>0.434</td>\n",
       "      <td>9</td>\n",
       "      <td>23</td>\n",
       "      <td>0.391</td>\n",
       "      <td>16</td>\n",
       "      <td>25</td>\n",
       "      <td>0.640</td>\n",
       "      <td>21</td>\n",
       "      <td>33</td>\n",
       "      <td>54</td>\n",
       "      <td>20</td>\n",
       "      <td>5</td>\n",
       "      <td>3</td>\n",
       "      <td>14</td>\n",
       "      <td>23</td>\n",
       "      <td>111</td>\n",
       "      <td>1.43</td>\n",
       "      <td>0.36</td>\n",
       "      <td>2020</td>\n",
       "    </tr>\n",
       "    <tr>\n",
       "      <th>1588</th>\n",
       "      <td>2021-22</td>\n",
       "      <td>RS</td>\n",
       "      <td>203932</td>\n",
       "      <td>Aaron Gordon</td>\n",
       "      <td>1610612743</td>\n",
       "      <td>DEN</td>\n",
       "      <td>75</td>\n",
       "      <td>2375</td>\n",
       "      <td>434</td>\n",
       "      <td>834</td>\n",
       "      <td>0.520</td>\n",
       "      <td>87</td>\n",
       "      <td>260</td>\n",
       "      <td>0.335</td>\n",
       "      <td>171</td>\n",
       "      <td>230</td>\n",
       "      <td>0.743</td>\n",
       "      <td>125</td>\n",
       "      <td>314</td>\n",
       "      <td>439</td>\n",
       "      <td>188</td>\n",
       "      <td>44</td>\n",
       "      <td>44</td>\n",
       "      <td>133</td>\n",
       "      <td>148</td>\n",
       "      <td>1126</td>\n",
       "      <td>1.41</td>\n",
       "      <td>0.33</td>\n",
       "      <td>2021</td>\n",
       "    </tr>\n",
       "    <tr>\n",
       "      <th>2212</th>\n",
       "      <td>2021-22</td>\n",
       "      <td>Playoffs</td>\n",
       "      <td>203932</td>\n",
       "      <td>Aaron Gordon</td>\n",
       "      <td>1610612743</td>\n",
       "      <td>DEN</td>\n",
       "      <td>5</td>\n",
       "      <td>160</td>\n",
       "      <td>23</td>\n",
       "      <td>54</td>\n",
       "      <td>0.426</td>\n",
       "      <td>3</td>\n",
       "      <td>15</td>\n",
       "      <td>0.200</td>\n",
       "      <td>20</td>\n",
       "      <td>28</td>\n",
       "      <td>0.714</td>\n",
       "      <td>18</td>\n",
       "      <td>18</td>\n",
       "      <td>36</td>\n",
       "      <td>13</td>\n",
       "      <td>2</td>\n",
       "      <td>6</td>\n",
       "      <td>8</td>\n",
       "      <td>14</td>\n",
       "      <td>69</td>\n",
       "      <td>1.63</td>\n",
       "      <td>0.25</td>\n",
       "      <td>2021</td>\n",
       "    </tr>\n",
       "  </tbody>\n",
       "</table>\n",
       "</div>"
      ],
      "text/plain": [
       "         Year SeasonType  PLAYER_ID        PLAYER     TEAM_ID TEAM  GP   MIN  \\\n",
       "80    2019-20         RS     203932  Aaron Gordon  1610612753  ORL  62  2017   \n",
       "901   2020-21         RS     203932  Aaron Gordon  1610612743  DEN  50  1384   \n",
       "1339  2020-21   Playoffs     203932  Aaron Gordon  1610612743  DEN  10   299   \n",
       "1588  2021-22         RS     203932  Aaron Gordon  1610612743  DEN  75  2375   \n",
       "2212  2021-22   Playoffs     203932  Aaron Gordon  1610612743  DEN   5   160   \n",
       "\n",
       "      FGM  FGA  FG_PCT  FG3M  FG3A  FG3_PCT  FTM  FTA  FT_PCT  OREB  DREB  \\\n",
       "80    335  767   0.437    73   237    0.308  151  224   0.674   107   368   \n",
       "901   231  499   0.463    59   176    0.335   97  149   0.651    77   207   \n",
       "1339   43   99   0.434     9    23    0.391   16   25   0.640    21    33   \n",
       "1588  434  834   0.520    87   260    0.335  171  230   0.743   125   314   \n",
       "2212   23   54   0.426     3    15    0.200   20   28   0.714    18    18   \n",
       "\n",
       "      REB  AST  STL  BLK  TOV   PF   PTS  AST_TOV  STL_TOV  SeasonStart  \n",
       "80    475  228   51   39  100  125   894     2.28     0.51         2019  \n",
       "901   284  161   33   34   97   89   618     1.66     0.34         2020  \n",
       "1339   54   20    5    3   14   23   111     1.43     0.36         2020  \n",
       "1588  439  188   44   44  133  148  1126     1.41     0.33         2021  \n",
       "2212   36   13    2    6    8   14    69     1.63     0.25         2021  "
      ]
     },
     "execution_count": 154,
     "metadata": {},
     "output_type": "execute_result"
    }
   ],
   "source": [
    "data[data['PLAYER'] == 'Aaron Gordon']"
   ]
  },
  {
   "cell_type": "code",
   "execution_count": 155,
   "id": "9f26d7cb-485d-4a4e-9c00-31c106a78676",
   "metadata": {},
   "outputs": [],
   "source": [
    "data_per_min=data.groupby(['PLAYER', 'PLAYER_ID', 'Year'])[total_cols].sum().reset_index()\n",
    "data_per_min\n",
    "#[total_cols]\n",
    "# divide all the total column values with minutes played\n",
    "for col in data_per_min.columns[4:]:\n",
    "    data_per_min[col]=data_per_min[col]/data_per_min['MIN']\n",
    "    "
   ]
  },
  {
   "cell_type": "code",
   "execution_count": 156,
   "id": "96fa2f84-e127-4dfc-aa20-97818cf6b845",
   "metadata": {},
   "outputs": [
    {
     "data": {
      "text/html": [
       "<div>\n",
       "<style scoped>\n",
       "    .dataframe tbody tr th:only-of-type {\n",
       "        vertical-align: middle;\n",
       "    }\n",
       "\n",
       "    .dataframe tbody tr th {\n",
       "        vertical-align: top;\n",
       "    }\n",
       "\n",
       "    .dataframe thead th {\n",
       "        text-align: right;\n",
       "    }\n",
       "</style>\n",
       "<table border=\"1\" class=\"dataframe\">\n",
       "  <thead>\n",
       "    <tr style=\"text-align: right;\">\n",
       "      <th></th>\n",
       "      <th>PLAYER</th>\n",
       "      <th>PLAYER_ID</th>\n",
       "      <th>Year</th>\n",
       "      <th>MIN</th>\n",
       "      <th>FGM</th>\n",
       "      <th>FGA</th>\n",
       "      <th>FG_PCT</th>\n",
       "      <th>FG3M</th>\n",
       "      <th>FG3A</th>\n",
       "      <th>FG3_PCT</th>\n",
       "      <th>FTM</th>\n",
       "      <th>FTA</th>\n",
       "      <th>OREB</th>\n",
       "      <th>DREB</th>\n",
       "      <th>REB</th>\n",
       "      <th>AST</th>\n",
       "      <th>STL</th>\n",
       "      <th>BLK</th>\n",
       "      <th>TOV</th>\n",
       "      <th>PF</th>\n",
       "      <th>PTS</th>\n",
       "    </tr>\n",
       "  </thead>\n",
       "  <tbody>\n",
       "    <tr>\n",
       "      <th>0</th>\n",
       "      <td>Aaron Gordon</td>\n",
       "      <td>203932</td>\n",
       "      <td>2019-20</td>\n",
       "      <td>2017</td>\n",
       "      <td>0.166088</td>\n",
       "      <td>0.380268</td>\n",
       "      <td>0.000217</td>\n",
       "      <td>0.036192</td>\n",
       "      <td>0.117501</td>\n",
       "      <td>0.000153</td>\n",
       "      <td>0.074864</td>\n",
       "      <td>0.111056</td>\n",
       "      <td>0.053049</td>\n",
       "      <td>0.182449</td>\n",
       "      <td>0.235498</td>\n",
       "      <td>0.113039</td>\n",
       "      <td>0.025285</td>\n",
       "      <td>0.019336</td>\n",
       "      <td>0.049579</td>\n",
       "      <td>0.061973</td>\n",
       "      <td>0.443233</td>\n",
       "    </tr>\n",
       "    <tr>\n",
       "      <th>1</th>\n",
       "      <td>Aaron Gordon</td>\n",
       "      <td>203932</td>\n",
       "      <td>2020-21</td>\n",
       "      <td>1683</td>\n",
       "      <td>0.162805</td>\n",
       "      <td>0.355318</td>\n",
       "      <td>0.000533</td>\n",
       "      <td>0.040404</td>\n",
       "      <td>0.118241</td>\n",
       "      <td>0.000431</td>\n",
       "      <td>0.067142</td>\n",
       "      <td>0.103387</td>\n",
       "      <td>0.058229</td>\n",
       "      <td>0.142602</td>\n",
       "      <td>0.200832</td>\n",
       "      <td>0.107546</td>\n",
       "      <td>0.022579</td>\n",
       "      <td>0.021985</td>\n",
       "      <td>0.065954</td>\n",
       "      <td>0.066548</td>\n",
       "      <td>0.433155</td>\n",
       "    </tr>\n",
       "    <tr>\n",
       "      <th>2</th>\n",
       "      <td>Aaron Gordon</td>\n",
       "      <td>203932</td>\n",
       "      <td>2021-22</td>\n",
       "      <td>2535</td>\n",
       "      <td>0.180276</td>\n",
       "      <td>0.350296</td>\n",
       "      <td>0.000373</td>\n",
       "      <td>0.035503</td>\n",
       "      <td>0.108481</td>\n",
       "      <td>0.000211</td>\n",
       "      <td>0.075345</td>\n",
       "      <td>0.101775</td>\n",
       "      <td>0.056410</td>\n",
       "      <td>0.130966</td>\n",
       "      <td>0.187377</td>\n",
       "      <td>0.079290</td>\n",
       "      <td>0.018146</td>\n",
       "      <td>0.019724</td>\n",
       "      <td>0.055621</td>\n",
       "      <td>0.063905</td>\n",
       "      <td>0.471400</td>\n",
       "    </tr>\n",
       "    <tr>\n",
       "      <th>3</th>\n",
       "      <td>Aaron Henry</td>\n",
       "      <td>1630565</td>\n",
       "      <td>2021-22</td>\n",
       "      <td>17</td>\n",
       "      <td>0.058824</td>\n",
       "      <td>0.294118</td>\n",
       "      <td>0.011765</td>\n",
       "      <td>0.000000</td>\n",
       "      <td>0.058824</td>\n",
       "      <td>0.000000</td>\n",
       "      <td>0.000000</td>\n",
       "      <td>0.000000</td>\n",
       "      <td>0.000000</td>\n",
       "      <td>0.058824</td>\n",
       "      <td>0.058824</td>\n",
       "      <td>0.000000</td>\n",
       "      <td>0.000000</td>\n",
       "      <td>0.117647</td>\n",
       "      <td>0.117647</td>\n",
       "      <td>0.117647</td>\n",
       "      <td>0.117647</td>\n",
       "    </tr>\n",
       "    <tr>\n",
       "      <th>4</th>\n",
       "      <td>Aaron Holiday</td>\n",
       "      <td>1628988</td>\n",
       "      <td>2019-20</td>\n",
       "      <td>1689</td>\n",
       "      <td>0.145056</td>\n",
       "      <td>0.345767</td>\n",
       "      <td>0.000583</td>\n",
       "      <td>0.053878</td>\n",
       "      <td>0.136175</td>\n",
       "      <td>0.000496</td>\n",
       "      <td>0.045589</td>\n",
       "      <td>0.054470</td>\n",
       "      <td>0.013618</td>\n",
       "      <td>0.081705</td>\n",
       "      <td>0.095323</td>\n",
       "      <td>0.139136</td>\n",
       "      <td>0.034932</td>\n",
       "      <td>0.009473</td>\n",
       "      <td>0.054470</td>\n",
       "      <td>0.076969</td>\n",
       "      <td>0.389580</td>\n",
       "    </tr>\n",
       "  </tbody>\n",
       "</table>\n",
       "</div>"
      ],
      "text/plain": [
       "          PLAYER  PLAYER_ID     Year   MIN       FGM       FGA    FG_PCT  \\\n",
       "0   Aaron Gordon     203932  2019-20  2017  0.166088  0.380268  0.000217   \n",
       "1   Aaron Gordon     203932  2020-21  1683  0.162805  0.355318  0.000533   \n",
       "2   Aaron Gordon     203932  2021-22  2535  0.180276  0.350296  0.000373   \n",
       "3    Aaron Henry    1630565  2021-22    17  0.058824  0.294118  0.011765   \n",
       "4  Aaron Holiday    1628988  2019-20  1689  0.145056  0.345767  0.000583   \n",
       "\n",
       "       FG3M      FG3A   FG3_PCT       FTM       FTA      OREB      DREB  \\\n",
       "0  0.036192  0.117501  0.000153  0.074864  0.111056  0.053049  0.182449   \n",
       "1  0.040404  0.118241  0.000431  0.067142  0.103387  0.058229  0.142602   \n",
       "2  0.035503  0.108481  0.000211  0.075345  0.101775  0.056410  0.130966   \n",
       "3  0.000000  0.058824  0.000000  0.000000  0.000000  0.000000  0.058824   \n",
       "4  0.053878  0.136175  0.000496  0.045589  0.054470  0.013618  0.081705   \n",
       "\n",
       "        REB       AST       STL       BLK       TOV        PF       PTS  \n",
       "0  0.235498  0.113039  0.025285  0.019336  0.049579  0.061973  0.443233  \n",
       "1  0.200832  0.107546  0.022579  0.021985  0.065954  0.066548  0.433155  \n",
       "2  0.187377  0.079290  0.018146  0.019724  0.055621  0.063905  0.471400  \n",
       "3  0.058824  0.000000  0.000000  0.117647  0.117647  0.117647  0.117647  \n",
       "4  0.095323  0.139136  0.034932  0.009473  0.054470  0.076969  0.389580  "
      ]
     },
     "execution_count": 156,
     "metadata": {},
     "output_type": "execute_result"
    }
   ],
   "source": [
    "data_per_min.head()"
   ]
  },
  {
   "cell_type": "code",
   "execution_count": 157,
   "id": "4145c317-8163-466a-a164-3156ca0aa9d3",
   "metadata": {},
   "outputs": [
    {
     "data": {
      "text/html": [
       "<div>\n",
       "<style scoped>\n",
       "    .dataframe tbody tr th:only-of-type {\n",
       "        vertical-align: middle;\n",
       "    }\n",
       "\n",
       "    .dataframe tbody tr th {\n",
       "        vertical-align: top;\n",
       "    }\n",
       "\n",
       "    .dataframe thead th {\n",
       "        text-align: right;\n",
       "    }\n",
       "</style>\n",
       "<table border=\"1\" class=\"dataframe\">\n",
       "  <thead>\n",
       "    <tr style=\"text-align: right;\">\n",
       "      <th></th>\n",
       "      <th>PLAYER</th>\n",
       "      <th>PLAYER_ID</th>\n",
       "      <th>Year</th>\n",
       "      <th>MIN</th>\n",
       "      <th>FGM</th>\n",
       "      <th>FGA</th>\n",
       "      <th>FG_PCT</th>\n",
       "      <th>FG3M</th>\n",
       "      <th>FG3A</th>\n",
       "      <th>FG3_PCT</th>\n",
       "      <th>FTM</th>\n",
       "      <th>FTA</th>\n",
       "      <th>OREB</th>\n",
       "      <th>DREB</th>\n",
       "      <th>REB</th>\n",
       "      <th>AST</th>\n",
       "      <th>STL</th>\n",
       "      <th>BLK</th>\n",
       "      <th>TOV</th>\n",
       "      <th>PF</th>\n",
       "      <th>PTS</th>\n",
       "      <th>FG%</th>\n",
       "      <th>3PT%</th>\n",
       "      <th>FT%</th>\n",
       "      <th>FG3A%</th>\n",
       "      <th>PTS/FGA</th>\n",
       "      <th>FG3M/FGM</th>\n",
       "      <th>FTA/FGA</th>\n",
       "      <th>TRU%</th>\n",
       "      <th>AST_TOV</th>\n",
       "    </tr>\n",
       "  </thead>\n",
       "  <tbody>\n",
       "    <tr>\n",
       "      <th>0</th>\n",
       "      <td>Aaron Gordon</td>\n",
       "      <td>203932</td>\n",
       "      <td>2019-20</td>\n",
       "      <td>2017</td>\n",
       "      <td>0.166088</td>\n",
       "      <td>0.380268</td>\n",
       "      <td>0.000217</td>\n",
       "      <td>0.036192</td>\n",
       "      <td>0.117501</td>\n",
       "      <td>0.000153</td>\n",
       "      <td>0.074864</td>\n",
       "      <td>0.111056</td>\n",
       "      <td>0.053049</td>\n",
       "      <td>0.182449</td>\n",
       "      <td>0.235498</td>\n",
       "      <td>0.113039</td>\n",
       "      <td>0.025285</td>\n",
       "      <td>0.019336</td>\n",
       "      <td>0.049579</td>\n",
       "      <td>0.061973</td>\n",
       "      <td>0.443233</td>\n",
       "      <td>0.436767</td>\n",
       "      <td>0.308017</td>\n",
       "      <td>0.674107</td>\n",
       "      <td>0.308996</td>\n",
       "      <td>1.165580</td>\n",
       "      <td>0.217910</td>\n",
       "      <td>0.292047</td>\n",
       "      <td>0.635542</td>\n",
       "      <td>2.280000</td>\n",
       "    </tr>\n",
       "    <tr>\n",
       "      <th>1</th>\n",
       "      <td>Aaron Gordon</td>\n",
       "      <td>203932</td>\n",
       "      <td>2020-21</td>\n",
       "      <td>1683</td>\n",
       "      <td>0.162805</td>\n",
       "      <td>0.355318</td>\n",
       "      <td>0.000533</td>\n",
       "      <td>0.040404</td>\n",
       "      <td>0.118241</td>\n",
       "      <td>0.000431</td>\n",
       "      <td>0.067142</td>\n",
       "      <td>0.103387</td>\n",
       "      <td>0.058229</td>\n",
       "      <td>0.142602</td>\n",
       "      <td>0.200832</td>\n",
       "      <td>0.107546</td>\n",
       "      <td>0.022579</td>\n",
       "      <td>0.021985</td>\n",
       "      <td>0.065954</td>\n",
       "      <td>0.066548</td>\n",
       "      <td>0.433155</td>\n",
       "      <td>0.458194</td>\n",
       "      <td>0.341709</td>\n",
       "      <td>0.649425</td>\n",
       "      <td>0.332776</td>\n",
       "      <td>1.219064</td>\n",
       "      <td>0.248175</td>\n",
       "      <td>0.290970</td>\n",
       "      <td>0.658641</td>\n",
       "      <td>1.630631</td>\n",
       "    </tr>\n",
       "    <tr>\n",
       "      <th>2</th>\n",
       "      <td>Aaron Gordon</td>\n",
       "      <td>203932</td>\n",
       "      <td>2021-22</td>\n",
       "      <td>2535</td>\n",
       "      <td>0.180276</td>\n",
       "      <td>0.350296</td>\n",
       "      <td>0.000373</td>\n",
       "      <td>0.035503</td>\n",
       "      <td>0.108481</td>\n",
       "      <td>0.000211</td>\n",
       "      <td>0.075345</td>\n",
       "      <td>0.101775</td>\n",
       "      <td>0.056410</td>\n",
       "      <td>0.130966</td>\n",
       "      <td>0.187377</td>\n",
       "      <td>0.079290</td>\n",
       "      <td>0.018146</td>\n",
       "      <td>0.019724</td>\n",
       "      <td>0.055621</td>\n",
       "      <td>0.063905</td>\n",
       "      <td>0.471400</td>\n",
       "      <td>0.514640</td>\n",
       "      <td>0.327273</td>\n",
       "      <td>0.740310</td>\n",
       "      <td>0.309685</td>\n",
       "      <td>1.345721</td>\n",
       "      <td>0.196937</td>\n",
       "      <td>0.290541</td>\n",
       "      <td>0.721204</td>\n",
       "      <td>1.425532</td>\n",
       "    </tr>\n",
       "    <tr>\n",
       "      <th>3</th>\n",
       "      <td>Aaron Henry</td>\n",
       "      <td>1630565</td>\n",
       "      <td>2021-22</td>\n",
       "      <td>17</td>\n",
       "      <td>0.058824</td>\n",
       "      <td>0.294118</td>\n",
       "      <td>0.011765</td>\n",
       "      <td>0.000000</td>\n",
       "      <td>0.058824</td>\n",
       "      <td>0.000000</td>\n",
       "      <td>0.000000</td>\n",
       "      <td>0.000000</td>\n",
       "      <td>0.000000</td>\n",
       "      <td>0.058824</td>\n",
       "      <td>0.058824</td>\n",
       "      <td>0.000000</td>\n",
       "      <td>0.000000</td>\n",
       "      <td>0.117647</td>\n",
       "      <td>0.117647</td>\n",
       "      <td>0.117647</td>\n",
       "      <td>0.117647</td>\n",
       "      <td>0.200000</td>\n",
       "      <td>0.000000</td>\n",
       "      <td>NaN</td>\n",
       "      <td>0.200000</td>\n",
       "      <td>0.400000</td>\n",
       "      <td>0.000000</td>\n",
       "      <td>0.000000</td>\n",
       "      <td>0.200000</td>\n",
       "      <td>0.000000</td>\n",
       "    </tr>\n",
       "    <tr>\n",
       "      <th>4</th>\n",
       "      <td>Aaron Holiday</td>\n",
       "      <td>1628988</td>\n",
       "      <td>2019-20</td>\n",
       "      <td>1689</td>\n",
       "      <td>0.145056</td>\n",
       "      <td>0.345767</td>\n",
       "      <td>0.000583</td>\n",
       "      <td>0.053878</td>\n",
       "      <td>0.136175</td>\n",
       "      <td>0.000496</td>\n",
       "      <td>0.045589</td>\n",
       "      <td>0.054470</td>\n",
       "      <td>0.013618</td>\n",
       "      <td>0.081705</td>\n",
       "      <td>0.095323</td>\n",
       "      <td>0.139136</td>\n",
       "      <td>0.034932</td>\n",
       "      <td>0.009473</td>\n",
       "      <td>0.054470</td>\n",
       "      <td>0.076969</td>\n",
       "      <td>0.389580</td>\n",
       "      <td>0.419521</td>\n",
       "      <td>0.395652</td>\n",
       "      <td>0.836957</td>\n",
       "      <td>0.393836</td>\n",
       "      <td>1.126712</td>\n",
       "      <td>0.371429</td>\n",
       "      <td>0.157534</td>\n",
       "      <td>0.589229</td>\n",
       "      <td>2.554348</td>\n",
       "    </tr>\n",
       "  </tbody>\n",
       "</table>\n",
       "</div>"
      ],
      "text/plain": [
       "          PLAYER  PLAYER_ID     Year   MIN       FGM       FGA    FG_PCT  \\\n",
       "0   Aaron Gordon     203932  2019-20  2017  0.166088  0.380268  0.000217   \n",
       "1   Aaron Gordon     203932  2020-21  1683  0.162805  0.355318  0.000533   \n",
       "2   Aaron Gordon     203932  2021-22  2535  0.180276  0.350296  0.000373   \n",
       "3    Aaron Henry    1630565  2021-22    17  0.058824  0.294118  0.011765   \n",
       "4  Aaron Holiday    1628988  2019-20  1689  0.145056  0.345767  0.000583   \n",
       "\n",
       "       FG3M      FG3A   FG3_PCT       FTM       FTA      OREB      DREB  \\\n",
       "0  0.036192  0.117501  0.000153  0.074864  0.111056  0.053049  0.182449   \n",
       "1  0.040404  0.118241  0.000431  0.067142  0.103387  0.058229  0.142602   \n",
       "2  0.035503  0.108481  0.000211  0.075345  0.101775  0.056410  0.130966   \n",
       "3  0.000000  0.058824  0.000000  0.000000  0.000000  0.000000  0.058824   \n",
       "4  0.053878  0.136175  0.000496  0.045589  0.054470  0.013618  0.081705   \n",
       "\n",
       "        REB       AST       STL       BLK       TOV        PF       PTS  \\\n",
       "0  0.235498  0.113039  0.025285  0.019336  0.049579  0.061973  0.443233   \n",
       "1  0.200832  0.107546  0.022579  0.021985  0.065954  0.066548  0.433155   \n",
       "2  0.187377  0.079290  0.018146  0.019724  0.055621  0.063905  0.471400   \n",
       "3  0.058824  0.000000  0.000000  0.117647  0.117647  0.117647  0.117647   \n",
       "4  0.095323  0.139136  0.034932  0.009473  0.054470  0.076969  0.389580   \n",
       "\n",
       "        FG%      3PT%       FT%     FG3A%   PTS/FGA  FG3M/FGM   FTA/FGA  \\\n",
       "0  0.436767  0.308017  0.674107  0.308996  1.165580  0.217910  0.292047   \n",
       "1  0.458194  0.341709  0.649425  0.332776  1.219064  0.248175  0.290970   \n",
       "2  0.514640  0.327273  0.740310  0.309685  1.345721  0.196937  0.290541   \n",
       "3  0.200000  0.000000       NaN  0.200000  0.400000  0.000000  0.000000   \n",
       "4  0.419521  0.395652  0.836957  0.393836  1.126712  0.371429  0.157534   \n",
       "\n",
       "       TRU%   AST_TOV  \n",
       "0  0.635542  2.280000  \n",
       "1  0.658641  1.630631  \n",
       "2  0.721204  1.425532  \n",
       "3  0.200000  0.000000  \n",
       "4  0.589229  2.554348  "
      ]
     },
     "execution_count": 157,
     "metadata": {},
     "output_type": "execute_result"
    }
   ],
   "source": [
    "data_per_min['FG%']=data_per_min['FGM']/data_per_min['FGA']\n",
    "data_per_min['3PT%']=data_per_min['FG3M']/data_per_min['FG3A']\n",
    "data_per_min['FT%']=data_per_min['FTM']/data_per_min['FTA']\n",
    "data_per_min['FG3A%']=data_per_min['FG3A']/data_per_min['FGA']\n",
    "data_per_min['PTS/FGA']=data_per_min['PTS']/data_per_min['FGA']\n",
    "data_per_min['FG3M/FGM']=data_per_min['FG3M']/data_per_min['FGM']\n",
    "data_per_min['FTA/FGA']=data_per_min['FTA']/data_per_min['FGA']\n",
    "data_per_min['TRU%']=0.5*data_per_min['PTS']/data_per_min['FGA']+0.475*data_per_min['FTA']\n",
    "data_per_min['AST_TOV']=data_per_min['AST']/data_per_min['TOV']\n",
    "\n",
    "data_per_min.head()"
   ]
  },
  {
   "cell_type": "code",
   "execution_count": 158,
   "id": "1e388f98-01cf-4666-922f-9c8a98e23f65",
   "metadata": {},
   "outputs": [],
   "source": [
    "data_per_min = data_per_min[data_per_min['MIN']>=50]"
   ]
  },
  {
   "cell_type": "code",
   "execution_count": 161,
   "id": "afb7d342-83da-421b-8d19-ce189cb5ed26",
   "metadata": {},
   "outputs": [
    {
     "data": {
      "text/plain": [
       "(1512, 29)"
      ]
     },
     "execution_count": 161,
     "metadata": {},
     "output_type": "execute_result"
    }
   ],
   "source": [
    "data_per_min.shape"
   ]
  },
  {
   "cell_type": "code",
   "execution_count": 159,
   "id": "757a061c-0add-4733-a581-8d1239d6890d",
   "metadata": {},
   "outputs": [],
   "source": [
    "data_per_min.drop(columns='PLAYER_ID', inplace=True)"
   ]
  },
  {
   "cell_type": "code",
   "execution_count": 160,
   "id": "2dd0d2ac-ae63-4f14-be74-4161836942ee",
   "metadata": {},
   "outputs": [
    {
     "data": {
      "text/html": [
       "<div>\n",
       "<style scoped>\n",
       "    .dataframe tbody tr th:only-of-type {\n",
       "        vertical-align: middle;\n",
       "    }\n",
       "\n",
       "    .dataframe tbody tr th {\n",
       "        vertical-align: top;\n",
       "    }\n",
       "\n",
       "    .dataframe thead th {\n",
       "        text-align: right;\n",
       "    }\n",
       "</style>\n",
       "<table border=\"1\" class=\"dataframe\">\n",
       "  <thead>\n",
       "    <tr style=\"text-align: right;\">\n",
       "      <th></th>\n",
       "      <th>MIN</th>\n",
       "      <th>FGM</th>\n",
       "      <th>FGA</th>\n",
       "      <th>FG_PCT</th>\n",
       "      <th>FG3M</th>\n",
       "      <th>FG3A</th>\n",
       "      <th>FG3_PCT</th>\n",
       "      <th>FTM</th>\n",
       "      <th>FTA</th>\n",
       "      <th>OREB</th>\n",
       "      <th>DREB</th>\n",
       "      <th>REB</th>\n",
       "      <th>AST</th>\n",
       "      <th>STL</th>\n",
       "      <th>BLK</th>\n",
       "      <th>TOV</th>\n",
       "      <th>PF</th>\n",
       "      <th>PTS</th>\n",
       "      <th>FG%</th>\n",
       "      <th>3PT%</th>\n",
       "      <th>FT%</th>\n",
       "      <th>FG3A%</th>\n",
       "      <th>PTS/FGA</th>\n",
       "      <th>FG3M/FGM</th>\n",
       "      <th>FTA/FGA</th>\n",
       "      <th>TRU%</th>\n",
       "      <th>AST_TOV</th>\n",
       "    </tr>\n",
       "  </thead>\n",
       "  <tbody>\n",
       "    <tr>\n",
       "      <th>MIN</th>\n",
       "      <td>1.000000</td>\n",
       "      <td>0.450545</td>\n",
       "      <td>0.378726</td>\n",
       "      <td>-0.576673</td>\n",
       "      <td>0.264435</td>\n",
       "      <td>0.174319</td>\n",
       "      <td>-0.443842</td>\n",
       "      <td>0.335381</td>\n",
       "      <td>0.266268</td>\n",
       "      <td>-0.147727</td>\n",
       "      <td>0.049438</td>\n",
       "      <td>-0.030123</td>\n",
       "      <td>0.278386</td>\n",
       "      <td>-0.000240</td>\n",
       "      <td>-0.087849</td>\n",
       "      <td>0.171094</td>\n",
       "      <td>-0.355127</td>\n",
       "      <td>0.484469</td>\n",
       "      <td>0.187233</td>\n",
       "      <td>0.229781</td>\n",
       "      <td>0.270325</td>\n",
       "      <td>0.016452</td>\n",
       "      <td>0.269357</td>\n",
       "      <td>0.040196</td>\n",
       "      <td>0.006701</td>\n",
       "      <td>0.291108</td>\n",
       "      <td>0.057312</td>\n",
       "    </tr>\n",
       "    <tr>\n",
       "      <th>FGM</th>\n",
       "      <td>0.450545</td>\n",
       "      <td>1.000000</td>\n",
       "      <td>0.862454</td>\n",
       "      <td>-0.193593</td>\n",
       "      <td>0.202515</td>\n",
       "      <td>0.145202</td>\n",
       "      <td>-0.181685</td>\n",
       "      <td>0.635111</td>\n",
       "      <td>0.602165</td>\n",
       "      <td>0.071209</td>\n",
       "      <td>0.248662</td>\n",
       "      <td>0.196147</td>\n",
       "      <td>0.274231</td>\n",
       "      <td>-0.048919</td>\n",
       "      <td>0.064554</td>\n",
       "      <td>0.460748</td>\n",
       "      <td>-0.160734</td>\n",
       "      <td>0.959683</td>\n",
       "      <td>0.403383</td>\n",
       "      <td>0.145083</td>\n",
       "      <td>0.192552</td>\n",
       "      <td>-0.294600</td>\n",
       "      <td>0.372552</td>\n",
       "      <td>-0.278110</td>\n",
       "      <td>0.106763</td>\n",
       "      <td>0.451035</td>\n",
       "      <td>-0.131602</td>\n",
       "    </tr>\n",
       "    <tr>\n",
       "      <th>FGA</th>\n",
       "      <td>0.378726</td>\n",
       "      <td>0.862454</td>\n",
       "      <td>1.000000</td>\n",
       "      <td>-0.197858</td>\n",
       "      <td>0.467435</td>\n",
       "      <td>0.495121</td>\n",
       "      <td>-0.095865</td>\n",
       "      <td>0.556554</td>\n",
       "      <td>0.479839</td>\n",
       "      <td>-0.251233</td>\n",
       "      <td>-0.014576</td>\n",
       "      <td>-0.116986</td>\n",
       "      <td>0.379978</td>\n",
       "      <td>-0.000595</td>\n",
       "      <td>-0.183022</td>\n",
       "      <td>0.463031</td>\n",
       "      <td>-0.313777</td>\n",
       "      <td>0.894236</td>\n",
       "      <td>-0.089519</td>\n",
       "      <td>0.167464</td>\n",
       "      <td>0.300450</td>\n",
       "      <td>0.029207</td>\n",
       "      <td>-0.044790</td>\n",
       "      <td>0.020166</td>\n",
       "      <td>-0.106966</td>\n",
       "      <td>0.060046</td>\n",
       "      <td>-0.018360</td>\n",
       "    </tr>\n",
       "    <tr>\n",
       "      <th>FG_PCT</th>\n",
       "      <td>-0.576673</td>\n",
       "      <td>-0.193593</td>\n",
       "      <td>-0.197858</td>\n",
       "      <td>1.000000</td>\n",
       "      <td>-0.198488</td>\n",
       "      <td>-0.155282</td>\n",
       "      <td>0.733815</td>\n",
       "      <td>-0.101609</td>\n",
       "      <td>-0.046915</td>\n",
       "      <td>0.119996</td>\n",
       "      <td>0.039907</td>\n",
       "      <td>0.077835</td>\n",
       "      <td>-0.172416</td>\n",
       "      <td>-0.000394</td>\n",
       "      <td>0.072865</td>\n",
       "      <td>-0.059548</td>\n",
       "      <td>0.238043</td>\n",
       "      <td>-0.214447</td>\n",
       "      <td>0.004224</td>\n",
       "      <td>-0.166904</td>\n",
       "      <td>-0.225469</td>\n",
       "      <td>-0.106143</td>\n",
       "      <td>-0.021100</td>\n",
       "      <td>-0.112537</td>\n",
       "      <td>0.145621</td>\n",
       "      <td>-0.028196</td>\n",
       "      <td>-0.018388</td>\n",
       "    </tr>\n",
       "    <tr>\n",
       "      <th>FG3M</th>\n",
       "      <td>0.264435</td>\n",
       "      <td>0.202515</td>\n",
       "      <td>0.467435</td>\n",
       "      <td>-0.198488</td>\n",
       "      <td>1.000000</td>\n",
       "      <td>0.950192</td>\n",
       "      <td>0.070069</td>\n",
       "      <td>-0.002923</td>\n",
       "      <td>-0.137045</td>\n",
       "      <td>-0.634806</td>\n",
       "      <td>-0.398179</td>\n",
       "      <td>-0.536448</td>\n",
       "      <td>0.113034</td>\n",
       "      <td>-0.043188</td>\n",
       "      <td>-0.435011</td>\n",
       "      <td>-0.052174</td>\n",
       "      <td>-0.418858</td>\n",
       "      <td>0.366024</td>\n",
       "      <td>-0.412838</td>\n",
       "      <td>0.546268</td>\n",
       "      <td>0.409114</td>\n",
       "      <td>0.803623</td>\n",
       "      <td>-0.150851</td>\n",
       "      <td>0.829573</td>\n",
       "      <td>-0.438684</td>\n",
       "      <td>-0.160534</td>\n",
       "      <td>0.138186</td>\n",
       "    </tr>\n",
       "    <tr>\n",
       "      <th>FG3A</th>\n",
       "      <td>0.174319</td>\n",
       "      <td>0.145202</td>\n",
       "      <td>0.495121</td>\n",
       "      <td>-0.155282</td>\n",
       "      <td>0.950192</td>\n",
       "      <td>1.000000</td>\n",
       "      <td>0.075158</td>\n",
       "      <td>-0.021354</td>\n",
       "      <td>-0.152272</td>\n",
       "      <td>-0.673445</td>\n",
       "      <td>-0.432298</td>\n",
       "      <td>-0.575688</td>\n",
       "      <td>0.134948</td>\n",
       "      <td>-0.019150</td>\n",
       "      <td>-0.460462</td>\n",
       "      <td>-0.034763</td>\n",
       "      <td>-0.413357</td>\n",
       "      <td>0.307860</td>\n",
       "      <td>-0.563731</td>\n",
       "      <td>0.387575</td>\n",
       "      <td>0.383956</td>\n",
       "      <td>0.847409</td>\n",
       "      <td>-0.326428</td>\n",
       "      <td>0.813067</td>\n",
       "      <td>-0.474738</td>\n",
       "      <td>-0.317526</td>\n",
       "      <td>0.155156</td>\n",
       "    </tr>\n",
       "    <tr>\n",
       "      <th>FG3_PCT</th>\n",
       "      <td>-0.443842</td>\n",
       "      <td>-0.181685</td>\n",
       "      <td>-0.095865</td>\n",
       "      <td>0.733815</td>\n",
       "      <td>0.070069</td>\n",
       "      <td>0.075158</td>\n",
       "      <td>1.000000</td>\n",
       "      <td>-0.137665</td>\n",
       "      <td>-0.128274</td>\n",
       "      <td>-0.088417</td>\n",
       "      <td>-0.094983</td>\n",
       "      <td>-0.101062</td>\n",
       "      <td>-0.114757</td>\n",
       "      <td>-0.017088</td>\n",
       "      <td>-0.085378</td>\n",
       "      <td>-0.103708</td>\n",
       "      <td>0.061080</td>\n",
       "      <td>-0.157430</td>\n",
       "      <td>-0.179198</td>\n",
       "      <td>0.181336</td>\n",
       "      <td>-0.109182</td>\n",
       "      <td>0.142527</td>\n",
       "      <td>-0.143492</td>\n",
       "      <td>0.183116</td>\n",
       "      <td>-0.075161</td>\n",
       "      <td>-0.152272</td>\n",
       "      <td>0.067497</td>\n",
       "    </tr>\n",
       "    <tr>\n",
       "      <th>FTM</th>\n",
       "      <td>0.335381</td>\n",
       "      <td>0.635111</td>\n",
       "      <td>0.556554</td>\n",
       "      <td>-0.101609</td>\n",
       "      <td>-0.002923</td>\n",
       "      <td>-0.021354</td>\n",
       "      <td>-0.137665</td>\n",
       "      <td>1.000000</td>\n",
       "      <td>0.958446</td>\n",
       "      <td>0.081262</td>\n",
       "      <td>0.222296</td>\n",
       "      <td>0.182866</td>\n",
       "      <td>0.293372</td>\n",
       "      <td>-0.023519</td>\n",
       "      <td>0.070348</td>\n",
       "      <td>0.510522</td>\n",
       "      <td>-0.038216</td>\n",
       "      <td>0.753087</td>\n",
       "      <td>0.235273</td>\n",
       "      <td>0.006381</td>\n",
       "      <td>0.269328</td>\n",
       "      <td>-0.327540</td>\n",
       "      <td>0.499560</td>\n",
       "      <td>-0.317193</td>\n",
       "      <td>0.652430</td>\n",
       "      <td>0.636043</td>\n",
       "      <td>-0.126827</td>\n",
       "    </tr>\n",
       "    <tr>\n",
       "      <th>FTA</th>\n",
       "      <td>0.266268</td>\n",
       "      <td>0.602165</td>\n",
       "      <td>0.479839</td>\n",
       "      <td>-0.046915</td>\n",
       "      <td>-0.137045</td>\n",
       "      <td>-0.152272</td>\n",
       "      <td>-0.128274</td>\n",
       "      <td>0.958446</td>\n",
       "      <td>1.000000</td>\n",
       "      <td>0.213024</td>\n",
       "      <td>0.312823</td>\n",
       "      <td>0.299465</td>\n",
       "      <td>0.236829</td>\n",
       "      <td>-0.029408</td>\n",
       "      <td>0.173198</td>\n",
       "      <td>0.525551</td>\n",
       "      <td>0.053339</td>\n",
       "      <td>0.687645</td>\n",
       "      <td>0.310205</td>\n",
       "      <td>-0.070731</td>\n",
       "      <td>0.026216</td>\n",
       "      <td>-0.441405</td>\n",
       "      <td>0.522455</td>\n",
       "      <td>-0.426535</td>\n",
       "      <td>0.761832</td>\n",
       "      <td>0.664702</td>\n",
       "      <td>-0.181465</td>\n",
       "    </tr>\n",
       "    <tr>\n",
       "      <th>OREB</th>\n",
       "      <td>-0.147727</td>\n",
       "      <td>0.071209</td>\n",
       "      <td>-0.251233</td>\n",
       "      <td>0.119996</td>\n",
       "      <td>-0.634806</td>\n",
       "      <td>-0.673445</td>\n",
       "      <td>-0.088417</td>\n",
       "      <td>0.081262</td>\n",
       "      <td>0.213024</td>\n",
       "      <td>1.000000</td>\n",
       "      <td>0.656050</td>\n",
       "      <td>0.864258</td>\n",
       "      <td>-0.327198</td>\n",
       "      <td>-0.102213</td>\n",
       "      <td>0.605878</td>\n",
       "      <td>0.021872</td>\n",
       "      <td>0.491569</td>\n",
       "      <td>-0.063198</td>\n",
       "      <td>0.587983</td>\n",
       "      <td>-0.347361</td>\n",
       "      <td>-0.371638</td>\n",
       "      <td>-0.667235</td>\n",
       "      <td>0.392057</td>\n",
       "      <td>-0.629310</td>\n",
       "      <td>0.417853</td>\n",
       "      <td>0.387601</td>\n",
       "      <td>-0.335197</td>\n",
       "    </tr>\n",
       "    <tr>\n",
       "      <th>DREB</th>\n",
       "      <td>0.049438</td>\n",
       "      <td>0.248662</td>\n",
       "      <td>-0.014576</td>\n",
       "      <td>0.039907</td>\n",
       "      <td>-0.398179</td>\n",
       "      <td>-0.432298</td>\n",
       "      <td>-0.094983</td>\n",
       "      <td>0.222296</td>\n",
       "      <td>0.312823</td>\n",
       "      <td>0.656050</td>\n",
       "      <td>1.000000</td>\n",
       "      <td>0.946656</td>\n",
       "      <td>-0.162646</td>\n",
       "      <td>-0.136966</td>\n",
       "      <td>0.528486</td>\n",
       "      <td>0.201888</td>\n",
       "      <td>0.332526</td>\n",
       "      <td>0.159163</td>\n",
       "      <td>0.491547</td>\n",
       "      <td>-0.198741</td>\n",
       "      <td>-0.232422</td>\n",
       "      <td>-0.494238</td>\n",
       "      <td>0.374966</td>\n",
       "      <td>-0.475581</td>\n",
       "      <td>0.346035</td>\n",
       "      <td>0.393277</td>\n",
       "      <td>-0.312724</td>\n",
       "    </tr>\n",
       "    <tr>\n",
       "      <th>REB</th>\n",
       "      <td>-0.030123</td>\n",
       "      <td>0.196147</td>\n",
       "      <td>-0.116986</td>\n",
       "      <td>0.077835</td>\n",
       "      <td>-0.536448</td>\n",
       "      <td>-0.575688</td>\n",
       "      <td>-0.101062</td>\n",
       "      <td>0.182866</td>\n",
       "      <td>0.299465</td>\n",
       "      <td>0.864258</td>\n",
       "      <td>0.946656</td>\n",
       "      <td>1.000000</td>\n",
       "      <td>-0.248116</td>\n",
       "      <td>-0.134936</td>\n",
       "      <td>0.610951</td>\n",
       "      <td>0.143905</td>\n",
       "      <td>0.431530</td>\n",
       "      <td>0.079104</td>\n",
       "      <td>0.578689</td>\n",
       "      <td>-0.280599</td>\n",
       "      <td>-0.313507</td>\n",
       "      <td>-0.614321</td>\n",
       "      <td>0.417328</td>\n",
       "      <td>-0.585693</td>\n",
       "      <td>0.409059</td>\n",
       "      <td>0.427631</td>\n",
       "      <td>-0.351374</td>\n",
       "    </tr>\n",
       "    <tr>\n",
       "      <th>AST</th>\n",
       "      <td>0.278386</td>\n",
       "      <td>0.274231</td>\n",
       "      <td>0.379978</td>\n",
       "      <td>-0.172416</td>\n",
       "      <td>0.113034</td>\n",
       "      <td>0.134948</td>\n",
       "      <td>-0.114757</td>\n",
       "      <td>0.293372</td>\n",
       "      <td>0.236829</td>\n",
       "      <td>-0.327198</td>\n",
       "      <td>-0.162646</td>\n",
       "      <td>-0.248116</td>\n",
       "      <td>1.000000</td>\n",
       "      <td>0.277392</td>\n",
       "      <td>-0.296344</td>\n",
       "      <td>0.589214</td>\n",
       "      <td>-0.301996</td>\n",
       "      <td>0.310179</td>\n",
       "      <td>-0.143960</td>\n",
       "      <td>0.036775</td>\n",
       "      <td>0.189045</td>\n",
       "      <td>-0.036149</td>\n",
       "      <td>-0.106337</td>\n",
       "      <td>-0.044984</td>\n",
       "      <td>-0.014182</td>\n",
       "      <td>-0.044167</td>\n",
       "      <td>0.506307</td>\n",
       "    </tr>\n",
       "    <tr>\n",
       "      <th>STL</th>\n",
       "      <td>-0.000240</td>\n",
       "      <td>-0.048919</td>\n",
       "      <td>-0.000595</td>\n",
       "      <td>-0.000394</td>\n",
       "      <td>-0.043188</td>\n",
       "      <td>-0.019150</td>\n",
       "      <td>-0.017088</td>\n",
       "      <td>-0.023519</td>\n",
       "      <td>-0.029408</td>\n",
       "      <td>-0.102213</td>\n",
       "      <td>-0.136966</td>\n",
       "      <td>-0.134936</td>\n",
       "      <td>0.277392</td>\n",
       "      <td>1.000000</td>\n",
       "      <td>-0.045842</td>\n",
       "      <td>0.157619</td>\n",
       "      <td>0.003710</td>\n",
       "      <td>-0.052043</td>\n",
       "      <td>-0.101245</td>\n",
       "      <td>-0.066103</td>\n",
       "      <td>-0.030134</td>\n",
       "      <td>-0.007230</td>\n",
       "      <td>-0.121512</td>\n",
       "      <td>-0.024757</td>\n",
       "      <td>-0.046935</td>\n",
       "      <td>-0.112554</td>\n",
       "      <td>0.136846</td>\n",
       "    </tr>\n",
       "    <tr>\n",
       "      <th>BLK</th>\n",
       "      <td>-0.087849</td>\n",
       "      <td>0.064554</td>\n",
       "      <td>-0.183022</td>\n",
       "      <td>0.072865</td>\n",
       "      <td>-0.435011</td>\n",
       "      <td>-0.460462</td>\n",
       "      <td>-0.085378</td>\n",
       "      <td>0.070348</td>\n",
       "      <td>0.173198</td>\n",
       "      <td>0.605878</td>\n",
       "      <td>0.528486</td>\n",
       "      <td>0.610951</td>\n",
       "      <td>-0.296344</td>\n",
       "      <td>-0.045842</td>\n",
       "      <td>1.000000</td>\n",
       "      <td>0.020157</td>\n",
       "      <td>0.469030</td>\n",
       "      <td>-0.027539</td>\n",
       "      <td>0.467254</td>\n",
       "      <td>-0.210423</td>\n",
       "      <td>-0.321440</td>\n",
       "      <td>-0.464786</td>\n",
       "      <td>0.328553</td>\n",
       "      <td>-0.442835</td>\n",
       "      <td>0.318156</td>\n",
       "      <td>0.323718</td>\n",
       "      <td>-0.311438</td>\n",
       "    </tr>\n",
       "    <tr>\n",
       "      <th>TOV</th>\n",
       "      <td>0.171094</td>\n",
       "      <td>0.460748</td>\n",
       "      <td>0.463031</td>\n",
       "      <td>-0.059548</td>\n",
       "      <td>-0.052174</td>\n",
       "      <td>-0.034763</td>\n",
       "      <td>-0.103708</td>\n",
       "      <td>0.510522</td>\n",
       "      <td>0.525551</td>\n",
       "      <td>0.021872</td>\n",
       "      <td>0.201888</td>\n",
       "      <td>0.143905</td>\n",
       "      <td>0.589214</td>\n",
       "      <td>0.157619</td>\n",
       "      <td>0.020157</td>\n",
       "      <td>1.000000</td>\n",
       "      <td>0.062530</td>\n",
       "      <td>0.473305</td>\n",
       "      <td>0.070047</td>\n",
       "      <td>-0.060574</td>\n",
       "      <td>0.038403</td>\n",
       "      <td>-0.297013</td>\n",
       "      <td>0.094173</td>\n",
       "      <td>-0.297510</td>\n",
       "      <td>0.273035</td>\n",
       "      <td>0.191264</td>\n",
       "      <td>-0.218020</td>\n",
       "    </tr>\n",
       "    <tr>\n",
       "      <th>PF</th>\n",
       "      <td>-0.355127</td>\n",
       "      <td>-0.160734</td>\n",
       "      <td>-0.313777</td>\n",
       "      <td>0.238043</td>\n",
       "      <td>-0.418858</td>\n",
       "      <td>-0.413357</td>\n",
       "      <td>0.061080</td>\n",
       "      <td>-0.038216</td>\n",
       "      <td>0.053339</td>\n",
       "      <td>0.491569</td>\n",
       "      <td>0.332526</td>\n",
       "      <td>0.431530</td>\n",
       "      <td>-0.301996</td>\n",
       "      <td>0.003710</td>\n",
       "      <td>0.469030</td>\n",
       "      <td>0.062530</td>\n",
       "      <td>1.000000</td>\n",
       "      <td>-0.220266</td>\n",
       "      <td>0.254462</td>\n",
       "      <td>-0.230507</td>\n",
       "      <td>-0.283281</td>\n",
       "      <td>-0.335526</td>\n",
       "      <td>0.176349</td>\n",
       "      <td>-0.334744</td>\n",
       "      <td>0.296211</td>\n",
       "      <td>0.165555</td>\n",
       "      <td>-0.324408</td>\n",
       "    </tr>\n",
       "    <tr>\n",
       "      <th>PTS</th>\n",
       "      <td>0.484469</td>\n",
       "      <td>0.959683</td>\n",
       "      <td>0.894236</td>\n",
       "      <td>-0.214447</td>\n",
       "      <td>0.366024</td>\n",
       "      <td>0.307860</td>\n",
       "      <td>-0.157430</td>\n",
       "      <td>0.753087</td>\n",
       "      <td>0.687645</td>\n",
       "      <td>-0.063198</td>\n",
       "      <td>0.159163</td>\n",
       "      <td>0.079104</td>\n",
       "      <td>0.310179</td>\n",
       "      <td>-0.052043</td>\n",
       "      <td>-0.027539</td>\n",
       "      <td>0.473305</td>\n",
       "      <td>-0.220266</td>\n",
       "      <td>1.000000</td>\n",
       "      <td>0.272954</td>\n",
       "      <td>0.224036</td>\n",
       "      <td>0.309082</td>\n",
       "      <td>-0.134543</td>\n",
       "      <td>0.384009</td>\n",
       "      <td>-0.113810</td>\n",
       "      <td>0.170691</td>\n",
       "      <td>0.478761</td>\n",
       "      <td>-0.102609</td>\n",
       "    </tr>\n",
       "    <tr>\n",
       "      <th>FG%</th>\n",
       "      <td>0.187233</td>\n",
       "      <td>0.403383</td>\n",
       "      <td>-0.089519</td>\n",
       "      <td>0.004224</td>\n",
       "      <td>-0.412838</td>\n",
       "      <td>-0.563731</td>\n",
       "      <td>-0.179198</td>\n",
       "      <td>0.235273</td>\n",
       "      <td>0.310205</td>\n",
       "      <td>0.587983</td>\n",
       "      <td>0.491547</td>\n",
       "      <td>0.578689</td>\n",
       "      <td>-0.143960</td>\n",
       "      <td>-0.101245</td>\n",
       "      <td>0.467254</td>\n",
       "      <td>0.070047</td>\n",
       "      <td>0.254462</td>\n",
       "      <td>0.272954</td>\n",
       "      <td>1.000000</td>\n",
       "      <td>-0.025998</td>\n",
       "      <td>-0.183741</td>\n",
       "      <td>-0.647325</td>\n",
       "      <td>0.854123</td>\n",
       "      <td>-0.597415</td>\n",
       "      <td>0.430075</td>\n",
       "      <td>0.812574</td>\n",
       "      <td>-0.238797</td>\n",
       "    </tr>\n",
       "    <tr>\n",
       "      <th>3PT%</th>\n",
       "      <td>0.229781</td>\n",
       "      <td>0.145083</td>\n",
       "      <td>0.167464</td>\n",
       "      <td>-0.166904</td>\n",
       "      <td>0.546268</td>\n",
       "      <td>0.387575</td>\n",
       "      <td>0.181336</td>\n",
       "      <td>0.006381</td>\n",
       "      <td>-0.070731</td>\n",
       "      <td>-0.347361</td>\n",
       "      <td>-0.198741</td>\n",
       "      <td>-0.280599</td>\n",
       "      <td>0.036775</td>\n",
       "      <td>-0.066103</td>\n",
       "      <td>-0.210423</td>\n",
       "      <td>-0.060574</td>\n",
       "      <td>-0.230507</td>\n",
       "      <td>0.224036</td>\n",
       "      <td>-0.025998</td>\n",
       "      <td>1.000000</td>\n",
       "      <td>0.250621</td>\n",
       "      <td>0.377450</td>\n",
       "      <td>0.156081</td>\n",
       "      <td>0.468051</td>\n",
       "      <td>-0.218698</td>\n",
       "      <td>0.120538</td>\n",
       "      <td>0.066036</td>\n",
       "    </tr>\n",
       "    <tr>\n",
       "      <th>FT%</th>\n",
       "      <td>0.270325</td>\n",
       "      <td>0.192552</td>\n",
       "      <td>0.300450</td>\n",
       "      <td>-0.225469</td>\n",
       "      <td>0.409114</td>\n",
       "      <td>0.383956</td>\n",
       "      <td>-0.109182</td>\n",
       "      <td>0.269328</td>\n",
       "      <td>0.026216</td>\n",
       "      <td>-0.371638</td>\n",
       "      <td>-0.232422</td>\n",
       "      <td>-0.313507</td>\n",
       "      <td>0.189045</td>\n",
       "      <td>-0.030134</td>\n",
       "      <td>-0.321440</td>\n",
       "      <td>0.038403</td>\n",
       "      <td>-0.283281</td>\n",
       "      <td>0.309082</td>\n",
       "      <td>-0.183741</td>\n",
       "      <td>0.250621</td>\n",
       "      <td>1.000000</td>\n",
       "      <td>0.295866</td>\n",
       "      <td>0.052541</td>\n",
       "      <td>0.300917</td>\n",
       "      <td>-0.178030</td>\n",
       "      <td>0.051557</td>\n",
       "      <td>0.132675</td>\n",
       "    </tr>\n",
       "    <tr>\n",
       "      <th>FG3A%</th>\n",
       "      <td>0.016452</td>\n",
       "      <td>-0.294600</td>\n",
       "      <td>0.029207</td>\n",
       "      <td>-0.106143</td>\n",
       "      <td>0.803623</td>\n",
       "      <td>0.847409</td>\n",
       "      <td>0.142527</td>\n",
       "      <td>-0.327540</td>\n",
       "      <td>-0.441405</td>\n",
       "      <td>-0.667235</td>\n",
       "      <td>-0.494238</td>\n",
       "      <td>-0.614321</td>\n",
       "      <td>-0.036149</td>\n",
       "      <td>-0.007230</td>\n",
       "      <td>-0.464786</td>\n",
       "      <td>-0.297013</td>\n",
       "      <td>-0.335526</td>\n",
       "      <td>-0.134543</td>\n",
       "      <td>-0.647325</td>\n",
       "      <td>0.377450</td>\n",
       "      <td>0.295866</td>\n",
       "      <td>1.000000</td>\n",
       "      <td>-0.403318</td>\n",
       "      <td>0.958911</td>\n",
       "      <td>-0.552762</td>\n",
       "      <td>-0.444726</td>\n",
       "      <td>0.216256</td>\n",
       "    </tr>\n",
       "    <tr>\n",
       "      <th>PTS/FGA</th>\n",
       "      <td>0.269357</td>\n",
       "      <td>0.372552</td>\n",
       "      <td>-0.044790</td>\n",
       "      <td>-0.021100</td>\n",
       "      <td>-0.150851</td>\n",
       "      <td>-0.326428</td>\n",
       "      <td>-0.143492</td>\n",
       "      <td>0.499560</td>\n",
       "      <td>0.522455</td>\n",
       "      <td>0.392057</td>\n",
       "      <td>0.374966</td>\n",
       "      <td>0.417328</td>\n",
       "      <td>-0.106337</td>\n",
       "      <td>-0.121512</td>\n",
       "      <td>0.328553</td>\n",
       "      <td>0.094173</td>\n",
       "      <td>0.176349</td>\n",
       "      <td>0.384009</td>\n",
       "      <td>0.854123</td>\n",
       "      <td>0.156081</td>\n",
       "      <td>0.052541</td>\n",
       "      <td>-0.403318</td>\n",
       "      <td>1.000000</td>\n",
       "      <td>-0.336897</td>\n",
       "      <td>0.645073</td>\n",
       "      <td>0.984312</td>\n",
       "      <td>-0.211607</td>\n",
       "    </tr>\n",
       "    <tr>\n",
       "      <th>FG3M/FGM</th>\n",
       "      <td>0.040196</td>\n",
       "      <td>-0.278110</td>\n",
       "      <td>0.020166</td>\n",
       "      <td>-0.112537</td>\n",
       "      <td>0.829573</td>\n",
       "      <td>0.813067</td>\n",
       "      <td>0.183116</td>\n",
       "      <td>-0.317193</td>\n",
       "      <td>-0.426535</td>\n",
       "      <td>-0.629310</td>\n",
       "      <td>-0.475581</td>\n",
       "      <td>-0.585693</td>\n",
       "      <td>-0.044984</td>\n",
       "      <td>-0.024757</td>\n",
       "      <td>-0.442835</td>\n",
       "      <td>-0.297510</td>\n",
       "      <td>-0.334744</td>\n",
       "      <td>-0.113810</td>\n",
       "      <td>-0.597415</td>\n",
       "      <td>0.468051</td>\n",
       "      <td>0.300917</td>\n",
       "      <td>0.958911</td>\n",
       "      <td>-0.336897</td>\n",
       "      <td>1.000000</td>\n",
       "      <td>-0.522906</td>\n",
       "      <td>-0.383451</td>\n",
       "      <td>0.211183</td>\n",
       "    </tr>\n",
       "    <tr>\n",
       "      <th>FTA/FGA</th>\n",
       "      <td>0.006701</td>\n",
       "      <td>0.106763</td>\n",
       "      <td>-0.106966</td>\n",
       "      <td>0.145621</td>\n",
       "      <td>-0.438684</td>\n",
       "      <td>-0.474738</td>\n",
       "      <td>-0.075161</td>\n",
       "      <td>0.652430</td>\n",
       "      <td>0.761832</td>\n",
       "      <td>0.417853</td>\n",
       "      <td>0.346035</td>\n",
       "      <td>0.409059</td>\n",
       "      <td>-0.014182</td>\n",
       "      <td>-0.046935</td>\n",
       "      <td>0.318156</td>\n",
       "      <td>0.273035</td>\n",
       "      <td>0.296211</td>\n",
       "      <td>0.170691</td>\n",
       "      <td>0.430075</td>\n",
       "      <td>-0.218698</td>\n",
       "      <td>-0.178030</td>\n",
       "      <td>-0.552762</td>\n",
       "      <td>0.645073</td>\n",
       "      <td>-0.522906</td>\n",
       "      <td>1.000000</td>\n",
       "      <td>0.722857</td>\n",
       "      <td>-0.211236</td>\n",
       "    </tr>\n",
       "    <tr>\n",
       "      <th>TRU%</th>\n",
       "      <td>0.291108</td>\n",
       "      <td>0.451035</td>\n",
       "      <td>0.060046</td>\n",
       "      <td>-0.028196</td>\n",
       "      <td>-0.160534</td>\n",
       "      <td>-0.317526</td>\n",
       "      <td>-0.152272</td>\n",
       "      <td>0.636043</td>\n",
       "      <td>0.664702</td>\n",
       "      <td>0.387601</td>\n",
       "      <td>0.393277</td>\n",
       "      <td>0.427631</td>\n",
       "      <td>-0.044167</td>\n",
       "      <td>-0.112554</td>\n",
       "      <td>0.323718</td>\n",
       "      <td>0.191264</td>\n",
       "      <td>0.165555</td>\n",
       "      <td>0.478761</td>\n",
       "      <td>0.812574</td>\n",
       "      <td>0.120538</td>\n",
       "      <td>0.051557</td>\n",
       "      <td>-0.444726</td>\n",
       "      <td>0.984312</td>\n",
       "      <td>-0.383451</td>\n",
       "      <td>0.722857</td>\n",
       "      <td>1.000000</td>\n",
       "      <td>-0.223034</td>\n",
       "    </tr>\n",
       "    <tr>\n",
       "      <th>AST_TOV</th>\n",
       "      <td>0.057312</td>\n",
       "      <td>-0.131602</td>\n",
       "      <td>-0.018360</td>\n",
       "      <td>-0.018388</td>\n",
       "      <td>0.138186</td>\n",
       "      <td>0.155156</td>\n",
       "      <td>0.067497</td>\n",
       "      <td>-0.126827</td>\n",
       "      <td>-0.181465</td>\n",
       "      <td>-0.335197</td>\n",
       "      <td>-0.312724</td>\n",
       "      <td>-0.351374</td>\n",
       "      <td>0.506307</td>\n",
       "      <td>0.136846</td>\n",
       "      <td>-0.311438</td>\n",
       "      <td>-0.218020</td>\n",
       "      <td>-0.324408</td>\n",
       "      <td>-0.102609</td>\n",
       "      <td>-0.238797</td>\n",
       "      <td>0.066036</td>\n",
       "      <td>0.132675</td>\n",
       "      <td>0.216256</td>\n",
       "      <td>-0.211607</td>\n",
       "      <td>0.211183</td>\n",
       "      <td>-0.211236</td>\n",
       "      <td>-0.223034</td>\n",
       "      <td>1.000000</td>\n",
       "    </tr>\n",
       "  </tbody>\n",
       "</table>\n",
       "</div>"
      ],
      "text/plain": [
       "               MIN       FGM       FGA    FG_PCT      FG3M      FG3A  \\\n",
       "MIN       1.000000  0.450545  0.378726 -0.576673  0.264435  0.174319   \n",
       "FGM       0.450545  1.000000  0.862454 -0.193593  0.202515  0.145202   \n",
       "FGA       0.378726  0.862454  1.000000 -0.197858  0.467435  0.495121   \n",
       "FG_PCT   -0.576673 -0.193593 -0.197858  1.000000 -0.198488 -0.155282   \n",
       "FG3M      0.264435  0.202515  0.467435 -0.198488  1.000000  0.950192   \n",
       "FG3A      0.174319  0.145202  0.495121 -0.155282  0.950192  1.000000   \n",
       "FG3_PCT  -0.443842 -0.181685 -0.095865  0.733815  0.070069  0.075158   \n",
       "FTM       0.335381  0.635111  0.556554 -0.101609 -0.002923 -0.021354   \n",
       "FTA       0.266268  0.602165  0.479839 -0.046915 -0.137045 -0.152272   \n",
       "OREB     -0.147727  0.071209 -0.251233  0.119996 -0.634806 -0.673445   \n",
       "DREB      0.049438  0.248662 -0.014576  0.039907 -0.398179 -0.432298   \n",
       "REB      -0.030123  0.196147 -0.116986  0.077835 -0.536448 -0.575688   \n",
       "AST       0.278386  0.274231  0.379978 -0.172416  0.113034  0.134948   \n",
       "STL      -0.000240 -0.048919 -0.000595 -0.000394 -0.043188 -0.019150   \n",
       "BLK      -0.087849  0.064554 -0.183022  0.072865 -0.435011 -0.460462   \n",
       "TOV       0.171094  0.460748  0.463031 -0.059548 -0.052174 -0.034763   \n",
       "PF       -0.355127 -0.160734 -0.313777  0.238043 -0.418858 -0.413357   \n",
       "PTS       0.484469  0.959683  0.894236 -0.214447  0.366024  0.307860   \n",
       "FG%       0.187233  0.403383 -0.089519  0.004224 -0.412838 -0.563731   \n",
       "3PT%      0.229781  0.145083  0.167464 -0.166904  0.546268  0.387575   \n",
       "FT%       0.270325  0.192552  0.300450 -0.225469  0.409114  0.383956   \n",
       "FG3A%     0.016452 -0.294600  0.029207 -0.106143  0.803623  0.847409   \n",
       "PTS/FGA   0.269357  0.372552 -0.044790 -0.021100 -0.150851 -0.326428   \n",
       "FG3M/FGM  0.040196 -0.278110  0.020166 -0.112537  0.829573  0.813067   \n",
       "FTA/FGA   0.006701  0.106763 -0.106966  0.145621 -0.438684 -0.474738   \n",
       "TRU%      0.291108  0.451035  0.060046 -0.028196 -0.160534 -0.317526   \n",
       "AST_TOV   0.057312 -0.131602 -0.018360 -0.018388  0.138186  0.155156   \n",
       "\n",
       "           FG3_PCT       FTM       FTA      OREB      DREB       REB  \\\n",
       "MIN      -0.443842  0.335381  0.266268 -0.147727  0.049438 -0.030123   \n",
       "FGM      -0.181685  0.635111  0.602165  0.071209  0.248662  0.196147   \n",
       "FGA      -0.095865  0.556554  0.479839 -0.251233 -0.014576 -0.116986   \n",
       "FG_PCT    0.733815 -0.101609 -0.046915  0.119996  0.039907  0.077835   \n",
       "FG3M      0.070069 -0.002923 -0.137045 -0.634806 -0.398179 -0.536448   \n",
       "FG3A      0.075158 -0.021354 -0.152272 -0.673445 -0.432298 -0.575688   \n",
       "FG3_PCT   1.000000 -0.137665 -0.128274 -0.088417 -0.094983 -0.101062   \n",
       "FTM      -0.137665  1.000000  0.958446  0.081262  0.222296  0.182866   \n",
       "FTA      -0.128274  0.958446  1.000000  0.213024  0.312823  0.299465   \n",
       "OREB     -0.088417  0.081262  0.213024  1.000000  0.656050  0.864258   \n",
       "DREB     -0.094983  0.222296  0.312823  0.656050  1.000000  0.946656   \n",
       "REB      -0.101062  0.182866  0.299465  0.864258  0.946656  1.000000   \n",
       "AST      -0.114757  0.293372  0.236829 -0.327198 -0.162646 -0.248116   \n",
       "STL      -0.017088 -0.023519 -0.029408 -0.102213 -0.136966 -0.134936   \n",
       "BLK      -0.085378  0.070348  0.173198  0.605878  0.528486  0.610951   \n",
       "TOV      -0.103708  0.510522  0.525551  0.021872  0.201888  0.143905   \n",
       "PF        0.061080 -0.038216  0.053339  0.491569  0.332526  0.431530   \n",
       "PTS      -0.157430  0.753087  0.687645 -0.063198  0.159163  0.079104   \n",
       "FG%      -0.179198  0.235273  0.310205  0.587983  0.491547  0.578689   \n",
       "3PT%      0.181336  0.006381 -0.070731 -0.347361 -0.198741 -0.280599   \n",
       "FT%      -0.109182  0.269328  0.026216 -0.371638 -0.232422 -0.313507   \n",
       "FG3A%     0.142527 -0.327540 -0.441405 -0.667235 -0.494238 -0.614321   \n",
       "PTS/FGA  -0.143492  0.499560  0.522455  0.392057  0.374966  0.417328   \n",
       "FG3M/FGM  0.183116 -0.317193 -0.426535 -0.629310 -0.475581 -0.585693   \n",
       "FTA/FGA  -0.075161  0.652430  0.761832  0.417853  0.346035  0.409059   \n",
       "TRU%     -0.152272  0.636043  0.664702  0.387601  0.393277  0.427631   \n",
       "AST_TOV   0.067497 -0.126827 -0.181465 -0.335197 -0.312724 -0.351374   \n",
       "\n",
       "               AST       STL       BLK       TOV        PF       PTS  \\\n",
       "MIN       0.278386 -0.000240 -0.087849  0.171094 -0.355127  0.484469   \n",
       "FGM       0.274231 -0.048919  0.064554  0.460748 -0.160734  0.959683   \n",
       "FGA       0.379978 -0.000595 -0.183022  0.463031 -0.313777  0.894236   \n",
       "FG_PCT   -0.172416 -0.000394  0.072865 -0.059548  0.238043 -0.214447   \n",
       "FG3M      0.113034 -0.043188 -0.435011 -0.052174 -0.418858  0.366024   \n",
       "FG3A      0.134948 -0.019150 -0.460462 -0.034763 -0.413357  0.307860   \n",
       "FG3_PCT  -0.114757 -0.017088 -0.085378 -0.103708  0.061080 -0.157430   \n",
       "FTM       0.293372 -0.023519  0.070348  0.510522 -0.038216  0.753087   \n",
       "FTA       0.236829 -0.029408  0.173198  0.525551  0.053339  0.687645   \n",
       "OREB     -0.327198 -0.102213  0.605878  0.021872  0.491569 -0.063198   \n",
       "DREB     -0.162646 -0.136966  0.528486  0.201888  0.332526  0.159163   \n",
       "REB      -0.248116 -0.134936  0.610951  0.143905  0.431530  0.079104   \n",
       "AST       1.000000  0.277392 -0.296344  0.589214 -0.301996  0.310179   \n",
       "STL       0.277392  1.000000 -0.045842  0.157619  0.003710 -0.052043   \n",
       "BLK      -0.296344 -0.045842  1.000000  0.020157  0.469030 -0.027539   \n",
       "TOV       0.589214  0.157619  0.020157  1.000000  0.062530  0.473305   \n",
       "PF       -0.301996  0.003710  0.469030  0.062530  1.000000 -0.220266   \n",
       "PTS       0.310179 -0.052043 -0.027539  0.473305 -0.220266  1.000000   \n",
       "FG%      -0.143960 -0.101245  0.467254  0.070047  0.254462  0.272954   \n",
       "3PT%      0.036775 -0.066103 -0.210423 -0.060574 -0.230507  0.224036   \n",
       "FT%       0.189045 -0.030134 -0.321440  0.038403 -0.283281  0.309082   \n",
       "FG3A%    -0.036149 -0.007230 -0.464786 -0.297013 -0.335526 -0.134543   \n",
       "PTS/FGA  -0.106337 -0.121512  0.328553  0.094173  0.176349  0.384009   \n",
       "FG3M/FGM -0.044984 -0.024757 -0.442835 -0.297510 -0.334744 -0.113810   \n",
       "FTA/FGA  -0.014182 -0.046935  0.318156  0.273035  0.296211  0.170691   \n",
       "TRU%     -0.044167 -0.112554  0.323718  0.191264  0.165555  0.478761   \n",
       "AST_TOV   0.506307  0.136846 -0.311438 -0.218020 -0.324408 -0.102609   \n",
       "\n",
       "               FG%      3PT%       FT%     FG3A%   PTS/FGA  FG3M/FGM  \\\n",
       "MIN       0.187233  0.229781  0.270325  0.016452  0.269357  0.040196   \n",
       "FGM       0.403383  0.145083  0.192552 -0.294600  0.372552 -0.278110   \n",
       "FGA      -0.089519  0.167464  0.300450  0.029207 -0.044790  0.020166   \n",
       "FG_PCT    0.004224 -0.166904 -0.225469 -0.106143 -0.021100 -0.112537   \n",
       "FG3M     -0.412838  0.546268  0.409114  0.803623 -0.150851  0.829573   \n",
       "FG3A     -0.563731  0.387575  0.383956  0.847409 -0.326428  0.813067   \n",
       "FG3_PCT  -0.179198  0.181336 -0.109182  0.142527 -0.143492  0.183116   \n",
       "FTM       0.235273  0.006381  0.269328 -0.327540  0.499560 -0.317193   \n",
       "FTA       0.310205 -0.070731  0.026216 -0.441405  0.522455 -0.426535   \n",
       "OREB      0.587983 -0.347361 -0.371638 -0.667235  0.392057 -0.629310   \n",
       "DREB      0.491547 -0.198741 -0.232422 -0.494238  0.374966 -0.475581   \n",
       "REB       0.578689 -0.280599 -0.313507 -0.614321  0.417328 -0.585693   \n",
       "AST      -0.143960  0.036775  0.189045 -0.036149 -0.106337 -0.044984   \n",
       "STL      -0.101245 -0.066103 -0.030134 -0.007230 -0.121512 -0.024757   \n",
       "BLK       0.467254 -0.210423 -0.321440 -0.464786  0.328553 -0.442835   \n",
       "TOV       0.070047 -0.060574  0.038403 -0.297013  0.094173 -0.297510   \n",
       "PF        0.254462 -0.230507 -0.283281 -0.335526  0.176349 -0.334744   \n",
       "PTS       0.272954  0.224036  0.309082 -0.134543  0.384009 -0.113810   \n",
       "FG%       1.000000 -0.025998 -0.183741 -0.647325  0.854123 -0.597415   \n",
       "3PT%     -0.025998  1.000000  0.250621  0.377450  0.156081  0.468051   \n",
       "FT%      -0.183741  0.250621  1.000000  0.295866  0.052541  0.300917   \n",
       "FG3A%    -0.647325  0.377450  0.295866  1.000000 -0.403318  0.958911   \n",
       "PTS/FGA   0.854123  0.156081  0.052541 -0.403318  1.000000 -0.336897   \n",
       "FG3M/FGM -0.597415  0.468051  0.300917  0.958911 -0.336897  1.000000   \n",
       "FTA/FGA   0.430075 -0.218698 -0.178030 -0.552762  0.645073 -0.522906   \n",
       "TRU%      0.812574  0.120538  0.051557 -0.444726  0.984312 -0.383451   \n",
       "AST_TOV  -0.238797  0.066036  0.132675  0.216256 -0.211607  0.211183   \n",
       "\n",
       "           FTA/FGA      TRU%   AST_TOV  \n",
       "MIN       0.006701  0.291108  0.057312  \n",
       "FGM       0.106763  0.451035 -0.131602  \n",
       "FGA      -0.106966  0.060046 -0.018360  \n",
       "FG_PCT    0.145621 -0.028196 -0.018388  \n",
       "FG3M     -0.438684 -0.160534  0.138186  \n",
       "FG3A     -0.474738 -0.317526  0.155156  \n",
       "FG3_PCT  -0.075161 -0.152272  0.067497  \n",
       "FTM       0.652430  0.636043 -0.126827  \n",
       "FTA       0.761832  0.664702 -0.181465  \n",
       "OREB      0.417853  0.387601 -0.335197  \n",
       "DREB      0.346035  0.393277 -0.312724  \n",
       "REB       0.409059  0.427631 -0.351374  \n",
       "AST      -0.014182 -0.044167  0.506307  \n",
       "STL      -0.046935 -0.112554  0.136846  \n",
       "BLK       0.318156  0.323718 -0.311438  \n",
       "TOV       0.273035  0.191264 -0.218020  \n",
       "PF        0.296211  0.165555 -0.324408  \n",
       "PTS       0.170691  0.478761 -0.102609  \n",
       "FG%       0.430075  0.812574 -0.238797  \n",
       "3PT%     -0.218698  0.120538  0.066036  \n",
       "FT%      -0.178030  0.051557  0.132675  \n",
       "FG3A%    -0.552762 -0.444726  0.216256  \n",
       "PTS/FGA   0.645073  0.984312 -0.211607  \n",
       "FG3M/FGM -0.522906 -0.383451  0.211183  \n",
       "FTA/FGA   1.000000  0.722857 -0.211236  \n",
       "TRU%      0.722857  1.000000 -0.223034  \n",
       "AST_TOV  -0.211236 -0.223034  1.000000  "
      ]
     },
     "execution_count": 160,
     "metadata": {},
     "output_type": "execute_result"
    }
   ],
   "source": [
    "data_per_min.corr(numeric_only=True)"
   ]
  },
  {
   "cell_type": "code",
   "execution_count": 162,
   "id": "550522ff-b736-4971-bc3c-8c9cd3d982d3",
   "metadata": {},
   "outputs": [
    {
     "data": {
      "application/vnd.plotly.v1+json": {
       "config": {
        "plotlyServerURL": "https://plot.ly"
       },
       "data": [
        {
         "coloraxis": "coloraxis",
         "hovertemplate": "x: %{x}<br>y: %{y}<br>color: %{z}<extra></extra>",
         "name": "0",
         "type": "heatmap",
         "x": [
          "MIN",
          "FGM",
          "FGA",
          "FG_PCT",
          "FG3M",
          "FG3A",
          "FG3_PCT",
          "FTM",
          "FTA",
          "OREB",
          "DREB",
          "REB",
          "AST",
          "STL",
          "BLK",
          "TOV",
          "PF",
          "PTS",
          "FG%",
          "3PT%",
          "FT%",
          "FG3A%",
          "PTS/FGA",
          "FG3M/FGM",
          "FTA/FGA",
          "TRU%",
          "AST_TOV"
         ],
         "xaxis": "x",
         "y": [
          "MIN",
          "FGM",
          "FGA",
          "FG_PCT",
          "FG3M",
          "FG3A",
          "FG3_PCT",
          "FTM",
          "FTA",
          "OREB",
          "DREB",
          "REB",
          "AST",
          "STL",
          "BLK",
          "TOV",
          "PF",
          "PTS",
          "FG%",
          "3PT%",
          "FT%",
          "FG3A%",
          "PTS/FGA",
          "FG3M/FGM",
          "FTA/FGA",
          "TRU%",
          "AST_TOV"
         ],
         "yaxis": "y",
         "z": [
          [
           1,
           0.45054517151545276,
           0.3787260002648966,
           -0.5766725547641224,
           0.2644348700943052,
           0.17431897001064248,
           -0.44384159350320024,
           0.3353813566608029,
           0.2662679182750974,
           -0.1477272887489267,
           0.04943797502508758,
           -0.03012348887896106,
           0.2783858204598601,
           -0.00024007334129719002,
           -0.08784888219680784,
           0.17109402360797588,
           -0.35512665032436214,
           0.4844687209211523,
           0.18723340414730794,
           0.22978056618390746,
           0.27032501845818835,
           0.01645236606145844,
           0.26935651243519015,
           0.04019585129558068,
           0.006701320821097525,
           0.2911084744422442,
           0.057311860336946054
          ],
          [
           0.45054517151545276,
           1,
           0.8624537601839422,
           -0.19359313619586585,
           0.20251538969164884,
           0.14520240258485362,
           -0.18168504770422103,
           0.635111433125178,
           0.6021654780967759,
           0.07120922936392719,
           0.24866166278728968,
           0.19614730267180264,
           0.2742306802737127,
           -0.04891942359140985,
           0.06455441953878177,
           0.4607480085430956,
           -0.16073380789274483,
           0.9596829407979203,
           0.40338280742433413,
           0.14508253814785735,
           0.19255233382872938,
           -0.2946001318367372,
           0.37255247481621795,
           -0.2781097376589473,
           0.10676289245827376,
           0.4510348834785999,
           -0.1316017009090978
          ],
          [
           0.3787260002648966,
           0.8624537601839422,
           1,
           -0.19785758224643518,
           0.467435329932544,
           0.49512054537619743,
           -0.09586496175713426,
           0.5565540802050762,
           0.47983944534301287,
           -0.2512334504176926,
           -0.014576341822125482,
           -0.11698607088539617,
           0.37997811103033835,
           -0.0005950645988381508,
           -0.18302156603112427,
           0.4630314841037866,
           -0.31377670042438766,
           0.894235622982133,
           -0.08951863151765092,
           0.16746374361249838,
           0.30044969514724534,
           0.02920691544892547,
           -0.044790060767696455,
           0.020165677098430784,
           -0.10696576630761732,
           0.060046026576043826,
           -0.018359662045000072
          ],
          [
           -0.5766725547641224,
           -0.19359313619586585,
           -0.19785758224643518,
           1,
           -0.19848754514070371,
           -0.1552818653616744,
           0.7338147605399558,
           -0.10160857315063954,
           -0.04691535463606107,
           0.11999583061183253,
           0.03990695044967543,
           0.07783475078494878,
           -0.17241619030585364,
           -0.00039383183911434336,
           0.07286508635067682,
           -0.059548287393130346,
           0.2380428884143785,
           -0.21444745837420803,
           0.004223545216440687,
           -0.16690353048509593,
           -0.22546947199848244,
           -0.10614289846721899,
           -0.02109977409083239,
           -0.11253724973693614,
           0.14562107666657081,
           -0.02819566684376408,
           -0.01838776629581747
          ],
          [
           0.2644348700943052,
           0.20251538969164884,
           0.467435329932544,
           -0.19848754514070371,
           1,
           0.9501918028150528,
           0.07006869936207791,
           -0.0029234387474387355,
           -0.13704478897881817,
           -0.6348055941957729,
           -0.3981790042951504,
           -0.5364479545099964,
           0.11303414438109295,
           -0.043187696413053124,
           -0.435010877944545,
           -0.052173921824992774,
           -0.41885816602617953,
           0.36602381192448247,
           -0.412838033717787,
           0.5462684950428219,
           0.4091136041673238,
           0.8036228524693709,
           -0.1508508031902442,
           0.8295734624998604,
           -0.4386842756836473,
           -0.16053390990578828,
           0.1381859176048896
          ],
          [
           0.17431897001064248,
           0.14520240258485362,
           0.49512054537619743,
           -0.1552818653616744,
           0.9501918028150528,
           1,
           0.07515834201868744,
           -0.021354176981526394,
           -0.1522724074825594,
           -0.6734454631607626,
           -0.4322978197088069,
           -0.5756877359248013,
           0.1349476224073523,
           -0.019150310200455458,
           -0.46046233828831623,
           -0.034763407617554185,
           -0.41335739351963297,
           0.307859841207312,
           -0.5637308989725327,
           0.3875752961437757,
           0.3839561801424608,
           0.8474087386921321,
           -0.3264277759867545,
           0.8130666198355051,
           -0.47473757912483194,
           -0.3175258244715885,
           0.15515623466720005
          ],
          [
           -0.44384159350320024,
           -0.18168504770422103,
           -0.09586496175713426,
           0.7338147605399558,
           0.07006869936207791,
           0.07515834201868744,
           1,
           -0.13766520922387226,
           -0.12827435160726391,
           -0.08841699549125684,
           -0.09498267197603612,
           -0.10106151081000944,
           -0.11475658205027636,
           -0.017087917187229663,
           -0.08537844963277887,
           -0.1037078381403649,
           0.06108011713851754,
           -0.15743014125370716,
           -0.1791977165285216,
           0.18133566361596473,
           -0.10918182718451819,
           0.14252689839972513,
           -0.14349247983554275,
           0.18311585581177492,
           -0.07516085385560127,
           -0.15227170087937017,
           0.06749668839152584
          ],
          [
           0.3353813566608029,
           0.635111433125178,
           0.5565540802050762,
           -0.10160857315063954,
           -0.0029234387474387355,
           -0.021354176981526394,
           -0.13766520922387226,
           1,
           0.9584461748050079,
           0.08126195264597078,
           0.22229646722638172,
           0.18286612577802516,
           0.293371876790479,
           -0.023519355804418617,
           0.07034804745827032,
           0.5105215234178923,
           -0.0382158368889832,
           0.753087024921091,
           0.23527320463601334,
           0.006381399189553332,
           0.26932833679607476,
           -0.3275403613785913,
           0.49955967341371754,
           -0.3171925633570566,
           0.6524299667926841,
           0.6360425472072236,
           -0.12682676103077423
          ],
          [
           0.2662679182750974,
           0.6021654780967759,
           0.47983944534301287,
           -0.04691535463606107,
           -0.13704478897881817,
           -0.1522724074825594,
           -0.12827435160726391,
           0.9584461748050079,
           1,
           0.2130241108104359,
           0.31282308858142777,
           0.2994647988237749,
           0.23682936959849965,
           -0.029408018424238586,
           0.1731983922881538,
           0.5255511047580605,
           0.05333900953468645,
           0.6876452225347146,
           0.3102050599436047,
           -0.07073065383477255,
           0.02621626516739602,
           -0.44140486962648023,
           0.5224549687919142,
           -0.4265347314094765,
           0.7618316093602272,
           0.6647020147926317,
           -0.1814651287279283
          ],
          [
           -0.1477272887489267,
           0.07120922936392719,
           -0.2512334504176926,
           0.11999583061183253,
           -0.6348055941957729,
           -0.6734454631607626,
           -0.08841699549125684,
           0.08126195264597078,
           0.2130241108104359,
           1,
           0.6560503261089813,
           0.8642581357084763,
           -0.3271984519586841,
           -0.10221273925658189,
           0.6058779628683226,
           0.021872085499475565,
           0.4915692014003793,
           -0.06319755845461418,
           0.5879827617848472,
           -0.347361339047809,
           -0.37163784586126675,
           -0.6672349079721434,
           0.39205708214829627,
           -0.6293102653504632,
           0.41785303124785966,
           0.3876014624938725,
           -0.33519703201023704
          ],
          [
           0.04943797502508758,
           0.24866166278728968,
           -0.014576341822125482,
           0.03990695044967543,
           -0.3981790042951504,
           -0.4322978197088069,
           -0.09498267197603612,
           0.22229646722638172,
           0.31282308858142777,
           0.6560503261089813,
           1,
           0.9466562208526142,
           -0.1626463696427692,
           -0.13696623533576108,
           0.5284860085187957,
           0.201888103896937,
           0.3325263128118108,
           0.159162796853355,
           0.4915467176267202,
           -0.1987406064140859,
           -0.2324220461520551,
           -0.49423773720595016,
           0.37496581855306954,
           -0.4755807063577575,
           0.3460352733090628,
           0.39327704634626354,
           -0.31272404513129687
          ],
          [
           -0.03012348887896106,
           0.19614730267180264,
           -0.11698607088539617,
           0.07783475078494878,
           -0.5364479545099964,
           -0.5756877359248013,
           -0.10106151081000944,
           0.18286612577802516,
           0.2994647988237749,
           0.8642581357084763,
           0.9466562208526142,
           1,
           -0.2481156983304992,
           -0.134935638345768,
           0.6109513127485612,
           0.14390517089867605,
           0.43152952167255,
           0.0791044785514846,
           0.5786890254584645,
           -0.2805989593902504,
           -0.31350663383765554,
           -0.6143213695818986,
           0.41732794374633136,
           -0.5856928577322175,
           0.4090588223022463,
           0.42763065774568637,
           -0.35137371941956413
          ],
          [
           0.2783858204598601,
           0.2742306802737127,
           0.37997811103033835,
           -0.17241619030585364,
           0.11303414438109295,
           0.1349476224073523,
           -0.11475658205027636,
           0.293371876790479,
           0.23682936959849965,
           -0.3271984519586841,
           -0.1626463696427692,
           -0.2481156983304992,
           1,
           0.2773924730893693,
           -0.29634446117499297,
           0.5892137063336319,
           -0.30199648875264146,
           0.31017889580722857,
           -0.14396005640876025,
           0.0367746882265725,
           0.18904490810152005,
           -0.036149274874208076,
           -0.10633703395098276,
           -0.04498351585229565,
           -0.014182226360805435,
           -0.04416662741333207,
           0.5063070681950904
          ],
          [
           -0.00024007334129719002,
           -0.04891942359140985,
           -0.0005950645988381508,
           -0.00039383183911434336,
           -0.043187696413053124,
           -0.019150310200455458,
           -0.017087917187229663,
           -0.023519355804418617,
           -0.029408018424238586,
           -0.10221273925658189,
           -0.13696623533576108,
           -0.134935638345768,
           0.2773924730893693,
           1,
           -0.04584247868311714,
           0.1576190913301854,
           0.003710318079768697,
           -0.05204270234210349,
           -0.10124523189488327,
           -0.06610319044831756,
           -0.030134104079118297,
           -0.0072296789864608356,
           -0.12151186647760873,
           -0.024757123145662693,
           -0.04693532276169266,
           -0.1125542413768469,
           0.13684604929209715
          ],
          [
           -0.08784888219680784,
           0.06455441953878177,
           -0.18302156603112427,
           0.07286508635067682,
           -0.435010877944545,
           -0.46046233828831623,
           -0.08537844963277887,
           0.07034804745827032,
           0.1731983922881538,
           0.6058779628683226,
           0.5284860085187957,
           0.6109513127485612,
           -0.29634446117499297,
           -0.04584247868311714,
           1,
           0.020157148713900362,
           0.4690304099098806,
           -0.027538523355691548,
           0.46725448759310273,
           -0.2104228532021971,
           -0.32144004297625145,
           -0.46478581204675967,
           0.3285533310702627,
           -0.44283536686029856,
           0.31815626675870495,
           0.3237183672574757,
           -0.31143801293308043
          ],
          [
           0.17109402360797588,
           0.4607480085430956,
           0.4630314841037866,
           -0.059548287393130346,
           -0.052173921824992774,
           -0.034763407617554185,
           -0.1037078381403649,
           0.5105215234178923,
           0.5255511047580605,
           0.021872085499475565,
           0.201888103896937,
           0.14390517089867605,
           0.5892137063336319,
           0.1576190913301854,
           0.020157148713900362,
           1,
           0.06253021356313809,
           0.47330463472381545,
           0.07004694892744234,
           -0.060573623484207965,
           0.03840265461600963,
           -0.29701278332432784,
           0.09417262343277104,
           -0.29751010255236005,
           0.273035288797199,
           0.19126435699676358,
           -0.21802011141605526
          ],
          [
           -0.35512665032436214,
           -0.16073380789274483,
           -0.31377670042438766,
           0.2380428884143785,
           -0.41885816602617953,
           -0.41335739351963297,
           0.06108011713851754,
           -0.0382158368889832,
           0.05333900953468645,
           0.4915692014003793,
           0.3325263128118108,
           0.43152952167255,
           -0.30199648875264146,
           0.003710318079768697,
           0.4690304099098806,
           0.06253021356313809,
           1,
           -0.22026590516283337,
           0.25446178896986676,
           -0.23050696487495187,
           -0.28328137045649454,
           -0.3355258189661819,
           0.17634913952568868,
           -0.3347436337753594,
           0.29621058288023727,
           0.16555471997209983,
           -0.32440843825208254
          ],
          [
           0.4844687209211523,
           0.9596829407979203,
           0.894235622982133,
           -0.21444745837420803,
           0.36602381192448247,
           0.307859841207312,
           -0.15743014125370716,
           0.753087024921091,
           0.6876452225347146,
           -0.06319755845461418,
           0.159162796853355,
           0.0791044785514846,
           0.31017889580722857,
           -0.05204270234210349,
           -0.027538523355691548,
           0.47330463472381545,
           -0.22026590516283337,
           1,
           0.27295422716862583,
           0.22403572281951664,
           0.3090824993577424,
           -0.13454270367105556,
           0.38400913142417303,
           -0.11380976893555944,
           0.17069116125419603,
           0.4787611981054636,
           -0.10260908308450611
          ],
          [
           0.18723340414730794,
           0.40338280742433413,
           -0.08951863151765092,
           0.004223545216440687,
           -0.412838033717787,
           -0.5637308989725327,
           -0.1791977165285216,
           0.23527320463601334,
           0.3102050599436047,
           0.5879827617848472,
           0.4915467176267202,
           0.5786890254584645,
           -0.14396005640876025,
           -0.10124523189488327,
           0.46725448759310273,
           0.07004694892744234,
           0.25446178896986676,
           0.27295422716862583,
           1,
           -0.025997658945066848,
           -0.1837410234769403,
           -0.6473251826165094,
           0.854122724441225,
           -0.5974150815546523,
           0.430075285421776,
           0.8125736358491403,
           -0.2387966616822294
          ],
          [
           0.22978056618390746,
           0.14508253814785735,
           0.16746374361249838,
           -0.16690353048509593,
           0.5462684950428219,
           0.3875752961437757,
           0.18133566361596473,
           0.006381399189553332,
           -0.07073065383477255,
           -0.347361339047809,
           -0.1987406064140859,
           -0.2805989593902504,
           0.0367746882265725,
           -0.06610319044831756,
           -0.2104228532021971,
           -0.060573623484207965,
           -0.23050696487495187,
           0.22403572281951664,
           -0.025997658945066848,
           1,
           0.2506213972775352,
           0.3774498806344694,
           0.15608058194031618,
           0.4680508506009123,
           -0.21869842810689696,
           0.12053751677459139,
           0.06603588901310052
          ],
          [
           0.27032501845818835,
           0.19255233382872938,
           0.30044969514724534,
           -0.22546947199848244,
           0.4091136041673238,
           0.3839561801424608,
           -0.10918182718451819,
           0.26932833679607476,
           0.02621626516739602,
           -0.37163784586126675,
           -0.2324220461520551,
           -0.31350663383765554,
           0.18904490810152005,
           -0.030134104079118297,
           -0.32144004297625145,
           0.03840265461600963,
           -0.28328137045649454,
           0.3090824993577424,
           -0.1837410234769403,
           0.2506213972775352,
           1,
           0.29586593609479944,
           0.05254068944789707,
           0.30091705473253105,
           -0.178030096138506,
           0.05155710149865078,
           0.13267512970280015
          ],
          [
           0.01645236606145844,
           -0.2946001318367372,
           0.02920691544892547,
           -0.10614289846721899,
           0.8036228524693709,
           0.8474087386921321,
           0.14252689839972513,
           -0.3275403613785913,
           -0.44140486962648023,
           -0.6672349079721434,
           -0.49423773720595016,
           -0.6143213695818986,
           -0.036149274874208076,
           -0.0072296789864608356,
           -0.46478581204675967,
           -0.29701278332432784,
           -0.3355258189661819,
           -0.13454270367105556,
           -0.6473251826165094,
           0.3774498806344694,
           0.29586593609479944,
           1,
           -0.40331788567877,
           0.958910827829641,
           -0.5527624476300401,
           -0.4447260812740282,
           0.21625639272087685
          ],
          [
           0.26935651243519015,
           0.37255247481621795,
           -0.044790060767696455,
           -0.02109977409083239,
           -0.1508508031902442,
           -0.3264277759867545,
           -0.14349247983554275,
           0.49955967341371754,
           0.5224549687919142,
           0.39205708214829627,
           0.37496581855306954,
           0.41732794374633136,
           -0.10633703395098276,
           -0.12151186647760873,
           0.3285533310702627,
           0.09417262343277104,
           0.17634913952568868,
           0.38400913142417303,
           0.854122724441225,
           0.15608058194031618,
           0.05254068944789707,
           -0.40331788567877,
           1,
           -0.33689650794096515,
           0.6450733115589241,
           0.9843116118537633,
           -0.21160717970590157
          ],
          [
           0.04019585129558068,
           -0.2781097376589473,
           0.020165677098430784,
           -0.11253724973693614,
           0.8295734624998604,
           0.8130666198355051,
           0.18311585581177492,
           -0.3171925633570566,
           -0.4265347314094765,
           -0.6293102653504632,
           -0.4755807063577575,
           -0.5856928577322175,
           -0.04498351585229565,
           -0.024757123145662693,
           -0.44283536686029856,
           -0.29751010255236005,
           -0.3347436337753594,
           -0.11380976893555944,
           -0.5974150815546523,
           0.4680508506009123,
           0.30091705473253105,
           0.958910827829641,
           -0.33689650794096515,
           1,
           -0.5229060829111184,
           -0.38345050936193614,
           0.21118297313711792
          ],
          [
           0.006701320821097525,
           0.10676289245827376,
           -0.10696576630761732,
           0.14562107666657081,
           -0.4386842756836473,
           -0.47473757912483194,
           -0.07516085385560127,
           0.6524299667926841,
           0.7618316093602272,
           0.41785303124785966,
           0.3460352733090628,
           0.4090588223022463,
           -0.014182226360805435,
           -0.04693532276169266,
           0.31815626675870495,
           0.273035288797199,
           0.29621058288023727,
           0.17069116125419603,
           0.430075285421776,
           -0.21869842810689696,
           -0.178030096138506,
           -0.5527624476300401,
           0.6450733115589241,
           -0.5229060829111184,
           1,
           0.7228572825026016,
           -0.21123578824215422
          ],
          [
           0.2911084744422442,
           0.4510348834785999,
           0.060046026576043826,
           -0.02819566684376408,
           -0.16053390990578828,
           -0.3175258244715885,
           -0.15227170087937017,
           0.6360425472072236,
           0.6647020147926317,
           0.3876014624938725,
           0.39327704634626354,
           0.42763065774568637,
           -0.04416662741333207,
           -0.1125542413768469,
           0.3237183672574757,
           0.19126435699676358,
           0.16555471997209983,
           0.4787611981054636,
           0.8125736358491403,
           0.12053751677459139,
           0.05155710149865078,
           -0.4447260812740282,
           0.9843116118537633,
           -0.38345050936193614,
           0.7228572825026016,
           1,
           -0.22303353495815886
          ],
          [
           0.057311860336946054,
           -0.1316017009090978,
           -0.018359662045000072,
           -0.01838776629581747,
           0.1381859176048896,
           0.15515623466720005,
           0.06749668839152584,
           -0.12682676103077423,
           -0.1814651287279283,
           -0.33519703201023704,
           -0.31272404513129687,
           -0.35137371941956413,
           0.5063070681950904,
           0.13684604929209715,
           -0.31143801293308043,
           -0.21802011141605526,
           -0.32440843825208254,
           -0.10260908308450611,
           -0.2387966616822294,
           0.06603588901310052,
           0.13267512970280015,
           0.21625639272087685,
           -0.21160717970590157,
           0.21118297313711792,
           -0.21123578824215422,
           -0.22303353495815886,
           1
          ]
         ]
        }
       ],
       "layout": {
        "autosize": true,
        "coloraxis": {
         "colorscale": [
          [
           0,
           "#0d0887"
          ],
          [
           0.1111111111111111,
           "#46039f"
          ],
          [
           0.2222222222222222,
           "#7201a8"
          ],
          [
           0.3333333333333333,
           "#9c179e"
          ],
          [
           0.4444444444444444,
           "#bd3786"
          ],
          [
           0.5555555555555556,
           "#d8576b"
          ],
          [
           0.6666666666666666,
           "#ed7953"
          ],
          [
           0.7777777777777778,
           "#fb9f3a"
          ],
          [
           0.8888888888888888,
           "#fdca26"
          ],
          [
           1,
           "#f0f921"
          ]
         ]
        },
        "margin": {
         "t": 60
        },
        "template": {
         "data": {
          "bar": [
           {
            "error_x": {
             "color": "#2a3f5f"
            },
            "error_y": {
             "color": "#2a3f5f"
            },
            "marker": {
             "line": {
              "color": "#E5ECF6",
              "width": 0.5
             },
             "pattern": {
              "fillmode": "overlay",
              "size": 10,
              "solidity": 0.2
             }
            },
            "type": "bar"
           }
          ],
          "barpolar": [
           {
            "marker": {
             "line": {
              "color": "#E5ECF6",
              "width": 0.5
             },
             "pattern": {
              "fillmode": "overlay",
              "size": 10,
              "solidity": 0.2
             }
            },
            "type": "barpolar"
           }
          ],
          "carpet": [
           {
            "aaxis": {
             "endlinecolor": "#2a3f5f",
             "gridcolor": "white",
             "linecolor": "white",
             "minorgridcolor": "white",
             "startlinecolor": "#2a3f5f"
            },
            "baxis": {
             "endlinecolor": "#2a3f5f",
             "gridcolor": "white",
             "linecolor": "white",
             "minorgridcolor": "white",
             "startlinecolor": "#2a3f5f"
            },
            "type": "carpet"
           }
          ],
          "choropleth": [
           {
            "colorbar": {
             "outlinewidth": 0,
             "ticks": ""
            },
            "type": "choropleth"
           }
          ],
          "contour": [
           {
            "colorbar": {
             "outlinewidth": 0,
             "ticks": ""
            },
            "colorscale": [
             [
              0,
              "#0d0887"
             ],
             [
              0.1111111111111111,
              "#46039f"
             ],
             [
              0.2222222222222222,
              "#7201a8"
             ],
             [
              0.3333333333333333,
              "#9c179e"
             ],
             [
              0.4444444444444444,
              "#bd3786"
             ],
             [
              0.5555555555555556,
              "#d8576b"
             ],
             [
              0.6666666666666666,
              "#ed7953"
             ],
             [
              0.7777777777777778,
              "#fb9f3a"
             ],
             [
              0.8888888888888888,
              "#fdca26"
             ],
             [
              1,
              "#f0f921"
             ]
            ],
            "type": "contour"
           }
          ],
          "contourcarpet": [
           {
            "colorbar": {
             "outlinewidth": 0,
             "ticks": ""
            },
            "type": "contourcarpet"
           }
          ],
          "heatmap": [
           {
            "colorbar": {
             "outlinewidth": 0,
             "ticks": ""
            },
            "colorscale": [
             [
              0,
              "#0d0887"
             ],
             [
              0.1111111111111111,
              "#46039f"
             ],
             [
              0.2222222222222222,
              "#7201a8"
             ],
             [
              0.3333333333333333,
              "#9c179e"
             ],
             [
              0.4444444444444444,
              "#bd3786"
             ],
             [
              0.5555555555555556,
              "#d8576b"
             ],
             [
              0.6666666666666666,
              "#ed7953"
             ],
             [
              0.7777777777777778,
              "#fb9f3a"
             ],
             [
              0.8888888888888888,
              "#fdca26"
             ],
             [
              1,
              "#f0f921"
             ]
            ],
            "type": "heatmap"
           }
          ],
          "heatmapgl": [
           {
            "colorbar": {
             "outlinewidth": 0,
             "ticks": ""
            },
            "colorscale": [
             [
              0,
              "#0d0887"
             ],
             [
              0.1111111111111111,
              "#46039f"
             ],
             [
              0.2222222222222222,
              "#7201a8"
             ],
             [
              0.3333333333333333,
              "#9c179e"
             ],
             [
              0.4444444444444444,
              "#bd3786"
             ],
             [
              0.5555555555555556,
              "#d8576b"
             ],
             [
              0.6666666666666666,
              "#ed7953"
             ],
             [
              0.7777777777777778,
              "#fb9f3a"
             ],
             [
              0.8888888888888888,
              "#fdca26"
             ],
             [
              1,
              "#f0f921"
             ]
            ],
            "type": "heatmapgl"
           }
          ],
          "histogram": [
           {
            "marker": {
             "pattern": {
              "fillmode": "overlay",
              "size": 10,
              "solidity": 0.2
             }
            },
            "type": "histogram"
           }
          ],
          "histogram2d": [
           {
            "colorbar": {
             "outlinewidth": 0,
             "ticks": ""
            },
            "colorscale": [
             [
              0,
              "#0d0887"
             ],
             [
              0.1111111111111111,
              "#46039f"
             ],
             [
              0.2222222222222222,
              "#7201a8"
             ],
             [
              0.3333333333333333,
              "#9c179e"
             ],
             [
              0.4444444444444444,
              "#bd3786"
             ],
             [
              0.5555555555555556,
              "#d8576b"
             ],
             [
              0.6666666666666666,
              "#ed7953"
             ],
             [
              0.7777777777777778,
              "#fb9f3a"
             ],
             [
              0.8888888888888888,
              "#fdca26"
             ],
             [
              1,
              "#f0f921"
             ]
            ],
            "type": "histogram2d"
           }
          ],
          "histogram2dcontour": [
           {
            "colorbar": {
             "outlinewidth": 0,
             "ticks": ""
            },
            "colorscale": [
             [
              0,
              "#0d0887"
             ],
             [
              0.1111111111111111,
              "#46039f"
             ],
             [
              0.2222222222222222,
              "#7201a8"
             ],
             [
              0.3333333333333333,
              "#9c179e"
             ],
             [
              0.4444444444444444,
              "#bd3786"
             ],
             [
              0.5555555555555556,
              "#d8576b"
             ],
             [
              0.6666666666666666,
              "#ed7953"
             ],
             [
              0.7777777777777778,
              "#fb9f3a"
             ],
             [
              0.8888888888888888,
              "#fdca26"
             ],
             [
              1,
              "#f0f921"
             ]
            ],
            "type": "histogram2dcontour"
           }
          ],
          "mesh3d": [
           {
            "colorbar": {
             "outlinewidth": 0,
             "ticks": ""
            },
            "type": "mesh3d"
           }
          ],
          "parcoords": [
           {
            "line": {
             "colorbar": {
              "outlinewidth": 0,
              "ticks": ""
             }
            },
            "type": "parcoords"
           }
          ],
          "pie": [
           {
            "automargin": true,
            "type": "pie"
           }
          ],
          "scatter": [
           {
            "fillpattern": {
             "fillmode": "overlay",
             "size": 10,
             "solidity": 0.2
            },
            "type": "scatter"
           }
          ],
          "scatter3d": [
           {
            "line": {
             "colorbar": {
              "outlinewidth": 0,
              "ticks": ""
             }
            },
            "marker": {
             "colorbar": {
              "outlinewidth": 0,
              "ticks": ""
             }
            },
            "type": "scatter3d"
           }
          ],
          "scattercarpet": [
           {
            "marker": {
             "colorbar": {
              "outlinewidth": 0,
              "ticks": ""
             }
            },
            "type": "scattercarpet"
           }
          ],
          "scattergeo": [
           {
            "marker": {
             "colorbar": {
              "outlinewidth": 0,
              "ticks": ""
             }
            },
            "type": "scattergeo"
           }
          ],
          "scattergl": [
           {
            "marker": {
             "colorbar": {
              "outlinewidth": 0,
              "ticks": ""
             }
            },
            "type": "scattergl"
           }
          ],
          "scattermapbox": [
           {
            "marker": {
             "colorbar": {
              "outlinewidth": 0,
              "ticks": ""
             }
            },
            "type": "scattermapbox"
           }
          ],
          "scatterpolar": [
           {
            "marker": {
             "colorbar": {
              "outlinewidth": 0,
              "ticks": ""
             }
            },
            "type": "scatterpolar"
           }
          ],
          "scatterpolargl": [
           {
            "marker": {
             "colorbar": {
              "outlinewidth": 0,
              "ticks": ""
             }
            },
            "type": "scatterpolargl"
           }
          ],
          "scatterternary": [
           {
            "marker": {
             "colorbar": {
              "outlinewidth": 0,
              "ticks": ""
             }
            },
            "type": "scatterternary"
           }
          ],
          "surface": [
           {
            "colorbar": {
             "outlinewidth": 0,
             "ticks": ""
            },
            "colorscale": [
             [
              0,
              "#0d0887"
             ],
             [
              0.1111111111111111,
              "#46039f"
             ],
             [
              0.2222222222222222,
              "#7201a8"
             ],
             [
              0.3333333333333333,
              "#9c179e"
             ],
             [
              0.4444444444444444,
              "#bd3786"
             ],
             [
              0.5555555555555556,
              "#d8576b"
             ],
             [
              0.6666666666666666,
              "#ed7953"
             ],
             [
              0.7777777777777778,
              "#fb9f3a"
             ],
             [
              0.8888888888888888,
              "#fdca26"
             ],
             [
              1,
              "#f0f921"
             ]
            ],
            "type": "surface"
           }
          ],
          "table": [
           {
            "cells": {
             "fill": {
              "color": "#EBF0F8"
             },
             "line": {
              "color": "white"
             }
            },
            "header": {
             "fill": {
              "color": "#C8D4E3"
             },
             "line": {
              "color": "white"
             }
            },
            "type": "table"
           }
          ]
         },
         "layout": {
          "annotationdefaults": {
           "arrowcolor": "#2a3f5f",
           "arrowhead": 0,
           "arrowwidth": 1
          },
          "autotypenumbers": "strict",
          "coloraxis": {
           "colorbar": {
            "outlinewidth": 0,
            "ticks": ""
           }
          },
          "colorscale": {
           "diverging": [
            [
             0,
             "#8e0152"
            ],
            [
             0.1,
             "#c51b7d"
            ],
            [
             0.2,
             "#de77ae"
            ],
            [
             0.3,
             "#f1b6da"
            ],
            [
             0.4,
             "#fde0ef"
            ],
            [
             0.5,
             "#f7f7f7"
            ],
            [
             0.6,
             "#e6f5d0"
            ],
            [
             0.7,
             "#b8e186"
            ],
            [
             0.8,
             "#7fbc41"
            ],
            [
             0.9,
             "#4d9221"
            ],
            [
             1,
             "#276419"
            ]
           ],
           "sequential": [
            [
             0,
             "#0d0887"
            ],
            [
             0.1111111111111111,
             "#46039f"
            ],
            [
             0.2222222222222222,
             "#7201a8"
            ],
            [
             0.3333333333333333,
             "#9c179e"
            ],
            [
             0.4444444444444444,
             "#bd3786"
            ],
            [
             0.5555555555555556,
             "#d8576b"
            ],
            [
             0.6666666666666666,
             "#ed7953"
            ],
            [
             0.7777777777777778,
             "#fb9f3a"
            ],
            [
             0.8888888888888888,
             "#fdca26"
            ],
            [
             1,
             "#f0f921"
            ]
           ],
           "sequentialminus": [
            [
             0,
             "#0d0887"
            ],
            [
             0.1111111111111111,
             "#46039f"
            ],
            [
             0.2222222222222222,
             "#7201a8"
            ],
            [
             0.3333333333333333,
             "#9c179e"
            ],
            [
             0.4444444444444444,
             "#bd3786"
            ],
            [
             0.5555555555555556,
             "#d8576b"
            ],
            [
             0.6666666666666666,
             "#ed7953"
            ],
            [
             0.7777777777777778,
             "#fb9f3a"
            ],
            [
             0.8888888888888888,
             "#fdca26"
            ],
            [
             1,
             "#f0f921"
            ]
           ]
          },
          "colorway": [
           "#636efa",
           "#EF553B",
           "#00cc96",
           "#ab63fa",
           "#FFA15A",
           "#19d3f3",
           "#FF6692",
           "#B6E880",
           "#FF97FF",
           "#FECB52"
          ],
          "font": {
           "color": "#2a3f5f"
          },
          "geo": {
           "bgcolor": "white",
           "lakecolor": "white",
           "landcolor": "#E5ECF6",
           "showlakes": true,
           "showland": true,
           "subunitcolor": "white"
          },
          "hoverlabel": {
           "align": "left"
          },
          "hovermode": "closest",
          "mapbox": {
           "style": "light"
          },
          "paper_bgcolor": "white",
          "plot_bgcolor": "#E5ECF6",
          "polar": {
           "angularaxis": {
            "gridcolor": "white",
            "linecolor": "white",
            "ticks": ""
           },
           "bgcolor": "#E5ECF6",
           "radialaxis": {
            "gridcolor": "white",
            "linecolor": "white",
            "ticks": ""
           }
          },
          "scene": {
           "xaxis": {
            "backgroundcolor": "#E5ECF6",
            "gridcolor": "white",
            "gridwidth": 2,
            "linecolor": "white",
            "showbackground": true,
            "ticks": "",
            "zerolinecolor": "white"
           },
           "yaxis": {
            "backgroundcolor": "#E5ECF6",
            "gridcolor": "white",
            "gridwidth": 2,
            "linecolor": "white",
            "showbackground": true,
            "ticks": "",
            "zerolinecolor": "white"
           },
           "zaxis": {
            "backgroundcolor": "#E5ECF6",
            "gridcolor": "white",
            "gridwidth": 2,
            "linecolor": "white",
            "showbackground": true,
            "ticks": "",
            "zerolinecolor": "white"
           }
          },
          "shapedefaults": {
           "line": {
            "color": "#2a3f5f"
           }
          },
          "ternary": {
           "aaxis": {
            "gridcolor": "white",
            "linecolor": "white",
            "ticks": ""
           },
           "baxis": {
            "gridcolor": "white",
            "linecolor": "white",
            "ticks": ""
           },
           "bgcolor": "#E5ECF6",
           "caxis": {
            "gridcolor": "white",
            "linecolor": "white",
            "ticks": ""
           }
          },
          "title": {
           "x": 0.05
          },
          "xaxis": {
           "automargin": true,
           "gridcolor": "white",
           "linecolor": "white",
           "ticks": "",
           "title": {
            "standoff": 15
           },
           "zerolinecolor": "white",
           "zerolinewidth": 2
          },
          "yaxis": {
           "automargin": true,
           "gridcolor": "white",
           "linecolor": "white",
           "ticks": "",
           "title": {
            "standoff": 15
           },
           "zerolinecolor": "white",
           "zerolinewidth": 2
          }
         }
        },
        "xaxis": {
         "anchor": "y",
         "autorange": true,
         "constrain": "domain",
         "domain": [
          0.3791208791208791,
          0.6208791208791209
         ],
         "range": [
          -0.5,
          26.5
         ],
         "scaleanchor": "y",
         "type": "category"
        },
        "yaxis": {
         "anchor": "x",
         "autorange": true,
         "constrain": "domain",
         "domain": [
          0,
          1
         ],
         "range": [
          26.5,
          -0.5
         ],
         "type": "category"
        }
       }
      },
      "image/png": "[encoded data removed]",
      "text/html": [
       "<div>                            <div id=\"551e6fb2-a1b1-4ba2-991e-9bbc9e3a1b89\" class=\"plotly-graph-div\" style=\"height:525px; width:100%;\"></div>            <script type=\"text/javascript\">                require([\"plotly\"], function(Plotly) {                    window.PLOTLYENV=window.PLOTLYENV || {};                                    if (document.getElementById(\"551e6fb2-a1b1-4ba2-991e-9bbc9e3a1b89\")) {                    Plotly.newPlot(                        \"551e6fb2-a1b1-4ba2-991e-9bbc9e3a1b89\",                        [{\"coloraxis\":\"coloraxis\",\"name\":\"0\",\"x\":[\"MIN\",\"FGM\",\"FGA\",\"FG_PCT\",\"FG3M\",\"FG3A\",\"FG3_PCT\",\"FTM\",\"FTA\",\"OREB\",\"DREB\",\"REB\",\"AST\",\"STL\",\"BLK\",\"TOV\",\"PF\",\"PTS\",\"FG%\",\"3PT%\",\"FT%\",\"FG3A%\",\"PTS/FGA\",\"FG3M/FGM\",\"FTA/FGA\",\"TRU%\",\"AST_TOV\"],\"y\":[\"MIN\",\"FGM\",\"FGA\",\"FG_PCT\",\"FG3M\",\"FG3A\",\"FG3_PCT\",\"FTM\",\"FTA\",\"OREB\",\"DREB\",\"REB\",\"AST\",\"STL\",\"BLK\",\"TOV\",\"PF\",\"PTS\",\"FG%\",\"3PT%\",\"FT%\",\"FG3A%\",\"PTS/FGA\",\"FG3M/FGM\",\"FTA/FGA\",\"TRU%\",\"AST_TOV\"],\"z\":[[1.0,0.45054517151545276,0.3787260002648966,-0.5766725547641224,0.2644348700943052,0.17431897001064248,-0.44384159350320024,0.3353813566608029,0.2662679182750974,-0.1477272887489267,0.04943797502508758,-0.03012348887896106,0.2783858204598601,-0.00024007334129719002,-0.08784888219680784,0.17109402360797588,-0.35512665032436214,0.4844687209211523,0.18723340414730794,0.22978056618390746,0.27032501845818835,0.01645236606145844,0.26935651243519015,0.04019585129558068,0.006701320821097525,0.2911084744422442,0.057311860336946054],[0.45054517151545276,1.0,0.8624537601839422,-0.19359313619586585,0.20251538969164884,0.14520240258485362,-0.18168504770422103,0.635111433125178,0.6021654780967759,0.07120922936392719,0.24866166278728968,0.19614730267180264,0.2742306802737127,-0.04891942359140985,0.06455441953878177,0.4607480085430956,-0.16073380789274483,0.9596829407979203,0.40338280742433413,0.14508253814785735,0.19255233382872938,-0.2946001318367372,0.37255247481621795,-0.2781097376589473,0.10676289245827376,0.4510348834785999,-0.1316017009090978],[0.3787260002648966,0.8624537601839422,1.0,-0.19785758224643518,0.467435329932544,0.49512054537619743,-0.09586496175713426,0.5565540802050762,0.47983944534301287,-0.2512334504176926,-0.014576341822125482,-0.11698607088539617,0.37997811103033835,-0.0005950645988381508,-0.18302156603112427,0.4630314841037866,-0.31377670042438766,0.894235622982133,-0.08951863151765092,0.16746374361249838,0.30044969514724534,0.02920691544892547,-0.044790060767696455,0.020165677098430784,-0.10696576630761732,0.060046026576043826,-0.018359662045000072],[-0.5766725547641224,-0.19359313619586585,-0.19785758224643518,1.0,-0.19848754514070371,-0.1552818653616744,0.7338147605399558,-0.10160857315063954,-0.04691535463606107,0.11999583061183253,0.03990695044967543,0.07783475078494878,-0.17241619030585364,-0.00039383183911434336,0.07286508635067682,-0.059548287393130346,0.2380428884143785,-0.21444745837420803,0.004223545216440687,-0.16690353048509593,-0.22546947199848244,-0.10614289846721899,-0.02109977409083239,-0.11253724973693614,0.14562107666657081,-0.02819566684376408,-0.01838776629581747],[0.2644348700943052,0.20251538969164884,0.467435329932544,-0.19848754514070371,1.0,0.9501918028150528,0.07006869936207791,-0.0029234387474387355,-0.13704478897881817,-0.6348055941957729,-0.3981790042951504,-0.5364479545099964,0.11303414438109295,-0.043187696413053124,-0.435010877944545,-0.052173921824992774,-0.41885816602617953,0.36602381192448247,-0.412838033717787,0.5462684950428219,0.4091136041673238,0.8036228524693709,-0.1508508031902442,0.8295734624998604,-0.4386842756836473,-0.16053390990578828,0.1381859176048896],[0.17431897001064248,0.14520240258485362,0.49512054537619743,-0.1552818653616744,0.9501918028150528,1.0,0.07515834201868744,-0.021354176981526394,-0.1522724074825594,-0.6734454631607626,-0.4322978197088069,-0.5756877359248013,0.1349476224073523,-0.019150310200455458,-0.46046233828831623,-0.034763407617554185,-0.41335739351963297,0.307859841207312,-0.5637308989725327,0.3875752961437757,0.3839561801424608,0.8474087386921321,-0.3264277759867545,0.8130666198355051,-0.47473757912483194,-0.3175258244715885,0.15515623466720005],[-0.44384159350320024,-0.18168504770422103,-0.09586496175713426,0.7338147605399558,0.07006869936207791,0.07515834201868744,1.0,-0.13766520922387226,-0.12827435160726391,-0.08841699549125684,-0.09498267197603612,-0.10106151081000944,-0.11475658205027636,-0.017087917187229663,-0.08537844963277887,-0.1037078381403649,0.06108011713851754,-0.15743014125370716,-0.1791977165285216,0.18133566361596473,-0.10918182718451819,0.14252689839972513,-0.14349247983554275,0.18311585581177492,-0.07516085385560127,-0.15227170087937017,0.06749668839152584],[0.3353813566608029,0.635111433125178,0.5565540802050762,-0.10160857315063954,-0.0029234387474387355,-0.021354176981526394,-0.13766520922387226,1.0,0.9584461748050079,0.08126195264597078,0.22229646722638172,0.18286612577802516,0.293371876790479,-0.023519355804418617,0.07034804745827032,0.5105215234178923,-0.0382158368889832,0.753087024921091,0.23527320463601334,0.006381399189553332,0.26932833679607476,-0.3275403613785913,0.49955967341371754,-0.3171925633570566,0.6524299667926841,0.6360425472072236,-0.12682676103077423],[0.2662679182750974,0.6021654780967759,0.47983944534301287,-0.04691535463606107,-0.13704478897881817,-0.1522724074825594,-0.12827435160726391,0.9584461748050079,1.0,0.2130241108104359,0.31282308858142777,0.2994647988237749,0.23682936959849965,-0.029408018424238586,0.1731983922881538,0.5255511047580605,0.05333900953468645,0.6876452225347146,0.3102050599436047,-0.07073065383477255,0.02621626516739602,-0.44140486962648023,0.5224549687919142,-0.4265347314094765,0.7618316093602272,0.6647020147926317,-0.1814651287279283],[-0.1477272887489267,0.07120922936392719,-0.2512334504176926,0.11999583061183253,-0.6348055941957729,-0.6734454631607626,-0.08841699549125684,0.08126195264597078,0.2130241108104359,1.0,0.6560503261089813,0.8642581357084763,-0.3271984519586841,-0.10221273925658189,0.6058779628683226,0.021872085499475565,0.4915692014003793,-0.06319755845461418,0.5879827617848472,-0.347361339047809,-0.37163784586126675,-0.6672349079721434,0.39205708214829627,-0.6293102653504632,0.41785303124785966,0.3876014624938725,-0.33519703201023704],[0.04943797502508758,0.24866166278728968,-0.014576341822125482,0.03990695044967543,-0.3981790042951504,-0.4322978197088069,-0.09498267197603612,0.22229646722638172,0.31282308858142777,0.6560503261089813,1.0,0.9466562208526142,-0.1626463696427692,-0.13696623533576108,0.5284860085187957,0.201888103896937,0.3325263128118108,0.159162796853355,0.4915467176267202,-0.1987406064140859,-0.2324220461520551,-0.49423773720595016,0.37496581855306954,-0.4755807063577575,0.3460352733090628,0.39327704634626354,-0.31272404513129687],[-0.03012348887896106,0.19614730267180264,-0.11698607088539617,0.07783475078494878,-0.5364479545099964,-0.5756877359248013,-0.10106151081000944,0.18286612577802516,0.2994647988237749,0.8642581357084763,0.9466562208526142,1.0,-0.2481156983304992,-0.134935638345768,0.6109513127485612,0.14390517089867605,0.43152952167255,0.0791044785514846,0.5786890254584645,-0.2805989593902504,-0.31350663383765554,-0.6143213695818986,0.41732794374633136,-0.5856928577322175,0.4090588223022463,0.42763065774568637,-0.35137371941956413],[0.2783858204598601,0.2742306802737127,0.37997811103033835,-0.17241619030585364,0.11303414438109295,0.1349476224073523,-0.11475658205027636,0.293371876790479,0.23682936959849965,-0.3271984519586841,-0.1626463696427692,-0.2481156983304992,1.0,0.2773924730893693,-0.29634446117499297,0.5892137063336319,-0.30199648875264146,0.31017889580722857,-0.14396005640876025,0.0367746882265725,0.18904490810152005,-0.036149274874208076,-0.10633703395098276,-0.04498351585229565,-0.014182226360805435,-0.04416662741333207,0.5063070681950904],[-0.00024007334129719002,-0.04891942359140985,-0.0005950645988381508,-0.00039383183911434336,-0.043187696413053124,-0.019150310200455458,-0.017087917187229663,-0.023519355804418617,-0.029408018424238586,-0.10221273925658189,-0.13696623533576108,-0.134935638345768,0.2773924730893693,1.0,-0.04584247868311714,0.1576190913301854,0.003710318079768697,-0.05204270234210349,-0.10124523189488327,-0.06610319044831756,-0.030134104079118297,-0.0072296789864608356,-0.12151186647760873,-0.024757123145662693,-0.04693532276169266,-0.1125542413768469,0.13684604929209715],[-0.08784888219680784,0.06455441953878177,-0.18302156603112427,0.07286508635067682,-0.435010877944545,-0.46046233828831623,-0.08537844963277887,0.07034804745827032,0.1731983922881538,0.6058779628683226,0.5284860085187957,0.6109513127485612,-0.29634446117499297,-0.04584247868311714,1.0,0.020157148713900362,0.4690304099098806,-0.027538523355691548,0.46725448759310273,-0.2104228532021971,-0.32144004297625145,-0.46478581204675967,0.3285533310702627,-0.44283536686029856,0.31815626675870495,0.3237183672574757,-0.31143801293308043],[0.17109402360797588,0.4607480085430956,0.4630314841037866,-0.059548287393130346,-0.052173921824992774,-0.034763407617554185,-0.1037078381403649,0.5105215234178923,0.5255511047580605,0.021872085499475565,0.201888103896937,0.14390517089867605,0.5892137063336319,0.1576190913301854,0.020157148713900362,1.0,0.06253021356313809,0.47330463472381545,0.07004694892744234,-0.060573623484207965,0.03840265461600963,-0.29701278332432784,0.09417262343277104,-0.29751010255236005,0.273035288797199,0.19126435699676358,-0.21802011141605526],[-0.35512665032436214,-0.16073380789274483,-0.31377670042438766,0.2380428884143785,-0.41885816602617953,-0.41335739351963297,0.06108011713851754,-0.0382158368889832,0.05333900953468645,0.4915692014003793,0.3325263128118108,0.43152952167255,-0.30199648875264146,0.003710318079768697,0.4690304099098806,0.06253021356313809,1.0,-0.22026590516283337,0.25446178896986676,-0.23050696487495187,-0.28328137045649454,-0.3355258189661819,0.17634913952568868,-0.3347436337753594,0.29621058288023727,0.16555471997209983,-0.32440843825208254],[0.4844687209211523,0.9596829407979203,0.894235622982133,-0.21444745837420803,0.36602381192448247,0.307859841207312,-0.15743014125370716,0.753087024921091,0.6876452225347146,-0.06319755845461418,0.159162796853355,0.0791044785514846,0.31017889580722857,-0.05204270234210349,-0.027538523355691548,0.47330463472381545,-0.22026590516283337,1.0,0.27295422716862583,0.22403572281951664,0.3090824993577424,-0.13454270367105556,0.38400913142417303,-0.11380976893555944,0.17069116125419603,0.4787611981054636,-0.10260908308450611],[0.18723340414730794,0.40338280742433413,-0.08951863151765092,0.004223545216440687,-0.412838033717787,-0.5637308989725327,-0.1791977165285216,0.23527320463601334,0.3102050599436047,0.5879827617848472,0.4915467176267202,0.5786890254584645,-0.14396005640876025,-0.10124523189488327,0.46725448759310273,0.07004694892744234,0.25446178896986676,0.27295422716862583,1.0,-0.025997658945066848,-0.1837410234769403,-0.6473251826165094,0.854122724441225,-0.5974150815546523,0.430075285421776,0.8125736358491403,-0.2387966616822294],[0.22978056618390746,0.14508253814785735,0.16746374361249838,-0.16690353048509593,0.5462684950428219,0.3875752961437757,0.18133566361596473,0.006381399189553332,-0.07073065383477255,-0.347361339047809,-0.1987406064140859,-0.2805989593902504,0.0367746882265725,-0.06610319044831756,-0.2104228532021971,-0.060573623484207965,-0.23050696487495187,0.22403572281951664,-0.025997658945066848,1.0,0.2506213972775352,0.3774498806344694,0.15608058194031618,0.4680508506009123,-0.21869842810689696,0.12053751677459139,0.06603588901310052],[0.27032501845818835,0.19255233382872938,0.30044969514724534,-0.22546947199848244,0.4091136041673238,0.3839561801424608,-0.10918182718451819,0.26932833679607476,0.02621626516739602,-0.37163784586126675,-0.2324220461520551,-0.31350663383765554,0.18904490810152005,-0.030134104079118297,-0.32144004297625145,0.03840265461600963,-0.28328137045649454,0.3090824993577424,-0.1837410234769403,0.2506213972775352,1.0,0.29586593609479944,0.05254068944789707,0.30091705473253105,-0.178030096138506,0.05155710149865078,0.13267512970280015],[0.01645236606145844,-0.2946001318367372,0.02920691544892547,-0.10614289846721899,0.8036228524693709,0.8474087386921321,0.14252689839972513,-0.3275403613785913,-0.44140486962648023,-0.6672349079721434,-0.49423773720595016,-0.6143213695818986,-0.036149274874208076,-0.0072296789864608356,-0.46478581204675967,-0.29701278332432784,-0.3355258189661819,-0.13454270367105556,-0.6473251826165094,0.3774498806344694,0.29586593609479944,1.0,-0.40331788567877,0.958910827829641,-0.5527624476300401,-0.4447260812740282,0.21625639272087685],[0.26935651243519015,0.37255247481621795,-0.044790060767696455,-0.02109977409083239,-0.1508508031902442,-0.3264277759867545,-0.14349247983554275,0.49955967341371754,0.5224549687919142,0.39205708214829627,0.37496581855306954,0.41732794374633136,-0.10633703395098276,-0.12151186647760873,0.3285533310702627,0.09417262343277104,0.17634913952568868,0.38400913142417303,0.854122724441225,0.15608058194031618,0.05254068944789707,-0.40331788567877,1.0,-0.33689650794096515,0.6450733115589241,0.9843116118537633,-0.21160717970590157],[0.04019585129558068,-0.2781097376589473,0.020165677098430784,-0.11253724973693614,0.8295734624998604,0.8130666198355051,0.18311585581177492,-0.3171925633570566,-0.4265347314094765,-0.6293102653504632,-0.4755807063577575,-0.5856928577322175,-0.04498351585229565,-0.024757123145662693,-0.44283536686029856,-0.29751010255236005,-0.3347436337753594,-0.11380976893555944,-0.5974150815546523,0.4680508506009123,0.30091705473253105,0.958910827829641,-0.33689650794096515,1.0,-0.5229060829111184,-0.38345050936193614,0.21118297313711792],[0.006701320821097525,0.10676289245827376,-0.10696576630761732,0.14562107666657081,-0.4386842756836473,-0.47473757912483194,-0.07516085385560127,0.6524299667926841,0.7618316093602272,0.41785303124785966,0.3460352733090628,0.4090588223022463,-0.014182226360805435,-0.04693532276169266,0.31815626675870495,0.273035288797199,0.29621058288023727,0.17069116125419603,0.430075285421776,-0.21869842810689696,-0.178030096138506,-0.5527624476300401,0.6450733115589241,-0.5229060829111184,1.0,0.7228572825026016,-0.21123578824215422],[0.2911084744422442,0.4510348834785999,0.060046026576043826,-0.02819566684376408,-0.16053390990578828,-0.3175258244715885,-0.15227170087937017,0.6360425472072236,0.6647020147926317,0.3876014624938725,0.39327704634626354,0.42763065774568637,-0.04416662741333207,-0.1125542413768469,0.3237183672574757,0.19126435699676358,0.16555471997209983,0.4787611981054636,0.8125736358491403,0.12053751677459139,0.05155710149865078,-0.4447260812740282,0.9843116118537633,-0.38345050936193614,0.7228572825026016,1.0,-0.22303353495815886],[0.057311860336946054,-0.1316017009090978,-0.018359662045000072,-0.01838776629581747,0.1381859176048896,0.15515623466720005,0.06749668839152584,-0.12682676103077423,-0.1814651287279283,-0.33519703201023704,-0.31272404513129687,-0.35137371941956413,0.5063070681950904,0.13684604929209715,-0.31143801293308043,-0.21802011141605526,-0.32440843825208254,-0.10260908308450611,-0.2387966616822294,0.06603588901310052,0.13267512970280015,0.21625639272087685,-0.21160717970590157,0.21118297313711792,-0.21123578824215422,-0.22303353495815886,1.0]],\"type\":\"heatmap\",\"xaxis\":\"x\",\"yaxis\":\"y\",\"hovertemplate\":\"x: %{x}<br>y: %{y}<br>color: %{z}<extra></extra>\"}],                        {\"template\":{\"data\":{\"histogram2dcontour\":[{\"type\":\"histogram2dcontour\",\"colorbar\":{\"outlinewidth\":0,\"ticks\":\"\"},\"colorscale\":[[0.0,\"#0d0887\"],[0.1111111111111111,\"#46039f\"],[0.2222222222222222,\"#7201a8\"],[0.3333333333333333,\"#9c179e\"],[0.4444444444444444,\"#bd3786\"],[0.5555555555555556,\"#d8576b\"],[0.6666666666666666,\"#ed7953\"],[0.7777777777777778,\"#fb9f3a\"],[0.8888888888888888,\"#fdca26\"],[1.0,\"#f0f921\"]]}],\"choropleth\":[{\"type\":\"choropleth\",\"colorbar\":{\"outlinewidth\":0,\"ticks\":\"\"}}],\"histogram2d\":[{\"type\":\"histogram2d\",\"colorbar\":{\"outlinewidth\":0,\"ticks\":\"\"},\"colorscale\":[[0.0,\"#0d0887\"],[0.1111111111111111,\"#46039f\"],[0.2222222222222222,\"#7201a8\"],[0.3333333333333333,\"#9c179e\"],[0.4444444444444444,\"#bd3786\"],[0.5555555555555556,\"#d8576b\"],[0.6666666666666666,\"#ed7953\"],[0.7777777777777778,\"#fb9f3a\"],[0.8888888888888888,\"#fdca26\"],[1.0,\"#f0f921\"]]}],\"heatmap\":[{\"type\":\"heatmap\",\"colorbar\":{\"outlinewidth\":0,\"ticks\":\"\"},\"colorscale\":[[0.0,\"#0d0887\"],[0.1111111111111111,\"#46039f\"],[0.2222222222222222,\"#7201a8\"],[0.3333333333333333,\"#9c179e\"],[0.4444444444444444,\"#bd3786\"],[0.5555555555555556,\"#d8576b\"],[0.6666666666666666,\"#ed7953\"],[0.7777777777777778,\"#fb9f3a\"],[0.8888888888888888,\"#fdca26\"],[1.0,\"#f0f921\"]]}],\"heatmapgl\":[{\"type\":\"heatmapgl\",\"colorbar\":{\"outlinewidth\":0,\"ticks\":\"\"},\"colorscale\":[[0.0,\"#0d0887\"],[0.1111111111111111,\"#46039f\"],[0.2222222222222222,\"#7201a8\"],[0.3333333333333333,\"#9c179e\"],[0.4444444444444444,\"#bd3786\"],[0.5555555555555556,\"#d8576b\"],[0.6666666666666666,\"#ed7953\"],[0.7777777777777778,\"#fb9f3a\"],[0.8888888888888888,\"#fdca26\"],[1.0,\"#f0f921\"]]}],\"contourcarpet\":[{\"type\":\"contourcarpet\",\"colorbar\":{\"outlinewidth\":0,\"ticks\":\"\"}}],\"contour\":[{\"type\":\"contour\",\"colorbar\":{\"outlinewidth\":0,\"ticks\":\"\"},\"colorscale\":[[0.0,\"#0d0887\"],[0.1111111111111111,\"#46039f\"],[0.2222222222222222,\"#7201a8\"],[0.3333333333333333,\"#9c179e\"],[0.4444444444444444,\"#bd3786\"],[0.5555555555555556,\"#d8576b\"],[0.6666666666666666,\"#ed7953\"],[0.7777777777777778,\"#fb9f3a\"],[0.8888888888888888,\"#fdca26\"],[1.0,\"#f0f921\"]]}],\"surface\":[{\"type\":\"surface\",\"colorbar\":{\"outlinewidth\":0,\"ticks\":\"\"},\"colorscale\":[[0.0,\"#0d0887\"],[0.1111111111111111,\"#46039f\"],[0.2222222222222222,\"#7201a8\"],[0.3333333333333333,\"#9c179e\"],[0.4444444444444444,\"#bd3786\"],[0.5555555555555556,\"#d8576b\"],[0.6666666666666666,\"#ed7953\"],[0.7777777777777778,\"#fb9f3a\"],[0.8888888888888888,\"#fdca26\"],[1.0,\"#f0f921\"]]}],\"mesh3d\":[{\"type\":\"mesh3d\",\"colorbar\":{\"outlinewidth\":0,\"ticks\":\"\"}}],\"scatter\":[{\"fillpattern\":{\"fillmode\":\"overlay\",\"size\":10,\"solidity\":0.2},\"type\":\"scatter\"}],\"parcoords\":[{\"type\":\"parcoords\",\"line\":{\"colorbar\":{\"outlinewidth\":0,\"ticks\":\"\"}}}],\"scatterpolargl\":[{\"type\":\"scatterpolargl\",\"marker\":{\"colorbar\":{\"outlinewidth\":0,\"ticks\":\"\"}}}],\"bar\":[{\"error_x\":{\"color\":\"#2a3f5f\"},\"error_y\":{\"color\":\"#2a3f5f\"},\"marker\":{\"line\":{\"color\":\"#E5ECF6\",\"width\":0.5},\"pattern\":{\"fillmode\":\"overlay\",\"size\":10,\"solidity\":0.2}},\"type\":\"bar\"}],\"scattergeo\":[{\"type\":\"scattergeo\",\"marker\":{\"colorbar\":{\"outlinewidth\":0,\"ticks\":\"\"}}}],\"scatterpolar\":[{\"type\":\"scatterpolar\",\"marker\":{\"colorbar\":{\"outlinewidth\":0,\"ticks\":\"\"}}}],\"histogram\":[{\"marker\":{\"pattern\":{\"fillmode\":\"overlay\",\"size\":10,\"solidity\":0.2}},\"type\":\"histogram\"}],\"scattergl\":[{\"type\":\"scattergl\",\"marker\":{\"colorbar\":{\"outlinewidth\":0,\"ticks\":\"\"}}}],\"scatter3d\":[{\"type\":\"scatter3d\",\"line\":{\"colorbar\":{\"outlinewidth\":0,\"ticks\":\"\"}},\"marker\":{\"colorbar\":{\"outlinewidth\":0,\"ticks\":\"\"}}}],\"scattermapbox\":[{\"type\":\"scattermapbox\",\"marker\":{\"colorbar\":{\"outlinewidth\":0,\"ticks\":\"\"}}}],\"scatterternary\":[{\"type\":\"scatterternary\",\"marker\":{\"colorbar\":{\"outlinewidth\":0,\"ticks\":\"\"}}}],\"scattercarpet\":[{\"type\":\"scattercarpet\",\"marker\":{\"colorbar\":{\"outlinewidth\":0,\"ticks\":\"\"}}}],\"carpet\":[{\"aaxis\":{\"endlinecolor\":\"#2a3f5f\",\"gridcolor\":\"white\",\"linecolor\":\"white\",\"minorgridcolor\":\"white\",\"startlinecolor\":\"#2a3f5f\"},\"baxis\":{\"endlinecolor\":\"#2a3f5f\",\"gridcolor\":\"white\",\"linecolor\":\"white\",\"minorgridcolor\":\"white\",\"startlinecolor\":\"#2a3f5f\"},\"type\":\"carpet\"}],\"table\":[{\"cells\":{\"fill\":{\"color\":\"#EBF0F8\"},\"line\":{\"color\":\"white\"}},\"header\":{\"fill\":{\"color\":\"#C8D4E3\"},\"line\":{\"color\":\"white\"}},\"type\":\"table\"}],\"barpolar\":[{\"marker\":{\"line\":{\"color\":\"#E5ECF6\",\"width\":0.5},\"pattern\":{\"fillmode\":\"overlay\",\"size\":10,\"solidity\":0.2}},\"type\":\"barpolar\"}],\"pie\":[{\"automargin\":true,\"type\":\"pie\"}]},\"layout\":{\"autotypenumbers\":\"strict\",\"colorway\":[\"#636efa\",\"#EF553B\",\"#00cc96\",\"#ab63fa\",\"#FFA15A\",\"#19d3f3\",\"#FF6692\",\"#B6E880\",\"#FF97FF\",\"#FECB52\"],\"font\":{\"color\":\"#2a3f5f\"},\"hovermode\":\"closest\",\"hoverlabel\":{\"align\":\"left\"},\"paper_bgcolor\":\"white\",\"plot_bgcolor\":\"#E5ECF6\",\"polar\":{\"bgcolor\":\"#E5ECF6\",\"angularaxis\":{\"gridcolor\":\"white\",\"linecolor\":\"white\",\"ticks\":\"\"},\"radialaxis\":{\"gridcolor\":\"white\",\"linecolor\":\"white\",\"ticks\":\"\"}},\"ternary\":{\"bgcolor\":\"#E5ECF6\",\"aaxis\":{\"gridcolor\":\"white\",\"linecolor\":\"white\",\"ticks\":\"\"},\"baxis\":{\"gridcolor\":\"white\",\"linecolor\":\"white\",\"ticks\":\"\"},\"caxis\":{\"gridcolor\":\"white\",\"linecolor\":\"white\",\"ticks\":\"\"}},\"coloraxis\":{\"colorbar\":{\"outlinewidth\":0,\"ticks\":\"\"}},\"colorscale\":{\"sequential\":[[0.0,\"#0d0887\"],[0.1111111111111111,\"#46039f\"],[0.2222222222222222,\"#7201a8\"],[0.3333333333333333,\"#9c179e\"],[0.4444444444444444,\"#bd3786\"],[0.5555555555555556,\"#d8576b\"],[0.6666666666666666,\"#ed7953\"],[0.7777777777777778,\"#fb9f3a\"],[0.8888888888888888,\"#fdca26\"],[1.0,\"#f0f921\"]],\"sequentialminus\":[[0.0,\"#0d0887\"],[0.1111111111111111,\"#46039f\"],[0.2222222222222222,\"#7201a8\"],[0.3333333333333333,\"#9c179e\"],[0.4444444444444444,\"#bd3786\"],[0.5555555555555556,\"#d8576b\"],[0.6666666666666666,\"#ed7953\"],[0.7777777777777778,\"#fb9f3a\"],[0.8888888888888888,\"#fdca26\"],[1.0,\"#f0f921\"]],\"diverging\":[[0,\"#8e0152\"],[0.1,\"#c51b7d\"],[0.2,\"#de77ae\"],[0.3,\"#f1b6da\"],[0.4,\"#fde0ef\"],[0.5,\"#f7f7f7\"],[0.6,\"#e6f5d0\"],[0.7,\"#b8e186\"],[0.8,\"#7fbc41\"],[0.9,\"#4d9221\"],[1,\"#276419\"]]},\"xaxis\":{\"gridcolor\":\"white\",\"linecolor\":\"white\",\"ticks\":\"\",\"title\":{\"standoff\":15},\"zerolinecolor\":\"white\",\"automargin\":true,\"zerolinewidth\":2},\"yaxis\":{\"gridcolor\":\"white\",\"linecolor\":\"white\",\"ticks\":\"\",\"title\":{\"standoff\":15},\"zerolinecolor\":\"white\",\"automargin\":true,\"zerolinewidth\":2},\"scene\":{\"xaxis\":{\"backgroundcolor\":\"#E5ECF6\",\"gridcolor\":\"white\",\"linecolor\":\"white\",\"showbackground\":true,\"ticks\":\"\",\"zerolinecolor\":\"white\",\"gridwidth\":2},\"yaxis\":{\"backgroundcolor\":\"#E5ECF6\",\"gridcolor\":\"white\",\"linecolor\":\"white\",\"showbackground\":true,\"ticks\":\"\",\"zerolinecolor\":\"white\",\"gridwidth\":2},\"zaxis\":{\"backgroundcolor\":\"#E5ECF6\",\"gridcolor\":\"white\",\"linecolor\":\"white\",\"showbackground\":true,\"ticks\":\"\",\"zerolinecolor\":\"white\",\"gridwidth\":2}},\"shapedefaults\":{\"line\":{\"color\":\"#2a3f5f\"}},\"annotationdefaults\":{\"arrowcolor\":\"#2a3f5f\",\"arrowhead\":0,\"arrowwidth\":1},\"geo\":{\"bgcolor\":\"white\",\"landcolor\":\"#E5ECF6\",\"subunitcolor\":\"white\",\"showland\":true,\"showlakes\":true,\"lakecolor\":\"white\"},\"title\":{\"x\":0.05},\"mapbox\":{\"style\":\"light\"}}},\"xaxis\":{\"anchor\":\"y\",\"domain\":[0.0,1.0],\"scaleanchor\":\"y\",\"constrain\":\"domain\"},\"yaxis\":{\"anchor\":\"x\",\"domain\":[0.0,1.0],\"autorange\":\"reversed\",\"constrain\":\"domain\"},\"coloraxis\":{\"colorscale\":[[0.0,\"#0d0887\"],[0.1111111111111111,\"#46039f\"],[0.2222222222222222,\"#7201a8\"],[0.3333333333333333,\"#9c179e\"],[0.4444444444444444,\"#bd3786\"],[0.5555555555555556,\"#d8576b\"],[0.6666666666666666,\"#ed7953\"],[0.7777777777777778,\"#fb9f3a\"],[0.8888888888888888,\"#fdca26\"],[1.0,\"#f0f921\"]]},\"margin\":{\"t\":60}},                        {\"responsive\": true}                    ).then(function(){\n",
       "                            \n",
       "var gd = document.getElementById('551e6fb2-a1b1-4ba2-991e-9bbc9e3a1b89');\n",
       "var x = new MutationObserver(function (mutations, observer) {{\n",
       "        var display = window.getComputedStyle(gd).display;\n",
       "        if (!display || display === 'none') {{\n",
       "            console.log([gd, 'removed!']);\n",
       "            Plotly.purge(gd);\n",
       "            observer.disconnect();\n",
       "        }}\n",
       "}});\n",
       "\n",
       "// Listen for the removal of the full notebook cells\n",
       "var notebookContainer = gd.closest('#notebook-container');\n",
       "if (notebookContainer) {{\n",
       "    x.observe(notebookContainer, {childList: true});\n",
       "}}\n",
       "\n",
       "// Listen for the clearing of the current output cell\n",
       "var outputEl = gd.closest('.output');\n",
       "if (outputEl) {{\n",
       "    x.observe(outputEl, {childList: true});\n",
       "}}\n",
       "\n",
       "                        })                };                });            </script>        </div>"
      ]
     },
     "metadata": {},
     "output_type": "display_data"
    }
   ],
   "source": [
    "fig = px.imshow(data_per_min.corr(numeric_only=True))\n",
    "fig.show()"
   ]
  },
  {
   "cell_type": "markdown",
   "id": "4bbfae1b-2803-47c1-bc02-dcfcc1a27a14",
   "metadata": {},
   "source": [
    "How Are Minutes Played Distributed"
   ]
  },
  {
   "cell_type": "code",
   "execution_count": 94,
   "id": "01c85c6c-b209-4dd8-a807-f7f28fc19d19",
   "metadata": {},
   "outputs": [
    {
     "data": {
      "application/vnd.plotly.v1+json": {
       "config": {
        "plotlyServerURL": "https://plot.ly"
       },
       "data": [
        {
         "alignmentgroup": "True",
         "bingroup": "x",
         "histnorm": "percent",
         "hovertemplate": "x=%{x}<br>percent=%{y}<extra></extra>",
         "legendgroup": "",
         "marker": {
          "color": "#636efa",
          "pattern": {
           "shape": ""
          }
         },
         "name": "",
         "offsetgroup": "",
         "orientation": "v",
         "showlegend": false,
         "type": "histogram",
         "x": [
          2483,
          2474,
          2512,
          1917,
          2120,
          2047,
          2053,
          2316,
          2364,
          2131,
          2557,
          2049,
          2265,
          1848,
          2085,
          2316,
          2103,
          2335,
          2469,
          2216,
          2110,
          2143,
          2428,
          2202,
          1994,
          1853,
          2083,
          2080,
          2208,
          1999,
          2076,
          1998,
          2074,
          1864,
          2112,
          1859,
          1749,
          1506,
          2117,
          1814,
          1834,
          1934,
          1959,
          2159,
          2417,
          2211,
          1742,
          2165,
          2098,
          2091,
          1904,
          1705,
          1634,
          2482,
          1933,
          1845,
          2008,
          1452,
          1936,
          1419,
          2333,
          1962,
          1889,
          1878,
          1754,
          2123,
          1754,
          1622,
          1780,
          2166,
          1663,
          1928,
          2017,
          1187,
          1766,
          1581,
          1646,
          1740,
          1298,
          1902,
          2017,
          1666,
          1363,
          1916,
          1996,
          2137,
          1674,
          1892,
          2016,
          1485,
          1996,
          1330,
          1654,
          1583,
          2011,
          1479,
          1817,
          1325,
          1704,
          2026,
          1576,
          1526,
          2018,
          1919,
          1852,
          1857,
          1485,
          1677,
          1693,
          1826,
          2025,
          1508,
          1787,
          1492,
          2066,
          1824,
          1786,
          1461,
          1687,
          1910,
          1782,
          1619,
          1372,
          1759,
          1579,
          2137,
          1632,
          1559,
          1300,
          1236,
          1875,
          1760,
          1681,
          1722,
          2120,
          1702,
          1363,
          1890,
          1394,
          2042,
          1913,
          1637,
          1591,
          1755,
          1444,
          1762,
          1878,
          1341,
          1730,
          1464,
          1617,
          1423,
          1209,
          1551,
          1520,
          1147,
          1826,
          1566,
          1420,
          1688,
          1594,
          1326,
          1240,
          1412,
          1780,
          1506,
          1449,
          1345,
          1291,
          1472,
          1169,
          1188,
          1271,
          1300,
          658,
          1196,
          1687,
          1279,
          1209,
          1332,
          668,
          1242,
          1547,
          918,
          1016,
          1634,
          1306,
          903,
          1255,
          1570,
          1265,
          1274,
          1375,
          2467,
          1162,
          1635,
          1452,
          925,
          1369,
          1232,
          1256,
          934,
          1641,
          1080,
          983,
          1020,
          1022,
          1234,
          1097,
          1326,
          1242,
          1759,
          1167,
          1266,
          960,
          2049,
          1246,
          1127,
          1130,
          922,
          971,
          1057,
          1307,
          785,
          1186,
          1492,
          1166,
          1122,
          986,
          819,
          1207,
          1342,
          980,
          1271,
          850,
          1042,
          1029,
          835,
          923,
          1330,
          1097,
          988,
          960,
          1025,
          777,
          805,
          1061,
          1269,
          1171,
          797,
          886,
          743,
          853,
          883,
          1045,
          1243,
          1187,
          1427,
          958,
          1175,
          867,
          1222,
          1129,
          1129,
          984,
          1015,
          878,
          1161,
          718,
          1250,
          833,
          1088,
          836,
          979,
          896,
          667,
          1072,
          1034,
          887,
          1287,
          953,
          876,
          776,
          422,
          834,
          744,
          945,
          663,
          808,
          776,
          512,
          668,
          528,
          709,
          620,
          495,
          591,
          767,
          930,
          774,
          871,
          915,
          488,
          820,
          467,
          754,
          929,
          520,
          713,
          903,
          1043,
          1011,
          684,
          619,
          590,
          572,
          687,
          508,
          450,
          600,
          609,
          1257,
          479,
          719,
          527,
          530,
          559,
          684,
          922,
          505,
          484,
          430,
          734,
          440,
          872,
          532,
          381,
          495,
          487,
          567,
          375,
          537,
          871,
          334,
          462,
          558,
          593,
          821,
          484,
          653,
          471,
          572,
          908,
          412,
          331,
          468,
          291,
          486,
          437,
          566,
          471,
          291,
          301,
          447,
          388,
          401,
          253,
          832,
          346,
          363,
          378,
          418,
          352,
          351,
          365,
          432,
          317,
          207,
          345,
          286,
          272,
          266,
          268,
          357,
          139,
          313,
          328,
          368,
          362,
          227,
          355,
          418,
          221,
          256,
          436,
          244,
          293,
          232,
          183,
          290,
          386,
          222,
          505,
          370,
          380,
          204,
          290,
          180,
          272,
          364,
          262,
          187,
          288,
          161,
          99,
          235,
          251,
          118,
          161,
          281,
          150,
          139,
          159,
          105,
          151,
          232,
          129,
          241,
          181,
          248,
          303,
          141,
          117,
          180,
          64,
          130,
          87,
          126,
          119,
          160,
          133,
          103,
          135,
          134,
          105,
          162,
          109,
          118,
          81,
          219,
          112,
          87,
          83,
          41,
          107,
          80,
          145,
          44,
          96,
          98,
          33,
          54,
          83,
          87,
          40,
          71,
          81,
          62,
          53,
          45,
          53,
          79,
          52,
          61,
          45,
          48,
          35,
          74,
          62,
          54,
          28,
          50,
          47,
          50,
          49,
          13,
          47,
          53,
          38,
          78,
          44,
          51,
          46,
          28,
          33,
          32,
          47,
          41,
          24,
          11,
          28,
          32,
          26,
          20,
          31,
          9,
          19,
          40,
          33,
          6,
          25,
          6,
          14,
          10,
          15,
          14,
          15,
          8,
          33,
          23,
          13,
          4,
          19,
          4,
          11,
          1,
          3,
          15,
          13,
          2152,
          2398,
          2488,
          2147,
          2262,
          2013,
          2270,
          2667,
          2290,
          2026,
          2348,
          2125,
          2034,
          2036,
          2115,
          1585,
          1886,
          2092,
          2369,
          1999,
          2383,
          1771,
          2314,
          2269,
          2364,
          2056,
          1772,
          2206,
          2511,
          2231,
          1821,
          1818,
          1689,
          2216,
          2014,
          1829,
          2053,
          2143,
          2006,
          1930,
          2433,
          1985,
          1912,
          1997,
          2200,
          1504,
          1745,
          1848,
          1600,
          1609,
          1755,
          2139,
          1907,
          2156,
          1899,
          1704,
          2187,
          2115,
          2142,
          2348,
          1898,
          1485,
          1997,
          1157,
          2262,
          1790,
          1956,
          2102,
          1580,
          1690,
          1619,
          1802,
          1968,
          1954,
          2112,
          1781,
          1327,
          1496,
          1326,
          1902,
          1697,
          1909,
          1887,
          1688,
          1932,
          1180,
          1877,
          1369,
          1560,
          1498,
          1954,
          1288,
          1652,
          2126,
          1453,
          1461,
          1659,
          1650,
          1635,
          1867,
          1757,
          1864,
          1469,
          1747,
          1196,
          2043,
          1602,
          1797,
          1853,
          1162,
          1347,
          1502,
          2183,
          1372,
          1714,
          1746,
          1835,
          1423,
          1685,
          1279,
          1244,
          1543,
          1214,
          1305,
          1259,
          1347,
          1358,
          1790,
          1544,
          1638,
          1736,
          1949,
          1354,
          1317,
          1815,
          1242,
          1433,
          1222,
          1337,
          1522,
          1778,
          1464,
          1983,
          1934,
          1902,
          1080,
          1609,
          2173,
          1748,
          1354,
          1484,
          1601,
          1581,
          1519,
          1255,
          1384,
          1511,
          988,
          1415,
          1112,
          1375,
          1273,
          1226,
          1648,
          1796,
          1845,
          2243,
          1455,
          1921,
          1304,
          1772,
          1499,
          1451,
          1437,
          1403,
          1324,
          1403,
          1064,
          1835,
          1455,
          1425,
          1074,
          1260,
          1426,
          1232,
          1446,
          1268,
          1007,
          1187,
          1079,
          1104,
          1162,
          1062,
          1154,
          2240,
          878,
          936,
          1196,
          1529,
          789,
          1334,
          1196,
          1176,
          1045,
          1263,
          1120,
          1575,
          955,
          1005,
          964,
          836,
          1307,
          1982,
          1223,
          1012,
          1129,
          1605,
          871,
          1350,
          836,
          1511,
          1246,
          880,
          979,
          1528,
          1068,
          985,
          1229,
          911,
          1287,
          1200,
          905,
          1036,
          861,
          782,
          1318,
          1425,
          738,
          1085,
          905,
          1080,
          1088,
          695,
          791,
          759,
          1212,
          900,
          1079,
          950,
          1216,
          920,
          1050,
          1039,
          1043,
          1090,
          725,
          713,
          846,
          765,
          1038,
          888,
          928,
          1341,
          788,
          674,
          1133,
          904,
          986,
          678,
          1139,
          904,
          1257,
          966,
          1056,
          645,
          678,
          766,
          1053,
          1349,
          723,
          1091,
          980,
          1547,
          1514,
          1197,
          932,
          755,
          715,
          722,
          907,
          622,
          737,
          1108,
          684,
          924,
          1138,
          972,
          546,
          750,
          845,
          869,
          841,
          906,
          1130,
          833,
          679,
          1339,
          800,
          803,
          607,
          781,
          1006,
          837,
          818,
          993,
          672,
          950,
          553,
          938,
          853,
          1298,
          683,
          1161,
          992,
          717,
          700,
          943,
          577,
          655,
          595,
          769,
          936,
          559,
          507,
          561,
          627,
          519,
          620,
          601,
          488,
          520,
          640,
          669,
          723,
          852,
          594,
          684,
          849,
          582,
          772,
          1356,
          438,
          575,
          433,
          546,
          499,
          507,
          670,
          602,
          274,
          334,
          551,
          499,
          464,
          513,
          523,
          355,
          258,
          323,
          271,
          437,
          420,
          383,
          474,
          347,
          271,
          395,
          310,
          327,
          450,
          397,
          316,
          566,
          415,
          389,
          493,
          399,
          279,
          269,
          276,
          364,
          258,
          308,
          369,
          654,
          320,
          358,
          210,
          392,
          297,
          348,
          346,
          347,
          205,
          519,
          215,
          434,
          445,
          236,
          238,
          539,
          172,
          280,
          189,
          269,
          447,
          249,
          194,
          322,
          233,
          232,
          177,
          302,
          235,
          336,
          281,
          212,
          305,
          153,
          218,
          245,
          432,
          211,
          157,
          197,
          179,
          332,
          165,
          241,
          247,
          160,
          192,
          148,
          138,
          117,
          182,
          196,
          283,
          137,
          161,
          156,
          226,
          123,
          299,
          136,
          121,
          115,
          85,
          141,
          87,
          101,
          98,
          133,
          93,
          217,
          152,
          94,
          98,
          158,
          93,
          224,
          84,
          147,
          74,
          68,
          92,
          64,
          125,
          76,
          84,
          107,
          79,
          40,
          84,
          116,
          50,
          48,
          75,
          54,
          88,
          83,
          45,
          64,
          27,
          71,
          99,
          36,
          32,
          57,
          56,
          40,
          38,
          48,
          82,
          63,
          61,
          29,
          36,
          27,
          75,
          56,
          35,
          88,
          56,
          29,
          26,
          47,
          56,
          62,
          39,
          29,
          63,
          81,
          12,
          45,
          33,
          19,
          3,
          15,
          16,
          11,
          11,
          18,
          49,
          34,
          6,
          4,
          12,
          11,
          3,
          2652,
          2743,
          2296,
          2731,
          2476,
          2204,
          2301,
          2345,
          2475,
          2266,
          2084,
          2047,
          2328,
          2211,
          2837,
          1889,
          2220,
          2578,
          2466,
          2422,
          2430,
          2544,
          2678,
          2366,
          2420,
          2458,
          2283,
          2417,
          2266,
          1942,
          2145,
          2083,
          2151,
          2141,
          2704,
          2462,
          2240,
          2650,
          2418,
          2524,
          2448,
          2392,
          2126,
          2141,
          2499,
          2587,
          2337,
          2543,
          2330,
          2131,
          1869,
          2207,
          1931,
          2094,
          2429,
          2694,
          2077,
          2136,
          2854,
          2138,
          1999,
          2617,
          2204,
          2375,
          2358,
          2088,
          1825,
          2059,
          2028,
          2138,
          2276,
          2331,
          1481,
          2120,
          2329,
          1665,
          1713,
          2199,
          1681,
          1780,
          2058,
          2134,
          2139,
          1976,
          1849,
          1907,
          2239,
          2318,
          1640,
          1852,
          1439,
          1404,
          2346,
          1793,
          2056,
          1981,
          1970,
          1810,
          1500,
          2162,
          1878,
          2188,
          1802,
          2644,
          1665,
          1663,
          1937,
          2317,
          1838,
          2043,
          2076,
          2296,
          1458,
          1612,
          2133,
          1578,
          1919,
          1564,
          1730,
          1728,
          2042,
          1791,
          1092,
          1657,
          1536,
          1852,
          1564,
          1675,
          1849,
          1672,
          1670,
          1824,
          1690,
          1077,
          2057,
          1924,
          2335,
          1805,
          1587,
          1541,
          1798,
          1462,
          1577,
          2005,
          1736,
          1310,
          1656,
          1056,
          1489,
          1466,
          1206,
          1984,
          1172,
          2110,
          1730,
          1444,
          1700,
          1768,
          1246,
          1600,
          1725,
          1286,
          1285,
          1398,
          1185,
          941,
          1712,
          1230,
          1774,
          1803,
          1691,
          1215,
          1269,
          1801,
          1886,
          1549,
          1448,
          1278,
          1367,
          1567,
          1564,
          1848,
          1050,
          1804,
          1749,
          1940,
          1875,
          1245,
          1511,
          1589,
          885,
          1816,
          1981,
          1334,
          1902,
          1437,
          1223,
          1437,
          1176,
          2406,
          1307,
          960,
          1216,
          1164,
          1372,
          1245,
          1866,
          1146,
          1235,
          1981,
          1279,
          1361,
          1162,
          1476,
          1999,
          975,
          1372,
          1600,
          1484,
          1596,
          1396,
          1881,
          1414,
          1248,
          1177,
          1346,
          1012,
          1732,
          1463,
          1402,
          1185,
          1793,
          944,
          968,
          924,
          1519,
          1074,
          1257,
          1233,
          1212,
          1017,
          948,
          1647,
          839,
          1179,
          1038,
          970,
          1418,
          1001,
          1142,
          1085,
          948,
          717,
          1065,
          1209,
          1148,
          1450,
          1126,
          936,
          1088,
          974,
          1480,
          1021,
          1406,
          992,
          977,
          814,
          1015,
          1005,
          1685,
          971,
          1353,
          1087,
          764,
          878,
          869,
          1072,
          908,
          958,
          799,
          729,
          1292,
          1329,
          593,
          896,
          760,
          1453,
          895,
          1191,
          801,
          1174,
          957,
          737,
          1253,
          864,
          1184,
          834,
          830,
          1122,
          845,
          1040,
          1094,
          1039,
          714,
          736,
          806,
          636,
          536,
          640,
          1098,
          1147,
          706,
          994,
          541,
          883,
          844,
          965,
          810,
          899,
          1026,
          987,
          1055,
          905,
          786,
          775,
          754,
          698,
          980,
          696,
          589,
          716,
          612,
          701,
          1002,
          727,
          991,
          685,
          620,
          609,
          902,
          652,
          946,
          607,
          685,
          640,
          771,
          502,
          864,
          441,
          506,
          536,
          668,
          604,
          622,
          639,
          652,
          696,
          439,
          465,
          391,
          609,
          906,
          574,
          360,
          766,
          537,
          823,
          690,
          389,
          698,
          333,
          463,
          566,
          316,
          502,
          450,
          344,
          473,
          709,
          549,
          445,
          298,
          360,
          460,
          628,
          423,
          498,
          371,
          346,
          407,
          421,
          422,
          549,
          367,
          469,
          304,
          341,
          359,
          355,
          267,
          516,
          545,
          360,
          445,
          338,
          298,
          411,
          434,
          177,
          603,
          383,
          461,
          303,
          376,
          459,
          359,
          336,
          341,
          240,
          316,
          378,
          173,
          128,
          406,
          340,
          462,
          181,
          349,
          222,
          187,
          555,
          265,
          372,
          153,
          213,
          562,
          320,
          231,
          281,
          199,
          220,
          195,
          197,
          304,
          261,
          244,
          195,
          186,
          212,
          168,
          222,
          240,
          372,
          262,
          200,
          158,
          176,
          205,
          134,
          206,
          137,
          188,
          112,
          155,
          120,
          200,
          145,
          171,
          176,
          241,
          121,
          148,
          239,
          121,
          104,
          120,
          174,
          163,
          74,
          167,
          166,
          208,
          43,
          129,
          145,
          183,
          81,
          65,
          120,
          83,
          104,
          156,
          178,
          54,
          103,
          73,
          85,
          56,
          201,
          51,
          65,
          91,
          58,
          43,
          79,
          63,
          82,
          60,
          119,
          63,
          71,
          74,
          44,
          108,
          108,
          56,
          39,
          35,
          91,
          75,
          76,
          36,
          63,
          74,
          46,
          39,
          107,
          38,
          16,
          44,
          128,
          52,
          71,
          69,
          31,
          59,
          31,
          50,
          27,
          21,
          24,
          8,
          139,
          18,
          42,
          39,
          19,
          16,
          19,
          7,
          11,
          30,
          31,
          19,
          44,
          15,
          19,
          39,
          23,
          22,
          21,
          37,
          15,
          18,
          23,
          27,
          11,
          5,
          11,
          17,
          1,
          9,
          6,
          12,
          16,
          2,
          20,
          10,
          3,
          19,
          7,
          1,
          8,
          5,
          2,
          13,
          2,
          1,
          18,
          8,
          11,
          3,
          3,
          20,
          7,
          8,
          2,
          6,
          8,
          2,
          2,
          1,
          17,
          2,
          5
         ],
         "xaxis": "x",
         "yaxis": "y"
        }
       ],
       "layout": {
        "autosize": true,
        "barmode": "relative",
        "legend": {
         "tracegroupgap": 0
        },
        "margin": {
         "t": 60
        },
        "template": {
         "data": {
          "bar": [
           {
            "error_x": {
             "color": "#2a3f5f"
            },
            "error_y": {
             "color": "#2a3f5f"
            },
            "marker": {
             "line": {
              "color": "#E5ECF6",
              "width": 0.5
             },
             "pattern": {
              "fillmode": "overlay",
              "size": 10,
              "solidity": 0.2
             }
            },
            "type": "bar"
           }
          ],
          "barpolar": [
           {
            "marker": {
             "line": {
              "color": "#E5ECF6",
              "width": 0.5
             },
             "pattern": {
              "fillmode": "overlay",
              "size": 10,
              "solidity": 0.2
             }
            },
            "type": "barpolar"
           }
          ],
          "carpet": [
           {
            "aaxis": {
             "endlinecolor": "#2a3f5f",
             "gridcolor": "white",
             "linecolor": "white",
             "minorgridcolor": "white",
             "startlinecolor": "#2a3f5f"
            },
            "baxis": {
             "endlinecolor": "#2a3f5f",
             "gridcolor": "white",
             "linecolor": "white",
             "minorgridcolor": "white",
             "startlinecolor": "#2a3f5f"
            },
            "type": "carpet"
           }
          ],
          "choropleth": [
           {
            "colorbar": {
             "outlinewidth": 0,
             "ticks": ""
            },
            "type": "choropleth"
           }
          ],
          "contour": [
           {
            "colorbar": {
             "outlinewidth": 0,
             "ticks": ""
            },
            "colorscale": [
             [
              0,
              "#0d0887"
             ],
             [
              0.1111111111111111,
              "#46039f"
             ],
             [
              0.2222222222222222,
              "#7201a8"
             ],
             [
              0.3333333333333333,
              "#9c179e"
             ],
             [
              0.4444444444444444,
              "#bd3786"
             ],
             [
              0.5555555555555556,
              "#d8576b"
             ],
             [
              0.6666666666666666,
              "#ed7953"
             ],
             [
              0.7777777777777778,
              "#fb9f3a"
             ],
             [
              0.8888888888888888,
              "#fdca26"
             ],
             [
              1,
              "#f0f921"
             ]
            ],
            "type": "contour"
           }
          ],
          "contourcarpet": [
           {
            "colorbar": {
             "outlinewidth": 0,
             "ticks": ""
            },
            "type": "contourcarpet"
           }
          ],
          "heatmap": [
           {
            "colorbar": {
             "outlinewidth": 0,
             "ticks": ""
            },
            "colorscale": [
             [
              0,
              "#0d0887"
             ],
             [
              0.1111111111111111,
              "#46039f"
             ],
             [
              0.2222222222222222,
              "#7201a8"
             ],
             [
              0.3333333333333333,
              "#9c179e"
             ],
             [
              0.4444444444444444,
              "#bd3786"
             ],
             [
              0.5555555555555556,
              "#d8576b"
             ],
             [
              0.6666666666666666,
              "#ed7953"
             ],
             [
              0.7777777777777778,
              "#fb9f3a"
             ],
             [
              0.8888888888888888,
              "#fdca26"
             ],
             [
              1,
              "#f0f921"
             ]
            ],
            "type": "heatmap"
           }
          ],
          "heatmapgl": [
           {
            "colorbar": {
             "outlinewidth": 0,
             "ticks": ""
            },
            "colorscale": [
             [
              0,
              "#0d0887"
             ],
             [
              0.1111111111111111,
              "#46039f"
             ],
             [
              0.2222222222222222,
              "#7201a8"
             ],
             [
              0.3333333333333333,
              "#9c179e"
             ],
             [
              0.4444444444444444,
              "#bd3786"
             ],
             [
              0.5555555555555556,
              "#d8576b"
             ],
             [
              0.6666666666666666,
              "#ed7953"
             ],
             [
              0.7777777777777778,
              "#fb9f3a"
             ],
             [
              0.8888888888888888,
              "#fdca26"
             ],
             [
              1,
              "#f0f921"
             ]
            ],
            "type": "heatmapgl"
           }
          ],
          "histogram": [
           {
            "marker": {
             "pattern": {
              "fillmode": "overlay",
              "size": 10,
              "solidity": 0.2
             }
            },
            "type": "histogram"
           }
          ],
          "histogram2d": [
           {
            "colorbar": {
             "outlinewidth": 0,
             "ticks": ""
            },
            "colorscale": [
             [
              0,
              "#0d0887"
             ],
             [
              0.1111111111111111,
              "#46039f"
             ],
             [
              0.2222222222222222,
              "#7201a8"
             ],
             [
              0.3333333333333333,
              "#9c179e"
             ],
             [
              0.4444444444444444,
              "#bd3786"
             ],
             [
              0.5555555555555556,
              "#d8576b"
             ],
             [
              0.6666666666666666,
              "#ed7953"
             ],
             [
              0.7777777777777778,
              "#fb9f3a"
             ],
             [
              0.8888888888888888,
              "#fdca26"
             ],
             [
              1,
              "#f0f921"
             ]
            ],
            "type": "histogram2d"
           }
          ],
          "histogram2dcontour": [
           {
            "colorbar": {
             "outlinewidth": 0,
             "ticks": ""
            },
            "colorscale": [
             [
              0,
              "#0d0887"
             ],
             [
              0.1111111111111111,
              "#46039f"
             ],
             [
              0.2222222222222222,
              "#7201a8"
             ],
             [
              0.3333333333333333,
              "#9c179e"
             ],
             [
              0.4444444444444444,
              "#bd3786"
             ],
             [
              0.5555555555555556,
              "#d8576b"
             ],
             [
              0.6666666666666666,
              "#ed7953"
             ],
             [
              0.7777777777777778,
              "#fb9f3a"
             ],
             [
              0.8888888888888888,
              "#fdca26"
             ],
             [
              1,
              "#f0f921"
             ]
            ],
            "type": "histogram2dcontour"
           }
          ],
          "mesh3d": [
           {
            "colorbar": {
             "outlinewidth": 0,
             "ticks": ""
            },
            "type": "mesh3d"
           }
          ],
          "parcoords": [
           {
            "line": {
             "colorbar": {
              "outlinewidth": 0,
              "ticks": ""
             }
            },
            "type": "parcoords"
           }
          ],
          "pie": [
           {
            "automargin": true,
            "type": "pie"
           }
          ],
          "scatter": [
           {
            "fillpattern": {
             "fillmode": "overlay",
             "size": 10,
             "solidity": 0.2
            },
            "type": "scatter"
           }
          ],
          "scatter3d": [
           {
            "line": {
             "colorbar": {
              "outlinewidth": 0,
              "ticks": ""
             }
            },
            "marker": {
             "colorbar": {
              "outlinewidth": 0,
              "ticks": ""
             }
            },
            "type": "scatter3d"
           }
          ],
          "scattercarpet": [
           {
            "marker": {
             "colorbar": {
              "outlinewidth": 0,
              "ticks": ""
             }
            },
            "type": "scattercarpet"
           }
          ],
          "scattergeo": [
           {
            "marker": {
             "colorbar": {
              "outlinewidth": 0,
              "ticks": ""
             }
            },
            "type": "scattergeo"
           }
          ],
          "scattergl": [
           {
            "marker": {
             "colorbar": {
              "outlinewidth": 0,
              "ticks": ""
             }
            },
            "type": "scattergl"
           }
          ],
          "scattermapbox": [
           {
            "marker": {
             "colorbar": {
              "outlinewidth": 0,
              "ticks": ""
             }
            },
            "type": "scattermapbox"
           }
          ],
          "scatterpolar": [
           {
            "marker": {
             "colorbar": {
              "outlinewidth": 0,
              "ticks": ""
             }
            },
            "type": "scatterpolar"
           }
          ],
          "scatterpolargl": [
           {
            "marker": {
             "colorbar": {
              "outlinewidth": 0,
              "ticks": ""
             }
            },
            "type": "scatterpolargl"
           }
          ],
          "scatterternary": [
           {
            "marker": {
             "colorbar": {
              "outlinewidth": 0,
              "ticks": ""
             }
            },
            "type": "scatterternary"
           }
          ],
          "surface": [
           {
            "colorbar": {
             "outlinewidth": 0,
             "ticks": ""
            },
            "colorscale": [
             [
              0,
              "#0d0887"
             ],
             [
              0.1111111111111111,
              "#46039f"
             ],
             [
              0.2222222222222222,
              "#7201a8"
             ],
             [
              0.3333333333333333,
              "#9c179e"
             ],
             [
              0.4444444444444444,
              "#bd3786"
             ],
             [
              0.5555555555555556,
              "#d8576b"
             ],
             [
              0.6666666666666666,
              "#ed7953"
             ],
             [
              0.7777777777777778,
              "#fb9f3a"
             ],
             [
              0.8888888888888888,
              "#fdca26"
             ],
             [
              1,
              "#f0f921"
             ]
            ],
            "type": "surface"
           }
          ],
          "table": [
           {
            "cells": {
             "fill": {
              "color": "#EBF0F8"
             },
             "line": {
              "color": "white"
             }
            },
            "header": {
             "fill": {
              "color": "#C8D4E3"
             },
             "line": {
              "color": "white"
             }
            },
            "type": "table"
           }
          ]
         },
         "layout": {
          "annotationdefaults": {
           "arrowcolor": "#2a3f5f",
           "arrowhead": 0,
           "arrowwidth": 1
          },
          "autotypenumbers": "strict",
          "coloraxis": {
           "colorbar": {
            "outlinewidth": 0,
            "ticks": ""
           }
          },
          "colorscale": {
           "diverging": [
            [
             0,
             "#8e0152"
            ],
            [
             0.1,
             "#c51b7d"
            ],
            [
             0.2,
             "#de77ae"
            ],
            [
             0.3,
             "#f1b6da"
            ],
            [
             0.4,
             "#fde0ef"
            ],
            [
             0.5,
             "#f7f7f7"
            ],
            [
             0.6,
             "#e6f5d0"
            ],
            [
             0.7,
             "#b8e186"
            ],
            [
             0.8,
             "#7fbc41"
            ],
            [
             0.9,
             "#4d9221"
            ],
            [
             1,
             "#276419"
            ]
           ],
           "sequential": [
            [
             0,
             "#0d0887"
            ],
            [
             0.1111111111111111,
             "#46039f"
            ],
            [
             0.2222222222222222,
             "#7201a8"
            ],
            [
             0.3333333333333333,
             "#9c179e"
            ],
            [
             0.4444444444444444,
             "#bd3786"
            ],
            [
             0.5555555555555556,
             "#d8576b"
            ],
            [
             0.6666666666666666,
             "#ed7953"
            ],
            [
             0.7777777777777778,
             "#fb9f3a"
            ],
            [
             0.8888888888888888,
             "#fdca26"
            ],
            [
             1,
             "#f0f921"
            ]
           ],
           "sequentialminus": [
            [
             0,
             "#0d0887"
            ],
            [
             0.1111111111111111,
             "#46039f"
            ],
            [
             0.2222222222222222,
             "#7201a8"
            ],
            [
             0.3333333333333333,
             "#9c179e"
            ],
            [
             0.4444444444444444,
             "#bd3786"
            ],
            [
             0.5555555555555556,
             "#d8576b"
            ],
            [
             0.6666666666666666,
             "#ed7953"
            ],
            [
             0.7777777777777778,
             "#fb9f3a"
            ],
            [
             0.8888888888888888,
             "#fdca26"
            ],
            [
             1,
             "#f0f921"
            ]
           ]
          },
          "colorway": [
           "#636efa",
           "#EF553B",
           "#00cc96",
           "#ab63fa",
           "#FFA15A",
           "#19d3f3",
           "#FF6692",
           "#B6E880",
           "#FF97FF",
           "#FECB52"
          ],
          "font": {
           "color": "#2a3f5f"
          },
          "geo": {
           "bgcolor": "white",
           "lakecolor": "white",
           "landcolor": "#E5ECF6",
           "showlakes": true,
           "showland": true,
           "subunitcolor": "white"
          },
          "hoverlabel": {
           "align": "left"
          },
          "hovermode": "closest",
          "mapbox": {
           "style": "light"
          },
          "paper_bgcolor": "white",
          "plot_bgcolor": "#E5ECF6",
          "polar": {
           "angularaxis": {
            "gridcolor": "white",
            "linecolor": "white",
            "ticks": ""
           },
           "bgcolor": "#E5ECF6",
           "radialaxis": {
            "gridcolor": "white",
            "linecolor": "white",
            "ticks": ""
           }
          },
          "scene": {
           "xaxis": {
            "backgroundcolor": "#E5ECF6",
            "gridcolor": "white",
            "gridwidth": 2,
            "linecolor": "white",
            "showbackground": true,
            "ticks": "",
            "zerolinecolor": "white"
           },
           "yaxis": {
            "backgroundcolor": "#E5ECF6",
            "gridcolor": "white",
            "gridwidth": 2,
            "linecolor": "white",
            "showbackground": true,
            "ticks": "",
            "zerolinecolor": "white"
           },
           "zaxis": {
            "backgroundcolor": "#E5ECF6",
            "gridcolor": "white",
            "gridwidth": 2,
            "linecolor": "white",
            "showbackground": true,
            "ticks": "",
            "zerolinecolor": "white"
           }
          },
          "shapedefaults": {
           "line": {
            "color": "#2a3f5f"
           }
          },
          "ternary": {
           "aaxis": {
            "gridcolor": "white",
            "linecolor": "white",
            "ticks": ""
           },
           "baxis": {
            "gridcolor": "white",
            "linecolor": "white",
            "ticks": ""
           },
           "bgcolor": "#E5ECF6",
           "caxis": {
            "gridcolor": "white",
            "linecolor": "white",
            "ticks": ""
           }
          },
          "title": {
           "x": 0.05
          },
          "xaxis": {
           "automargin": true,
           "gridcolor": "white",
           "linecolor": "white",
           "ticks": "",
           "title": {
            "standoff": 15
           },
           "zerolinecolor": "white",
           "zerolinewidth": 2
          },
          "yaxis": {
           "automargin": true,
           "gridcolor": "white",
           "linecolor": "white",
           "ticks": "",
           "title": {
            "standoff": 15
           },
           "zerolinecolor": "white",
           "zerolinewidth": 2
          }
         }
        },
        "xaxis": {
         "anchor": "y",
         "autorange": true,
         "domain": [
          0,
          1
         ],
         "range": [
          -0.5,
          2899.5
         ],
         "title": {
          "text": "x"
         },
         "type": "linear"
        },
        "yaxis": {
         "anchor": "x",
         "autorange": true,
         "domain": [
          0,
          1
         ],
         "range": [
          0,
          16.411997736276174
         ],
         "title": {
          "text": "percent"
         }
        }
       }
      },
      "image/png": "[encoded data removed]",
      "text/html": [
       "<div>                            <div id=\"19c45d00-3e9b-460c-82f3-67d8f4db3357\" class=\"plotly-graph-div\" style=\"height:525px; width:100%;\"></div>            <script type=\"text/javascript\">                require([\"plotly\"], function(Plotly) {                    window.PLOTLYENV=window.PLOTLYENV || {};                                    if (document.getElementById(\"19c45d00-3e9b-460c-82f3-67d8f4db3357\")) {                    Plotly.newPlot(                        \"19c45d00-3e9b-460c-82f3-67d8f4db3357\",                        [{\"alignmentgroup\":\"True\",\"bingroup\":\"x\",\"histnorm\":\"percent\",\"hovertemplate\":\"x=%{x}<br>percent=%{y}<extra></extra>\",\"legendgroup\":\"\",\"marker\":{\"color\":\"#636efa\",\"pattern\":{\"shape\":\"\"}},\"name\":\"\",\"offsetgroup\":\"\",\"orientation\":\"v\",\"showlegend\":false,\"x\":[2483,2474,2512,1917,2120,2047,2053,2316,2364,2131,2557,2049,2265,1848,2085,2316,2103,2335,2469,2216,2110,2143,2428,2202,1994,1853,2083,2080,2208,1999,2076,1998,2074,1864,2112,1859,1749,1506,2117,1814,1834,1934,1959,2159,2417,2211,1742,2165,2098,2091,1904,1705,1634,2482,1933,1845,2008,1452,1936,1419,2333,1962,1889,1878,1754,2123,1754,1622,1780,2166,1663,1928,2017,1187,1766,1581,1646,1740,1298,1902,2017,1666,1363,1916,1996,2137,1674,1892,2016,1485,1996,1330,1654,1583,2011,1479,1817,1325,1704,2026,1576,1526,2018,1919,1852,1857,1485,1677,1693,1826,2025,1508,1787,1492,2066,1824,1786,1461,1687,1910,1782,1619,1372,1759,1579,2137,1632,1559,1300,1236,1875,1760,1681,1722,2120,1702,1363,1890,1394,2042,1913,1637,1591,1755,1444,1762,1878,1341,1730,1464,1617,1423,1209,1551,1520,1147,1826,1566,1420,1688,1594,1326,1240,1412,1780,1506,1449,1345,1291,1472,1169,1188,1271,1300,658,1196,1687,1279,1209,1332,668,1242,1547,918,1016,1634,1306,903,1255,1570,1265,1274,1375,2467,1162,1635,1452,925,1369,1232,1256,934,1641,1080,983,1020,1022,1234,1097,1326,1242,1759,1167,1266,960,2049,1246,1127,1130,922,971,1057,1307,785,1186,1492,1166,1122,986,819,1207,1342,980,1271,850,1042,1029,835,923,1330,1097,988,960,1025,777,805,1061,1269,1171,797,886,743,853,883,1045,1243,1187,1427,958,1175,867,1222,1129,1129,984,1015,878,1161,718,1250,833,1088,836,979,896,667,1072,1034,887,1287,953,876,776,422,834,744,945,663,808,776,512,668,528,709,620,495,591,767,930,774,871,915,488,820,467,754,929,520,713,903,1043,1011,684,619,590,572,687,508,450,600,609,1257,479,719,527,530,559,684,922,505,484,430,734,440,872,532,381,495,487,567,375,537,871,334,462,558,593,821,484,653,471,572,908,412,331,468,291,486,437,566,471,291,301,447,388,401,253,832,346,363,378,418,352,351,365,432,317,207,345,286,272,266,268,357,139,313,328,368,362,227,355,418,221,256,436,244,293,232,183,290,386,222,505,370,380,204,290,180,272,364,262,187,288,161,99,235,251,118,161,281,150,139,159,105,151,232,129,241,181,248,303,141,117,180,64,130,87,126,119,160,133,103,135,134,105,162,109,118,81,219,112,87,83,41,107,80,145,44,96,98,33,54,83,87,40,71,81,62,53,45,53,79,52,61,45,48,35,74,62,54,28,50,47,50,49,13,47,53,38,78,44,51,46,28,33,32,47,41,24,11,28,32,26,20,31,9,19,40,33,6,25,6,14,10,15,14,15,8,33,23,13,4,19,4,11,1,3,15,13,2152,2398,2488,2147,2262,2013,2270,2667,2290,2026,2348,2125,2034,2036,2115,1585,1886,2092,2369,1999,2383,1771,2314,2269,2364,2056,1772,2206,2511,2231,1821,1818,1689,2216,2014,1829,2053,2143,2006,1930,2433,1985,1912,1997,2200,1504,1745,1848,1600,1609,1755,2139,1907,2156,1899,1704,2187,2115,2142,2348,1898,1485,1997,1157,2262,1790,1956,2102,1580,1690,1619,1802,1968,1954,2112,1781,1327,1496,1326,1902,1697,1909,1887,1688,1932,1180,1877,1369,1560,1498,1954,1288,1652,2126,1453,1461,1659,1650,1635,1867,1757,1864,1469,1747,1196,2043,1602,1797,1853,1162,1347,1502,2183,1372,1714,1746,1835,1423,1685,1279,1244,1543,1214,1305,1259,1347,1358,1790,1544,1638,1736,1949,1354,1317,1815,1242,1433,1222,1337,1522,1778,1464,1983,1934,1902,1080,1609,2173,1748,1354,1484,1601,1581,1519,1255,1384,1511,988,1415,1112,1375,1273,1226,1648,1796,1845,2243,1455,1921,1304,1772,1499,1451,1437,1403,1324,1403,1064,1835,1455,1425,1074,1260,1426,1232,1446,1268,1007,1187,1079,1104,1162,1062,1154,2240,878,936,1196,1529,789,1334,1196,1176,1045,1263,1120,1575,955,1005,964,836,1307,1982,1223,1012,1129,1605,871,1350,836,1511,1246,880,979,1528,1068,985,1229,911,1287,1200,905,1036,861,782,1318,1425,738,1085,905,1080,1088,695,791,759,1212,900,1079,950,1216,920,1050,1039,1043,1090,725,713,846,765,1038,888,928,1341,788,674,1133,904,986,678,1139,904,1257,966,1056,645,678,766,1053,1349,723,1091,980,1547,1514,1197,932,755,715,722,907,622,737,1108,684,924,1138,972,546,750,845,869,841,906,1130,833,679,1339,800,803,607,781,1006,837,818,993,672,950,553,938,853,1298,683,1161,992,717,700,943,577,655,595,769,936,559,507,561,627,519,620,601,488,520,640,669,723,852,594,684,849,582,772,1356,438,575,433,546,499,507,670,602,274,334,551,499,464,513,523,355,258,323,271,437,420,383,474,347,271,395,310,327,450,397,316,566,415,389,493,399,279,269,276,364,258,308,369,654,320,358,210,392,297,348,346,347,205,519,215,434,445,236,238,539,172,280,189,269,447,249,194,322,233,232,177,302,235,336,281,212,305,153,218,245,432,211,157,197,179,332,165,241,247,160,192,148,138,117,182,196,283,137,161,156,226,123,299,136,121,115,85,141,87,101,98,133,93,217,152,94,98,158,93,224,84,147,74,68,92,64,125,76,84,107,79,40,84,116,50,48,75,54,88,83,45,64,27,71,99,36,32,57,56,40,38,48,82,63,61,29,36,27,75,56,35,88,56,29,26,47,56,62,39,29,63,81,12,45,33,19,3,15,16,11,11,18,49,34,6,4,12,11,3,2652,2743,2296,2731,2476,2204,2301,2345,2475,2266,2084,2047,2328,2211,2837,1889,2220,2578,2466,2422,2430,2544,2678,2366,2420,2458,2283,2417,2266,1942,2145,2083,2151,2141,2704,2462,2240,2650,2418,2524,2448,2392,2126,2141,2499,2587,2337,2543,2330,2131,1869,2207,1931,2094,2429,2694,2077,2136,2854,2138,1999,2617,2204,2375,2358,2088,1825,2059,2028,2138,2276,2331,1481,2120,2329,1665,1713,2199,1681,1780,2058,2134,2139,1976,1849,1907,2239,2318,1640,1852,1439,1404,2346,1793,2056,1981,1970,1810,1500,2162,1878,2188,1802,2644,1665,1663,1937,2317,1838,2043,2076,2296,1458,1612,2133,1578,1919,1564,1730,1728,2042,1791,1092,1657,1536,1852,1564,1675,1849,1672,1670,1824,1690,1077,2057,1924,2335,1805,1587,1541,1798,1462,1577,2005,1736,1310,1656,1056,1489,1466,1206,1984,1172,2110,1730,1444,1700,1768,1246,1600,1725,1286,1285,1398,1185,941,1712,1230,1774,1803,1691,1215,1269,1801,1886,1549,1448,1278,1367,1567,1564,1848,1050,1804,1749,1940,1875,1245,1511,1589,885,1816,1981,1334,1902,1437,1223,1437,1176,2406,1307,960,1216,1164,1372,1245,1866,1146,1235,1981,1279,1361,1162,1476,1999,975,1372,1600,1484,1596,1396,1881,1414,1248,1177,1346,1012,1732,1463,1402,1185,1793,944,968,924,1519,1074,1257,1233,1212,1017,948,1647,839,1179,1038,970,1418,1001,1142,1085,948,717,1065,1209,1148,1450,1126,936,1088,974,1480,1021,1406,992,977,814,1015,1005,1685,971,1353,1087,764,878,869,1072,908,958,799,729,1292,1329,593,896,760,1453,895,1191,801,1174,957,737,1253,864,1184,834,830,1122,845,1040,1094,1039,714,736,806,636,536,640,1098,1147,706,994,541,883,844,965,810,899,1026,987,1055,905,786,775,754,698,980,696,589,716,612,701,1002,727,991,685,620,609,902,652,946,607,685,640,771,502,864,441,506,536,668,604,622,639,652,696,439,465,391,609,906,574,360,766,537,823,690,389,698,333,463,566,316,502,450,344,473,709,549,445,298,360,460,628,423,498,371,346,407,421,422,549,367,469,304,341,359,355,267,516,545,360,445,338,298,411,434,177,603,383,461,303,376,459,359,336,341,240,316,378,173,128,406,340,462,181,349,222,187,555,265,372,153,213,562,320,231,281,199,220,195,197,304,261,244,195,186,212,168,222,240,372,262,200,158,176,205,134,206,137,188,112,155,120,200,145,171,176,241,121,148,239,121,104,120,174,163,74,167,166,208,43,129,145,183,81,65,120,83,104,156,178,54,103,73,85,56,201,51,65,91,58,43,79,63,82,60,119,63,71,74,44,108,108,56,39,35,91,75,76,36,63,74,46,39,107,38,16,44,128,52,71,69,31,59,31,50,27,21,24,8,139,18,42,39,19,16,19,7,11,30,31,19,44,15,19,39,23,22,21,37,15,18,23,27,11,5,11,17,1,9,6,12,16,2,20,10,3,19,7,1,8,5,2,13,2,1,18,8,11,3,3,20,7,8,2,6,8,2,2,1,17,2,5],\"xaxis\":\"x\",\"yaxis\":\"y\",\"type\":\"histogram\"}],                        {\"template\":{\"data\":{\"histogram2dcontour\":[{\"type\":\"histogram2dcontour\",\"colorbar\":{\"outlinewidth\":0,\"ticks\":\"\"},\"colorscale\":[[0.0,\"#0d0887\"],[0.1111111111111111,\"#46039f\"],[0.2222222222222222,\"#7201a8\"],[0.3333333333333333,\"#9c179e\"],[0.4444444444444444,\"#bd3786\"],[0.5555555555555556,\"#d8576b\"],[0.6666666666666666,\"#ed7953\"],[0.7777777777777778,\"#fb9f3a\"],[0.8888888888888888,\"#fdca26\"],[1.0,\"#f0f921\"]]}],\"choropleth\":[{\"type\":\"choropleth\",\"colorbar\":{\"outlinewidth\":0,\"ticks\":\"\"}}],\"histogram2d\":[{\"type\":\"histogram2d\",\"colorbar\":{\"outlinewidth\":0,\"ticks\":\"\"},\"colorscale\":[[0.0,\"#0d0887\"],[0.1111111111111111,\"#46039f\"],[0.2222222222222222,\"#7201a8\"],[0.3333333333333333,\"#9c179e\"],[0.4444444444444444,\"#bd3786\"],[0.5555555555555556,\"#d8576b\"],[0.6666666666666666,\"#ed7953\"],[0.7777777777777778,\"#fb9f3a\"],[0.8888888888888888,\"#fdca26\"],[1.0,\"#f0f921\"]]}],\"heatmap\":[{\"type\":\"heatmap\",\"colorbar\":{\"outlinewidth\":0,\"ticks\":\"\"},\"colorscale\":[[0.0,\"#0d0887\"],[0.1111111111111111,\"#46039f\"],[0.2222222222222222,\"#7201a8\"],[0.3333333333333333,\"#9c179e\"],[0.4444444444444444,\"#bd3786\"],[0.5555555555555556,\"#d8576b\"],[0.6666666666666666,\"#ed7953\"],[0.7777777777777778,\"#fb9f3a\"],[0.8888888888888888,\"#fdca26\"],[1.0,\"#f0f921\"]]}],\"heatmapgl\":[{\"type\":\"heatmapgl\",\"colorbar\":{\"outlinewidth\":0,\"ticks\":\"\"},\"colorscale\":[[0.0,\"#0d0887\"],[0.1111111111111111,\"#46039f\"],[0.2222222222222222,\"#7201a8\"],[0.3333333333333333,\"#9c179e\"],[0.4444444444444444,\"#bd3786\"],[0.5555555555555556,\"#d8576b\"],[0.6666666666666666,\"#ed7953\"],[0.7777777777777778,\"#fb9f3a\"],[0.8888888888888888,\"#fdca26\"],[1.0,\"#f0f921\"]]}],\"contourcarpet\":[{\"type\":\"contourcarpet\",\"colorbar\":{\"outlinewidth\":0,\"ticks\":\"\"}}],\"contour\":[{\"type\":\"contour\",\"colorbar\":{\"outlinewidth\":0,\"ticks\":\"\"},\"colorscale\":[[0.0,\"#0d0887\"],[0.1111111111111111,\"#46039f\"],[0.2222222222222222,\"#7201a8\"],[0.3333333333333333,\"#9c179e\"],[0.4444444444444444,\"#bd3786\"],[0.5555555555555556,\"#d8576b\"],[0.6666666666666666,\"#ed7953\"],[0.7777777777777778,\"#fb9f3a\"],[0.8888888888888888,\"#fdca26\"],[1.0,\"#f0f921\"]]}],\"surface\":[{\"type\":\"surface\",\"colorbar\":{\"outlinewidth\":0,\"ticks\":\"\"},\"colorscale\":[[0.0,\"#0d0887\"],[0.1111111111111111,\"#46039f\"],[0.2222222222222222,\"#7201a8\"],[0.3333333333333333,\"#9c179e\"],[0.4444444444444444,\"#bd3786\"],[0.5555555555555556,\"#d8576b\"],[0.6666666666666666,\"#ed7953\"],[0.7777777777777778,\"#fb9f3a\"],[0.8888888888888888,\"#fdca26\"],[1.0,\"#f0f921\"]]}],\"mesh3d\":[{\"type\":\"mesh3d\",\"colorbar\":{\"outlinewidth\":0,\"ticks\":\"\"}}],\"scatter\":[{\"fillpattern\":{\"fillmode\":\"overlay\",\"size\":10,\"solidity\":0.2},\"type\":\"scatter\"}],\"parcoords\":[{\"type\":\"parcoords\",\"line\":{\"colorbar\":{\"outlinewidth\":0,\"ticks\":\"\"}}}],\"scatterpolargl\":[{\"type\":\"scatterpolargl\",\"marker\":{\"colorbar\":{\"outlinewidth\":0,\"ticks\":\"\"}}}],\"bar\":[{\"error_x\":{\"color\":\"#2a3f5f\"},\"error_y\":{\"color\":\"#2a3f5f\"},\"marker\":{\"line\":{\"color\":\"#E5ECF6\",\"width\":0.5},\"pattern\":{\"fillmode\":\"overlay\",\"size\":10,\"solidity\":0.2}},\"type\":\"bar\"}],\"scattergeo\":[{\"type\":\"scattergeo\",\"marker\":{\"colorbar\":{\"outlinewidth\":0,\"ticks\":\"\"}}}],\"scatterpolar\":[{\"type\":\"scatterpolar\",\"marker\":{\"colorbar\":{\"outlinewidth\":0,\"ticks\":\"\"}}}],\"histogram\":[{\"marker\":{\"pattern\":{\"fillmode\":\"overlay\",\"size\":10,\"solidity\":0.2}},\"type\":\"histogram\"}],\"scattergl\":[{\"type\":\"scattergl\",\"marker\":{\"colorbar\":{\"outlinewidth\":0,\"ticks\":\"\"}}}],\"scatter3d\":[{\"type\":\"scatter3d\",\"line\":{\"colorbar\":{\"outlinewidth\":0,\"ticks\":\"\"}},\"marker\":{\"colorbar\":{\"outlinewidth\":0,\"ticks\":\"\"}}}],\"scattermapbox\":[{\"type\":\"scattermapbox\",\"marker\":{\"colorbar\":{\"outlinewidth\":0,\"ticks\":\"\"}}}],\"scatterternary\":[{\"type\":\"scatterternary\",\"marker\":{\"colorbar\":{\"outlinewidth\":0,\"ticks\":\"\"}}}],\"scattercarpet\":[{\"type\":\"scattercarpet\",\"marker\":{\"colorbar\":{\"outlinewidth\":0,\"ticks\":\"\"}}}],\"carpet\":[{\"aaxis\":{\"endlinecolor\":\"#2a3f5f\",\"gridcolor\":\"white\",\"linecolor\":\"white\",\"minorgridcolor\":\"white\",\"startlinecolor\":\"#2a3f5f\"},\"baxis\":{\"endlinecolor\":\"#2a3f5f\",\"gridcolor\":\"white\",\"linecolor\":\"white\",\"minorgridcolor\":\"white\",\"startlinecolor\":\"#2a3f5f\"},\"type\":\"carpet\"}],\"table\":[{\"cells\":{\"fill\":{\"color\":\"#EBF0F8\"},\"line\":{\"color\":\"white\"}},\"header\":{\"fill\":{\"color\":\"#C8D4E3\"},\"line\":{\"color\":\"white\"}},\"type\":\"table\"}],\"barpolar\":[{\"marker\":{\"line\":{\"color\":\"#E5ECF6\",\"width\":0.5},\"pattern\":{\"fillmode\":\"overlay\",\"size\":10,\"solidity\":0.2}},\"type\":\"barpolar\"}],\"pie\":[{\"automargin\":true,\"type\":\"pie\"}]},\"layout\":{\"autotypenumbers\":\"strict\",\"colorway\":[\"#636efa\",\"#EF553B\",\"#00cc96\",\"#ab63fa\",\"#FFA15A\",\"#19d3f3\",\"#FF6692\",\"#B6E880\",\"#FF97FF\",\"#FECB52\"],\"font\":{\"color\":\"#2a3f5f\"},\"hovermode\":\"closest\",\"hoverlabel\":{\"align\":\"left\"},\"paper_bgcolor\":\"white\",\"plot_bgcolor\":\"#E5ECF6\",\"polar\":{\"bgcolor\":\"#E5ECF6\",\"angularaxis\":{\"gridcolor\":\"white\",\"linecolor\":\"white\",\"ticks\":\"\"},\"radialaxis\":{\"gridcolor\":\"white\",\"linecolor\":\"white\",\"ticks\":\"\"}},\"ternary\":{\"bgcolor\":\"#E5ECF6\",\"aaxis\":{\"gridcolor\":\"white\",\"linecolor\":\"white\",\"ticks\":\"\"},\"baxis\":{\"gridcolor\":\"white\",\"linecolor\":\"white\",\"ticks\":\"\"},\"caxis\":{\"gridcolor\":\"white\",\"linecolor\":\"white\",\"ticks\":\"\"}},\"coloraxis\":{\"colorbar\":{\"outlinewidth\":0,\"ticks\":\"\"}},\"colorscale\":{\"sequential\":[[0.0,\"#0d0887\"],[0.1111111111111111,\"#46039f\"],[0.2222222222222222,\"#7201a8\"],[0.3333333333333333,\"#9c179e\"],[0.4444444444444444,\"#bd3786\"],[0.5555555555555556,\"#d8576b\"],[0.6666666666666666,\"#ed7953\"],[0.7777777777777778,\"#fb9f3a\"],[0.8888888888888888,\"#fdca26\"],[1.0,\"#f0f921\"]],\"sequentialminus\":[[0.0,\"#0d0887\"],[0.1111111111111111,\"#46039f\"],[0.2222222222222222,\"#7201a8\"],[0.3333333333333333,\"#9c179e\"],[0.4444444444444444,\"#bd3786\"],[0.5555555555555556,\"#d8576b\"],[0.6666666666666666,\"#ed7953\"],[0.7777777777777778,\"#fb9f3a\"],[0.8888888888888888,\"#fdca26\"],[1.0,\"#f0f921\"]],\"diverging\":[[0,\"#8e0152\"],[0.1,\"#c51b7d\"],[0.2,\"#de77ae\"],[0.3,\"#f1b6da\"],[0.4,\"#fde0ef\"],[0.5,\"#f7f7f7\"],[0.6,\"#e6f5d0\"],[0.7,\"#b8e186\"],[0.8,\"#7fbc41\"],[0.9,\"#4d9221\"],[1,\"#276419\"]]},\"xaxis\":{\"gridcolor\":\"white\",\"linecolor\":\"white\",\"ticks\":\"\",\"title\":{\"standoff\":15},\"zerolinecolor\":\"white\",\"automargin\":true,\"zerolinewidth\":2},\"yaxis\":{\"gridcolor\":\"white\",\"linecolor\":\"white\",\"ticks\":\"\",\"title\":{\"standoff\":15},\"zerolinecolor\":\"white\",\"automargin\":true,\"zerolinewidth\":2},\"scene\":{\"xaxis\":{\"backgroundcolor\":\"#E5ECF6\",\"gridcolor\":\"white\",\"linecolor\":\"white\",\"showbackground\":true,\"ticks\":\"\",\"zerolinecolor\":\"white\",\"gridwidth\":2},\"yaxis\":{\"backgroundcolor\":\"#E5ECF6\",\"gridcolor\":\"white\",\"linecolor\":\"white\",\"showbackground\":true,\"ticks\":\"\",\"zerolinecolor\":\"white\",\"gridwidth\":2},\"zaxis\":{\"backgroundcolor\":\"#E5ECF6\",\"gridcolor\":\"white\",\"linecolor\":\"white\",\"showbackground\":true,\"ticks\":\"\",\"zerolinecolor\":\"white\",\"gridwidth\":2}},\"shapedefaults\":{\"line\":{\"color\":\"#2a3f5f\"}},\"annotationdefaults\":{\"arrowcolor\":\"#2a3f5f\",\"arrowhead\":0,\"arrowwidth\":1},\"geo\":{\"bgcolor\":\"white\",\"landcolor\":\"#E5ECF6\",\"subunitcolor\":\"white\",\"showland\":true,\"showlakes\":true,\"lakecolor\":\"white\"},\"title\":{\"x\":0.05},\"mapbox\":{\"style\":\"light\"}}},\"xaxis\":{\"anchor\":\"y\",\"domain\":[0.0,1.0],\"title\":{\"text\":\"x\"}},\"yaxis\":{\"anchor\":\"x\",\"domain\":[0.0,1.0],\"title\":{\"text\":\"percent\"}},\"legend\":{\"tracegroupgap\":0},\"margin\":{\"t\":60},\"barmode\":\"relative\"},                        {\"responsive\": true}                    ).then(function(){\n",
       "                            \n",
       "var gd = document.getElementById('19c45d00-3e9b-460c-82f3-67d8f4db3357');\n",
       "var x = new MutationObserver(function (mutations, observer) {{\n",
       "        var display = window.getComputedStyle(gd).display;\n",
       "        if (!display || display === 'none') {{\n",
       "            console.log([gd, 'removed!']);\n",
       "            Plotly.purge(gd);\n",
       "            observer.disconnect();\n",
       "        }}\n",
       "}});\n",
       "\n",
       "// Listen for the removal of the full notebook cells\n",
       "var notebookContainer = gd.closest('#notebook-container');\n",
       "if (notebookContainer) {{\n",
       "    x.observe(notebookContainer, {childList: true});\n",
       "}}\n",
       "\n",
       "// Listen for the clearing of the current output cell\n",
       "var outputEl = gd.closest('.output');\n",
       "if (outputEl) {{\n",
       "    x.observe(outputEl, {childList: true});\n",
       "}}\n",
       "\n",
       "                        })                };                });            </script>        </div>"
      ]
     },
     "metadata": {},
     "output_type": "display_data"
    }
   ],
   "source": [
    "fig = px.histogram(x=rs_df['MIN'], histnorm='percent')\n",
    "fig.show()"
   ]
  },
  {
   "cell_type": "code",
   "execution_count": 95,
   "id": "278a2f57-a814-45b3-b356-30a7c92dfdb6",
   "metadata": {},
   "outputs": [
    {
     "data": {
      "text/plain": [
       "Year                  2019-20\n",
       "SeasonType                 RS\n",
       "PLAYER_ID              203081\n",
       "PLAYER         Damian Lillard\n",
       "TEAM_ID            1610612757\n",
       "TEAM                      POR\n",
       "GP                         66\n",
       "MIN                      2474\n",
       "FGM                       624\n",
       "FGA                      1349\n",
       "FG_PCT                  0.463\n",
       "FG3M                      270\n",
       "FG3A                      674\n",
       "FG3_PCT                 0.401\n",
       "FTM                       460\n",
       "FTA                       518\n",
       "FT_PCT                  0.888\n",
       "OREB                       33\n",
       "DREB                      251\n",
       "REB                       284\n",
       "AST                       530\n",
       "STL                        70\n",
       "BLK                        22\n",
       "TOV                       194\n",
       "PF                        114\n",
       "PTS                      1978\n",
       "AST_TOV                  2.73\n",
       "STL_TOV                  0.36\n",
       "SeasonStart              2019\n",
       "Name: 1, dtype: object"
      ]
     },
     "execution_count": 95,
     "metadata": {},
     "output_type": "execute_result"
    }
   ],
   "source": [
    "# Synatx to return all column values in row 0\n",
    "rs_df.loc[1,:]"
   ]
  },
  {
   "cell_type": "code",
   "execution_count": 96,
   "id": "98bbb983-6e8c-4877-a88a-c05e2eb54880",
   "metadata": {},
   "outputs": [
    {
     "data": {
      "text/html": [
       "<div>\n",
       "<style scoped>\n",
       "    .dataframe tbody tr th:only-of-type {\n",
       "        vertical-align: middle;\n",
       "    }\n",
       "\n",
       "    .dataframe tbody tr th {\n",
       "        vertical-align: top;\n",
       "    }\n",
       "\n",
       "    .dataframe thead th {\n",
       "        text-align: right;\n",
       "    }\n",
       "</style>\n",
       "<table border=\"1\" class=\"dataframe\">\n",
       "  <thead>\n",
       "    <tr style=\"text-align: right;\">\n",
       "      <th></th>\n",
       "      <th>Year</th>\n",
       "      <th>SeasonType</th>\n",
       "      <th>PLAYER_ID</th>\n",
       "      <th>PLAYER</th>\n",
       "      <th>TEAM_ID</th>\n",
       "      <th>TEAM</th>\n",
       "      <th>GP</th>\n",
       "      <th>MIN</th>\n",
       "      <th>FGM</th>\n",
       "      <th>FGA</th>\n",
       "      <th>FG_PCT</th>\n",
       "      <th>FG3M</th>\n",
       "      <th>FG3A</th>\n",
       "      <th>FG3_PCT</th>\n",
       "      <th>FTM</th>\n",
       "      <th>FTA</th>\n",
       "      <th>FT_PCT</th>\n",
       "      <th>OREB</th>\n",
       "      <th>DREB</th>\n",
       "      <th>REB</th>\n",
       "      <th>AST</th>\n",
       "      <th>STL</th>\n",
       "      <th>BLK</th>\n",
       "      <th>TOV</th>\n",
       "      <th>PF</th>\n",
       "      <th>PTS</th>\n",
       "      <th>AST_TOV</th>\n",
       "      <th>STL_TOV</th>\n",
       "      <th>SeasonStart</th>\n",
       "    </tr>\n",
       "  </thead>\n",
       "  <tbody>\n",
       "    <tr>\n",
       "      <th>0</th>\n",
       "      <td>2019-20</td>\n",
       "      <td>RS</td>\n",
       "      <td>201935</td>\n",
       "      <td>James Harden</td>\n",
       "      <td>1610612745</td>\n",
       "      <td>HOU</td>\n",
       "      <td>68</td>\n",
       "      <td>2483</td>\n",
       "      <td>672</td>\n",
       "      <td>1514</td>\n",
       "      <td>0.444</td>\n",
       "      <td>299</td>\n",
       "      <td>843</td>\n",
       "      <td>0.355</td>\n",
       "      <td>692</td>\n",
       "      <td>800</td>\n",
       "      <td>0.865</td>\n",
       "      <td>70</td>\n",
       "      <td>376</td>\n",
       "      <td>446</td>\n",
       "      <td>512</td>\n",
       "      <td>125</td>\n",
       "      <td>60</td>\n",
       "      <td>308</td>\n",
       "      <td>227</td>\n",
       "      <td>2335</td>\n",
       "      <td>1.66</td>\n",
       "      <td>0.41</td>\n",
       "      <td>2019</td>\n",
       "    </tr>\n",
       "    <tr>\n",
       "      <th>1</th>\n",
       "      <td>2019-20</td>\n",
       "      <td>RS</td>\n",
       "      <td>203081</td>\n",
       "      <td>Damian Lillard</td>\n",
       "      <td>1610612757</td>\n",
       "      <td>POR</td>\n",
       "      <td>66</td>\n",
       "      <td>2474</td>\n",
       "      <td>624</td>\n",
       "      <td>1349</td>\n",
       "      <td>0.463</td>\n",
       "      <td>270</td>\n",
       "      <td>674</td>\n",
       "      <td>0.401</td>\n",
       "      <td>460</td>\n",
       "      <td>518</td>\n",
       "      <td>0.888</td>\n",
       "      <td>33</td>\n",
       "      <td>251</td>\n",
       "      <td>284</td>\n",
       "      <td>530</td>\n",
       "      <td>70</td>\n",
       "      <td>22</td>\n",
       "      <td>194</td>\n",
       "      <td>114</td>\n",
       "      <td>1978</td>\n",
       "      <td>2.73</td>\n",
       "      <td>0.36</td>\n",
       "      <td>2019</td>\n",
       "    </tr>\n",
       "    <tr>\n",
       "      <th>2</th>\n",
       "      <td>2019-20</td>\n",
       "      <td>RS</td>\n",
       "      <td>1626164</td>\n",
       "      <td>Devin Booker</td>\n",
       "      <td>1610612756</td>\n",
       "      <td>PHX</td>\n",
       "      <td>70</td>\n",
       "      <td>2512</td>\n",
       "      <td>627</td>\n",
       "      <td>1283</td>\n",
       "      <td>0.489</td>\n",
       "      <td>141</td>\n",
       "      <td>398</td>\n",
       "      <td>0.354</td>\n",
       "      <td>468</td>\n",
       "      <td>509</td>\n",
       "      <td>0.919</td>\n",
       "      <td>29</td>\n",
       "      <td>268</td>\n",
       "      <td>297</td>\n",
       "      <td>456</td>\n",
       "      <td>49</td>\n",
       "      <td>18</td>\n",
       "      <td>264</td>\n",
       "      <td>213</td>\n",
       "      <td>1863</td>\n",
       "      <td>1.73</td>\n",
       "      <td>0.19</td>\n",
       "      <td>2019</td>\n",
       "    </tr>\n",
       "  </tbody>\n",
       "</table>\n",
       "</div>"
      ],
      "text/plain": [
       "      Year SeasonType  PLAYER_ID          PLAYER     TEAM_ID TEAM  GP   MIN  \\\n",
       "0  2019-20         RS     201935    James Harden  1610612745  HOU  68  2483   \n",
       "1  2019-20         RS     203081  Damian Lillard  1610612757  POR  66  2474   \n",
       "2  2019-20         RS    1626164    Devin Booker  1610612756  PHX  70  2512   \n",
       "\n",
       "   FGM   FGA  FG_PCT  FG3M  FG3A  FG3_PCT  FTM  FTA  FT_PCT  OREB  DREB  REB  \\\n",
       "0  672  1514   0.444   299   843    0.355  692  800   0.865    70   376  446   \n",
       "1  624  1349   0.463   270   674    0.401  460  518   0.888    33   251  284   \n",
       "2  627  1283   0.489   141   398    0.354  468  509   0.919    29   268  297   \n",
       "\n",
       "   AST  STL  BLK  TOV   PF   PTS  AST_TOV  STL_TOV  SeasonStart  \n",
       "0  512  125   60  308  227  2335     1.66     0.41         2019  \n",
       "1  530   70   22  194  114  1978     2.73     0.36         2019  \n",
       "2  456   49   18  264  213  1863     1.73     0.19         2019  "
      ]
     },
     "execution_count": 96,
     "metadata": {},
     "output_type": "execute_result"
    }
   ],
   "source": [
    "# Synatx to return the top 3 rows with all columns\n",
    "rs_df.loc[[0,1,2],:]"
   ]
  },
  {
   "cell_type": "code",
   "execution_count": 97,
   "id": "58935d64-fcd8-406c-9cdb-71d20115c239",
   "metadata": {},
   "outputs": [
    {
     "data": {
      "text/html": [
       "<div>\n",
       "<style scoped>\n",
       "    .dataframe tbody tr th:only-of-type {\n",
       "        vertical-align: middle;\n",
       "    }\n",
       "\n",
       "    .dataframe tbody tr th {\n",
       "        vertical-align: top;\n",
       "    }\n",
       "\n",
       "    .dataframe thead th {\n",
       "        text-align: right;\n",
       "    }\n",
       "</style>\n",
       "<table border=\"1\" class=\"dataframe\">\n",
       "  <thead>\n",
       "    <tr style=\"text-align: right;\">\n",
       "      <th></th>\n",
       "      <th>Year</th>\n",
       "      <th>SeasonType</th>\n",
       "      <th>PLAYER_ID</th>\n",
       "      <th>PLAYER</th>\n",
       "      <th>TEAM_ID</th>\n",
       "      <th>TEAM</th>\n",
       "      <th>GP</th>\n",
       "      <th>MIN</th>\n",
       "      <th>FGM</th>\n",
       "      <th>FGA</th>\n",
       "      <th>FG_PCT</th>\n",
       "      <th>FG3M</th>\n",
       "      <th>FG3A</th>\n",
       "      <th>FG3_PCT</th>\n",
       "      <th>FTM</th>\n",
       "      <th>FTA</th>\n",
       "      <th>FT_PCT</th>\n",
       "      <th>OREB</th>\n",
       "      <th>DREB</th>\n",
       "      <th>REB</th>\n",
       "      <th>AST</th>\n",
       "      <th>STL</th>\n",
       "      <th>BLK</th>\n",
       "      <th>TOV</th>\n",
       "      <th>PF</th>\n",
       "      <th>PTS</th>\n",
       "      <th>AST_TOV</th>\n",
       "      <th>STL_TOV</th>\n",
       "      <th>SeasonStart</th>\n",
       "    </tr>\n",
       "  </thead>\n",
       "  <tbody>\n",
       "    <tr>\n",
       "      <th>0</th>\n",
       "      <td>2019-20</td>\n",
       "      <td>RS</td>\n",
       "      <td>201935</td>\n",
       "      <td>James Harden</td>\n",
       "      <td>1610612745</td>\n",
       "      <td>HOU</td>\n",
       "      <td>68</td>\n",
       "      <td>2483</td>\n",
       "      <td>672</td>\n",
       "      <td>1514</td>\n",
       "      <td>0.444</td>\n",
       "      <td>299</td>\n",
       "      <td>843</td>\n",
       "      <td>0.355</td>\n",
       "      <td>692</td>\n",
       "      <td>800</td>\n",
       "      <td>0.865</td>\n",
       "      <td>70</td>\n",
       "      <td>376</td>\n",
       "      <td>446</td>\n",
       "      <td>512</td>\n",
       "      <td>125</td>\n",
       "      <td>60</td>\n",
       "      <td>308</td>\n",
       "      <td>227</td>\n",
       "      <td>2335</td>\n",
       "      <td>1.66</td>\n",
       "      <td>0.41</td>\n",
       "      <td>2019</td>\n",
       "    </tr>\n",
       "    <tr>\n",
       "      <th>1</th>\n",
       "      <td>2019-20</td>\n",
       "      <td>RS</td>\n",
       "      <td>203081</td>\n",
       "      <td>Damian Lillard</td>\n",
       "      <td>1610612757</td>\n",
       "      <td>POR</td>\n",
       "      <td>66</td>\n",
       "      <td>2474</td>\n",
       "      <td>624</td>\n",
       "      <td>1349</td>\n",
       "      <td>0.463</td>\n",
       "      <td>270</td>\n",
       "      <td>674</td>\n",
       "      <td>0.401</td>\n",
       "      <td>460</td>\n",
       "      <td>518</td>\n",
       "      <td>0.888</td>\n",
       "      <td>33</td>\n",
       "      <td>251</td>\n",
       "      <td>284</td>\n",
       "      <td>530</td>\n",
       "      <td>70</td>\n",
       "      <td>22</td>\n",
       "      <td>194</td>\n",
       "      <td>114</td>\n",
       "      <td>1978</td>\n",
       "      <td>2.73</td>\n",
       "      <td>0.36</td>\n",
       "      <td>2019</td>\n",
       "    </tr>\n",
       "    <tr>\n",
       "      <th>2</th>\n",
       "      <td>2019-20</td>\n",
       "      <td>RS</td>\n",
       "      <td>1626164</td>\n",
       "      <td>Devin Booker</td>\n",
       "      <td>1610612756</td>\n",
       "      <td>PHX</td>\n",
       "      <td>70</td>\n",
       "      <td>2512</td>\n",
       "      <td>627</td>\n",
       "      <td>1283</td>\n",
       "      <td>0.489</td>\n",
       "      <td>141</td>\n",
       "      <td>398</td>\n",
       "      <td>0.354</td>\n",
       "      <td>468</td>\n",
       "      <td>509</td>\n",
       "      <td>0.919</td>\n",
       "      <td>29</td>\n",
       "      <td>268</td>\n",
       "      <td>297</td>\n",
       "      <td>456</td>\n",
       "      <td>49</td>\n",
       "      <td>18</td>\n",
       "      <td>264</td>\n",
       "      <td>213</td>\n",
       "      <td>1863</td>\n",
       "      <td>1.73</td>\n",
       "      <td>0.19</td>\n",
       "      <td>2019</td>\n",
       "    </tr>\n",
       "    <tr>\n",
       "      <th>3</th>\n",
       "      <td>2019-20</td>\n",
       "      <td>RS</td>\n",
       "      <td>203507</td>\n",
       "      <td>Giannis Antetokounmpo</td>\n",
       "      <td>1610612749</td>\n",
       "      <td>MIL</td>\n",
       "      <td>63</td>\n",
       "      <td>1917</td>\n",
       "      <td>685</td>\n",
       "      <td>1238</td>\n",
       "      <td>0.553</td>\n",
       "      <td>89</td>\n",
       "      <td>293</td>\n",
       "      <td>0.304</td>\n",
       "      <td>398</td>\n",
       "      <td>629</td>\n",
       "      <td>0.633</td>\n",
       "      <td>140</td>\n",
       "      <td>716</td>\n",
       "      <td>856</td>\n",
       "      <td>354</td>\n",
       "      <td>61</td>\n",
       "      <td>66</td>\n",
       "      <td>230</td>\n",
       "      <td>195</td>\n",
       "      <td>1857</td>\n",
       "      <td>1.54</td>\n",
       "      <td>0.27</td>\n",
       "      <td>2019</td>\n",
       "    </tr>\n",
       "    <tr>\n",
       "      <th>4</th>\n",
       "      <td>2019-20</td>\n",
       "      <td>RS</td>\n",
       "      <td>1629027</td>\n",
       "      <td>Trae Young</td>\n",
       "      <td>1610612737</td>\n",
       "      <td>ATL</td>\n",
       "      <td>60</td>\n",
       "      <td>2120</td>\n",
       "      <td>546</td>\n",
       "      <td>1249</td>\n",
       "      <td>0.437</td>\n",
       "      <td>205</td>\n",
       "      <td>568</td>\n",
       "      <td>0.361</td>\n",
       "      <td>481</td>\n",
       "      <td>559</td>\n",
       "      <td>0.860</td>\n",
       "      <td>32</td>\n",
       "      <td>223</td>\n",
       "      <td>255</td>\n",
       "      <td>560</td>\n",
       "      <td>65</td>\n",
       "      <td>8</td>\n",
       "      <td>289</td>\n",
       "      <td>104</td>\n",
       "      <td>1778</td>\n",
       "      <td>1.94</td>\n",
       "      <td>0.23</td>\n",
       "      <td>2019</td>\n",
       "    </tr>\n",
       "    <tr>\n",
       "      <th>5</th>\n",
       "      <td>2019-20</td>\n",
       "      <td>RS</td>\n",
       "      <td>1629029</td>\n",
       "      <td>Luka Doncic</td>\n",
       "      <td>1610612742</td>\n",
       "      <td>DAL</td>\n",
       "      <td>61</td>\n",
       "      <td>2047</td>\n",
       "      <td>581</td>\n",
       "      <td>1255</td>\n",
       "      <td>0.463</td>\n",
       "      <td>171</td>\n",
       "      <td>541</td>\n",
       "      <td>0.316</td>\n",
       "      <td>426</td>\n",
       "      <td>562</td>\n",
       "      <td>0.758</td>\n",
       "      <td>78</td>\n",
       "      <td>495</td>\n",
       "      <td>573</td>\n",
       "      <td>538</td>\n",
       "      <td>62</td>\n",
       "      <td>14</td>\n",
       "      <td>260</td>\n",
       "      <td>153</td>\n",
       "      <td>1759</td>\n",
       "      <td>2.07</td>\n",
       "      <td>0.24</td>\n",
       "      <td>2019</td>\n",
       "    </tr>\n",
       "    <tr>\n",
       "      <th>6</th>\n",
       "      <td>2019-20</td>\n",
       "      <td>RS</td>\n",
       "      <td>203078</td>\n",
       "      <td>Bradley Beal</td>\n",
       "      <td>1610612764</td>\n",
       "      <td>WAS</td>\n",
       "      <td>57</td>\n",
       "      <td>2053</td>\n",
       "      <td>593</td>\n",
       "      <td>1303</td>\n",
       "      <td>0.455</td>\n",
       "      <td>170</td>\n",
       "      <td>481</td>\n",
       "      <td>0.353</td>\n",
       "      <td>385</td>\n",
       "      <td>457</td>\n",
       "      <td>0.842</td>\n",
       "      <td>52</td>\n",
       "      <td>190</td>\n",
       "      <td>242</td>\n",
       "      <td>347</td>\n",
       "      <td>71</td>\n",
       "      <td>23</td>\n",
       "      <td>194</td>\n",
       "      <td>126</td>\n",
       "      <td>1741</td>\n",
       "      <td>1.79</td>\n",
       "      <td>0.37</td>\n",
       "      <td>2019</td>\n",
       "    </tr>\n",
       "    <tr>\n",
       "      <th>7</th>\n",
       "      <td>2019-20</td>\n",
       "      <td>RS</td>\n",
       "      <td>2544</td>\n",
       "      <td>LeBron James</td>\n",
       "      <td>1610612747</td>\n",
       "      <td>LAL</td>\n",
       "      <td>67</td>\n",
       "      <td>2316</td>\n",
       "      <td>643</td>\n",
       "      <td>1303</td>\n",
       "      <td>0.493</td>\n",
       "      <td>148</td>\n",
       "      <td>425</td>\n",
       "      <td>0.348</td>\n",
       "      <td>264</td>\n",
       "      <td>381</td>\n",
       "      <td>0.693</td>\n",
       "      <td>66</td>\n",
       "      <td>459</td>\n",
       "      <td>525</td>\n",
       "      <td>684</td>\n",
       "      <td>78</td>\n",
       "      <td>36</td>\n",
       "      <td>261</td>\n",
       "      <td>118</td>\n",
       "      <td>1698</td>\n",
       "      <td>2.62</td>\n",
       "      <td>0.30</td>\n",
       "      <td>2019</td>\n",
       "    </tr>\n",
       "    <tr>\n",
       "      <th>8</th>\n",
       "      <td>2019-20</td>\n",
       "      <td>RS</td>\n",
       "      <td>1628378</td>\n",
       "      <td>Donovan Mitchell</td>\n",
       "      <td>1610612762</td>\n",
       "      <td>UTA</td>\n",
       "      <td>69</td>\n",
       "      <td>2364</td>\n",
       "      <td>602</td>\n",
       "      <td>1342</td>\n",
       "      <td>0.449</td>\n",
       "      <td>173</td>\n",
       "      <td>473</td>\n",
       "      <td>0.366</td>\n",
       "      <td>278</td>\n",
       "      <td>322</td>\n",
       "      <td>0.863</td>\n",
       "      <td>53</td>\n",
       "      <td>251</td>\n",
       "      <td>304</td>\n",
       "      <td>294</td>\n",
       "      <td>70</td>\n",
       "      <td>14</td>\n",
       "      <td>184</td>\n",
       "      <td>172</td>\n",
       "      <td>1655</td>\n",
       "      <td>1.60</td>\n",
       "      <td>0.38</td>\n",
       "      <td>2019</td>\n",
       "    </tr>\n",
       "    <tr>\n",
       "      <th>9</th>\n",
       "      <td>2019-20</td>\n",
       "      <td>RS</td>\n",
       "      <td>203076</td>\n",
       "      <td>Anthony Davis</td>\n",
       "      <td>1610612747</td>\n",
       "      <td>LAL</td>\n",
       "      <td>62</td>\n",
       "      <td>2131</td>\n",
       "      <td>551</td>\n",
       "      <td>1096</td>\n",
       "      <td>0.503</td>\n",
       "      <td>72</td>\n",
       "      <td>218</td>\n",
       "      <td>0.330</td>\n",
       "      <td>444</td>\n",
       "      <td>525</td>\n",
       "      <td>0.846</td>\n",
       "      <td>142</td>\n",
       "      <td>435</td>\n",
       "      <td>577</td>\n",
       "      <td>200</td>\n",
       "      <td>91</td>\n",
       "      <td>143</td>\n",
       "      <td>154</td>\n",
       "      <td>156</td>\n",
       "      <td>1618</td>\n",
       "      <td>1.30</td>\n",
       "      <td>0.59</td>\n",
       "      <td>2019</td>\n",
       "    </tr>\n",
       "  </tbody>\n",
       "</table>\n",
       "</div>"
      ],
      "text/plain": [
       "      Year SeasonType  PLAYER_ID                 PLAYER     TEAM_ID TEAM  GP  \\\n",
       "0  2019-20         RS     201935           James Harden  1610612745  HOU  68   \n",
       "1  2019-20         RS     203081         Damian Lillard  1610612757  POR  66   \n",
       "2  2019-20         RS    1626164           Devin Booker  1610612756  PHX  70   \n",
       "3  2019-20         RS     203507  Giannis Antetokounmpo  1610612749  MIL  63   \n",
       "4  2019-20         RS    1629027             Trae Young  1610612737  ATL  60   \n",
       "5  2019-20         RS    1629029            Luka Doncic  1610612742  DAL  61   \n",
       "6  2019-20         RS     203078           Bradley Beal  1610612764  WAS  57   \n",
       "7  2019-20         RS       2544           LeBron James  1610612747  LAL  67   \n",
       "8  2019-20         RS    1628378       Donovan Mitchell  1610612762  UTA  69   \n",
       "9  2019-20         RS     203076          Anthony Davis  1610612747  LAL  62   \n",
       "\n",
       "    MIN  FGM   FGA  FG_PCT  FG3M  FG3A  FG3_PCT  FTM  FTA  FT_PCT  OREB  DREB  \\\n",
       "0  2483  672  1514   0.444   299   843    0.355  692  800   0.865    70   376   \n",
       "1  2474  624  1349   0.463   270   674    0.401  460  518   0.888    33   251   \n",
       "2  2512  627  1283   0.489   141   398    0.354  468  509   0.919    29   268   \n",
       "3  1917  685  1238   0.553    89   293    0.304  398  629   0.633   140   716   \n",
       "4  2120  546  1249   0.437   205   568    0.361  481  559   0.860    32   223   \n",
       "5  2047  581  1255   0.463   171   541    0.316  426  562   0.758    78   495   \n",
       "6  2053  593  1303   0.455   170   481    0.353  385  457   0.842    52   190   \n",
       "7  2316  643  1303   0.493   148   425    0.348  264  381   0.693    66   459   \n",
       "8  2364  602  1342   0.449   173   473    0.366  278  322   0.863    53   251   \n",
       "9  2131  551  1096   0.503    72   218    0.330  444  525   0.846   142   435   \n",
       "\n",
       "   REB  AST  STL  BLK  TOV   PF   PTS  AST_TOV  STL_TOV  SeasonStart  \n",
       "0  446  512  125   60  308  227  2335     1.66     0.41         2019  \n",
       "1  284  530   70   22  194  114  1978     2.73     0.36         2019  \n",
       "2  297  456   49   18  264  213  1863     1.73     0.19         2019  \n",
       "3  856  354   61   66  230  195  1857     1.54     0.27         2019  \n",
       "4  255  560   65    8  289  104  1778     1.94     0.23         2019  \n",
       "5  573  538   62   14  260  153  1759     2.07     0.24         2019  \n",
       "6  242  347   71   23  194  126  1741     1.79     0.37         2019  \n",
       "7  525  684   78   36  261  118  1698     2.62     0.30         2019  \n",
       "8  304  294   70   14  184  172  1655     1.60     0.38         2019  \n",
       "9  577  200   91  143  154  156  1618     1.30     0.59         2019  "
      ]
     },
     "execution_count": 97,
     "metadata": {},
     "output_type": "execute_result"
    }
   ],
   "source": [
    "# SYntax to return a range of rows with columns\n",
    "rs_df.loc[0:9,:]"
   ]
  },
  {
   "cell_type": "code",
   "execution_count": 98,
   "id": "c4825e35-e907-49ea-99fc-c6f03d827c43",
   "metadata": {},
   "outputs": [
    {
     "data": {
      "text/plain": [
       "0                James Harden\n",
       "1              Damian Lillard\n",
       "2                Devin Booker\n",
       "3       Giannis Antetokounmpo\n",
       "4                  Trae Young\n",
       "                ...          \n",
       "2125              Nate Hinton\n",
       "2126               Sam Dekker\n",
       "2127           Trayvon Palmer\n",
       "2128               Tyler Hall\n",
       "2129           Zylan Cheatham\n",
       "Name: PLAYER, Length: 1674, dtype: object"
      ]
     },
     "execution_count": 98,
     "metadata": {},
     "output_type": "execute_result"
    }
   ],
   "source": [
    "rs_df.loc[:,'PLAYER']"
   ]
  },
  {
   "cell_type": "code",
   "execution_count": 99,
   "id": "380104d7-5f93-4d16-b676-a737a59c7fb1",
   "metadata": {},
   "outputs": [
    {
     "data": {
      "text/html": [
       "<div>\n",
       "<style scoped>\n",
       "    .dataframe tbody tr th:only-of-type {\n",
       "        vertical-align: middle;\n",
       "    }\n",
       "\n",
       "    .dataframe tbody tr th {\n",
       "        vertical-align: top;\n",
       "    }\n",
       "\n",
       "    .dataframe thead th {\n",
       "        text-align: right;\n",
       "    }\n",
       "</style>\n",
       "<table border=\"1\" class=\"dataframe\">\n",
       "  <thead>\n",
       "    <tr style=\"text-align: right;\">\n",
       "      <th></th>\n",
       "      <th>PLAYER</th>\n",
       "      <th>TEAM</th>\n",
       "    </tr>\n",
       "  </thead>\n",
       "  <tbody>\n",
       "    <tr>\n",
       "      <th>0</th>\n",
       "      <td>James Harden</td>\n",
       "      <td>HOU</td>\n",
       "    </tr>\n",
       "    <tr>\n",
       "      <th>1</th>\n",
       "      <td>Damian Lillard</td>\n",
       "      <td>POR</td>\n",
       "    </tr>\n",
       "    <tr>\n",
       "      <th>2</th>\n",
       "      <td>Devin Booker</td>\n",
       "      <td>PHX</td>\n",
       "    </tr>\n",
       "    <tr>\n",
       "      <th>3</th>\n",
       "      <td>Giannis Antetokounmpo</td>\n",
       "      <td>MIL</td>\n",
       "    </tr>\n",
       "    <tr>\n",
       "      <th>4</th>\n",
       "      <td>Trae Young</td>\n",
       "      <td>ATL</td>\n",
       "    </tr>\n",
       "    <tr>\n",
       "      <th>...</th>\n",
       "      <td>...</td>\n",
       "      <td>...</td>\n",
       "    </tr>\n",
       "    <tr>\n",
       "      <th>2125</th>\n",
       "      <td>Nate Hinton</td>\n",
       "      <td>IND</td>\n",
       "    </tr>\n",
       "    <tr>\n",
       "      <th>2126</th>\n",
       "      <td>Sam Dekker</td>\n",
       "      <td>TOR</td>\n",
       "    </tr>\n",
       "    <tr>\n",
       "      <th>2127</th>\n",
       "      <td>Trayvon Palmer</td>\n",
       "      <td>DET</td>\n",
       "    </tr>\n",
       "    <tr>\n",
       "      <th>2128</th>\n",
       "      <td>Tyler Hall</td>\n",
       "      <td>NYK</td>\n",
       "    </tr>\n",
       "    <tr>\n",
       "      <th>2129</th>\n",
       "      <td>Zylan Cheatham</td>\n",
       "      <td>UTA</td>\n",
       "    </tr>\n",
       "  </tbody>\n",
       "</table>\n",
       "<p>1674 rows × 2 columns</p>\n",
       "</div>"
      ],
      "text/plain": [
       "                     PLAYER TEAM\n",
       "0              James Harden  HOU\n",
       "1            Damian Lillard  POR\n",
       "2              Devin Booker  PHX\n",
       "3     Giannis Antetokounmpo  MIL\n",
       "4                Trae Young  ATL\n",
       "...                     ...  ...\n",
       "2125            Nate Hinton  IND\n",
       "2126             Sam Dekker  TOR\n",
       "2127         Trayvon Palmer  DET\n",
       "2128             Tyler Hall  NYK\n",
       "2129         Zylan Cheatham  UTA\n",
       "\n",
       "[1674 rows x 2 columns]"
      ]
     },
     "execution_count": 99,
     "metadata": {},
     "output_type": "execute_result"
    }
   ],
   "source": [
    "rs_df.loc[:,['PLAYER','TEAM']]"
   ]
  },
  {
   "cell_type": "code",
   "execution_count": 100,
   "id": "f61d062f-c4db-4260-b7b7-50e7fb20398a",
   "metadata": {},
   "outputs": [],
   "source": [
    "def hist_data(df=rs_df, min_MIN=0, min_GP=0):\n",
    "    return df.loc[(df['MIN']>=min_MIN) & (df['GP']>=min_GP), 'MIN']/\\\n",
    "    df.loc[(df['MIN']>=min_MIN) & (df['GP']>=min_GP), 'GP']"
   ]
  },
  {
   "cell_type": "code",
   "execution_count": 101,
   "id": "a436ab74-4caf-4b5f-b3e3-dbc08229c13b",
   "metadata": {},
   "outputs": [
    {
     "data": {
      "application/vnd.plotly.v1+json": {
       "config": {
        "plotlyServerURL": "https://plot.ly"
       },
       "data": [
        {
         "histnorm": "percent",
         "name": "RS",
         "opacity": 0.5,
         "type": "histogram",
         "x": [
          36.51470588235294,
          37.484848484848484,
          35.885714285714286,
          30.428571428571427,
          35.333333333333336,
          33.557377049180324,
          36.01754385964912,
          34.56716417910448,
          34.26086956521739,
          34.37096774193548,
          36.52857142857143,
          35.94736842105263,
          34.31818181818182,
          32.421052631578945,
          34.75,
          34.05882352941177,
          33.91935483870968,
          31.986301369863014,
          34.291666666666664,
          30.77777777777778,
          35.166666666666664,
          32.96923076923077,
          34.68571428571428,
          32.865671641791046,
          31.15625,
          29.887096774193548,
          33.06349206349206,
          32.5,
          31.542857142857144,
          30.753846153846155,
          31.454545454545453,
          32.225806451612904,
          30.955223880597014,
          28.676923076923078,
          28.931506849315067,
          34.425925925925924,
          27.761904761904763,
          29.529411764705884,
          34.704918032786885,
          31.82456140350877,
          29.580645161290324,
          33.92982456140351,
          33.775862068965516,
          34.82258064516129,
          33.56944444444444,
          35.095238095238095,
          31.107142857142858,
          34.36507936507937,
          36.172413793103445,
          29.450704225352112,
          32.271186440677965,
          24.014084507042252,
          32.03921568627451,
          34.47222222222222,
          34.517857142857146,
          26.357142857142858,
          29.970149253731343,
          32.266666666666666,
          31.225806451612904,
          29.5625,
          34.30882352941177,
          29.28358208955224,
          27.3768115942029,
          32.94736842105263,
          33.094339622641506,
          30.768115942028984,
          26.575757575757574,
          28.45614035087719,
          31.785714285714285,
          29.671232876712327,
          28.1864406779661,
          35.7037037037037,
          35.3859649122807,
          33.91428571428571,
          28.950819672131146,
          26.35,
          26.983606557377048,
          33.46153846153846,
          25.96,
          32.793103448275865,
          32.53225806451613,
          30.85185185185185,
          33.24390243902439,
          33.03448275862069,
          27.72222222222222,
          30.52857142857143,
          25.753846153846155,
          26.64788732394366,
          31.015384615384615,
          27,
          30.70769230769231,
          29.555555555555557,
          27.566666666666666,
          29.314814814814813,
          27.930555555555557,
          28.442307692307693,
          26.720588235294116,
          21.370967741935484,
          30.428571428571427,
          30.238805970149254,
          24.625,
          25.016393442622952,
          32.03174603174603,
          31.983333333333334,
          26.457142857142856,
          29.015625,
          22.5,
          24.66176470588235,
          30.78181818181818,
          29.451612903225808,
          32.142857142857146,
          27.418181818181818,
          26.279411764705884,
          29.84,
          29.942028985507246,
          30.915254237288135,
          28.806451612903224,
          21.80597014925373,
          25.560606060606062,
          29.384615384615383,
          25.82608695652174,
          22.802816901408452,
          19.884057971014492,
          30.32758620689655,
          25.063492063492063,
          29.680555555555557,
          24.727272727272727,
          21.65277777777778,
          22.413793103448278,
          32.526315789473685,
          28.846153846153847,
          31.428571428571427,
          26.682539682539684,
          30.210526315789473,
          29.859154929577464,
          25.78787878787879,
          29,
          25.54054054054054,
          21.12121212121212,
          27.972602739726028,
          30.365079365079364,
          22.424657534246574,
          24.859375,
          27,
          30.083333333333332,
          25.536231884057973,
          28.892307692307693,
          23.120689655172413,
          27.903225806451612,
          24.8135593220339,
          24.5,
          29.040816326530614,
          21.98181818181818,
          26.74137931034483,
          23.03030303030303,
          24.934782608695652,
          25.013698630136986,
          24.092307692307692,
          24.912280701754387,
          24.823529411764707,
          23.441176470588236,
          18.416666666666668,
          24.313725490196077,
          23.147540983606557,
          31.785714285714285,
          23.904761904761905,
          20.7,
          24.017857142857142,
          28.065217391304348,
          26.285714285714285,
          21.254545454545454,
          20.482758620689655,
          21.54237288135593,
          19.402985074626866,
          32.9,
          20.271186440677965,
          24.808823529411764,
          32.794871794871796,
          16.791666666666668,
          21.83606557377049,
          27.833333333333332,
          28.227272727272727,
          24.951612903225808,
          24.157894736842106,
          28.22222222222222,
          28.17241379310345,
          18.92753623188406,
          16.418181818181818,
          22.017543859649123,
          21.506849315068493,
          22.589285714285715,
          22.350877192982455,
          23.305084745762713,
          34.263888888888886,
          23.24,
          24.402985074626866,
          27.39622641509434,
          23.125,
          19.281690140845072,
          18.953846153846154,
          29.209302325581394,
          22.238095238095237,
          27.8135593220339,
          16.875,
          16.948275862068964,
          18.214285714285715,
          17.92982456140351,
          22.035714285714285,
          17.41269841269841,
          18.676056338028168,
          24.352941176470587,
          24.430555555555557,
          19.45,
          18.347826086956523,
          20,
          28.859154929577464,
          27.68888888888889,
          18.475409836065573,
          16.61764705882353,
          32.92857142857143,
          17.654545454545456,
          17.327868852459016,
          20.746031746031747,
          21.216216216216218,
          24.20408163265306,
          28.150943396226417,
          17.93846153846154,
          18.7,
          15.65079365079365,
          13.209677419354838,
          17.75,
          26.313725490196077,
          28.823529411764707,
          20.174603174603174,
          15.74074074074074,
          17.366666666666667,
          19.41509433962264,
          18.555555555555557,
          13.984848484848484,
          19.850746268656717,
          20.314814814814813,
          16.19672131147541,
          16.551724137931036,
          16.532258064516128,
          19.923076923076923,
          20.125,
          26.525,
          24.88235294117647,
          17.742424242424242,
          13.508474576271187,
          18.081632653061224,
          23.967741935483872,
          18.148936170212767,
          15.491228070175438,
          16.076923076923077,
          18.55223880597015,
          20.82456140350877,
          23.016129032258064,
          14.515151515151516,
          18.359375,
          15.763636363636364,
          28.41860465116279,
          19.46551724137931,
          18.508196721311474,
          20.5,
          22.555555555555557,
          14.161290322580646,
          26.386363636363637,
          18.894736842105264,
          18.939393939393938,
          18.511111111111113,
          18.440677966101696,
          17.416666666666668,
          15.53968253968254,
          19.47826086956522,
          14.5,
          18.482758620689655,
          20.274509803921568,
          16.12727272727273,
          19.8,
          18.326923076923077,
          14.6,
          13.152542372881356,
          9.590909090909092,
          17.375,
          16.90909090909091,
          16.29310344827586,
          11.431034482758621,
          21.263157894736842,
          12.933333333333334,
          28.444444444444443,
          12.37037037037037,
          27.789473684210527,
          18.17948717948718,
          19.375,
          16.5,
          12.574468085106384,
          14.75,
          16.03448275862069,
          17.59090909090909,
          16.433962264150942,
          21.27906976744186,
          13.555555555555555,
          22.77777777777778,
          15.566666666666666,
          19.842105263157894,
          16.89090909090909,
          15.757575757575758,
          12.732142857142858,
          18.8125,
          15.115942028985508,
          14.652173913043478,
          23.586206896551722,
          29.476190476190474,
          19.666666666666668,
          12.170212765957446,
          17.615384615384617,
          11.545454545454545,
          15.517241379310345,
          15,
          14.162790697674419,
          22.446428571428573,
          10.191489361702128,
          13.072727272727272,
          18.821428571428573,
          10.6,
          15.527777777777779,
          14.553191489361701,
          19.208333333333332,
          21.956521739130434,
          11.255813953488373,
          12.647058823529411,
          20.97142857142857,
          10.731707317073171,
          15.854545454545455,
          11.319148936170214,
          17.318181818181817,
          15.96774193548387,
          12.175,
          17.181818181818183,
          12.096774193548388,
          15.794117647058824,
          15.553571428571429,
          25.692307692307693,
          18.48,
          15.5,
          14.825,
          14.403508771929825,
          11,
          17.64864864864865,
          8.722222222222221,
          11.916666666666666,
          24.54054054054054,
          14.206896551724139,
          23.642857142857142,
          9.75,
          8.818181818181818,
          13.885714285714286,
          16.185185185185187,
          13.476190476190476,
          13.852941176470589,
          12.125,
          17.705882352941178,
          14.419354838709678,
          13.379310344827585,
          14.321428571428571,
          31.625,
          21.333333333333332,
          7.863636363636363,
          9.81081081081081,
          10.5,
          14.413793103448276,
          32,
          9.486486486486486,
          11.06060606060606,
          14.89655172413793,
          17.61111111111111,
          20.7,
          14.375,
          17.875,
          12.363636363636363,
          11.565217391304348,
          13.4,
          9.153846153846153,
          27.8,
          10.793103448275861,
          10.580645161290322,
          11.151515151515152,
          8.829268292682928,
          12.61111111111111,
          13.148148148148149,
          19.904761904761905,
          10.045454545454545,
          8.827586206896552,
          10.634146341463415,
          8.133333333333333,
          18.3125,
          6.444444444444445,
          22.875,
          12.083333333333334,
          17.545454545454547,
          7.928571428571429,
          22.954545454545453,
          11.5625,
          21.11111111111111,
          29.142857142857142,
          26.363636363636363,
          10.588235294117647,
          20.923076923076923,
          8.088888888888889,
          13.1,
          12.466666666666667,
          10.666666666666666,
          16.1,
          11,
          7.833333333333333,
          13.210526315789474,
          13.11111111111111,
          8.05,
          11.24,
          6,
          9.928571428571429,
          8.833333333333334,
          5.833333333333333,
          10.066666666666666,
          9.666666666666666,
          6.45,
          18.53846153846154,
          9.526315789473685,
          9.538461538461538,
          10.821428571428571,
          10.846153846153847,
          11.7,
          12,
          5.333333333333333,
          5.909090909090909,
          12.428571428571429,
          6.631578947368421,
          10.818181818181818,
          11.428571428571429,
          14.777777777777779,
          7.923076923076923,
          7.105263157894737,
          6.380952380952381,
          5.833333333333333,
          5.785714285714286,
          10.9,
          6.9411764705882355,
          13.5,
          8.423076923076923,
          10.181818181818182,
          8.7,
          8.3,
          10.7,
          13.333333333333334,
          11.153846153846153,
          10.666666666666666,
          14,
          4.153846153846154,
          9.222222222222221,
          12.428571428571429,
          5.916666666666667,
          7.363636363636363,
          6.2,
          7.571428571428571,
          5.888888888888889,
          13.166666666666666,
          5.2,
          7.625,
          4.111111111111111,
          7.75,
          10.8,
          10,
          5,
          5.3,
          7.090909090909091,
          34.15873015873016,
          35.791044776119406,
          34.55555555555556,
          35.78333333333333,
          34.27272727272727,
          33,
          33.88059701492537,
          37.563380281690144,
          35.78125,
          33.21311475409836,
          33.542857142857144,
          33.73015873015873,
          35.06896551724138,
          35.10344827586207,
          35.25,
          31.07843137254902,
          34.925925925925924,
          34.295081967213115,
          36.44615384615385,
          34.46551724137931,
          34.53623188405797,
          33.41509433962264,
          32.138888888888886,
          33.36764705882353,
          33.29577464788732,
          33.704918032786885,
          34.07692307692308,
          31.971014492753625,
          34.875,
          35.983870967741936,
          33.72222222222222,
          26.735294117647058,
          33.78,
          30.77777777777778,
          32.483870967741936,
          33.870370370370374,
          32.58730158730159,
          33.484375,
          35.82142857142857,
          34.464285714285715,
          34.267605633802816,
          28.357142857142858,
          31.34426229508197,
          29.80597014925373,
          31.428571428571427,
          33.422222222222224,
          33.55769230769231,
          29.333333333333332,
          34.04255319148936,
          36.56818181818182,
          28.306451612903224,
          31.925373134328357,
          32.32203389830509,
          31.246376811594203,
          36.51923076923077,
          35.5,
          30.802816901408452,
          30.652173913043477,
          31.043478260869566,
          32.611111111111114,
          30.126984126984127,
          31.595744680851062,
          28.52857142857143,
          33.05714285714286,
          31.416666666666668,
          33.148148148148145,
          32.0655737704918,
          36.241379310344826,
          22.89855072463768,
          24.492753623188406,
          24.53030303030303,
          31.06896551724138,
          28.52173913043478,
          28.735294117647058,
          29.746478873239436,
          29.19672131147541,
          30.86046511627907,
          34,
          32.34146341463415,
          27.17142857142857,
          24.955882352941178,
          27.271428571428572,
          27.347826086956523,
          30.69090909090909,
          29.272727272727273,
          33.714285714285715,
          32.36206896551724,
          31.837209302325583,
          25.161290322580644,
          29.372549019607842,
          30.53125,
          32.2,
          24.294117647058822,
          30.81159420289855,
          24.216666666666665,
          23.19047619047619,
          30.163636363636364,
          29.464285714285715,
          30.27777777777778,
          27.865671641791046,
          24.40277777777778,
          29.58730158730159,
          28.80392156862745,
          31.763636363636362,
          28.476190476190474,
          29.185714285714287,
          34.82608695652174,
          31.526315789473685,
          25.73611111111111,
          32.27777777777778,
          19.242857142857144,
          26.350877192982455,
          30.319444444444443,
          20.78787878787879,
          31.163636363636364,
          30.103448275862068,
          26.985294117647058,
          21.560606060606062,
          24.779411764705884,
          25.58,
          19.4375,
          29.673076923076923,
          32.810810810810814,
          29.65909090909091,
          29.976190476190474,
          29.282608695652176,
          21.555555555555557,
          30.338983050847457,
          23.044776119402986,
          28.736842105263158,
          31,
          29.984615384615385,
          19.34285714285714,
          25.823529411764707,
          27.5,
          27,
          33.325581395348834,
          23.96078431372549,
          26.74,
          25.366666666666667,
          27.353846153846153,
          25.68421052631579,
          27.929577464788732,
          28.028985507246375,
          28.388059701492537,
          32.72727272727273,
          22.34722222222222,
          32.43283582089552,
          27.746031746031747,
          19.070422535211268,
          23.555555555555557,
          24.630769230769232,
          32.9375,
          22.33823529411765,
          25.612244897959183,
          27.68,
          25.610169491525422,
          19.372549019607842,
          23.983050847457626,
          25.86046511627907,
          25.462962962962962,
          27.085106382978722,
          23.576923076923077,
          27.466666666666665,
          26.028985507246375,
          26.73913043478261,
          32.042857142857144,
          30.95744680851064,
          32.016666666666666,
          20.06153846153846,
          26.058823529411764,
          26.767857142857142,
          22.323076923076922,
          23.95,
          23,
          20.060606060606062,
          21.921875,
          29.555555555555557,
          27.388059701492537,
          21.397058823529413,
          23.360655737704917,
          17.60655737704918,
          25.2,
          21.606060606060606,
          19.555555555555557,
          22.952380952380953,
          19.21212121212121,
          21.891304347826086,
          25.804347826086957,
          17.983333333333334,
          17.25,
          20.75,
          19.30909090909091,
          16.02777777777778,
          31.549295774647888,
          20.904761904761905,
          15.344262295081966,
          17.333333333333332,
          22.82089552238806,
          29.22222222222222,
          19.91044776119403,
          25.4468085106383,
          17.818181818181817,
          20.096153846153847,
          18.850746268656717,
          19.310344827586206,
          22.82608695652174,
          23.29268292682927,
          20.9375,
          16.066666666666666,
          21.435897435897434,
          22.53448275862069,
          31.46031746031746,
          17.47142857142857,
          22,
          19.80701754385965,
          27.67241379310345,
          17.42,
          28.72340425531915,
          32.15384615384615,
          23.984126984126984,
          21.859649122807017,
          23.783783783783782,
          15.296875,
          27.285714285714285,
          23.733333333333334,
          18.942307692307693,
          24.098039215686274,
          14.693548387096774,
          23.833333333333332,
          19.672131147540984,
          17.07547169811321,
          16.70967741935484,
          16.245283018867923,
          27.928571428571427,
          22.724137931034484,
          21.923076923076923,
          18.45,
          18.389830508474578,
          22.073170731707318,
          27.692307692307693,
          21.76,
          17.375,
          14.648148148148149,
          18.071428571428573,
          19.238095238095237,
          17.307692307692307,
          18.92982456140351,
          17.272727272727273,
          20.96551724137931,
          21.3953488372093,
          18.103448275862068,
          15.279411764705882,
          20.45098039215686,
          24.22222222222222,
          15.76086956521739,
          17.390243902439025,
          18,
          21.25,
          16.21875,
          17.41176470588235,
          19.74468085106383,
          26.82,
          23.87878787878788,
          25.923076923076923,
          25.177777777777777,
          19.23404255319149,
          24.048780487804876,
          29.47826086956522,
          17.796875,
          16.74074074074074,
          23.27777777777778,
          16.655172413793103,
          17.032258064516128,
          18.428571428571427,
          14.73913043478261,
          12.766666666666667,
          17.262295081967213,
          20.439393939393938,
          16.431818181818183,
          31.17142857142857,
          18.49056603773585,
          24.171875,
          21.323943661971832,
          20.28813559322034,
          25.88888888888889,
          13.981481481481481,
          15.212765957446809,
          16.044444444444444,
          19.717391304347824,
          24.88,
          12.081967213114755,
          20.90566037735849,
          16.285714285714285,
          21,
          18.063492063492063,
          19.058823529411764,
          15.166666666666666,
          28.846153846153847,
          23.47222222222222,
          15.517857142857142,
          28.033333333333335,
          17.09433962264151,
          19.482758620689655,
          22.513513513513512,
          22.633333333333333,
          21.253968253968253,
          25.806451612903224,
          16.06,
          21.678571428571427,
          16.270833333333332,
          16.491803278688526,
          20.414634146341463,
          15.433962264150944,
          19.096153846153847,
          22.4,
          16.964285714285715,
          14.552631578947368,
          18.392156862745097,
          27.516129032258064,
          19.96923076923077,
          11.016129032258064,
          19.0327868852459,
          21.106382978723403,
          11.95,
          21.875,
          17.145454545454545,
          16.970588235294116,
          13.1,
          16.08108108108108,
          17.08888888888889,
          20.8,
          12.152173913043478,
          13,
          12.466666666666667,
          13.933333333333334,
          24.714285714285715,
          13.191489361702128,
          12.02,
          13.555555555555555,
          26,
          13.333333333333334,
          14.543478260869565,
          14.46,
          16.705882352941178,
          18.5625,
          17.53846153846154,
          16.326923076923077,
          15.31578947368421,
          20.864864864864863,
          26.076923076923077,
          10.95,
          13.372093023255815,
          12.371428571428572,
          14,
          14.676470588235293,
          19.5,
          25.76923076923077,
          22.296296296296298,
          9.133333333333333,
          10.4375,
          9.666666666666666,
          12.475,
          11.047619047619047,
          16.548387096774192,
          15.382352941176471,
          14.791666666666666,
          23.454545454545453,
          9.228571428571428,
          8.212121212121213,
          13.65625,
          18.26086956521739,
          9.341463414634147,
          11.560975609756097,
          12.851851851851851,
          27.1,
          8.977272727272727,
          8.61111111111111,
          7.266666666666667,
          10.227272727272727,
          9.452380952380953,
          10.89655172413793,
          12.577777777777778,
          17.291666666666668,
          14.407407407407407,
          15.903225806451612,
          12.46875,
          8.454545454545455,
          8.151515151515152,
          8.903225806451612,
          12.133333333333333,
          6.615384615384615,
          9.333333333333334,
          16.043478260869566,
          16.76923076923077,
          16.842105263157894,
          15.565217391304348,
          13.125,
          19.6,
          11,
          9.157894736842104,
          13.84,
          11.193548387096774,
          5.54054054054054,
          9.61111111111111,
          26.875,
          18.869565217391305,
          11.41025641025641,
          18.153846153846153,
          9.153846153846153,
          13.146341463414634,
          13.23076923076923,
          7.17948717948718,
          10.5,
          7.27027027027027,
          12.08108108108108,
          19.153846153846153,
          12.125,
          9.757575757575758,
          7.766666666666667,
          10.545454545454545,
          6.8076923076923075,
          10.066666666666666,
          7.580645161290323,
          16,
          6.853658536585366,
          21.2,
          17.941176470588236,
          30.6,
          8.384615384615385,
          8.166666666666666,
          10.8,
          8.115384615384615,
          6.826086956521739,
          10.944444444444445,
          13.76923076923077,
          9.764705882352942,
          12.692307692307692,
          11.476190476190476,
          19,
          5,
          6.4,
          8.705882352941176,
          4.928571428571429,
          10.11111111111111,
          14,
          15.722222222222221,
          13.7,
          5.366666666666666,
          5.777777777777778,
          6.848484848484849,
          15.375,
          13,
          7.157894736842105,
          6.05,
          6.052631578947368,
          14.166666666666666,
          10.071428571428571,
          14.428571428571429,
          4.454545454545454,
          6.65,
          4.428571428571429,
          10.333333333333334,
          16.88888888888889,
          7.230769230769231,
          4.9,
          8.777777777777779,
          3.875,
          17.23076923076923,
          5.068965517241379,
          9.25,
          4.857142857142857,
          6.133333333333334,
          3.5555555555555554,
          5.9523809523809526,
          9.5,
          5.6,
          9.727272727272727,
          4.666666666666667,
          19.333333333333332,
          4.545454545454546,
          8.333333333333334,
          4.909090909090909,
          9.777777777777779,
          6.384615384615385,
          3.9444444444444446,
          9,
          3.8,
          4,
          13.666666666666666,
          3.5,
          7.625,
          4.411764705882353,
          3.7333333333333334,
          8.8,
          5.090909090909091,
          12.4,
          12.6,
          6.75,
          34.89473684210526,
          36.0921052631579,
          33.76470588235294,
          35.93421052631579,
          33.45945945945946,
          32.8955223880597,
          35.4,
          34.48529411764706,
          33.445945945945944,
          33.82089552238806,
          37.214285714285715,
          37.21818181818182,
          34.74626865671642,
          34.546875,
          35.4625,
          33.14035087719298,
          33.63636363636363,
          37.911764705882355,
          34.25,
          32.29333333333334,
          35.73529411764706,
          35.333333333333336,
          34.333333333333336,
          34.794117647058826,
          37.23076923076923,
          33.67123287671233,
          30.039473684210527,
          34.52857142857143,
          29.81578947368421,
          34.67857142857143,
          34.596774193548384,
          35.30508474576271,
          32.59090909090909,
          32.43939393939394,
          32.97560975609756,
          37.87692307692308,
          30.27027027027027,
          35.333333333333336,
          33.12328767123287,
          31.949367088607595,
          34.97142857142857,
          31.893333333333334,
          27.256410256410255,
          27.10126582278481,
          30.85185185185185,
          33.5974025974026,
          31.16,
          34.83561643835616,
          31.91780821917808,
          30.884057971014492,
          33.981818181818184,
          32.940298507462686,
          33.87719298245614,
          30.794117647058822,
          30.746835443037973,
          34.98701298701299,
          31.953846153846154,
          34.45161290322581,
          34.80487804878049,
          31.91044776119403,
          26.30263157894737,
          35.36486486486486,
          33.39393939393939,
          31.666666666666668,
          29.475,
          32.625,
          32.589285714285715,
          31.676923076923078,
          28.166666666666668,
          28.13157894736842,
          32.056338028169016,
          33.78260869565217,
          29.03921568627451,
          32.121212121212125,
          30.246753246753247,
          22.5,
          29.53448275862069,
          29.32,
          29.49122807017544,
          30.689655172413794,
          28.583333333333332,
          33.34375,
          32.90769230769231,
          25.0126582278481,
          29.349206349206348,
          31.262295081967213,
          29.85333333333333,
          28.617283950617285,
          23.098591549295776,
          29.870967741935484,
          35.975,
          35.1,
          28.962962962962962,
          25.985507246376812,
          26.358974358974358,
          29.567164179104477,
          28.970588235294116,
          32.32142857142857,
          31.914893617021278,
          28.44736842105263,
          30.78688524590164,
          29.56756756756757,
          23.102564102564102,
          33.05,
          32.64705882352941,
          30.796296296296298,
          27.281690140845072,
          28.604938271604937,
          28.71875,
          25.860759493670887,
          27.68,
          32.33802816901409,
          32.4,
          23.02857142857143,
          33.857142857142854,
          28.178571428571427,
          27.414285714285715,
          28.962962962962962,
          26.21212121212121,
          36,
          27.594594594594593,
          33.166666666666664,
          37.6551724137931,
          22.698630136986303,
          20.48,
          24.36842105263158,
          31.918367346938776,
          27.459016393442624,
          24.653333333333332,
          25.333333333333332,
          29.29824561403509,
          25.690140845070424,
          21.125,
          34.74193548387097,
          27.7972972972973,
          27.884057971014492,
          29.935897435897434,
          27.348484848484848,
          23.33823529411765,
          28.01818181818182,
          21.926829268292682,
          22.151515151515152,
          29.754716981132077,
          29.057971014492754,
          22.842105263157894,
          18.985507246376812,
          20.962025316455698,
          36.41379310344828,
          20.680555555555557,
          22.553846153846155,
          33.5,
          24.195121951219512,
          15.837837837837839,
          27.4025974025974,
          28.360655737704917,
          20.055555555555557,
          31.48148148148148,
          27.2,
          19.46875,
          24.615384615384617,
          23.63013698630137,
          17.14666666666667,
          20.078125,
          19.97142857142857,
          16.928571428571427,
          29.40625,
          26.338461538461537,
          17.083333333333332,
          24.63888888888889,
          25.757142857142856,
          26.015384615384615,
          15.779220779220779,
          21.879310344827587,
          23.38961038961039,
          28.149253731343283,
          21.21917808219178,
          22.984126984126984,
          22.03448275862069,
          22.783333333333335,
          22.71014492753623,
          23.34328358208955,
          25.666666666666668,
          22.340425531914892,
          29.57377049180328,
          24.985714285714284,
          27.323943661971832,
          24.350649350649352,
          29.642857142857142,
          25.183333333333334,
          23.36764705882353,
          27.65625,
          25.577464788732396,
          29.567164179104477,
          18.027027027027028,
          27.970588235294116,
          19.684931506849313,
          23.980392156862745,
          20.82608695652174,
          17.55223880597015,
          31.246753246753247,
          27.229166666666668,
          15.238095238095237,
          17.88235294117647,
          21.962264150943398,
          22.866666666666667,
          17.535211267605632,
          26.281690140845072,
          23.875,
          29.404761904761905,
          27.901408450704224,
          21.316666666666666,
          25.203703703703702,
          17.876923076923077,
          25.448275862068964,
          26.30263157894737,
          15.725806451612904,
          19.6,
          24.615384615384617,
          21.507246376811594,
          20.46153846153846,
          22.158730158730158,
          25.41891891891892,
          21.104477611940297,
          17.577464788732396,
          17.057971014492754,
          21.70967741935484,
          20.653061224489797,
          21.121951219512194,
          24.796610169491526,
          21.90625,
          19.112903225806452,
          24.561643835616437,
          22.476190476190474,
          20.166666666666668,
          18.11764705882353,
          23.369230769230768,
          23.866666666666667,
          19.952380952380953,
          20.21311475409836,
          34.628571428571426,
          18.160714285714285,
          21.066666666666666,
          24.954545454545453,
          16.78,
          21.436363636363637,
          18.87272727272727,
          28.529411764705884,
          23.24590163934426,
          14.098591549295774,
          16.08450704225352,
          16.19402985074627,
          25.62162162162162,
          14.9375,
          15.895522388059701,
          24.18,
          16.63768115942029,
          24.576271186440678,
          17.323076923076922,
          16.714285714285715,
          25.904761904761905,
          20.72340425531915,
          22.08955223880597,
          16.206349206349206,
          22.677419354838708,
          20.666666666666668,
          20.78723404255319,
          17.695652173913043,
          16.11111111111111,
          23.928571428571427,
          25.53030303030303,
          16.183333333333334,
          21.822580645161292,
          22.183673469387756,
          19.1,
          16.25925925925926,
          18.104166666666668,
          21.877551020408163,
          17.80392156862745,
          17.107142857142858,
          14.267857142857142,
          14.58,
          17.944444444444443,
          28.891304347826086,
          13.790697674418604,
          15.719298245614034,
          14.901960784313726,
          18.87012987012987,
          16.272727272727273,
          19.20967741935484,
          16.6875,
          20.24137931034483,
          16.220338983050848,
          12.706896551724139,
          23.203703703703702,
          13.935483870967742,
          18.215384615384615,
          15.444444444444445,
          16.274509803921568,
          24.933333333333334,
          16.25,
          22.608695652173914,
          22.791666666666668,
          15.507462686567164,
          21.636363636363637,
          13.381818181818181,
          14.392857142857142,
          24.46153846153846,
          17.866666666666667,
          26.666666666666668,
          18.610169491525422,
          27.975609756097562,
          12.607142857142858,
          13.616438356164384,
          15.027777777777779,
          16.054545454545455,
          15.62962962962963,
          19.3,
          18.837209302325583,
          17.627450980392158,
          18.321428571428573,
          20.5625,
          15.984848484848484,
          13.712121212121213,
          17.08695652173913,
          16.145833333333332,
          14.784313725490197,
          17.024390243902438,
          19.215686274509803,
          18.81081081081081,
          10.907407407407407,
          12.785714285714286,
          17,
          13.226415094339623,
          20.448979591836736,
          17.30952380952381,
          18.01818181818182,
          11.810344827586206,
          15.897435897435898,
          13.23913043478261,
          14.548387096774194,
          24.14814814814815,
          18.192307692307693,
          11.673076923076923,
          13.173076923076923,
          13.333333333333334,
          16.0625,
          17.928571428571427,
          18.382978723404257,
          10.5,
          14.055555555555555,
          12.761904761904763,
          13.916666666666666,
          16.324324324324323,
          12.958333333333334,
          17.27027027027027,
          16.71794871794872,
          10.875,
          16.25925925925926,
          18.6,
          12.21875,
          11.072727272727272,
          16.472727272727273,
          11.038461538461538,
          20,
          12.766666666666667,
          12.204545454545455,
          15.528301886792454,
          23,
          12.15625,
          17.897435897435898,
          15.136363636363637,
          10.522727272727273,
          17.6875,
          28.727272727272727,
          13.944444444444445,
          15,
          8.6,
          9.854166666666666,
          13.634615384615385,
          9.981818181818182,
          11.710526315789474,
          22.923076923076923,
          8.571428571428571,
          11.5,
          12.816326530612244,
          30.214285714285715,
          23.714285714285715,
          8.431818181818182,
          10.176470588235293,
          9.926829268292684,
          19.136363636363637,
          24.823529411764707,
          10.98,
          7.34,
          12.342105263157896,
          9.806451612903226,
          14.208333333333334,
          13.807692307692308,
          13.148148148148149,
          7.216216216216216,
          10.53061224489796,
          13.974358974358974,
          11.25,
          11.125,
          9.135135135135135,
          17.529411764705884,
          11.742857142857142,
          12.055555555555555,
          5.709677419354839,
          19.451612903225808,
          20.157894736842106,
          12.805555555555555,
          7.973684210526316,
          11.393939393939394,
          9.18,
          7.977777777777778,
          24,
          15.5,
          34.285714285714285,
          19.75,
          9.947368421052632,
          21.625,
          5.565217391304348,
          13.533333333333333,
          18.88888888888889,
          19.25,
          20.11111111111111,
          11.258064516129032,
          7.4,
          18.7,
          13.536585365853659,
          29.444444444444443,
          9.3,
          5.1,
          16.384615384615383,
          22.48,
          13.91304347826087,
          6.794117647058823,
          7.805555555555555,
          10.473684210526315,
          7.857142857142857,
          11.470588235294118,
          17.90909090909091,
          12.16,
          10.875,
          11.619047619047619,
          13.928571428571429,
          9.789473684210526,
          11.157894736842104,
          7.304347826086956,
          9.25,
          14.117647058823529,
          10.941176470588236,
          7.9393939393939394,
          10,
          6.076923076923077,
          11.733333333333333,
          7.068965517241379,
          7.052631578947368,
          12.117647058823529,
          13.7,
          14.461538461538462,
          9.333333333333334,
          17.22222222222222,
          5.454545454545454,
          11.764705882352942,
          29,
          21.375,
          13.538461538461538,
          6.885714285714286,
          6.722222222222222,
          7.7894736842105265,
          9.958333333333334,
          8.066666666666666,
          10.4,
          8,
          8.578947368421053,
          7.4,
          7.260869565217392,
          6.916666666666667,
          17.333333333333332,
          14.333333333333334,
          10.357142857142858,
          9.15,
          5.785714285714286,
          13,
          6.384615384615385,
          20.8,
          17.333333333333332,
          8.090909090909092,
          6.866666666666666,
          6.636363636363637,
          7.7272727272727275,
          8,
          6.483870967741935,
          9.1,
          9.666666666666666,
          3,
          5,
          13.222222222222221,
          4.2,
          14.2,
          6.166666666666667,
          12,
          8,
          15.166666666666666,
          12.5,
          7.6,
          4.5,
          14.8,
          15.285714285714286,
          10.666666666666666,
          4.7272727272727275,
          5.916666666666667,
          4.6,
          5.363636363636363,
          10.692307692307692
         ],
         "xbins": {
          "end": 46,
          "size": 1,
          "start": 0
         }
        },
        {
         "histnorm": "percent",
         "name": "Playoffs",
         "opacity": 0.5,
         "type": "histogram",
         "x": [
          36.61904761904762,
          36.285714285714285,
          39.63157894736842,
          38.38095238095238,
          36.526315789473685,
          40.588235294117645,
          39.529411764705884,
          39.30769230769231,
          37.333333333333336,
          36.1578947368421,
          33.666666666666664,
          36.94117647058823,
          32.529411764705884,
          36.84615384615385,
          37.714285714285715,
          31.428571428571427,
          38.11764705882353,
          28.571428571428573,
          30.77777777777778,
          28.952380952380953,
          34.36842105263158,
          39.09090909090909,
          23.736842105263158,
          23.047619047619047,
          34.166666666666664,
          35.5,
          37.54545454545455,
          38,
          35.833333333333336,
          21.36842105263158,
          25,
          26.23076923076923,
          22.818181818181817,
          32.8,
          29.846153846153847,
          28.352941176470587,
          24.157894736842106,
          37.285714285714285,
          24.818181818181817,
          24.6875,
          32.75,
          37,
          28.416666666666668,
          24.285714285714285,
          18.692307692307693,
          31.583333333333332,
          15.176470588235293,
          18.38095238095238,
          32.42857142857143,
          36.25,
          24.615384615384617,
          38.57142857142857,
          28.571428571428573,
          39.2,
          35.72727272727273,
          39.857142857142854,
          34,
          30.285714285714285,
          29.666666666666668,
          15.666666666666666,
          27.071428571428573,
          31,
          33,
          35.75,
          26.8,
          34.5,
          15.933333333333334,
          40,
          19.789473684210527,
          16.058823529411764,
          27,
          35,
          39,
          19.523809523809526,
          17.076923076923077,
          28.833333333333332,
          35.2,
          29.166666666666668,
          26,
          24.6,
          32.2,
          31.333333333333332,
          30,
          30.75,
          18.692307692307693,
          36,
          25.6,
          16.5,
          20.727272727272727,
          34.2,
          33.42857142857143,
          32.75,
          36.5,
          37.25,
          11.9,
          31.833333333333332,
          29.4,
          14.166666666666666,
          16.285714285714285,
          31.5,
          17.583333333333332,
          17.9,
          23.25,
          31.4,
          9.272727272727273,
          20.75,
          34.25,
          30.6,
          11.461538461538462,
          10,
          18,
          10.894736842105264,
          11.818181818181818,
          14,
          23.75,
          13.666666666666666,
          9.642857142857142,
          33,
          33.833333333333336,
          17.1,
          35.57142857142857,
          10.416666666666666,
          28.8,
          23.8,
          21.2,
          36,
          18,
          8.4,
          32.75,
          32,
          20.5,
          17.8,
          16.25,
          13.6,
          6.466666666666667,
          14.5,
          13.857142857142858,
          9.384615384615385,
          13.25,
          15.2,
          7.5,
          12.5,
          5.25,
          9.333333333333334,
          13.25,
          5,
          13,
          13.666666666666666,
          10.333333333333334,
          9.166666666666666,
          7.8,
          8.5,
          11.333333333333334,
          8.333333333333334,
          4,
          6.666666666666667,
          9,
          6,
          7.6,
          13.5,
          12.285714285714286,
          6.571428571428571,
          7.666666666666667,
          5,
          8,
          6.142857142857143,
          13,
          3.2,
          4,
          6.666666666666667,
          18.75,
          7,
          9.333333333333334,
          13.666666666666666,
          7,
          5,
          7,
          10.5,
          5.5,
          8.333333333333334,
          4.5,
          4.5,
          5.333333333333333,
          5.666666666666667,
          2.076923076923077,
          10,
          5,
          6,
          4.8,
          5,
          3,
          10,
          2.3333333333333335,
          3.5,
          3,
          4.5,
          6.5,
          3.4444444444444446,
          6,
          7,
          38.095238095238095,
          40.36363636363637,
          40.08695652173913,
          40.8421052631579,
          37.6875,
          40.416666666666664,
          39.65217391304348,
          34.15,
          36.40909090909091,
          32.73684210526316,
          39.27272727272727,
          34.6,
          32.45454545454545,
          29,
          34.5,
          36.5,
          33.22222222222222,
          32,
          40.142857142857146,
          32.13636363636363,
          33.13636363636363,
          31.789473684210527,
          24.555555555555557,
          31.75,
          41.333333333333336,
          19,
          36.111111111111114,
          35.45454545454545,
          31,
          27.09090909090909,
          35.77777777777778,
          31.61111111111111,
          18.3,
          33.2,
          21.095238095238095,
          34.18181818181818,
          23.73913043478261,
          37,
          29.210526315789473,
          40.6,
          39,
          19.894736842105264,
          33.5,
          37.333333333333336,
          15.38888888888889,
          28.6,
          36.166666666666664,
          13.65,
          35,
          40,
          36.72727272727273,
          37.42857142857143,
          27.818181818181817,
          29.9,
          26.5,
          17.705882352941178,
          36,
          29.608695652173914,
          35,
          23.083333333333332,
          37.2,
          27,
          30.5,
          33.285714285714285,
          29.333333333333332,
          36,
          36.6,
          28.8,
          12.090909090909092,
          32.666666666666664,
          16.25,
          14.6,
          19,
          28.833333333333332,
          33.4,
          13.083333333333334,
          33.2,
          23.833333333333332,
          34.6,
          38.714285714285715,
          32.4,
          25.6,
          27.4,
          29.25,
          10.5,
          18.333333333333332,
          34,
          23.4,
          38.5,
          12.11111111111111,
          24.875,
          12.416666666666666,
          17.083333333333332,
          16.285714285714285,
          38,
          16.923076923076923,
          30.4,
          19,
          8.285714285714286,
          10.083333333333334,
          26.4,
          23,
          17.166666666666668,
          24.666666666666668,
          27.666666666666668,
          9.222222222222221,
          20.75,
          21,
          32.4,
          28.4,
          12.444444444444445,
          25,
          23.25,
          17.833333333333332,
          30.333333333333332,
          21.5,
          26.5,
          13.181818181818182,
          26.714285714285715,
          14.6,
          23.25,
          27.25,
          20.166666666666668,
          11.727272727272727,
          22.2,
          14.75,
          13.428571428571429,
          11.444444444444445,
          18.333333333333332,
          23.2,
          7.4375,
          13,
          22.4,
          16.6,
          29.2,
          10.833333333333334,
          15.4,
          19.8,
          17.6,
          12,
          14.25,
          27.6,
          9.75,
          18.4,
          6.8,
          8.4,
          7.428571428571429,
          15.333333333333334,
          24,
          15,
          6.571428571428571,
          11.4,
          13.4,
          10.357142857142858,
          8.625,
          15,
          4.4,
          17.75,
          6.2,
          9.4,
          10.5,
          4.545454545454546,
          3.6,
          4.2,
          11.2,
          7.2,
          9,
          9.5,
          4.444444444444445,
          3.4615384615384617,
          4.6,
          23.333333333333332,
          8.5,
          2.4285714285714284,
          3.5714285714285716,
          1.6,
          5,
          4,
          9,
          2,
          9,
          3.142857142857143,
          3,
          6.6,
          6.8,
          2.3333333333333335,
          2.5,
          2.5,
          3.1666666666666665,
          1.875,
          4.666666666666667,
          3,
          3,
          3.75,
          7.333333333333333,
          5.8,
          5,
          5.666666666666667,
          2.3333333333333335,
          3.6666666666666665,
          2,
          2.5,
          1.6666666666666667,
          2.5,
          4.5,
          5,
          2.25,
          7.5,
          6,
          6.5,
          6,
          8.5,
          6,
          8.25,
          2,
          4,
          2.5,
          2.5,
          1.3333333333333333,
          3,
          3,
          2.3333333333333335,
          3,
          5.125,
          6.333333333333333,
          40.958333333333336,
          34.72727272727273,
          38.333333333333336,
          36.8,
          37,
          36,
          34.94444444444444,
          37.333333333333336,
          27.5,
          34.86363636363637,
          36.19047619047619,
          35.43478260869565,
          34.111111111111114,
          27.833333333333332,
          40.416666666666664,
          37.55555555555556,
          38.5,
          30.53846153846154,
          36.6,
          38.583333333333336,
          34.46153846153846,
          35.666666666666664,
          39.916666666666664,
          38.22222222222222,
          27.25,
          38.833333333333336,
          25.434782608695652,
          29.055555555555557,
          39.27777777777778,
          25.4,
          27.666666666666668,
          31.954545454545453,
          38.46153846153846,
          39.333333333333336,
          30.454545454545453,
          24.533333333333335,
          25.38888888888889,
          34.2,
          38.333333333333336,
          37.833333333333336,
          24.666666666666668,
          23.5,
          28.27777777777778,
          24.615384615384617,
          43.333333333333336,
          39,
          37,
          23.176470588235293,
          24.833333333333332,
          27.666666666666668,
          20.363636363636363,
          29.46153846153846,
          26.5,
          12.875,
          21.833333333333332,
          35.666666666666664,
          35,
          28.333333333333332,
          44,
          40.6,
          36.166666666666664,
          26.583333333333332,
          19.526315789473685,
          25.416666666666668,
          36.2,
          33.166666666666664,
          29.166666666666668,
          42.5,
          8.625,
          11.083333333333334,
          16.916666666666668,
          29.5,
          37.4,
          38.25,
          12.294117647058824,
          28.75,
          10.666666666666666,
          12.23076923076923,
          32.666666666666664,
          18.416666666666668,
          32.833333333333336,
          31.2,
          32,
          12.5,
          34.4,
          16.8,
          21.666666666666668,
          32.333333333333336,
          37.666666666666664,
          27.833333333333332,
          13.166666666666666,
          30.6,
          13.833333333333334,
          16.5,
          33,
          26.75,
          34.75,
          17,
          21.666666666666668,
          35,
          21.666666666666668,
          29,
          13.23076923076923,
          11.4,
          9.857142857142858,
          16,
          22.4,
          19.833333333333332,
          33.25,
          19.5,
          24.4,
          17.4,
          30.8,
          11.666666666666666,
          10,
          19.6,
          19.75,
          24.5,
          27.4,
          8.076923076923077,
          15.444444444444445,
          31.333333333333332,
          13.833333333333334,
          21.5,
          7.75,
          3.7,
          16.6,
          20,
          13,
          35.5,
          6.777777777777778,
          15.222222222222221,
          18.666666666666668,
          21.6,
          28.25,
          9.555555555555555,
          4.222222222222222,
          18,
          10,
          10.8,
          16.285714285714285,
          10.416666666666666,
          11.454545454545455,
          7.5625,
          4.5,
          3.3333333333333335,
          21.6,
          17.2,
          15.2,
          13.8,
          14.5,
          7.666666666666667,
          11.8,
          22.6,
          10.5,
          9.333333333333334,
          15,
          9.333333333333334,
          3.75,
          3.7142857142857144,
          1.8461538461538463,
          3.466666666666667,
          12.333333333333334,
          8.714285714285714,
          10.833333333333334,
          3.5,
          2.888888888888889,
          10.333333333333334,
          4,
          3.875,
          7,
          3.6666666666666665,
          12.5,
          6,
          1.7777777777777777,
          2,
          7.333333333333333,
          14.4,
          2.111111111111111,
          2.6,
          12,
          15.2,
          2.142857142857143,
          2.4285714285714284,
          5,
          2.142857142857143,
          2.5,
          5.5,
          4.5,
          2,
          20,
          4,
          3.5,
          2.5,
          7.6,
          2.5,
          5,
          4.5,
          4,
          2.375,
          4.5,
          1.6666666666666667,
          1.6666666666666667,
          2,
          3.25,
          4.5,
          5,
          3.5,
          6,
          6
         ],
         "xbins": {
          "end": 46,
          "size": 1,
          "start": 0
         }
        }
       ],
       "layout": {
        "autosize": true,
        "barmode": "overlay",
        "template": {
         "data": {
          "bar": [
           {
            "error_x": {
             "color": "#2a3f5f"
            },
            "error_y": {
             "color": "#2a3f5f"
            },
            "marker": {
             "line": {
              "color": "#E5ECF6",
              "width": 0.5
             },
             "pattern": {
              "fillmode": "overlay",
              "size": 10,
              "solidity": 0.2
             }
            },
            "type": "bar"
           }
          ],
          "barpolar": [
           {
            "marker": {
             "line": {
              "color": "#E5ECF6",
              "width": 0.5
             },
             "pattern": {
              "fillmode": "overlay",
              "size": 10,
              "solidity": 0.2
             }
            },
            "type": "barpolar"
           }
          ],
          "carpet": [
           {
            "aaxis": {
             "endlinecolor": "#2a3f5f",
             "gridcolor": "white",
             "linecolor": "white",
             "minorgridcolor": "white",
             "startlinecolor": "#2a3f5f"
            },
            "baxis": {
             "endlinecolor": "#2a3f5f",
             "gridcolor": "white",
             "linecolor": "white",
             "minorgridcolor": "white",
             "startlinecolor": "#2a3f5f"
            },
            "type": "carpet"
           }
          ],
          "choropleth": [
           {
            "colorbar": {
             "outlinewidth": 0,
             "ticks": ""
            },
            "type": "choropleth"
           }
          ],
          "contour": [
           {
            "colorbar": {
             "outlinewidth": 0,
             "ticks": ""
            },
            "colorscale": [
             [
              0,
              "#0d0887"
             ],
             [
              0.1111111111111111,
              "#46039f"
             ],
             [
              0.2222222222222222,
              "#7201a8"
             ],
             [
              0.3333333333333333,
              "#9c179e"
             ],
             [
              0.4444444444444444,
              "#bd3786"
             ],
             [
              0.5555555555555556,
              "#d8576b"
             ],
             [
              0.6666666666666666,
              "#ed7953"
             ],
             [
              0.7777777777777778,
              "#fb9f3a"
             ],
             [
              0.8888888888888888,
              "#fdca26"
             ],
             [
              1,
              "#f0f921"
             ]
            ],
            "type": "contour"
           }
          ],
          "contourcarpet": [
           {
            "colorbar": {
             "outlinewidth": 0,
             "ticks": ""
            },
            "type": "contourcarpet"
           }
          ],
          "heatmap": [
           {
            "colorbar": {
             "outlinewidth": 0,
             "ticks": ""
            },
            "colorscale": [
             [
              0,
              "#0d0887"
             ],
             [
              0.1111111111111111,
              "#46039f"
             ],
             [
              0.2222222222222222,
              "#7201a8"
             ],
             [
              0.3333333333333333,
              "#9c179e"
             ],
             [
              0.4444444444444444,
              "#bd3786"
             ],
             [
              0.5555555555555556,
              "#d8576b"
             ],
             [
              0.6666666666666666,
              "#ed7953"
             ],
             [
              0.7777777777777778,
              "#fb9f3a"
             ],
             [
              0.8888888888888888,
              "#fdca26"
             ],
             [
              1,
              "#f0f921"
             ]
            ],
            "type": "heatmap"
           }
          ],
          "heatmapgl": [
           {
            "colorbar": {
             "outlinewidth": 0,
             "ticks": ""
            },
            "colorscale": [
             [
              0,
              "#0d0887"
             ],
             [
              0.1111111111111111,
              "#46039f"
             ],
             [
              0.2222222222222222,
              "#7201a8"
             ],
             [
              0.3333333333333333,
              "#9c179e"
             ],
             [
              0.4444444444444444,
              "#bd3786"
             ],
             [
              0.5555555555555556,
              "#d8576b"
             ],
             [
              0.6666666666666666,
              "#ed7953"
             ],
             [
              0.7777777777777778,
              "#fb9f3a"
             ],
             [
              0.8888888888888888,
              "#fdca26"
             ],
             [
              1,
              "#f0f921"
             ]
            ],
            "type": "heatmapgl"
           }
          ],
          "histogram": [
           {
            "marker": {
             "pattern": {
              "fillmode": "overlay",
              "size": 10,
              "solidity": 0.2
             }
            },
            "type": "histogram"
           }
          ],
          "histogram2d": [
           {
            "colorbar": {
             "outlinewidth": 0,
             "ticks": ""
            },
            "colorscale": [
             [
              0,
              "#0d0887"
             ],
             [
              0.1111111111111111,
              "#46039f"
             ],
             [
              0.2222222222222222,
              "#7201a8"
             ],
             [
              0.3333333333333333,
              "#9c179e"
             ],
             [
              0.4444444444444444,
              "#bd3786"
             ],
             [
              0.5555555555555556,
              "#d8576b"
             ],
             [
              0.6666666666666666,
              "#ed7953"
             ],
             [
              0.7777777777777778,
              "#fb9f3a"
             ],
             [
              0.8888888888888888,
              "#fdca26"
             ],
             [
              1,
              "#f0f921"
             ]
            ],
            "type": "histogram2d"
           }
          ],
          "histogram2dcontour": [
           {
            "colorbar": {
             "outlinewidth": 0,
             "ticks": ""
            },
            "colorscale": [
             [
              0,
              "#0d0887"
             ],
             [
              0.1111111111111111,
              "#46039f"
             ],
             [
              0.2222222222222222,
              "#7201a8"
             ],
             [
              0.3333333333333333,
              "#9c179e"
             ],
             [
              0.4444444444444444,
              "#bd3786"
             ],
             [
              0.5555555555555556,
              "#d8576b"
             ],
             [
              0.6666666666666666,
              "#ed7953"
             ],
             [
              0.7777777777777778,
              "#fb9f3a"
             ],
             [
              0.8888888888888888,
              "#fdca26"
             ],
             [
              1,
              "#f0f921"
             ]
            ],
            "type": "histogram2dcontour"
           }
          ],
          "mesh3d": [
           {
            "colorbar": {
             "outlinewidth": 0,
             "ticks": ""
            },
            "type": "mesh3d"
           }
          ],
          "parcoords": [
           {
            "line": {
             "colorbar": {
              "outlinewidth": 0,
              "ticks": ""
             }
            },
            "type": "parcoords"
           }
          ],
          "pie": [
           {
            "automargin": true,
            "type": "pie"
           }
          ],
          "scatter": [
           {
            "fillpattern": {
             "fillmode": "overlay",
             "size": 10,
             "solidity": 0.2
            },
            "type": "scatter"
           }
          ],
          "scatter3d": [
           {
            "line": {
             "colorbar": {
              "outlinewidth": 0,
              "ticks": ""
             }
            },
            "marker": {
             "colorbar": {
              "outlinewidth": 0,
              "ticks": ""
             }
            },
            "type": "scatter3d"
           }
          ],
          "scattercarpet": [
           {
            "marker": {
             "colorbar": {
              "outlinewidth": 0,
              "ticks": ""
             }
            },
            "type": "scattercarpet"
           }
          ],
          "scattergeo": [
           {
            "marker": {
             "colorbar": {
              "outlinewidth": 0,
              "ticks": ""
             }
            },
            "type": "scattergeo"
           }
          ],
          "scattergl": [
           {
            "marker": {
             "colorbar": {
              "outlinewidth": 0,
              "ticks": ""
             }
            },
            "type": "scattergl"
           }
          ],
          "scattermapbox": [
           {
            "marker": {
             "colorbar": {
              "outlinewidth": 0,
              "ticks": ""
             }
            },
            "type": "scattermapbox"
           }
          ],
          "scatterpolar": [
           {
            "marker": {
             "colorbar": {
              "outlinewidth": 0,
              "ticks": ""
             }
            },
            "type": "scatterpolar"
           }
          ],
          "scatterpolargl": [
           {
            "marker": {
             "colorbar": {
              "outlinewidth": 0,
              "ticks": ""
             }
            },
            "type": "scatterpolargl"
           }
          ],
          "scatterternary": [
           {
            "marker": {
             "colorbar": {
              "outlinewidth": 0,
              "ticks": ""
             }
            },
            "type": "scatterternary"
           }
          ],
          "surface": [
           {
            "colorbar": {
             "outlinewidth": 0,
             "ticks": ""
            },
            "colorscale": [
             [
              0,
              "#0d0887"
             ],
             [
              0.1111111111111111,
              "#46039f"
             ],
             [
              0.2222222222222222,
              "#7201a8"
             ],
             [
              0.3333333333333333,
              "#9c179e"
             ],
             [
              0.4444444444444444,
              "#bd3786"
             ],
             [
              0.5555555555555556,
              "#d8576b"
             ],
             [
              0.6666666666666666,
              "#ed7953"
             ],
             [
              0.7777777777777778,
              "#fb9f3a"
             ],
             [
              0.8888888888888888,
              "#fdca26"
             ],
             [
              1,
              "#f0f921"
             ]
            ],
            "type": "surface"
           }
          ],
          "table": [
           {
            "cells": {
             "fill": {
              "color": "#EBF0F8"
             },
             "line": {
              "color": "white"
             }
            },
            "header": {
             "fill": {
              "color": "#C8D4E3"
             },
             "line": {
              "color": "white"
             }
            },
            "type": "table"
           }
          ]
         },
         "layout": {
          "annotationdefaults": {
           "arrowcolor": "#2a3f5f",
           "arrowhead": 0,
           "arrowwidth": 1
          },
          "autotypenumbers": "strict",
          "coloraxis": {
           "colorbar": {
            "outlinewidth": 0,
            "ticks": ""
           }
          },
          "colorscale": {
           "diverging": [
            [
             0,
             "#8e0152"
            ],
            [
             0.1,
             "#c51b7d"
            ],
            [
             0.2,
             "#de77ae"
            ],
            [
             0.3,
             "#f1b6da"
            ],
            [
             0.4,
             "#fde0ef"
            ],
            [
             0.5,
             "#f7f7f7"
            ],
            [
             0.6,
             "#e6f5d0"
            ],
            [
             0.7,
             "#b8e186"
            ],
            [
             0.8,
             "#7fbc41"
            ],
            [
             0.9,
             "#4d9221"
            ],
            [
             1,
             "#276419"
            ]
           ],
           "sequential": [
            [
             0,
             "#0d0887"
            ],
            [
             0.1111111111111111,
             "#46039f"
            ],
            [
             0.2222222222222222,
             "#7201a8"
            ],
            [
             0.3333333333333333,
             "#9c179e"
            ],
            [
             0.4444444444444444,
             "#bd3786"
            ],
            [
             0.5555555555555556,
             "#d8576b"
            ],
            [
             0.6666666666666666,
             "#ed7953"
            ],
            [
             0.7777777777777778,
             "#fb9f3a"
            ],
            [
             0.8888888888888888,
             "#fdca26"
            ],
            [
             1,
             "#f0f921"
            ]
           ],
           "sequentialminus": [
            [
             0,
             "#0d0887"
            ],
            [
             0.1111111111111111,
             "#46039f"
            ],
            [
             0.2222222222222222,
             "#7201a8"
            ],
            [
             0.3333333333333333,
             "#9c179e"
            ],
            [
             0.4444444444444444,
             "#bd3786"
            ],
            [
             0.5555555555555556,
             "#d8576b"
            ],
            [
             0.6666666666666666,
             "#ed7953"
            ],
            [
             0.7777777777777778,
             "#fb9f3a"
            ],
            [
             0.8888888888888888,
             "#fdca26"
            ],
            [
             1,
             "#f0f921"
            ]
           ]
          },
          "colorway": [
           "#636efa",
           "#EF553B",
           "#00cc96",
           "#ab63fa",
           "#FFA15A",
           "#19d3f3",
           "#FF6692",
           "#B6E880",
           "#FF97FF",
           "#FECB52"
          ],
          "font": {
           "color": "#2a3f5f"
          },
          "geo": {
           "bgcolor": "white",
           "lakecolor": "white",
           "landcolor": "#E5ECF6",
           "showlakes": true,
           "showland": true,
           "subunitcolor": "white"
          },
          "hoverlabel": {
           "align": "left"
          },
          "hovermode": "closest",
          "mapbox": {
           "style": "light"
          },
          "paper_bgcolor": "white",
          "plot_bgcolor": "#E5ECF6",
          "polar": {
           "angularaxis": {
            "gridcolor": "white",
            "linecolor": "white",
            "ticks": ""
           },
           "bgcolor": "#E5ECF6",
           "radialaxis": {
            "gridcolor": "white",
            "linecolor": "white",
            "ticks": ""
           }
          },
          "scene": {
           "xaxis": {
            "backgroundcolor": "#E5ECF6",
            "gridcolor": "white",
            "gridwidth": 2,
            "linecolor": "white",
            "showbackground": true,
            "ticks": "",
            "zerolinecolor": "white"
           },
           "yaxis": {
            "backgroundcolor": "#E5ECF6",
            "gridcolor": "white",
            "gridwidth": 2,
            "linecolor": "white",
            "showbackground": true,
            "ticks": "",
            "zerolinecolor": "white"
           },
           "zaxis": {
            "backgroundcolor": "#E5ECF6",
            "gridcolor": "white",
            "gridwidth": 2,
            "linecolor": "white",
            "showbackground": true,
            "ticks": "",
            "zerolinecolor": "white"
           }
          },
          "shapedefaults": {
           "line": {
            "color": "#2a3f5f"
           }
          },
          "ternary": {
           "aaxis": {
            "gridcolor": "white",
            "linecolor": "white",
            "ticks": ""
           },
           "baxis": {
            "gridcolor": "white",
            "linecolor": "white",
            "ticks": ""
           },
           "bgcolor": "#E5ECF6",
           "caxis": {
            "gridcolor": "white",
            "linecolor": "white",
            "ticks": ""
           }
          },
          "title": {
           "x": 0.05
          },
          "xaxis": {
           "automargin": true,
           "gridcolor": "white",
           "linecolor": "white",
           "ticks": "",
           "title": {
            "standoff": 15
           },
           "zerolinecolor": "white",
           "zerolinewidth": 2
          },
          "yaxis": {
           "automargin": true,
           "gridcolor": "white",
           "linecolor": "white",
           "ticks": "",
           "title": {
            "standoff": 15
           },
           "zerolinecolor": "white",
           "zerolinewidth": 2
          }
         }
        },
        "xaxis": {
         "autorange": true,
         "range": [
          1,
          45
         ],
         "type": "linear"
        },
        "yaxis": {
         "autorange": true,
         "range": [
          0,
          4.938620008466206
         ]
        }
       }
      },
      "image/png": "[encoded data removed]",
      "text/html": [
       "<div>                            <div id=\"f8eaf277-1341-4d6d-afe5-acfa6f1b09f1\" class=\"plotly-graph-div\" style=\"height:525px; width:100%;\"></div>            <script type=\"text/javascript\">                require([\"plotly\"], function(Plotly) {                    window.PLOTLYENV=window.PLOTLYENV || {};                                    if (document.getElementById(\"f8eaf277-1341-4d6d-afe5-acfa6f1b09f1\")) {                    Plotly.newPlot(                        \"f8eaf277-1341-4d6d-afe5-acfa6f1b09f1\",                        [{\"histnorm\":\"percent\",\"name\":\"RS\",\"x\":[36.51470588235294,37.484848484848484,35.885714285714286,30.428571428571427,35.333333333333336,33.557377049180324,36.01754385964912,34.56716417910448,34.26086956521739,34.37096774193548,36.52857142857143,35.94736842105263,34.31818181818182,32.421052631578945,34.75,34.05882352941177,33.91935483870968,31.986301369863014,34.291666666666664,30.77777777777778,35.166666666666664,32.96923076923077,34.68571428571428,32.865671641791046,31.15625,29.887096774193548,33.06349206349206,32.5,31.542857142857144,30.753846153846155,31.454545454545453,32.225806451612904,30.955223880597014,28.676923076923078,28.931506849315067,34.425925925925924,27.761904761904763,29.529411764705884,34.704918032786885,31.82456140350877,29.580645161290324,33.92982456140351,33.775862068965516,34.82258064516129,33.56944444444444,35.095238095238095,31.107142857142858,34.36507936507937,36.172413793103445,29.450704225352112,32.271186440677965,24.014084507042252,32.03921568627451,34.47222222222222,34.517857142857146,26.357142857142858,29.970149253731343,32.266666666666666,31.225806451612904,29.5625,34.30882352941177,29.28358208955224,27.3768115942029,32.94736842105263,33.094339622641506,30.768115942028984,26.575757575757574,28.45614035087719,31.785714285714285,29.671232876712327,28.1864406779661,35.7037037037037,35.3859649122807,33.91428571428571,28.950819672131146,26.35,26.983606557377048,33.46153846153846,25.96,32.793103448275865,32.53225806451613,30.85185185185185,33.24390243902439,33.03448275862069,27.72222222222222,30.52857142857143,25.753846153846155,26.64788732394366,31.015384615384615,27.0,30.70769230769231,29.555555555555557,27.566666666666666,29.314814814814813,27.930555555555557,28.442307692307693,26.720588235294116,21.370967741935484,30.428571428571427,30.238805970149254,24.625,25.016393442622952,32.03174603174603,31.983333333333334,26.457142857142856,29.015625,22.5,24.66176470588235,30.78181818181818,29.451612903225808,32.142857142857146,27.418181818181818,26.279411764705884,29.84,29.942028985507246,30.915254237288135,28.806451612903224,21.80597014925373,25.560606060606062,29.384615384615383,25.82608695652174,22.802816901408452,19.884057971014492,30.32758620689655,25.063492063492063,29.680555555555557,24.727272727272727,21.65277777777778,22.413793103448278,32.526315789473685,28.846153846153847,31.428571428571427,26.682539682539684,30.210526315789473,29.859154929577464,25.78787878787879,29.0,25.54054054054054,21.12121212121212,27.972602739726028,30.365079365079364,22.424657534246574,24.859375,27.0,30.083333333333332,25.536231884057973,28.892307692307693,23.120689655172413,27.903225806451612,24.8135593220339,24.5,29.040816326530614,21.98181818181818,26.74137931034483,23.03030303030303,24.934782608695652,25.013698630136986,24.092307692307692,24.912280701754387,24.823529411764707,23.441176470588236,18.416666666666668,24.313725490196077,23.147540983606557,31.785714285714285,23.904761904761905,20.7,24.017857142857142,28.065217391304348,26.285714285714285,21.254545454545454,20.482758620689655,21.54237288135593,19.402985074626866,32.9,20.271186440677965,24.808823529411764,32.794871794871796,16.791666666666668,21.83606557377049,27.833333333333332,28.227272727272727,24.951612903225808,24.157894736842106,28.22222222222222,28.17241379310345,18.92753623188406,16.418181818181818,22.017543859649123,21.506849315068493,22.589285714285715,22.350877192982455,23.305084745762713,34.263888888888886,23.24,24.402985074626866,27.39622641509434,23.125,19.281690140845072,18.953846153846154,29.209302325581394,22.238095238095237,27.8135593220339,16.875,16.948275862068964,18.214285714285715,17.92982456140351,22.035714285714285,17.41269841269841,18.676056338028168,24.352941176470587,24.430555555555557,19.45,18.347826086956523,20.0,28.859154929577464,27.68888888888889,18.475409836065573,16.61764705882353,32.92857142857143,17.654545454545456,17.327868852459016,20.746031746031747,21.216216216216218,24.20408163265306,28.150943396226417,17.93846153846154,18.7,15.65079365079365,13.209677419354838,17.75,26.313725490196077,28.823529411764707,20.174603174603174,15.74074074074074,17.366666666666667,19.41509433962264,18.555555555555557,13.984848484848484,19.850746268656717,20.314814814814813,16.19672131147541,16.551724137931036,16.532258064516128,19.923076923076923,20.125,26.525,24.88235294117647,17.742424242424242,13.508474576271187,18.081632653061224,23.967741935483872,18.148936170212767,15.491228070175438,16.076923076923077,18.55223880597015,20.82456140350877,23.016129032258064,14.515151515151516,18.359375,15.763636363636364,28.41860465116279,19.46551724137931,18.508196721311474,20.5,22.555555555555557,14.161290322580646,26.386363636363637,18.894736842105264,18.939393939393938,18.511111111111113,18.440677966101696,17.416666666666668,15.53968253968254,19.47826086956522,14.5,18.482758620689655,20.274509803921568,16.12727272727273,19.8,18.326923076923077,14.6,13.152542372881356,9.590909090909092,17.375,16.90909090909091,16.29310344827586,11.431034482758621,21.263157894736842,12.933333333333334,28.444444444444443,12.37037037037037,27.789473684210527,18.17948717948718,19.375,16.5,12.574468085106384,14.75,16.03448275862069,17.59090909090909,16.433962264150942,21.27906976744186,13.555555555555555,22.77777777777778,15.566666666666666,19.842105263157894,16.89090909090909,15.757575757575758,12.732142857142858,18.8125,15.115942028985508,14.652173913043478,23.586206896551722,29.476190476190474,19.666666666666668,12.170212765957446,17.615384615384617,11.545454545454545,15.517241379310345,15.0,14.162790697674419,22.446428571428573,10.191489361702128,13.072727272727272,18.821428571428573,10.6,15.527777777777779,14.553191489361701,19.208333333333332,21.956521739130434,11.255813953488373,12.647058823529411,20.97142857142857,10.731707317073171,15.854545454545455,11.319148936170214,17.318181818181817,15.96774193548387,12.175,17.181818181818183,12.096774193548388,15.794117647058824,15.553571428571429,25.692307692307693,18.48,15.5,14.825,14.403508771929825,11.0,17.64864864864865,8.722222222222221,11.916666666666666,24.54054054054054,14.206896551724139,23.642857142857142,9.75,8.818181818181818,13.885714285714286,16.185185185185187,13.476190476190476,13.852941176470589,12.125,17.705882352941178,14.419354838709678,13.379310344827585,14.321428571428571,31.625,21.333333333333332,7.863636363636363,9.81081081081081,10.5,14.413793103448276,32.0,9.486486486486486,11.06060606060606,14.89655172413793,17.61111111111111,20.7,14.375,17.875,12.363636363636363,11.565217391304348,13.4,9.153846153846153,27.8,10.793103448275861,10.580645161290322,11.151515151515152,8.829268292682928,12.61111111111111,13.148148148148149,19.904761904761905,10.045454545454545,8.827586206896552,10.634146341463415,8.133333333333333,18.3125,6.444444444444445,22.875,12.083333333333334,17.545454545454547,7.928571428571429,22.954545454545453,11.5625,21.11111111111111,29.142857142857142,26.363636363636363,10.588235294117647,20.923076923076923,8.088888888888889,13.1,12.466666666666667,10.666666666666666,16.1,11.0,7.833333333333333,13.210526315789474,13.11111111111111,8.05,11.24,6.0,9.928571428571429,8.833333333333334,5.833333333333333,10.066666666666666,9.666666666666666,6.45,18.53846153846154,9.526315789473685,9.538461538461538,10.821428571428571,10.846153846153847,11.7,12.0,5.333333333333333,5.909090909090909,12.428571428571429,6.631578947368421,10.818181818181818,11.428571428571429,14.777777777777779,7.923076923076923,7.105263157894737,6.380952380952381,5.833333333333333,5.785714285714286,10.9,6.9411764705882355,13.5,8.423076923076923,10.181818181818182,8.7,8.3,10.7,13.333333333333334,11.153846153846153,10.666666666666666,14.0,4.153846153846154,9.222222222222221,12.428571428571429,5.916666666666667,7.363636363636363,6.2,7.571428571428571,5.888888888888889,13.166666666666666,5.2,7.625,4.111111111111111,7.75,10.8,10.0,5.0,5.3,7.090909090909091,34.15873015873016,35.791044776119406,34.55555555555556,35.78333333333333,34.27272727272727,33.0,33.88059701492537,37.563380281690144,35.78125,33.21311475409836,33.542857142857144,33.73015873015873,35.06896551724138,35.10344827586207,35.25,31.07843137254902,34.925925925925924,34.295081967213115,36.44615384615385,34.46551724137931,34.53623188405797,33.41509433962264,32.138888888888886,33.36764705882353,33.29577464788732,33.704918032786885,34.07692307692308,31.971014492753625,34.875,35.983870967741936,33.72222222222222,26.735294117647058,33.78,30.77777777777778,32.483870967741936,33.870370370370374,32.58730158730159,33.484375,35.82142857142857,34.464285714285715,34.267605633802816,28.357142857142858,31.34426229508197,29.80597014925373,31.428571428571427,33.422222222222224,33.55769230769231,29.333333333333332,34.04255319148936,36.56818181818182,28.306451612903224,31.925373134328357,32.32203389830509,31.246376811594203,36.51923076923077,35.5,30.802816901408452,30.652173913043477,31.043478260869566,32.611111111111114,30.126984126984127,31.595744680851062,28.52857142857143,33.05714285714286,31.416666666666668,33.148148148148145,32.0655737704918,36.241379310344826,22.89855072463768,24.492753623188406,24.53030303030303,31.06896551724138,28.52173913043478,28.735294117647058,29.746478873239436,29.19672131147541,30.86046511627907,34.0,32.34146341463415,27.17142857142857,24.955882352941178,27.271428571428572,27.347826086956523,30.69090909090909,29.272727272727273,33.714285714285715,32.36206896551724,31.837209302325583,25.161290322580644,29.372549019607842,30.53125,32.2,24.294117647058822,30.81159420289855,24.216666666666665,23.19047619047619,30.163636363636364,29.464285714285715,30.27777777777778,27.865671641791046,24.40277777777778,29.58730158730159,28.80392156862745,31.763636363636362,28.476190476190474,29.185714285714287,34.82608695652174,31.526315789473685,25.73611111111111,32.27777777777778,19.242857142857144,26.350877192982455,30.319444444444443,20.78787878787879,31.163636363636364,30.103448275862068,26.985294117647058,21.560606060606062,24.779411764705884,25.58,19.4375,29.673076923076923,32.810810810810814,29.65909090909091,29.976190476190474,29.282608695652176,21.555555555555557,30.338983050847457,23.044776119402986,28.736842105263158,31.0,29.984615384615385,19.34285714285714,25.823529411764707,27.5,27.0,33.325581395348834,23.96078431372549,26.74,25.366666666666667,27.353846153846153,25.68421052631579,27.929577464788732,28.028985507246375,28.388059701492537,32.72727272727273,22.34722222222222,32.43283582089552,27.746031746031747,19.070422535211268,23.555555555555557,24.630769230769232,32.9375,22.33823529411765,25.612244897959183,27.68,25.610169491525422,19.372549019607842,23.983050847457626,25.86046511627907,25.462962962962962,27.085106382978722,23.576923076923077,27.466666666666665,26.028985507246375,26.73913043478261,32.042857142857144,30.95744680851064,32.016666666666666,20.06153846153846,26.058823529411764,26.767857142857142,22.323076923076922,23.95,23.0,20.060606060606062,21.921875,29.555555555555557,27.388059701492537,21.397058823529413,23.360655737704917,17.60655737704918,25.2,21.606060606060606,19.555555555555557,22.952380952380953,19.21212121212121,21.891304347826086,25.804347826086957,17.983333333333334,17.25,20.75,19.30909090909091,16.02777777777778,31.549295774647888,20.904761904761905,15.344262295081966,17.333333333333332,22.82089552238806,29.22222222222222,19.91044776119403,25.4468085106383,17.818181818181817,20.096153846153847,18.850746268656717,19.310344827586206,22.82608695652174,23.29268292682927,20.9375,16.066666666666666,21.435897435897434,22.53448275862069,31.46031746031746,17.47142857142857,22.0,19.80701754385965,27.67241379310345,17.42,28.72340425531915,32.15384615384615,23.984126984126984,21.859649122807017,23.783783783783782,15.296875,27.285714285714285,23.733333333333334,18.942307692307693,24.098039215686274,14.693548387096774,23.833333333333332,19.672131147540984,17.07547169811321,16.70967741935484,16.245283018867923,27.928571428571427,22.724137931034484,21.923076923076923,18.45,18.389830508474578,22.073170731707318,27.692307692307693,21.76,17.375,14.648148148148149,18.071428571428573,19.238095238095237,17.307692307692307,18.92982456140351,17.272727272727273,20.96551724137931,21.3953488372093,18.103448275862068,15.279411764705882,20.45098039215686,24.22222222222222,15.76086956521739,17.390243902439025,18.0,21.25,16.21875,17.41176470588235,19.74468085106383,26.82,23.87878787878788,25.923076923076923,25.177777777777777,19.23404255319149,24.048780487804876,29.47826086956522,17.796875,16.74074074074074,23.27777777777778,16.655172413793103,17.032258064516128,18.428571428571427,14.73913043478261,12.766666666666667,17.262295081967213,20.439393939393938,16.431818181818183,31.17142857142857,18.49056603773585,24.171875,21.323943661971832,20.28813559322034,25.88888888888889,13.981481481481481,15.212765957446809,16.044444444444444,19.717391304347824,24.88,12.081967213114755,20.90566037735849,16.285714285714285,21.0,18.063492063492063,19.058823529411764,15.166666666666666,28.846153846153847,23.47222222222222,15.517857142857142,28.033333333333335,17.09433962264151,19.482758620689655,22.513513513513512,22.633333333333333,21.253968253968253,25.806451612903224,16.06,21.678571428571427,16.270833333333332,16.491803278688526,20.414634146341463,15.433962264150944,19.096153846153847,22.4,16.964285714285715,14.552631578947368,18.392156862745097,27.516129032258064,19.96923076923077,11.016129032258064,19.0327868852459,21.106382978723403,11.95,21.875,17.145454545454545,16.970588235294116,13.1,16.08108108108108,17.08888888888889,20.8,12.152173913043478,13.0,12.466666666666667,13.933333333333334,24.714285714285715,13.191489361702128,12.02,13.555555555555555,26.0,13.333333333333334,14.543478260869565,14.46,16.705882352941178,18.5625,17.53846153846154,16.326923076923077,15.31578947368421,20.864864864864863,26.076923076923077,10.95,13.372093023255815,12.371428571428572,14.0,14.676470588235293,19.5,25.76923076923077,22.296296296296298,9.133333333333333,10.4375,9.666666666666666,12.475,11.047619047619047,16.548387096774192,15.382352941176471,14.791666666666666,23.454545454545453,9.228571428571428,8.212121212121213,13.65625,18.26086956521739,9.341463414634147,11.560975609756097,12.851851851851851,27.1,8.977272727272727,8.61111111111111,7.266666666666667,10.227272727272727,9.452380952380953,10.89655172413793,12.577777777777778,17.291666666666668,14.407407407407407,15.903225806451612,12.46875,8.454545454545455,8.151515151515152,8.903225806451612,12.133333333333333,6.615384615384615,9.333333333333334,16.043478260869566,16.76923076923077,16.842105263157894,15.565217391304348,13.125,19.6,11.0,9.157894736842104,13.84,11.193548387096774,5.54054054054054,9.61111111111111,26.875,18.869565217391305,11.41025641025641,18.153846153846153,9.153846153846153,13.146341463414634,13.23076923076923,7.17948717948718,10.5,7.27027027027027,12.08108108108108,19.153846153846153,12.125,9.757575757575758,7.766666666666667,10.545454545454545,6.8076923076923075,10.066666666666666,7.580645161290323,16.0,6.853658536585366,21.2,17.941176470588236,30.6,8.384615384615385,8.166666666666666,10.8,8.115384615384615,6.826086956521739,10.944444444444445,13.76923076923077,9.764705882352942,12.692307692307692,11.476190476190476,19.0,5.0,6.4,8.705882352941176,4.928571428571429,10.11111111111111,14.0,15.722222222222221,13.7,5.366666666666666,5.777777777777778,6.848484848484849,15.375,13.0,7.157894736842105,6.05,6.052631578947368,14.166666666666666,10.071428571428571,14.428571428571429,4.454545454545454,6.65,4.428571428571429,10.333333333333334,16.88888888888889,7.230769230769231,4.9,8.777777777777779,3.875,17.23076923076923,5.068965517241379,9.25,4.857142857142857,6.133333333333334,3.5555555555555554,5.9523809523809526,9.5,5.6,9.727272727272727,4.666666666666667,19.333333333333332,4.545454545454546,8.333333333333334,4.909090909090909,9.777777777777779,6.384615384615385,3.9444444444444446,9.0,3.8,4.0,13.666666666666666,3.5,7.625,4.411764705882353,3.7333333333333334,8.8,5.090909090909091,12.4,12.6,6.75,34.89473684210526,36.0921052631579,33.76470588235294,35.93421052631579,33.45945945945946,32.8955223880597,35.4,34.48529411764706,33.445945945945944,33.82089552238806,37.214285714285715,37.21818181818182,34.74626865671642,34.546875,35.4625,33.14035087719298,33.63636363636363,37.911764705882355,34.25,32.29333333333334,35.73529411764706,35.333333333333336,34.333333333333336,34.794117647058826,37.23076923076923,33.67123287671233,30.039473684210527,34.52857142857143,29.81578947368421,34.67857142857143,34.596774193548384,35.30508474576271,32.59090909090909,32.43939393939394,32.97560975609756,37.87692307692308,30.27027027027027,35.333333333333336,33.12328767123287,31.949367088607595,34.97142857142857,31.893333333333334,27.256410256410255,27.10126582278481,30.85185185185185,33.5974025974026,31.16,34.83561643835616,31.91780821917808,30.884057971014492,33.981818181818184,32.940298507462686,33.87719298245614,30.794117647058822,30.746835443037973,34.98701298701299,31.953846153846154,34.45161290322581,34.80487804878049,31.91044776119403,26.30263157894737,35.36486486486486,33.39393939393939,31.666666666666668,29.475,32.625,32.589285714285715,31.676923076923078,28.166666666666668,28.13157894736842,32.056338028169016,33.78260869565217,29.03921568627451,32.121212121212125,30.246753246753247,22.5,29.53448275862069,29.32,29.49122807017544,30.689655172413794,28.583333333333332,33.34375,32.90769230769231,25.0126582278481,29.349206349206348,31.262295081967213,29.85333333333333,28.617283950617285,23.098591549295776,29.870967741935484,35.975,35.1,28.962962962962962,25.985507246376812,26.358974358974358,29.567164179104477,28.970588235294116,32.32142857142857,31.914893617021278,28.44736842105263,30.78688524590164,29.56756756756757,23.102564102564102,33.05,32.64705882352941,30.796296296296298,27.281690140845072,28.604938271604937,28.71875,25.860759493670887,27.68,32.33802816901409,32.4,23.02857142857143,33.857142857142854,28.178571428571427,27.414285714285715,28.962962962962962,26.21212121212121,36.0,27.594594594594593,33.166666666666664,37.6551724137931,22.698630136986303,20.48,24.36842105263158,31.918367346938776,27.459016393442624,24.653333333333332,25.333333333333332,29.29824561403509,25.690140845070424,21.125,34.74193548387097,27.7972972972973,27.884057971014492,29.935897435897434,27.348484848484848,23.33823529411765,28.01818181818182,21.926829268292682,22.151515151515152,29.754716981132077,29.057971014492754,22.842105263157894,18.985507246376812,20.962025316455698,36.41379310344828,20.680555555555557,22.553846153846155,33.5,24.195121951219512,15.837837837837839,27.4025974025974,28.360655737704917,20.055555555555557,31.48148148148148,27.2,19.46875,24.615384615384617,23.63013698630137,17.14666666666667,20.078125,19.97142857142857,16.928571428571427,29.40625,26.338461538461537,17.083333333333332,24.63888888888889,25.757142857142856,26.015384615384615,15.779220779220779,21.879310344827587,23.38961038961039,28.149253731343283,21.21917808219178,22.984126984126984,22.03448275862069,22.783333333333335,22.71014492753623,23.34328358208955,25.666666666666668,22.340425531914892,29.57377049180328,24.985714285714284,27.323943661971832,24.350649350649352,29.642857142857142,25.183333333333334,23.36764705882353,27.65625,25.577464788732396,29.567164179104477,18.027027027027028,27.970588235294116,19.684931506849313,23.980392156862745,20.82608695652174,17.55223880597015,31.246753246753247,27.229166666666668,15.238095238095237,17.88235294117647,21.962264150943398,22.866666666666667,17.535211267605632,26.281690140845072,23.875,29.404761904761905,27.901408450704224,21.316666666666666,25.203703703703702,17.876923076923077,25.448275862068964,26.30263157894737,15.725806451612904,19.6,24.615384615384617,21.507246376811594,20.46153846153846,22.158730158730158,25.41891891891892,21.104477611940297,17.577464788732396,17.057971014492754,21.70967741935484,20.653061224489797,21.121951219512194,24.796610169491526,21.90625,19.112903225806452,24.561643835616437,22.476190476190474,20.166666666666668,18.11764705882353,23.369230769230768,23.866666666666667,19.952380952380953,20.21311475409836,34.628571428571426,18.160714285714285,21.066666666666666,24.954545454545453,16.78,21.436363636363637,18.87272727272727,28.529411764705884,23.24590163934426,14.098591549295774,16.08450704225352,16.19402985074627,25.62162162162162,14.9375,15.895522388059701,24.18,16.63768115942029,24.576271186440678,17.323076923076922,16.714285714285715,25.904761904761905,20.72340425531915,22.08955223880597,16.206349206349206,22.677419354838708,20.666666666666668,20.78723404255319,17.695652173913043,16.11111111111111,23.928571428571427,25.53030303030303,16.183333333333334,21.822580645161292,22.183673469387756,19.1,16.25925925925926,18.104166666666668,21.877551020408163,17.80392156862745,17.107142857142858,14.267857142857142,14.58,17.944444444444443,28.891304347826086,13.790697674418604,15.719298245614034,14.901960784313726,18.87012987012987,16.272727272727273,19.20967741935484,16.6875,20.24137931034483,16.220338983050848,12.706896551724139,23.203703703703702,13.935483870967742,18.215384615384615,15.444444444444445,16.274509803921568,24.933333333333334,16.25,22.608695652173914,22.791666666666668,15.507462686567164,21.636363636363637,13.381818181818181,14.392857142857142,24.46153846153846,17.866666666666667,26.666666666666668,18.610169491525422,27.975609756097562,12.607142857142858,13.616438356164384,15.027777777777779,16.054545454545455,15.62962962962963,19.3,18.837209302325583,17.627450980392158,18.321428571428573,20.5625,15.984848484848484,13.712121212121213,17.08695652173913,16.145833333333332,14.784313725490197,17.024390243902438,19.215686274509803,18.81081081081081,10.907407407407407,12.785714285714286,17.0,13.226415094339623,20.448979591836736,17.30952380952381,18.01818181818182,11.810344827586206,15.897435897435898,13.23913043478261,14.548387096774194,24.14814814814815,18.192307692307693,11.673076923076923,13.173076923076923,13.333333333333334,16.0625,17.928571428571427,18.382978723404257,10.5,14.055555555555555,12.761904761904763,13.916666666666666,16.324324324324323,12.958333333333334,17.27027027027027,16.71794871794872,10.875,16.25925925925926,18.6,12.21875,11.072727272727272,16.472727272727273,11.038461538461538,20.0,12.766666666666667,12.204545454545455,15.528301886792454,23.0,12.15625,17.897435897435898,15.136363636363637,10.522727272727273,17.6875,28.727272727272727,13.944444444444445,15.0,8.6,9.854166666666666,13.634615384615385,9.981818181818182,11.710526315789474,22.923076923076923,8.571428571428571,11.5,12.816326530612244,30.214285714285715,23.714285714285715,8.431818181818182,10.176470588235293,9.926829268292684,19.136363636363637,24.823529411764707,10.98,7.34,12.342105263157896,9.806451612903226,14.208333333333334,13.807692307692308,13.148148148148149,7.216216216216216,10.53061224489796,13.974358974358974,11.25,11.125,9.135135135135135,17.529411764705884,11.742857142857142,12.055555555555555,5.709677419354839,19.451612903225808,20.157894736842106,12.805555555555555,7.973684210526316,11.393939393939394,9.18,7.977777777777778,24.0,15.5,34.285714285714285,19.75,9.947368421052632,21.625,5.565217391304348,13.533333333333333,18.88888888888889,19.25,20.11111111111111,11.258064516129032,7.4,18.7,13.536585365853659,29.444444444444443,9.3,5.1,16.384615384615383,22.48,13.91304347826087,6.794117647058823,7.805555555555555,10.473684210526315,7.857142857142857,11.470588235294118,17.90909090909091,12.16,10.875,11.619047619047619,13.928571428571429,9.789473684210526,11.157894736842104,7.304347826086956,9.25,14.117647058823529,10.941176470588236,7.9393939393939394,10.0,6.076923076923077,11.733333333333333,7.068965517241379,7.052631578947368,12.117647058823529,13.7,14.461538461538462,9.333333333333334,17.22222222222222,5.454545454545454,11.764705882352942,29.0,21.375,13.538461538461538,6.885714285714286,6.722222222222222,7.7894736842105265,9.958333333333334,8.066666666666666,10.4,8.0,8.578947368421053,7.4,7.260869565217392,6.916666666666667,17.333333333333332,14.333333333333334,10.357142857142858,9.15,5.785714285714286,13.0,6.384615384615385,20.8,17.333333333333332,8.090909090909092,6.866666666666666,6.636363636363637,7.7272727272727275,8.0,6.483870967741935,9.1,9.666666666666666,3.0,5.0,13.222222222222221,4.2,14.2,6.166666666666667,12.0,8.0,15.166666666666666,12.5,7.6,4.5,14.8,15.285714285714286,10.666666666666666,4.7272727272727275,5.916666666666667,4.6,5.363636363636363,10.692307692307692],\"xbins\":{\"end\":46,\"size\":1,\"start\":0},\"type\":\"histogram\",\"opacity\":0.5},{\"histnorm\":\"percent\",\"name\":\"Playoffs\",\"x\":[36.61904761904762,36.285714285714285,39.63157894736842,38.38095238095238,36.526315789473685,40.588235294117645,39.529411764705884,39.30769230769231,37.333333333333336,36.1578947368421,33.666666666666664,36.94117647058823,32.529411764705884,36.84615384615385,37.714285714285715,31.428571428571427,38.11764705882353,28.571428571428573,30.77777777777778,28.952380952380953,34.36842105263158,39.09090909090909,23.736842105263158,23.047619047619047,34.166666666666664,35.5,37.54545454545455,38.0,35.833333333333336,21.36842105263158,25.0,26.23076923076923,22.818181818181817,32.8,29.846153846153847,28.352941176470587,24.157894736842106,37.285714285714285,24.818181818181817,24.6875,32.75,37.0,28.416666666666668,24.285714285714285,18.692307692307693,31.583333333333332,15.176470588235293,18.38095238095238,32.42857142857143,36.25,24.615384615384617,38.57142857142857,28.571428571428573,39.2,35.72727272727273,39.857142857142854,34.0,30.285714285714285,29.666666666666668,15.666666666666666,27.071428571428573,31.0,33.0,35.75,26.8,34.5,15.933333333333334,40.0,19.789473684210527,16.058823529411764,27.0,35.0,39.0,19.523809523809526,17.076923076923077,28.833333333333332,35.2,29.166666666666668,26.0,24.6,32.2,31.333333333333332,30.0,30.75,18.692307692307693,36.0,25.6,16.5,20.727272727272727,34.2,33.42857142857143,32.75,36.5,37.25,11.9,31.833333333333332,29.4,14.166666666666666,16.285714285714285,31.5,17.583333333333332,17.9,23.25,31.4,9.272727272727273,20.75,34.25,30.6,11.461538461538462,10.0,18.0,10.894736842105264,11.818181818181818,14.0,23.75,13.666666666666666,9.642857142857142,33.0,33.833333333333336,17.1,35.57142857142857,10.416666666666666,28.8,23.8,21.2,36.0,18.0,8.4,32.75,32.0,20.5,17.8,16.25,13.6,6.466666666666667,14.5,13.857142857142858,9.384615384615385,13.25,15.2,7.5,12.5,5.25,9.333333333333334,13.25,5.0,13.0,13.666666666666666,10.333333333333334,9.166666666666666,7.8,8.5,11.333333333333334,8.333333333333334,4.0,6.666666666666667,9.0,6.0,7.6,13.5,12.285714285714286,6.571428571428571,7.666666666666667,5.0,8.0,6.142857142857143,13.0,3.2,4.0,6.666666666666667,18.75,7.0,9.333333333333334,13.666666666666666,7.0,5.0,7.0,10.5,5.5,8.333333333333334,4.5,4.5,5.333333333333333,5.666666666666667,2.076923076923077,10.0,5.0,6.0,4.8,5.0,3.0,10.0,2.3333333333333335,3.5,3.0,4.5,6.5,3.4444444444444446,6.0,7.0,38.095238095238095,40.36363636363637,40.08695652173913,40.8421052631579,37.6875,40.416666666666664,39.65217391304348,34.15,36.40909090909091,32.73684210526316,39.27272727272727,34.6,32.45454545454545,29.0,34.5,36.5,33.22222222222222,32.0,40.142857142857146,32.13636363636363,33.13636363636363,31.789473684210527,24.555555555555557,31.75,41.333333333333336,19.0,36.111111111111114,35.45454545454545,31.0,27.09090909090909,35.77777777777778,31.61111111111111,18.3,33.2,21.095238095238095,34.18181818181818,23.73913043478261,37.0,29.210526315789473,40.6,39.0,19.894736842105264,33.5,37.333333333333336,15.38888888888889,28.6,36.166666666666664,13.65,35.0,40.0,36.72727272727273,37.42857142857143,27.818181818181817,29.9,26.5,17.705882352941178,36.0,29.608695652173914,35.0,23.083333333333332,37.2,27.0,30.5,33.285714285714285,29.333333333333332,36.0,36.6,28.8,12.090909090909092,32.666666666666664,16.25,14.6,19.0,28.833333333333332,33.4,13.083333333333334,33.2,23.833333333333332,34.6,38.714285714285715,32.4,25.6,27.4,29.25,10.5,18.333333333333332,34.0,23.4,38.5,12.11111111111111,24.875,12.416666666666666,17.083333333333332,16.285714285714285,38.0,16.923076923076923,30.4,19.0,8.285714285714286,10.083333333333334,26.4,23.0,17.166666666666668,24.666666666666668,27.666666666666668,9.222222222222221,20.75,21.0,32.4,28.4,12.444444444444445,25.0,23.25,17.833333333333332,30.333333333333332,21.5,26.5,13.181818181818182,26.714285714285715,14.6,23.25,27.25,20.166666666666668,11.727272727272727,22.2,14.75,13.428571428571429,11.444444444444445,18.333333333333332,23.2,7.4375,13.0,22.4,16.6,29.2,10.833333333333334,15.4,19.8,17.6,12.0,14.25,27.6,9.75,18.4,6.8,8.4,7.428571428571429,15.333333333333334,24.0,15.0,6.571428571428571,11.4,13.4,10.357142857142858,8.625,15.0,4.4,17.75,6.2,9.4,10.5,4.545454545454546,3.6,4.2,11.2,7.2,9.0,9.5,4.444444444444445,3.4615384615384617,4.6,23.333333333333332,8.5,2.4285714285714284,3.5714285714285716,1.6,5.0,4.0,9.0,2.0,9.0,3.142857142857143,3.0,6.6,6.8,2.3333333333333335,2.5,2.5,3.1666666666666665,1.875,4.666666666666667,3.0,3.0,3.75,7.333333333333333,5.8,5.0,5.666666666666667,2.3333333333333335,3.6666666666666665,2.0,2.5,1.6666666666666667,2.5,4.5,5.0,2.25,7.5,6.0,6.5,6.0,8.5,6.0,8.25,2.0,4.0,2.5,2.5,1.3333333333333333,3.0,3.0,2.3333333333333335,3.0,5.125,6.333333333333333,40.958333333333336,34.72727272727273,38.333333333333336,36.8,37.0,36.0,34.94444444444444,37.333333333333336,27.5,34.86363636363637,36.19047619047619,35.43478260869565,34.111111111111114,27.833333333333332,40.416666666666664,37.55555555555556,38.5,30.53846153846154,36.6,38.583333333333336,34.46153846153846,35.666666666666664,39.916666666666664,38.22222222222222,27.25,38.833333333333336,25.434782608695652,29.055555555555557,39.27777777777778,25.4,27.666666666666668,31.954545454545453,38.46153846153846,39.333333333333336,30.454545454545453,24.533333333333335,25.38888888888889,34.2,38.333333333333336,37.833333333333336,24.666666666666668,23.5,28.27777777777778,24.615384615384617,43.333333333333336,39.0,37.0,23.176470588235293,24.833333333333332,27.666666666666668,20.363636363636363,29.46153846153846,26.5,12.875,21.833333333333332,35.666666666666664,35.0,28.333333333333332,44.0,40.6,36.166666666666664,26.583333333333332,19.526315789473685,25.416666666666668,36.2,33.166666666666664,29.166666666666668,42.5,8.625,11.083333333333334,16.916666666666668,29.5,37.4,38.25,12.294117647058824,28.75,10.666666666666666,12.23076923076923,32.666666666666664,18.416666666666668,32.833333333333336,31.2,32.0,12.5,34.4,16.8,21.666666666666668,32.333333333333336,37.666666666666664,27.833333333333332,13.166666666666666,30.6,13.833333333333334,16.5,33.0,26.75,34.75,17.0,21.666666666666668,35.0,21.666666666666668,29.0,13.23076923076923,11.4,9.857142857142858,16.0,22.4,19.833333333333332,33.25,19.5,24.4,17.4,30.8,11.666666666666666,10.0,19.6,19.75,24.5,27.4,8.076923076923077,15.444444444444445,31.333333333333332,13.833333333333334,21.5,7.75,3.7,16.6,20.0,13.0,35.5,6.777777777777778,15.222222222222221,18.666666666666668,21.6,28.25,9.555555555555555,4.222222222222222,18.0,10.0,10.8,16.285714285714285,10.416666666666666,11.454545454545455,7.5625,4.5,3.3333333333333335,21.6,17.2,15.2,13.8,14.5,7.666666666666667,11.8,22.6,10.5,9.333333333333334,15.0,9.333333333333334,3.75,3.7142857142857144,1.8461538461538463,3.466666666666667,12.333333333333334,8.714285714285714,10.833333333333334,3.5,2.888888888888889,10.333333333333334,4.0,3.875,7.0,3.6666666666666665,12.5,6.0,1.7777777777777777,2.0,7.333333333333333,14.4,2.111111111111111,2.6,12.0,15.2,2.142857142857143,2.4285714285714284,5.0,2.142857142857143,2.5,5.5,4.5,2.0,20.0,4.0,3.5,2.5,7.6,2.5,5.0,4.5,4.0,2.375,4.5,1.6666666666666667,1.6666666666666667,2.0,3.25,4.5,5.0,3.5,6.0,6.0],\"xbins\":{\"end\":46,\"size\":1,\"start\":0},\"type\":\"histogram\",\"opacity\":0.5}],                        {\"template\":{\"data\":{\"histogram2dcontour\":[{\"type\":\"histogram2dcontour\",\"colorbar\":{\"outlinewidth\":0,\"ticks\":\"\"},\"colorscale\":[[0.0,\"#0d0887\"],[0.1111111111111111,\"#46039f\"],[0.2222222222222222,\"#7201a8\"],[0.3333333333333333,\"#9c179e\"],[0.4444444444444444,\"#bd3786\"],[0.5555555555555556,\"#d8576b\"],[0.6666666666666666,\"#ed7953\"],[0.7777777777777778,\"#fb9f3a\"],[0.8888888888888888,\"#fdca26\"],[1.0,\"#f0f921\"]]}],\"choropleth\":[{\"type\":\"choropleth\",\"colorbar\":{\"outlinewidth\":0,\"ticks\":\"\"}}],\"histogram2d\":[{\"type\":\"histogram2d\",\"colorbar\":{\"outlinewidth\":0,\"ticks\":\"\"},\"colorscale\":[[0.0,\"#0d0887\"],[0.1111111111111111,\"#46039f\"],[0.2222222222222222,\"#7201a8\"],[0.3333333333333333,\"#9c179e\"],[0.4444444444444444,\"#bd3786\"],[0.5555555555555556,\"#d8576b\"],[0.6666666666666666,\"#ed7953\"],[0.7777777777777778,\"#fb9f3a\"],[0.8888888888888888,\"#fdca26\"],[1.0,\"#f0f921\"]]}],\"heatmap\":[{\"type\":\"heatmap\",\"colorbar\":{\"outlinewidth\":0,\"ticks\":\"\"},\"colorscale\":[[0.0,\"#0d0887\"],[0.1111111111111111,\"#46039f\"],[0.2222222222222222,\"#7201a8\"],[0.3333333333333333,\"#9c179e\"],[0.4444444444444444,\"#bd3786\"],[0.5555555555555556,\"#d8576b\"],[0.6666666666666666,\"#ed7953\"],[0.7777777777777778,\"#fb9f3a\"],[0.8888888888888888,\"#fdca26\"],[1.0,\"#f0f921\"]]}],\"heatmapgl\":[{\"type\":\"heatmapgl\",\"colorbar\":{\"outlinewidth\":0,\"ticks\":\"\"},\"colorscale\":[[0.0,\"#0d0887\"],[0.1111111111111111,\"#46039f\"],[0.2222222222222222,\"#7201a8\"],[0.3333333333333333,\"#9c179e\"],[0.4444444444444444,\"#bd3786\"],[0.5555555555555556,\"#d8576b\"],[0.6666666666666666,\"#ed7953\"],[0.7777777777777778,\"#fb9f3a\"],[0.8888888888888888,\"#fdca26\"],[1.0,\"#f0f921\"]]}],\"contourcarpet\":[{\"type\":\"contourcarpet\",\"colorbar\":{\"outlinewidth\":0,\"ticks\":\"\"}}],\"contour\":[{\"type\":\"contour\",\"colorbar\":{\"outlinewidth\":0,\"ticks\":\"\"},\"colorscale\":[[0.0,\"#0d0887\"],[0.1111111111111111,\"#46039f\"],[0.2222222222222222,\"#7201a8\"],[0.3333333333333333,\"#9c179e\"],[0.4444444444444444,\"#bd3786\"],[0.5555555555555556,\"#d8576b\"],[0.6666666666666666,\"#ed7953\"],[0.7777777777777778,\"#fb9f3a\"],[0.8888888888888888,\"#fdca26\"],[1.0,\"#f0f921\"]]}],\"surface\":[{\"type\":\"surface\",\"colorbar\":{\"outlinewidth\":0,\"ticks\":\"\"},\"colorscale\":[[0.0,\"#0d0887\"],[0.1111111111111111,\"#46039f\"],[0.2222222222222222,\"#7201a8\"],[0.3333333333333333,\"#9c179e\"],[0.4444444444444444,\"#bd3786\"],[0.5555555555555556,\"#d8576b\"],[0.6666666666666666,\"#ed7953\"],[0.7777777777777778,\"#fb9f3a\"],[0.8888888888888888,\"#fdca26\"],[1.0,\"#f0f921\"]]}],\"mesh3d\":[{\"type\":\"mesh3d\",\"colorbar\":{\"outlinewidth\":0,\"ticks\":\"\"}}],\"scatter\":[{\"fillpattern\":{\"fillmode\":\"overlay\",\"size\":10,\"solidity\":0.2},\"type\":\"scatter\"}],\"parcoords\":[{\"type\":\"parcoords\",\"line\":{\"colorbar\":{\"outlinewidth\":0,\"ticks\":\"\"}}}],\"scatterpolargl\":[{\"type\":\"scatterpolargl\",\"marker\":{\"colorbar\":{\"outlinewidth\":0,\"ticks\":\"\"}}}],\"bar\":[{\"error_x\":{\"color\":\"#2a3f5f\"},\"error_y\":{\"color\":\"#2a3f5f\"},\"marker\":{\"line\":{\"color\":\"#E5ECF6\",\"width\":0.5},\"pattern\":{\"fillmode\":\"overlay\",\"size\":10,\"solidity\":0.2}},\"type\":\"bar\"}],\"scattergeo\":[{\"type\":\"scattergeo\",\"marker\":{\"colorbar\":{\"outlinewidth\":0,\"ticks\":\"\"}}}],\"scatterpolar\":[{\"type\":\"scatterpolar\",\"marker\":{\"colorbar\":{\"outlinewidth\":0,\"ticks\":\"\"}}}],\"histogram\":[{\"marker\":{\"pattern\":{\"fillmode\":\"overlay\",\"size\":10,\"solidity\":0.2}},\"type\":\"histogram\"}],\"scattergl\":[{\"type\":\"scattergl\",\"marker\":{\"colorbar\":{\"outlinewidth\":0,\"ticks\":\"\"}}}],\"scatter3d\":[{\"type\":\"scatter3d\",\"line\":{\"colorbar\":{\"outlinewidth\":0,\"ticks\":\"\"}},\"marker\":{\"colorbar\":{\"outlinewidth\":0,\"ticks\":\"\"}}}],\"scattermapbox\":[{\"type\":\"scattermapbox\",\"marker\":{\"colorbar\":{\"outlinewidth\":0,\"ticks\":\"\"}}}],\"scatterternary\":[{\"type\":\"scatterternary\",\"marker\":{\"colorbar\":{\"outlinewidth\":0,\"ticks\":\"\"}}}],\"scattercarpet\":[{\"type\":\"scattercarpet\",\"marker\":{\"colorbar\":{\"outlinewidth\":0,\"ticks\":\"\"}}}],\"carpet\":[{\"aaxis\":{\"endlinecolor\":\"#2a3f5f\",\"gridcolor\":\"white\",\"linecolor\":\"white\",\"minorgridcolor\":\"white\",\"startlinecolor\":\"#2a3f5f\"},\"baxis\":{\"endlinecolor\":\"#2a3f5f\",\"gridcolor\":\"white\",\"linecolor\":\"white\",\"minorgridcolor\":\"white\",\"startlinecolor\":\"#2a3f5f\"},\"type\":\"carpet\"}],\"table\":[{\"cells\":{\"fill\":{\"color\":\"#EBF0F8\"},\"line\":{\"color\":\"white\"}},\"header\":{\"fill\":{\"color\":\"#C8D4E3\"},\"line\":{\"color\":\"white\"}},\"type\":\"table\"}],\"barpolar\":[{\"marker\":{\"line\":{\"color\":\"#E5ECF6\",\"width\":0.5},\"pattern\":{\"fillmode\":\"overlay\",\"size\":10,\"solidity\":0.2}},\"type\":\"barpolar\"}],\"pie\":[{\"automargin\":true,\"type\":\"pie\"}]},\"layout\":{\"autotypenumbers\":\"strict\",\"colorway\":[\"#636efa\",\"#EF553B\",\"#00cc96\",\"#ab63fa\",\"#FFA15A\",\"#19d3f3\",\"#FF6692\",\"#B6E880\",\"#FF97FF\",\"#FECB52\"],\"font\":{\"color\":\"#2a3f5f\"},\"hovermode\":\"closest\",\"hoverlabel\":{\"align\":\"left\"},\"paper_bgcolor\":\"white\",\"plot_bgcolor\":\"#E5ECF6\",\"polar\":{\"bgcolor\":\"#E5ECF6\",\"angularaxis\":{\"gridcolor\":\"white\",\"linecolor\":\"white\",\"ticks\":\"\"},\"radialaxis\":{\"gridcolor\":\"white\",\"linecolor\":\"white\",\"ticks\":\"\"}},\"ternary\":{\"bgcolor\":\"#E5ECF6\",\"aaxis\":{\"gridcolor\":\"white\",\"linecolor\":\"white\",\"ticks\":\"\"},\"baxis\":{\"gridcolor\":\"white\",\"linecolor\":\"white\",\"ticks\":\"\"},\"caxis\":{\"gridcolor\":\"white\",\"linecolor\":\"white\",\"ticks\":\"\"}},\"coloraxis\":{\"colorbar\":{\"outlinewidth\":0,\"ticks\":\"\"}},\"colorscale\":{\"sequential\":[[0.0,\"#0d0887\"],[0.1111111111111111,\"#46039f\"],[0.2222222222222222,\"#7201a8\"],[0.3333333333333333,\"#9c179e\"],[0.4444444444444444,\"#bd3786\"],[0.5555555555555556,\"#d8576b\"],[0.6666666666666666,\"#ed7953\"],[0.7777777777777778,\"#fb9f3a\"],[0.8888888888888888,\"#fdca26\"],[1.0,\"#f0f921\"]],\"sequentialminus\":[[0.0,\"#0d0887\"],[0.1111111111111111,\"#46039f\"],[0.2222222222222222,\"#7201a8\"],[0.3333333333333333,\"#9c179e\"],[0.4444444444444444,\"#bd3786\"],[0.5555555555555556,\"#d8576b\"],[0.6666666666666666,\"#ed7953\"],[0.7777777777777778,\"#fb9f3a\"],[0.8888888888888888,\"#fdca26\"],[1.0,\"#f0f921\"]],\"diverging\":[[0,\"#8e0152\"],[0.1,\"#c51b7d\"],[0.2,\"#de77ae\"],[0.3,\"#f1b6da\"],[0.4,\"#fde0ef\"],[0.5,\"#f7f7f7\"],[0.6,\"#e6f5d0\"],[0.7,\"#b8e186\"],[0.8,\"#7fbc41\"],[0.9,\"#4d9221\"],[1,\"#276419\"]]},\"xaxis\":{\"gridcolor\":\"white\",\"linecolor\":\"white\",\"ticks\":\"\",\"title\":{\"standoff\":15},\"zerolinecolor\":\"white\",\"automargin\":true,\"zerolinewidth\":2},\"yaxis\":{\"gridcolor\":\"white\",\"linecolor\":\"white\",\"ticks\":\"\",\"title\":{\"standoff\":15},\"zerolinecolor\":\"white\",\"automargin\":true,\"zerolinewidth\":2},\"scene\":{\"xaxis\":{\"backgroundcolor\":\"#E5ECF6\",\"gridcolor\":\"white\",\"linecolor\":\"white\",\"showbackground\":true,\"ticks\":\"\",\"zerolinecolor\":\"white\",\"gridwidth\":2},\"yaxis\":{\"backgroundcolor\":\"#E5ECF6\",\"gridcolor\":\"white\",\"linecolor\":\"white\",\"showbackground\":true,\"ticks\":\"\",\"zerolinecolor\":\"white\",\"gridwidth\":2},\"zaxis\":{\"backgroundcolor\":\"#E5ECF6\",\"gridcolor\":\"white\",\"linecolor\":\"white\",\"showbackground\":true,\"ticks\":\"\",\"zerolinecolor\":\"white\",\"gridwidth\":2}},\"shapedefaults\":{\"line\":{\"color\":\"#2a3f5f\"}},\"annotationdefaults\":{\"arrowcolor\":\"#2a3f5f\",\"arrowhead\":0,\"arrowwidth\":1},\"geo\":{\"bgcolor\":\"white\",\"landcolor\":\"#E5ECF6\",\"subunitcolor\":\"white\",\"showland\":true,\"showlakes\":true,\"lakecolor\":\"white\"},\"title\":{\"x\":0.05},\"mapbox\":{\"style\":\"light\"}}},\"barmode\":\"overlay\"},                        {\"responsive\": true}                    ).then(function(){\n",
       "                            \n",
       "var gd = document.getElementById('f8eaf277-1341-4d6d-afe5-acfa6f1b09f1');\n",
       "var x = new MutationObserver(function (mutations, observer) {{\n",
       "        var display = window.getComputedStyle(gd).display;\n",
       "        if (!display || display === 'none') {{\n",
       "            console.log([gd, 'removed!']);\n",
       "            Plotly.purge(gd);\n",
       "            observer.disconnect();\n",
       "        }}\n",
       "}});\n",
       "\n",
       "// Listen for the removal of the full notebook cells\n",
       "var notebookContainer = gd.closest('#notebook-container');\n",
       "if (notebookContainer) {{\n",
       "    x.observe(notebookContainer, {childList: true});\n",
       "}}\n",
       "\n",
       "// Listen for the clearing of the current output cell\n",
       "var outputEl = gd.closest('.output');\n",
       "if (outputEl) {{\n",
       "    x.observe(outputEl, {childList: true});\n",
       "}}\n",
       "\n",
       "                        })                };                });            </script>        </div>"
      ]
     },
     "metadata": {},
     "output_type": "display_data"
    }
   ],
   "source": [
    "fig = go.Figure()\n",
    "fig.add_trace(go.Histogram(x=hist_data(rs_df,50,5), histnorm='percent', \n",
    "                           name='RS', xbins={'start':0, 'end':46,'size':1}))\n",
    "fig.add_trace(go.Histogram(x=hist_data(playoffs_df,5,1),histnorm='percent',\n",
    "                           name='Playoffs',xbins={'start':0, 'end':46,'size':1}))\n",
    "fig.update_layout(barmode='overlay')\n",
    "fig.update_traces(opacity=0.5)\n",
    "fig.show()\n"
   ]
  },
  {
   "cell_type": "code",
   "execution_count": 102,
   "id": "712ede06-2e47-415a-acd6-77764c60b7a9",
   "metadata": {},
   "outputs": [
    {
     "data": {
      "text/plain": [
       "0.7560321715817694"
      ]
     },
     "execution_count": 102,
     "metadata": {},
     "output_type": "execute_result"
    }
   ],
   "source": [
    "# filter on the function and get mean\n",
    "((hist_data(rs_df,50,5)>=12)&(hist_data(rs_df,50,5)<=34)).mean()"
   ]
  },
  {
   "cell_type": "code",
   "execution_count": null,
   "id": "2ade576c-1e13-4e49-8209-376872dbdb9d",
   "metadata": {},
   "outputs": [],
   "source": []
  },
  {
   "cell_type": "markdown",
   "id": "f2c5e0d0-28ab-4c17-ae8b-d6d3289c5eb9",
   "metadata": {},
   "source": [
    "How has the game changed over the past 10 years?"
   ]
  },
  {
   "cell_type": "code",
   "execution_count": 103,
   "id": "663e9dca-dea0-4713-971a-ce63152762ba",
   "metadata": {},
   "outputs": [
    {
     "data": {
      "text/html": [
       "<div>\n",
       "<style scoped>\n",
       "    .dataframe tbody tr th:only-of-type {\n",
       "        vertical-align: middle;\n",
       "    }\n",
       "\n",
       "    .dataframe tbody tr th {\n",
       "        vertical-align: top;\n",
       "    }\n",
       "\n",
       "    .dataframe thead th {\n",
       "        text-align: right;\n",
       "    }\n",
       "</style>\n",
       "<table border=\"1\" class=\"dataframe\">\n",
       "  <thead>\n",
       "    <tr style=\"text-align: right;\">\n",
       "      <th></th>\n",
       "      <th>SeasonStart</th>\n",
       "      <th>MIN</th>\n",
       "      <th>POSS_est</th>\n",
       "      <th>FGM</th>\n",
       "      <th>FGA</th>\n",
       "      <th>FG_PCT</th>\n",
       "      <th>FG3M</th>\n",
       "      <th>FG3A</th>\n",
       "      <th>FG3_PCT</th>\n",
       "      <th>FTM</th>\n",
       "      <th>FTA</th>\n",
       "      <th>OREB</th>\n",
       "      <th>DREB</th>\n",
       "      <th>REB</th>\n",
       "      <th>AST</th>\n",
       "      <th>STL</th>\n",
       "      <th>BLK</th>\n",
       "      <th>TOV</th>\n",
       "      <th>PF</th>\n",
       "      <th>PTS</th>\n",
       "      <th>FG%</th>\n",
       "      <th>3PT%</th>\n",
       "      <th>FT%</th>\n",
       "      <th>AST%</th>\n",
       "      <th>FG3A%</th>\n",
       "      <th>PTS/FGA</th>\n",
       "      <th>FG3M/FGM</th>\n",
       "      <th>FTA/FGA</th>\n",
       "      <th>TRU%</th>\n",
       "      <th>AST_TOV</th>\n",
       "    </tr>\n",
       "  </thead>\n",
       "  <tbody>\n",
       "    <tr>\n",
       "      <th>0</th>\n",
       "      <td>2019</td>\n",
       "      <td>552262</td>\n",
       "      <td>234384.64</td>\n",
       "      <td>92997</td>\n",
       "      <td>202223</td>\n",
       "      <td>323.376</td>\n",
       "      <td>28032</td>\n",
       "      <td>78279</td>\n",
       "      <td>221.052</td>\n",
       "      <td>40949</td>\n",
       "      <td>52906</td>\n",
       "      <td>22802</td>\n",
       "      <td>79318</td>\n",
       "      <td>102120</td>\n",
       "      <td>55445</td>\n",
       "      <td>17368</td>\n",
       "      <td>11085</td>\n",
       "      <td>31685</td>\n",
       "      <td>47615</td>\n",
       "      <td>254975</td>\n",
       "      <td>0.459874</td>\n",
       "      <td>0.358104</td>\n",
       "      <td>0.773995</td>\n",
       "      <td>0.596202</td>\n",
       "      <td>0.387092</td>\n",
       "      <td>2.741755</td>\n",
       "      <td>0.301429</td>\n",
       "      <td>0.261622</td>\n",
       "      <td>0.560746</td>\n",
       "      <td>1.749882</td>\n",
       "    </tr>\n",
       "    <tr>\n",
       "      <th>1</th>\n",
       "      <td>2020</td>\n",
       "      <td>562518</td>\n",
       "      <td>235759.48</td>\n",
       "      <td>95849</td>\n",
       "      <td>205754</td>\n",
       "      <td>338.803</td>\n",
       "      <td>29549</td>\n",
       "      <td>80653</td>\n",
       "      <td>221.832</td>\n",
       "      <td>39624</td>\n",
       "      <td>50917</td>\n",
       "      <td>22918</td>\n",
       "      <td>80151</td>\n",
       "      <td>103069</td>\n",
       "      <td>57311</td>\n",
       "      <td>17491</td>\n",
       "      <td>11272</td>\n",
       "      <td>30520</td>\n",
       "      <td>45152</td>\n",
       "      <td>260871</td>\n",
       "      <td>0.465843</td>\n",
       "      <td>0.366372</td>\n",
       "      <td>0.778208</td>\n",
       "      <td>0.597930</td>\n",
       "      <td>0.391988</td>\n",
       "      <td>2.721687</td>\n",
       "      <td>0.308287</td>\n",
       "      <td>0.247465</td>\n",
       "      <td>0.567260</td>\n",
       "      <td>1.877818</td>\n",
       "    </tr>\n",
       "    <tr>\n",
       "      <th>2</th>\n",
       "      <td>2021</td>\n",
       "      <td>635572</td>\n",
       "      <td>264004.96</td>\n",
       "      <td>106569</td>\n",
       "      <td>231293</td>\n",
       "      <td>356.257</td>\n",
       "      <td>32733</td>\n",
       "      <td>92552</td>\n",
       "      <td>230.250</td>\n",
       "      <td>44740</td>\n",
       "      <td>57709</td>\n",
       "      <td>27052</td>\n",
       "      <td>89602</td>\n",
       "      <td>116654</td>\n",
       "      <td>64618</td>\n",
       "      <td>20006</td>\n",
       "      <td>12387</td>\n",
       "      <td>34372</td>\n",
       "      <td>52038</td>\n",
       "      <td>290611</td>\n",
       "      <td>0.460753</td>\n",
       "      <td>0.353671</td>\n",
       "      <td>0.775269</td>\n",
       "      <td>0.606349</td>\n",
       "      <td>0.400150</td>\n",
       "      <td>2.726975</td>\n",
       "      <td>0.307153</td>\n",
       "      <td>0.249506</td>\n",
       "      <td>0.561665</td>\n",
       "      <td>1.879960</td>\n",
       "    </tr>\n",
       "  </tbody>\n",
       "</table>\n",
       "</div>"
      ],
      "text/plain": [
       "   SeasonStart     MIN   POSS_est     FGM     FGA   FG_PCT   FG3M   FG3A  \\\n",
       "0         2019  552262  234384.64   92997  202223  323.376  28032  78279   \n",
       "1         2020  562518  235759.48   95849  205754  338.803  29549  80653   \n",
       "2         2021  635572  264004.96  106569  231293  356.257  32733  92552   \n",
       "\n",
       "   FG3_PCT    FTM    FTA   OREB   DREB     REB    AST    STL    BLK    TOV  \\\n",
       "0  221.052  40949  52906  22802  79318  102120  55445  17368  11085  31685   \n",
       "1  221.832  39624  50917  22918  80151  103069  57311  17491  11272  30520   \n",
       "2  230.250  44740  57709  27052  89602  116654  64618  20006  12387  34372   \n",
       "\n",
       "      PF     PTS       FG%      3PT%       FT%      AST%     FG3A%   PTS/FGA  \\\n",
       "0  47615  254975  0.459874  0.358104  0.773995  0.596202  0.387092  2.741755   \n",
       "1  45152  260871  0.465843  0.366372  0.778208  0.597930  0.391988  2.721687   \n",
       "2  52038  290611  0.460753  0.353671  0.775269  0.606349  0.400150  2.726975   \n",
       "\n",
       "   FG3M/FGM   FTA/FGA      TRU%   AST_TOV  \n",
       "0  0.301429  0.261622  0.560746  1.749882  \n",
       "1  0.308287  0.247465  0.567260  1.877818  \n",
       "2  0.307153  0.249506  0.561665  1.879960  "
      ]
     },
     "execution_count": 103,
     "metadata": {},
     "output_type": "execute_result"
    }
   ],
   "source": [
    "# group by based on required columns\n",
    "change_df = data.groupby('SeasonStart')[total_cols].sum().reset_index()\n",
    "\n",
    "# Measures per position\n",
    "change_df['POSS_est']=change_df['FGA']-change_df['OREB']+change_df['TOV']+0.44*change_df['FTA']\n",
    "\n",
    "# Change column order\n",
    "change_df=change_df[list(change_df.columns[0:2])+['POSS_est']+list(change_df.columns[2:-1])]\n",
    "\n",
    "change_df['FG%']=change_df['FGM']/change_df['FGA']\n",
    "change_df['3PT%']=change_df['FG3M']/change_df['FG3A']\n",
    "change_df['FT%']=change_df['FTM']/change_df['FTA']\n",
    "change_df['AST%']=change_df['AST']/change_df['FGM']\n",
    "change_df['FG3A%']=change_df['FG3A']/change_df['FGA']\n",
    "change_df['PTS/FGA']=change_df['PTS']/change_df['FGM']\n",
    "change_df['FG3M/FGM']=change_df['FG3M']/change_df['FGM']\n",
    "change_df['FTA/FGA']=change_df['FTA']/change_df['FGA']\n",
    "change_df['TRU%']=0.5*change_df['PTS']/(change_df['FGA']+0.475*change_df['FTA'])\n",
    "change_df['AST_TOV']=change_df['AST']/change_df['TOV']\n",
    "\n",
    "change_df"
   ]
  },
  {
   "cell_type": "code",
   "execution_count": 107,
   "id": "25b155e5-b6bd-40ab-97c9-49dd69cac883",
   "metadata": {},
   "outputs": [],
   "source": [
    "# game time stats 48 minutes\n",
    "change_per48_df = change_df.copy()\n",
    "for col in change_per48_df.columns[2:18]:\n",
    "    change_per48_df[col] = (change_per48_df[col]/change_per48_df['MIN'])*48*5\n",
    "    \n",
    "change_per48_df.drop(columns='MIN', inplace=True)\n",
    "\n",
    "# fig = go.Figure()\n",
    "# for col in change_per48_df.columns[1:]:\n",
    "#     fig.add_trace(go.Scatter)"
   ]
  },
  {
   "cell_type": "code",
   "execution_count": 108,
   "id": "02b8e2a1-1563-4d94-9a15-cafe6d088812",
   "metadata": {},
   "outputs": [
    {
     "data": {
      "text/html": [
       "<div>\n",
       "<style scoped>\n",
       "    .dataframe tbody tr th:only-of-type {\n",
       "        vertical-align: middle;\n",
       "    }\n",
       "\n",
       "    .dataframe tbody tr th {\n",
       "        vertical-align: top;\n",
       "    }\n",
       "\n",
       "    .dataframe thead th {\n",
       "        text-align: right;\n",
       "    }\n",
       "</style>\n",
       "<table border=\"1\" class=\"dataframe\">\n",
       "  <thead>\n",
       "    <tr style=\"text-align: right;\">\n",
       "      <th></th>\n",
       "      <th>SeasonStart</th>\n",
       "      <th>POSS_est</th>\n",
       "      <th>FGM</th>\n",
       "      <th>FGA</th>\n",
       "      <th>FG_PCT</th>\n",
       "      <th>FG3M</th>\n",
       "      <th>FG3A</th>\n",
       "      <th>FG3_PCT</th>\n",
       "      <th>FTM</th>\n",
       "      <th>FTA</th>\n",
       "      <th>OREB</th>\n",
       "      <th>DREB</th>\n",
       "      <th>REB</th>\n",
       "      <th>AST</th>\n",
       "      <th>STL</th>\n",
       "      <th>BLK</th>\n",
       "      <th>TOV</th>\n",
       "      <th>PF</th>\n",
       "      <th>PTS</th>\n",
       "      <th>FG%</th>\n",
       "      <th>3PT%</th>\n",
       "      <th>FT%</th>\n",
       "      <th>AST%</th>\n",
       "      <th>FG3A%</th>\n",
       "      <th>PTS/FGA</th>\n",
       "      <th>FG3M/FGM</th>\n",
       "      <th>FTA/FGA</th>\n",
       "      <th>TRU%</th>\n",
       "      <th>AST_TOV</th>\n",
       "    </tr>\n",
       "  </thead>\n",
       "  <tbody>\n",
       "    <tr>\n",
       "      <th>0</th>\n",
       "      <td>2019</td>\n",
       "      <td>101.858020</td>\n",
       "      <td>40.414296</td>\n",
       "      <td>87.881332</td>\n",
       "      <td>0.140532</td>\n",
       "      <td>12.182044</td>\n",
       "      <td>34.018202</td>\n",
       "      <td>0.096064</td>\n",
       "      <td>17.795467</td>\n",
       "      <td>22.991696</td>\n",
       "      <td>9.909210</td>\n",
       "      <td>34.469726</td>\n",
       "      <td>44.378936</td>\n",
       "      <td>24.095085</td>\n",
       "      <td>7.547722</td>\n",
       "      <td>4.817279</td>\n",
       "      <td>13.769551</td>\n",
       "      <td>47615</td>\n",
       "      <td>254975</td>\n",
       "      <td>0.459874</td>\n",
       "      <td>0.358104</td>\n",
       "      <td>0.773995</td>\n",
       "      <td>0.596202</td>\n",
       "      <td>0.387092</td>\n",
       "      <td>2.741755</td>\n",
       "      <td>0.301429</td>\n",
       "      <td>0.261622</td>\n",
       "      <td>0.560746</td>\n",
       "      <td>1.749882</td>\n",
       "    </tr>\n",
       "    <tr>\n",
       "      <th>1</th>\n",
       "      <td>2020</td>\n",
       "      <td>100.587493</td>\n",
       "      <td>40.894265</td>\n",
       "      <td>87.785564</td>\n",
       "      <td>0.144551</td>\n",
       "      <td>12.607170</td>\n",
       "      <td>34.410846</td>\n",
       "      <td>0.094645</td>\n",
       "      <td>16.905699</td>\n",
       "      <td>21.723892</td>\n",
       "      <td>9.778034</td>\n",
       "      <td>34.196666</td>\n",
       "      <td>43.974699</td>\n",
       "      <td>24.451911</td>\n",
       "      <td>7.462588</td>\n",
       "      <td>4.809233</td>\n",
       "      <td>13.021450</td>\n",
       "      <td>45152</td>\n",
       "      <td>260871</td>\n",
       "      <td>0.465843</td>\n",
       "      <td>0.366372</td>\n",
       "      <td>0.778208</td>\n",
       "      <td>0.597930</td>\n",
       "      <td>0.391988</td>\n",
       "      <td>2.721687</td>\n",
       "      <td>0.308287</td>\n",
       "      <td>0.247465</td>\n",
       "      <td>0.567260</td>\n",
       "      <td>1.877818</td>\n",
       "    </tr>\n",
       "    <tr>\n",
       "      <th>2</th>\n",
       "      <td>2021</td>\n",
       "      <td>99.691601</td>\n",
       "      <td>40.241798</td>\n",
       "      <td>87.339153</td>\n",
       "      <td>0.134527</td>\n",
       "      <td>12.360393</td>\n",
       "      <td>34.948802</td>\n",
       "      <td>0.086945</td>\n",
       "      <td>16.894388</td>\n",
       "      <td>21.791646</td>\n",
       "      <td>10.215176</td>\n",
       "      <td>33.834845</td>\n",
       "      <td>44.050021</td>\n",
       "      <td>24.400571</td>\n",
       "      <td>7.554518</td>\n",
       "      <td>4.677487</td>\n",
       "      <td>12.979301</td>\n",
       "      <td>52038</td>\n",
       "      <td>290611</td>\n",
       "      <td>0.460753</td>\n",
       "      <td>0.353671</td>\n",
       "      <td>0.775269</td>\n",
       "      <td>0.606349</td>\n",
       "      <td>0.400150</td>\n",
       "      <td>2.726975</td>\n",
       "      <td>0.307153</td>\n",
       "      <td>0.249506</td>\n",
       "      <td>0.561665</td>\n",
       "      <td>1.879960</td>\n",
       "    </tr>\n",
       "  </tbody>\n",
       "</table>\n",
       "</div>"
      ],
      "text/plain": [
       "   SeasonStart    POSS_est        FGM        FGA    FG_PCT       FG3M  \\\n",
       "0         2019  101.858020  40.414296  87.881332  0.140532  12.182044   \n",
       "1         2020  100.587493  40.894265  87.785564  0.144551  12.607170   \n",
       "2         2021   99.691601  40.241798  87.339153  0.134527  12.360393   \n",
       "\n",
       "        FG3A   FG3_PCT        FTM        FTA       OREB       DREB        REB  \\\n",
       "0  34.018202  0.096064  17.795467  22.991696   9.909210  34.469726  44.378936   \n",
       "1  34.410846  0.094645  16.905699  21.723892   9.778034  34.196666  43.974699   \n",
       "2  34.948802  0.086945  16.894388  21.791646  10.215176  33.834845  44.050021   \n",
       "\n",
       "         AST       STL       BLK        TOV     PF     PTS       FG%  \\\n",
       "0  24.095085  7.547722  4.817279  13.769551  47615  254975  0.459874   \n",
       "1  24.451911  7.462588  4.809233  13.021450  45152  260871  0.465843   \n",
       "2  24.400571  7.554518  4.677487  12.979301  52038  290611  0.460753   \n",
       "\n",
       "       3PT%       FT%      AST%     FG3A%   PTS/FGA  FG3M/FGM   FTA/FGA  \\\n",
       "0  0.358104  0.773995  0.596202  0.387092  2.741755  0.301429  0.261622   \n",
       "1  0.366372  0.778208  0.597930  0.391988  2.721687  0.308287  0.247465   \n",
       "2  0.353671  0.775269  0.606349  0.400150  2.726975  0.307153  0.249506   \n",
       "\n",
       "       TRU%   AST_TOV  \n",
       "0  0.560746  1.749882  \n",
       "1  0.567260  1.877818  \n",
       "2  0.561665  1.879960  "
      ]
     },
     "execution_count": 108,
     "metadata": {},
     "output_type": "execute_result"
    }
   ],
   "source": [
    "change_per48_df"
   ]
  },
  {
   "cell_type": "code",
   "execution_count": 111,
   "id": "1805a82c-3161-4e0f-961d-498244da4278",
   "metadata": {},
   "outputs": [
    {
     "data": {
      "application/vnd.plotly.v1+json": {
       "config": {
        "plotlyServerURL": "https://plot.ly"
       },
       "data": [
        {
         "name": "POSS_est",
         "type": "scatter",
         "visible": "legendonly",
         "x": [
          2019,
          2020,
          2021
         ],
         "y": [
          101.85801956317835,
          100.58749266690131,
          99.69160126626095
         ]
        },
        {
         "name": "FGM",
         "type": "scatter",
         "visible": "legendonly",
         "x": [
          2019,
          2020,
          2021
         ],
         "y": [
          40.414296113076766,
          40.894264716862395,
          40.24179793949387
         ]
        },
        {
         "name": "FGA",
         "type": "scatter",
         "visible": "legendonly",
         "x": [
          2019,
          2020,
          2021
         ],
         "y": [
          87.88133168677186,
          87.78556419527908,
          87.33915276318027
         ]
        },
        {
         "name": "FG_PCT",
         "type": "scatter",
         "visible": "legendonly",
         "x": [
          2019,
          2020,
          2021
         ],
         "y": [
          0.14053155929613118,
          0.1445513210243939,
          0.13452713461260093
         ]
        },
        {
         "name": "FG3M",
         "type": "scatter",
         "visible": "legendonly",
         "x": [
          2019,
          2020,
          2021
         ],
         "y": [
          12.182044029826425,
          12.60716990389641,
          12.36039347233673
         ]
        },
        {
         "name": "FG3A",
         "type": "scatter",
         "visible": "legendonly",
         "x": [
          2019,
          2020,
          2021
         ],
         "y": [
          34.01820150580703,
          34.41084551961004,
          34.948802024003584
         ]
        },
        {
         "name": "FG3_PCT",
         "type": "scatter",
         "visible": "legendonly",
         "x": [
          2019,
          2020,
          2021
         ],
         "y": [
          0.09606396963759953,
          0.09464529135067677,
          0.08694530281384327
         ]
        },
        {
         "name": "FTM",
         "type": "scatter",
         "visible": "legendonly",
         "x": [
          2019,
          2020,
          2021
         ],
         "y": [
          17.795466644454983,
          16.905699017631434,
          16.89438804730227
         ]
        },
        {
         "name": "FTA",
         "type": "scatter",
         "visible": "legendonly",
         "x": [
          2019,
          2020,
          2021
         ],
         "y": [
          22.991695970390865,
          21.7238915021386,
          21.791645950419465
         ]
        },
        {
         "name": "OREB",
         "type": "scatter",
         "visible": "legendonly",
         "x": [
          2019,
          2020,
          2021
         ],
         "y": [
          9.909209759136061,
          9.77803376958604,
          10.215176250684424
         ]
        },
        {
         "name": "DREB",
         "type": "scatter",
         "visible": "legendonly",
         "x": [
          2019,
          2020,
          2021
         ],
         "y": [
          34.46972632554838,
          34.19666570669739,
          33.834844832686144
         ]
        },
        {
         "name": "REB",
         "type": "scatter",
         "visible": "legendonly",
         "x": [
          2019,
          2020,
          2021
         ],
         "y": [
          44.37893608468444,
          43.97469947628343,
          44.05002108337057
         ]
        },
        {
         "name": "AST",
         "type": "scatter",
         "visible": "legendonly",
         "x": [
          2019,
          2020,
          2021
         ],
         "y": [
          24.09508530371454,
          24.451910872185422,
          24.4005714537456
         ]
        },
        {
         "name": "STL",
         "type": "scatter",
         "visible": "legendonly",
         "x": [
          2019,
          2020,
          2021
         ],
         "y": [
          7.5477219145985055,
          7.462587863855024,
          7.554517820168289
         ]
        },
        {
         "name": "BLK",
         "type": "scatter",
         "visible": "legendonly",
         "x": [
          2019,
          2020,
          2021
         ],
         "y": [
          4.817278755373355,
          4.809232771217989,
          4.677487365711517
         ]
        },
        {
         "name": "TOV",
         "type": "scatter",
         "visible": "legendonly",
         "x": [
          2019,
          2020,
          2021
         ],
         "y": [
          13.769551408570567,
          13.021449980267299,
          12.979300535580549
         ]
        },
        {
         "name": "PF",
         "type": "scatter",
         "visible": "legendonly",
         "x": [
          2019,
          2020,
          2021
         ],
         "y": [
          47615,
          45152,
          52038
         ]
        },
        {
         "name": "PTS",
         "type": "scatter",
         "visible": "legendonly",
         "x": [
          2019,
          2020,
          2021
         ],
         "y": [
          254975,
          260871,
          290611
         ]
        },
        {
         "name": "FG%",
         "type": "scatter",
         "visible": "legendonly",
         "x": [
          2019,
          2020,
          2021
         ],
         "y": [
          0.45987350598102095,
          0.4658427053666028,
          0.46075324372116755
         ]
        },
        {
         "name": "3PT%",
         "type": "scatter",
         "visible": true,
         "x": [
          2019,
          2020,
          2021
         ],
         "y": [
          0.3581037059747825,
          0.3663719886427039,
          0.3536714495634886
         ]
        },
        {
         "name": "FT%",
         "type": "scatter",
         "visible": "legendonly",
         "x": [
          2019,
          2020,
          2021
         ],
         "y": [
          0.7739953880467244,
          0.7782076713082074,
          0.7752690221629208
         ]
        },
        {
         "name": "AST%",
         "type": "scatter",
         "visible": "legendonly",
         "x": [
          2019,
          2020,
          2021
         ],
         "y": [
          0.5962020280224093,
          0.5979300775177623,
          0.606348938246582
         ]
        },
        {
         "name": "FG3A%",
         "type": "scatter",
         "visible": true,
         "x": [
          2019,
          2020,
          2021
         ],
         "y": [
          0.38709246722677443,
          0.39198751907617835,
          0.4001504585093366
         ]
        },
        {
         "name": "PTS/FGA",
         "type": "scatter",
         "visible": "legendonly",
         "x": [
          2019,
          2020,
          2021
         ],
         "y": [
          2.7417551103799047,
          2.7216872372168726,
          2.7269750114949
         ]
        },
        {
         "name": "FG3M/FGM",
         "type": "scatter",
         "visible": "legendonly",
         "x": [
          2019,
          2020,
          2021
         ],
         "y": [
          0.3014290783573664,
          0.30828699308286994,
          0.3071531120682375
         ]
        },
        {
         "name": "FTA/FGA",
         "type": "scatter",
         "visible": "legendonly",
         "x": [
          2019,
          2020,
          2021
         ],
         "y": [
          0.2616220706843435,
          0.24746541987033058,
          0.2495060377962152
         ]
        },
        {
         "name": "TRU%",
         "type": "scatter",
         "visible": true,
         "x": [
          2019,
          2020,
          2021
         ],
         "y": [
          0.560746080935249,
          0.5672598986059707,
          0.5616653190881382
         ]
        },
        {
         "name": "AST_TOV",
         "type": "scatter",
         "visible": "legendonly",
         "x": [
          2019,
          2020,
          2021
         ],
         "y": [
          1.7498816474672558,
          1.8778178243774575,
          1.8799604329105086
         ]
        }
       ],
       "layout": {
        "autosize": true,
        "template": {
         "data": {
          "bar": [
           {
            "error_x": {
             "color": "#2a3f5f"
            },
            "error_y": {
             "color": "#2a3f5f"
            },
            "marker": {
             "line": {
              "color": "#E5ECF6",
              "width": 0.5
             },
             "pattern": {
              "fillmode": "overlay",
              "size": 10,
              "solidity": 0.2
             }
            },
            "type": "bar"
           }
          ],
          "barpolar": [
           {
            "marker": {
             "line": {
              "color": "#E5ECF6",
              "width": 0.5
             },
             "pattern": {
              "fillmode": "overlay",
              "size": 10,
              "solidity": 0.2
             }
            },
            "type": "barpolar"
           }
          ],
          "carpet": [
           {
            "aaxis": {
             "endlinecolor": "#2a3f5f",
             "gridcolor": "white",
             "linecolor": "white",
             "minorgridcolor": "white",
             "startlinecolor": "#2a3f5f"
            },
            "baxis": {
             "endlinecolor": "#2a3f5f",
             "gridcolor": "white",
             "linecolor": "white",
             "minorgridcolor": "white",
             "startlinecolor": "#2a3f5f"
            },
            "type": "carpet"
           }
          ],
          "choropleth": [
           {
            "colorbar": {
             "outlinewidth": 0,
             "ticks": ""
            },
            "type": "choropleth"
           }
          ],
          "contour": [
           {
            "colorbar": {
             "outlinewidth": 0,
             "ticks": ""
            },
            "colorscale": [
             [
              0,
              "#0d0887"
             ],
             [
              0.1111111111111111,
              "#46039f"
             ],
             [
              0.2222222222222222,
              "#7201a8"
             ],
             [
              0.3333333333333333,
              "#9c179e"
             ],
             [
              0.4444444444444444,
              "#bd3786"
             ],
             [
              0.5555555555555556,
              "#d8576b"
             ],
             [
              0.6666666666666666,
              "#ed7953"
             ],
             [
              0.7777777777777778,
              "#fb9f3a"
             ],
             [
              0.8888888888888888,
              "#fdca26"
             ],
             [
              1,
              "#f0f921"
             ]
            ],
            "type": "contour"
           }
          ],
          "contourcarpet": [
           {
            "colorbar": {
             "outlinewidth": 0,
             "ticks": ""
            },
            "type": "contourcarpet"
           }
          ],
          "heatmap": [
           {
            "colorbar": {
             "outlinewidth": 0,
             "ticks": ""
            },
            "colorscale": [
             [
              0,
              "#0d0887"
             ],
             [
              0.1111111111111111,
              "#46039f"
             ],
             [
              0.2222222222222222,
              "#7201a8"
             ],
             [
              0.3333333333333333,
              "#9c179e"
             ],
             [
              0.4444444444444444,
              "#bd3786"
             ],
             [
              0.5555555555555556,
              "#d8576b"
             ],
             [
              0.6666666666666666,
              "#ed7953"
             ],
             [
              0.7777777777777778,
              "#fb9f3a"
             ],
             [
              0.8888888888888888,
              "#fdca26"
             ],
             [
              1,
              "#f0f921"
             ]
            ],
            "type": "heatmap"
           }
          ],
          "heatmapgl": [
           {
            "colorbar": {
             "outlinewidth": 0,
             "ticks": ""
            },
            "colorscale": [
             [
              0,
              "#0d0887"
             ],
             [
              0.1111111111111111,
              "#46039f"
             ],
             [
              0.2222222222222222,
              "#7201a8"
             ],
             [
              0.3333333333333333,
              "#9c179e"
             ],
             [
              0.4444444444444444,
              "#bd3786"
             ],
             [
              0.5555555555555556,
              "#d8576b"
             ],
             [
              0.6666666666666666,
              "#ed7953"
             ],
             [
              0.7777777777777778,
              "#fb9f3a"
             ],
             [
              0.8888888888888888,
              "#fdca26"
             ],
             [
              1,
              "#f0f921"
             ]
            ],
            "type": "heatmapgl"
           }
          ],
          "histogram": [
           {
            "marker": {
             "pattern": {
              "fillmode": "overlay",
              "size": 10,
              "solidity": 0.2
             }
            },
            "type": "histogram"
           }
          ],
          "histogram2d": [
           {
            "colorbar": {
             "outlinewidth": 0,
             "ticks": ""
            },
            "colorscale": [
             [
              0,
              "#0d0887"
             ],
             [
              0.1111111111111111,
              "#46039f"
             ],
             [
              0.2222222222222222,
              "#7201a8"
             ],
             [
              0.3333333333333333,
              "#9c179e"
             ],
             [
              0.4444444444444444,
              "#bd3786"
             ],
             [
              0.5555555555555556,
              "#d8576b"
             ],
             [
              0.6666666666666666,
              "#ed7953"
             ],
             [
              0.7777777777777778,
              "#fb9f3a"
             ],
             [
              0.8888888888888888,
              "#fdca26"
             ],
             [
              1,
              "#f0f921"
             ]
            ],
            "type": "histogram2d"
           }
          ],
          "histogram2dcontour": [
           {
            "colorbar": {
             "outlinewidth": 0,
             "ticks": ""
            },
            "colorscale": [
             [
              0,
              "#0d0887"
             ],
             [
              0.1111111111111111,
              "#46039f"
             ],
             [
              0.2222222222222222,
              "#7201a8"
             ],
             [
              0.3333333333333333,
              "#9c179e"
             ],
             [
              0.4444444444444444,
              "#bd3786"
             ],
             [
              0.5555555555555556,
              "#d8576b"
             ],
             [
              0.6666666666666666,
              "#ed7953"
             ],
             [
              0.7777777777777778,
              "#fb9f3a"
             ],
             [
              0.8888888888888888,
              "#fdca26"
             ],
             [
              1,
              "#f0f921"
             ]
            ],
            "type": "histogram2dcontour"
           }
          ],
          "mesh3d": [
           {
            "colorbar": {
             "outlinewidth": 0,
             "ticks": ""
            },
            "type": "mesh3d"
           }
          ],
          "parcoords": [
           {
            "line": {
             "colorbar": {
              "outlinewidth": 0,
              "ticks": ""
             }
            },
            "type": "parcoords"
           }
          ],
          "pie": [
           {
            "automargin": true,
            "type": "pie"
           }
          ],
          "scatter": [
           {
            "fillpattern": {
             "fillmode": "overlay",
             "size": 10,
             "solidity": 0.2
            },
            "type": "scatter"
           }
          ],
          "scatter3d": [
           {
            "line": {
             "colorbar": {
              "outlinewidth": 0,
              "ticks": ""
             }
            },
            "marker": {
             "colorbar": {
              "outlinewidth": 0,
              "ticks": ""
             }
            },
            "type": "scatter3d"
           }
          ],
          "scattercarpet": [
           {
            "marker": {
             "colorbar": {
              "outlinewidth": 0,
              "ticks": ""
             }
            },
            "type": "scattercarpet"
           }
          ],
          "scattergeo": [
           {
            "marker": {
             "colorbar": {
              "outlinewidth": 0,
              "ticks": ""
             }
            },
            "type": "scattergeo"
           }
          ],
          "scattergl": [
           {
            "marker": {
             "colorbar": {
              "outlinewidth": 0,
              "ticks": ""
             }
            },
            "type": "scattergl"
           }
          ],
          "scattermapbox": [
           {
            "marker": {
             "colorbar": {
              "outlinewidth": 0,
              "ticks": ""
             }
            },
            "type": "scattermapbox"
           }
          ],
          "scatterpolar": [
           {
            "marker": {
             "colorbar": {
              "outlinewidth": 0,
              "ticks": ""
             }
            },
            "type": "scatterpolar"
           }
          ],
          "scatterpolargl": [
           {
            "marker": {
             "colorbar": {
              "outlinewidth": 0,
              "ticks": ""
             }
            },
            "type": "scatterpolargl"
           }
          ],
          "scatterternary": [
           {
            "marker": {
             "colorbar": {
              "outlinewidth": 0,
              "ticks": ""
             }
            },
            "type": "scatterternary"
           }
          ],
          "surface": [
           {
            "colorbar": {
             "outlinewidth": 0,
             "ticks": ""
            },
            "colorscale": [
             [
              0,
              "#0d0887"
             ],
             [
              0.1111111111111111,
              "#46039f"
             ],
             [
              0.2222222222222222,
              "#7201a8"
             ],
             [
              0.3333333333333333,
              "#9c179e"
             ],
             [
              0.4444444444444444,
              "#bd3786"
             ],
             [
              0.5555555555555556,
              "#d8576b"
             ],
             [
              0.6666666666666666,
              "#ed7953"
             ],
             [
              0.7777777777777778,
              "#fb9f3a"
             ],
             [
              0.8888888888888888,
              "#fdca26"
             ],
             [
              1,
              "#f0f921"
             ]
            ],
            "type": "surface"
           }
          ],
          "table": [
           {
            "cells": {
             "fill": {
              "color": "#EBF0F8"
             },
             "line": {
              "color": "white"
             }
            },
            "header": {
             "fill": {
              "color": "#C8D4E3"
             },
             "line": {
              "color": "white"
             }
            },
            "type": "table"
           }
          ]
         },
         "layout": {
          "annotationdefaults": {
           "arrowcolor": "#2a3f5f",
           "arrowhead": 0,
           "arrowwidth": 1
          },
          "autotypenumbers": "strict",
          "coloraxis": {
           "colorbar": {
            "outlinewidth": 0,
            "ticks": ""
           }
          },
          "colorscale": {
           "diverging": [
            [
             0,
             "#8e0152"
            ],
            [
             0.1,
             "#c51b7d"
            ],
            [
             0.2,
             "#de77ae"
            ],
            [
             0.3,
             "#f1b6da"
            ],
            [
             0.4,
             "#fde0ef"
            ],
            [
             0.5,
             "#f7f7f7"
            ],
            [
             0.6,
             "#e6f5d0"
            ],
            [
             0.7,
             "#b8e186"
            ],
            [
             0.8,
             "#7fbc41"
            ],
            [
             0.9,
             "#4d9221"
            ],
            [
             1,
             "#276419"
            ]
           ],
           "sequential": [
            [
             0,
             "#0d0887"
            ],
            [
             0.1111111111111111,
             "#46039f"
            ],
            [
             0.2222222222222222,
             "#7201a8"
            ],
            [
             0.3333333333333333,
             "#9c179e"
            ],
            [
             0.4444444444444444,
             "#bd3786"
            ],
            [
             0.5555555555555556,
             "#d8576b"
            ],
            [
             0.6666666666666666,
             "#ed7953"
            ],
            [
             0.7777777777777778,
             "#fb9f3a"
            ],
            [
             0.8888888888888888,
             "#fdca26"
            ],
            [
             1,
             "#f0f921"
            ]
           ],
           "sequentialminus": [
            [
             0,
             "#0d0887"
            ],
            [
             0.1111111111111111,
             "#46039f"
            ],
            [
             0.2222222222222222,
             "#7201a8"
            ],
            [
             0.3333333333333333,
             "#9c179e"
            ],
            [
             0.4444444444444444,
             "#bd3786"
            ],
            [
             0.5555555555555556,
             "#d8576b"
            ],
            [
             0.6666666666666666,
             "#ed7953"
            ],
            [
             0.7777777777777778,
             "#fb9f3a"
            ],
            [
             0.8888888888888888,
             "#fdca26"
            ],
            [
             1,
             "#f0f921"
            ]
           ]
          },
          "colorway": [
           "#636efa",
           "#EF553B",
           "#00cc96",
           "#ab63fa",
           "#FFA15A",
           "#19d3f3",
           "#FF6692",
           "#B6E880",
           "#FF97FF",
           "#FECB52"
          ],
          "font": {
           "color": "#2a3f5f"
          },
          "geo": {
           "bgcolor": "white",
           "lakecolor": "white",
           "landcolor": "#E5ECF6",
           "showlakes": true,
           "showland": true,
           "subunitcolor": "white"
          },
          "hoverlabel": {
           "align": "left"
          },
          "hovermode": "closest",
          "mapbox": {
           "style": "light"
          },
          "paper_bgcolor": "white",
          "plot_bgcolor": "#E5ECF6",
          "polar": {
           "angularaxis": {
            "gridcolor": "white",
            "linecolor": "white",
            "ticks": ""
           },
           "bgcolor": "#E5ECF6",
           "radialaxis": {
            "gridcolor": "white",
            "linecolor": "white",
            "ticks": ""
           }
          },
          "scene": {
           "xaxis": {
            "backgroundcolor": "#E5ECF6",
            "gridcolor": "white",
            "gridwidth": 2,
            "linecolor": "white",
            "showbackground": true,
            "ticks": "",
            "zerolinecolor": "white"
           },
           "yaxis": {
            "backgroundcolor": "#E5ECF6",
            "gridcolor": "white",
            "gridwidth": 2,
            "linecolor": "white",
            "showbackground": true,
            "ticks": "",
            "zerolinecolor": "white"
           },
           "zaxis": {
            "backgroundcolor": "#E5ECF6",
            "gridcolor": "white",
            "gridwidth": 2,
            "linecolor": "white",
            "showbackground": true,
            "ticks": "",
            "zerolinecolor": "white"
           }
          },
          "shapedefaults": {
           "line": {
            "color": "#2a3f5f"
           }
          },
          "ternary": {
           "aaxis": {
            "gridcolor": "white",
            "linecolor": "white",
            "ticks": ""
           },
           "baxis": {
            "gridcolor": "white",
            "linecolor": "white",
            "ticks": ""
           },
           "bgcolor": "#E5ECF6",
           "caxis": {
            "gridcolor": "white",
            "linecolor": "white",
            "ticks": ""
           }
          },
          "title": {
           "x": 0.05
          },
          "xaxis": {
           "automargin": true,
           "gridcolor": "white",
           "linecolor": "white",
           "ticks": "",
           "title": {
            "standoff": 15
           },
           "zerolinecolor": "white",
           "zerolinewidth": 2
          },
          "yaxis": {
           "automargin": true,
           "gridcolor": "white",
           "linecolor": "white",
           "ticks": "",
           "title": {
            "standoff": 15
           },
           "zerolinecolor": "white",
           "zerolinewidth": 2
          }
         }
        },
        "xaxis": {
         "autorange": true,
         "range": [
          2018.8782542113322,
          2021.1217457886678
         ],
         "type": "linear"
        },
        "yaxis": {
         "autorange": true,
         "range": [
          0.3360452183318275,
          0.5848861298376319
         ],
         "type": "linear"
        }
       }
      },
      "image/png": "[encoded data removed]",
      "text/html": [
       "<div>                            <div id=\"691c1ca0-ec5c-42d8-886d-6b8d1985ecce\" class=\"plotly-graph-div\" style=\"height:525px; width:100%;\"></div>            <script type=\"text/javascript\">                require([\"plotly\"], function(Plotly) {                    window.PLOTLYENV=window.PLOTLYENV || {};                                    if (document.getElementById(\"691c1ca0-ec5c-42d8-886d-6b8d1985ecce\")) {                    Plotly.newPlot(                        \"691c1ca0-ec5c-42d8-886d-6b8d1985ecce\",                        [{\"name\":\"POSS_est\",\"x\":[2019,2020,2021],\"y\":[101.85801956317835,100.58749266690131,99.69160126626095],\"type\":\"scatter\"},{\"name\":\"FGM\",\"x\":[2019,2020,2021],\"y\":[40.414296113076766,40.894264716862395,40.24179793949387],\"type\":\"scatter\"},{\"name\":\"FGA\",\"x\":[2019,2020,2021],\"y\":[87.88133168677186,87.78556419527908,87.33915276318027],\"type\":\"scatter\"},{\"name\":\"FG_PCT\",\"x\":[2019,2020,2021],\"y\":[0.14053155929613118,0.1445513210243939,0.13452713461260093],\"type\":\"scatter\"},{\"name\":\"FG3M\",\"x\":[2019,2020,2021],\"y\":[12.182044029826425,12.60716990389641,12.36039347233673],\"type\":\"scatter\"},{\"name\":\"FG3A\",\"x\":[2019,2020,2021],\"y\":[34.01820150580703,34.41084551961004,34.948802024003584],\"type\":\"scatter\"},{\"name\":\"FG3_PCT\",\"x\":[2019,2020,2021],\"y\":[0.09606396963759953,0.09464529135067677,0.08694530281384327],\"type\":\"scatter\"},{\"name\":\"FTM\",\"x\":[2019,2020,2021],\"y\":[17.795466644454983,16.905699017631434,16.89438804730227],\"type\":\"scatter\"},{\"name\":\"FTA\",\"x\":[2019,2020,2021],\"y\":[22.991695970390865,21.7238915021386,21.791645950419465],\"type\":\"scatter\"},{\"name\":\"OREB\",\"x\":[2019,2020,2021],\"y\":[9.909209759136061,9.77803376958604,10.215176250684424],\"type\":\"scatter\"},{\"name\":\"DREB\",\"x\":[2019,2020,2021],\"y\":[34.46972632554838,34.19666570669739,33.834844832686144],\"type\":\"scatter\"},{\"name\":\"REB\",\"x\":[2019,2020,2021],\"y\":[44.37893608468444,43.97469947628343,44.05002108337057],\"type\":\"scatter\"},{\"name\":\"AST\",\"x\":[2019,2020,2021],\"y\":[24.09508530371454,24.451910872185422,24.4005714537456],\"type\":\"scatter\"},{\"name\":\"STL\",\"x\":[2019,2020,2021],\"y\":[7.5477219145985055,7.462587863855024,7.554517820168289],\"type\":\"scatter\"},{\"name\":\"BLK\",\"x\":[2019,2020,2021],\"y\":[4.817278755373355,4.809232771217989,4.677487365711517],\"type\":\"scatter\"},{\"name\":\"TOV\",\"x\":[2019,2020,2021],\"y\":[13.769551408570567,13.021449980267299,12.979300535580549],\"type\":\"scatter\"},{\"name\":\"PF\",\"x\":[2019,2020,2021],\"y\":[47615,45152,52038],\"type\":\"scatter\"},{\"name\":\"PTS\",\"x\":[2019,2020,2021],\"y\":[254975,260871,290611],\"type\":\"scatter\"},{\"name\":\"FG%\",\"x\":[2019,2020,2021],\"y\":[0.45987350598102095,0.4658427053666028,0.46075324372116755],\"type\":\"scatter\"},{\"name\":\"3PT%\",\"x\":[2019,2020,2021],\"y\":[0.3581037059747825,0.3663719886427039,0.3536714495634886],\"type\":\"scatter\"},{\"name\":\"FT%\",\"x\":[2019,2020,2021],\"y\":[0.7739953880467244,0.7782076713082074,0.7752690221629208],\"type\":\"scatter\"},{\"name\":\"AST%\",\"x\":[2019,2020,2021],\"y\":[0.5962020280224093,0.5979300775177623,0.606348938246582],\"type\":\"scatter\"},{\"name\":\"FG3A%\",\"x\":[2019,2020,2021],\"y\":[0.38709246722677443,0.39198751907617835,0.4001504585093366],\"type\":\"scatter\"},{\"name\":\"PTS/FGA\",\"x\":[2019,2020,2021],\"y\":[2.7417551103799047,2.7216872372168726,2.7269750114949],\"type\":\"scatter\"},{\"name\":\"FG3M/FGM\",\"x\":[2019,2020,2021],\"y\":[0.3014290783573664,0.30828699308286994,0.3071531120682375],\"type\":\"scatter\"},{\"name\":\"FTA/FGA\",\"x\":[2019,2020,2021],\"y\":[0.2616220706843435,0.24746541987033058,0.2495060377962152],\"type\":\"scatter\"},{\"name\":\"TRU%\",\"x\":[2019,2020,2021],\"y\":[0.560746080935249,0.5672598986059707,0.5616653190881382],\"type\":\"scatter\"},{\"name\":\"AST_TOV\",\"x\":[2019,2020,2021],\"y\":[1.7498816474672558,1.8778178243774575,1.8799604329105086],\"type\":\"scatter\"}],                        {\"template\":{\"data\":{\"histogram2dcontour\":[{\"type\":\"histogram2dcontour\",\"colorbar\":{\"outlinewidth\":0,\"ticks\":\"\"},\"colorscale\":[[0.0,\"#0d0887\"],[0.1111111111111111,\"#46039f\"],[0.2222222222222222,\"#7201a8\"],[0.3333333333333333,\"#9c179e\"],[0.4444444444444444,\"#bd3786\"],[0.5555555555555556,\"#d8576b\"],[0.6666666666666666,\"#ed7953\"],[0.7777777777777778,\"#fb9f3a\"],[0.8888888888888888,\"#fdca26\"],[1.0,\"#f0f921\"]]}],\"choropleth\":[{\"type\":\"choropleth\",\"colorbar\":{\"outlinewidth\":0,\"ticks\":\"\"}}],\"histogram2d\":[{\"type\":\"histogram2d\",\"colorbar\":{\"outlinewidth\":0,\"ticks\":\"\"},\"colorscale\":[[0.0,\"#0d0887\"],[0.1111111111111111,\"#46039f\"],[0.2222222222222222,\"#7201a8\"],[0.3333333333333333,\"#9c179e\"],[0.4444444444444444,\"#bd3786\"],[0.5555555555555556,\"#d8576b\"],[0.6666666666666666,\"#ed7953\"],[0.7777777777777778,\"#fb9f3a\"],[0.8888888888888888,\"#fdca26\"],[1.0,\"#f0f921\"]]}],\"heatmap\":[{\"type\":\"heatmap\",\"colorbar\":{\"outlinewidth\":0,\"ticks\":\"\"},\"colorscale\":[[0.0,\"#0d0887\"],[0.1111111111111111,\"#46039f\"],[0.2222222222222222,\"#7201a8\"],[0.3333333333333333,\"#9c179e\"],[0.4444444444444444,\"#bd3786\"],[0.5555555555555556,\"#d8576b\"],[0.6666666666666666,\"#ed7953\"],[0.7777777777777778,\"#fb9f3a\"],[0.8888888888888888,\"#fdca26\"],[1.0,\"#f0f921\"]]}],\"heatmapgl\":[{\"type\":\"heatmapgl\",\"colorbar\":{\"outlinewidth\":0,\"ticks\":\"\"},\"colorscale\":[[0.0,\"#0d0887\"],[0.1111111111111111,\"#46039f\"],[0.2222222222222222,\"#7201a8\"],[0.3333333333333333,\"#9c179e\"],[0.4444444444444444,\"#bd3786\"],[0.5555555555555556,\"#d8576b\"],[0.6666666666666666,\"#ed7953\"],[0.7777777777777778,\"#fb9f3a\"],[0.8888888888888888,\"#fdca26\"],[1.0,\"#f0f921\"]]}],\"contourcarpet\":[{\"type\":\"contourcarpet\",\"colorbar\":{\"outlinewidth\":0,\"ticks\":\"\"}}],\"contour\":[{\"type\":\"contour\",\"colorbar\":{\"outlinewidth\":0,\"ticks\":\"\"},\"colorscale\":[[0.0,\"#0d0887\"],[0.1111111111111111,\"#46039f\"],[0.2222222222222222,\"#7201a8\"],[0.3333333333333333,\"#9c179e\"],[0.4444444444444444,\"#bd3786\"],[0.5555555555555556,\"#d8576b\"],[0.6666666666666666,\"#ed7953\"],[0.7777777777777778,\"#fb9f3a\"],[0.8888888888888888,\"#fdca26\"],[1.0,\"#f0f921\"]]}],\"surface\":[{\"type\":\"surface\",\"colorbar\":{\"outlinewidth\":0,\"ticks\":\"\"},\"colorscale\":[[0.0,\"#0d0887\"],[0.1111111111111111,\"#46039f\"],[0.2222222222222222,\"#7201a8\"],[0.3333333333333333,\"#9c179e\"],[0.4444444444444444,\"#bd3786\"],[0.5555555555555556,\"#d8576b\"],[0.6666666666666666,\"#ed7953\"],[0.7777777777777778,\"#fb9f3a\"],[0.8888888888888888,\"#fdca26\"],[1.0,\"#f0f921\"]]}],\"mesh3d\":[{\"type\":\"mesh3d\",\"colorbar\":{\"outlinewidth\":0,\"ticks\":\"\"}}],\"scatter\":[{\"fillpattern\":{\"fillmode\":\"overlay\",\"size\":10,\"solidity\":0.2},\"type\":\"scatter\"}],\"parcoords\":[{\"type\":\"parcoords\",\"line\":{\"colorbar\":{\"outlinewidth\":0,\"ticks\":\"\"}}}],\"scatterpolargl\":[{\"type\":\"scatterpolargl\",\"marker\":{\"colorbar\":{\"outlinewidth\":0,\"ticks\":\"\"}}}],\"bar\":[{\"error_x\":{\"color\":\"#2a3f5f\"},\"error_y\":{\"color\":\"#2a3f5f\"},\"marker\":{\"line\":{\"color\":\"#E5ECF6\",\"width\":0.5},\"pattern\":{\"fillmode\":\"overlay\",\"size\":10,\"solidity\":0.2}},\"type\":\"bar\"}],\"scattergeo\":[{\"type\":\"scattergeo\",\"marker\":{\"colorbar\":{\"outlinewidth\":0,\"ticks\":\"\"}}}],\"scatterpolar\":[{\"type\":\"scatterpolar\",\"marker\":{\"colorbar\":{\"outlinewidth\":0,\"ticks\":\"\"}}}],\"histogram\":[{\"marker\":{\"pattern\":{\"fillmode\":\"overlay\",\"size\":10,\"solidity\":0.2}},\"type\":\"histogram\"}],\"scattergl\":[{\"type\":\"scattergl\",\"marker\":{\"colorbar\":{\"outlinewidth\":0,\"ticks\":\"\"}}}],\"scatter3d\":[{\"type\":\"scatter3d\",\"line\":{\"colorbar\":{\"outlinewidth\":0,\"ticks\":\"\"}},\"marker\":{\"colorbar\":{\"outlinewidth\":0,\"ticks\":\"\"}}}],\"scattermapbox\":[{\"type\":\"scattermapbox\",\"marker\":{\"colorbar\":{\"outlinewidth\":0,\"ticks\":\"\"}}}],\"scatterternary\":[{\"type\":\"scatterternary\",\"marker\":{\"colorbar\":{\"outlinewidth\":0,\"ticks\":\"\"}}}],\"scattercarpet\":[{\"type\":\"scattercarpet\",\"marker\":{\"colorbar\":{\"outlinewidth\":0,\"ticks\":\"\"}}}],\"carpet\":[{\"aaxis\":{\"endlinecolor\":\"#2a3f5f\",\"gridcolor\":\"white\",\"linecolor\":\"white\",\"minorgridcolor\":\"white\",\"startlinecolor\":\"#2a3f5f\"},\"baxis\":{\"endlinecolor\":\"#2a3f5f\",\"gridcolor\":\"white\",\"linecolor\":\"white\",\"minorgridcolor\":\"white\",\"startlinecolor\":\"#2a3f5f\"},\"type\":\"carpet\"}],\"table\":[{\"cells\":{\"fill\":{\"color\":\"#EBF0F8\"},\"line\":{\"color\":\"white\"}},\"header\":{\"fill\":{\"color\":\"#C8D4E3\"},\"line\":{\"color\":\"white\"}},\"type\":\"table\"}],\"barpolar\":[{\"marker\":{\"line\":{\"color\":\"#E5ECF6\",\"width\":0.5},\"pattern\":{\"fillmode\":\"overlay\",\"size\":10,\"solidity\":0.2}},\"type\":\"barpolar\"}],\"pie\":[{\"automargin\":true,\"type\":\"pie\"}]},\"layout\":{\"autotypenumbers\":\"strict\",\"colorway\":[\"#636efa\",\"#EF553B\",\"#00cc96\",\"#ab63fa\",\"#FFA15A\",\"#19d3f3\",\"#FF6692\",\"#B6E880\",\"#FF97FF\",\"#FECB52\"],\"font\":{\"color\":\"#2a3f5f\"},\"hovermode\":\"closest\",\"hoverlabel\":{\"align\":\"left\"},\"paper_bgcolor\":\"white\",\"plot_bgcolor\":\"#E5ECF6\",\"polar\":{\"bgcolor\":\"#E5ECF6\",\"angularaxis\":{\"gridcolor\":\"white\",\"linecolor\":\"white\",\"ticks\":\"\"},\"radialaxis\":{\"gridcolor\":\"white\",\"linecolor\":\"white\",\"ticks\":\"\"}},\"ternary\":{\"bgcolor\":\"#E5ECF6\",\"aaxis\":{\"gridcolor\":\"white\",\"linecolor\":\"white\",\"ticks\":\"\"},\"baxis\":{\"gridcolor\":\"white\",\"linecolor\":\"white\",\"ticks\":\"\"},\"caxis\":{\"gridcolor\":\"white\",\"linecolor\":\"white\",\"ticks\":\"\"}},\"coloraxis\":{\"colorbar\":{\"outlinewidth\":0,\"ticks\":\"\"}},\"colorscale\":{\"sequential\":[[0.0,\"#0d0887\"],[0.1111111111111111,\"#46039f\"],[0.2222222222222222,\"#7201a8\"],[0.3333333333333333,\"#9c179e\"],[0.4444444444444444,\"#bd3786\"],[0.5555555555555556,\"#d8576b\"],[0.6666666666666666,\"#ed7953\"],[0.7777777777777778,\"#fb9f3a\"],[0.8888888888888888,\"#fdca26\"],[1.0,\"#f0f921\"]],\"sequentialminus\":[[0.0,\"#0d0887\"],[0.1111111111111111,\"#46039f\"],[0.2222222222222222,\"#7201a8\"],[0.3333333333333333,\"#9c179e\"],[0.4444444444444444,\"#bd3786\"],[0.5555555555555556,\"#d8576b\"],[0.6666666666666666,\"#ed7953\"],[0.7777777777777778,\"#fb9f3a\"],[0.8888888888888888,\"#fdca26\"],[1.0,\"#f0f921\"]],\"diverging\":[[0,\"#8e0152\"],[0.1,\"#c51b7d\"],[0.2,\"#de77ae\"],[0.3,\"#f1b6da\"],[0.4,\"#fde0ef\"],[0.5,\"#f7f7f7\"],[0.6,\"#e6f5d0\"],[0.7,\"#b8e186\"],[0.8,\"#7fbc41\"],[0.9,\"#4d9221\"],[1,\"#276419\"]]},\"xaxis\":{\"gridcolor\":\"white\",\"linecolor\":\"white\",\"ticks\":\"\",\"title\":{\"standoff\":15},\"zerolinecolor\":\"white\",\"automargin\":true,\"zerolinewidth\":2},\"yaxis\":{\"gridcolor\":\"white\",\"linecolor\":\"white\",\"ticks\":\"\",\"title\":{\"standoff\":15},\"zerolinecolor\":\"white\",\"automargin\":true,\"zerolinewidth\":2},\"scene\":{\"xaxis\":{\"backgroundcolor\":\"#E5ECF6\",\"gridcolor\":\"white\",\"linecolor\":\"white\",\"showbackground\":true,\"ticks\":\"\",\"zerolinecolor\":\"white\",\"gridwidth\":2},\"yaxis\":{\"backgroundcolor\":\"#E5ECF6\",\"gridcolor\":\"white\",\"linecolor\":\"white\",\"showbackground\":true,\"ticks\":\"\",\"zerolinecolor\":\"white\",\"gridwidth\":2},\"zaxis\":{\"backgroundcolor\":\"#E5ECF6\",\"gridcolor\":\"white\",\"linecolor\":\"white\",\"showbackground\":true,\"ticks\":\"\",\"zerolinecolor\":\"white\",\"gridwidth\":2}},\"shapedefaults\":{\"line\":{\"color\":\"#2a3f5f\"}},\"annotationdefaults\":{\"arrowcolor\":\"#2a3f5f\",\"arrowhead\":0,\"arrowwidth\":1},\"geo\":{\"bgcolor\":\"white\",\"landcolor\":\"#E5ECF6\",\"subunitcolor\":\"white\",\"showland\":true,\"showlakes\":true,\"lakecolor\":\"white\"},\"title\":{\"x\":0.05},\"mapbox\":{\"style\":\"light\"}}}},                        {\"responsive\": true}                    ).then(function(){\n",
       "                            \n",
       "var gd = document.getElementById('691c1ca0-ec5c-42d8-886d-6b8d1985ecce');\n",
       "var x = new MutationObserver(function (mutations, observer) {{\n",
       "        var display = window.getComputedStyle(gd).display;\n",
       "        if (!display || display === 'none') {{\n",
       "            console.log([gd, 'removed!']);\n",
       "            Plotly.purge(gd);\n",
       "            observer.disconnect();\n",
       "        }}\n",
       "}});\n",
       "\n",
       "// Listen for the removal of the full notebook cells\n",
       "var notebookContainer = gd.closest('#notebook-container');\n",
       "if (notebookContainer) {{\n",
       "    x.observe(notebookContainer, {childList: true});\n",
       "}}\n",
       "\n",
       "// Listen for the clearing of the current output cell\n",
       "var outputEl = gd.closest('.output');\n",
       "if (outputEl) {{\n",
       "    x.observe(outputEl, {childList: true});\n",
       "}}\n",
       "\n",
       "                        })                };                });            </script>        </div>"
      ]
     },
     "metadata": {},
     "output_type": "display_data"
    }
   ],
   "source": [
    "fig = go.Figure()\n",
    "for col in change_per48_df.columns[1:]:\n",
    "    fig.add_trace(go.Scatter(x=change_per48_df['SeasonStart'],\n",
    "                            y=change_per48_df[col],name=col))\n",
    "fig.show()"
   ]
  },
  {
   "cell_type": "code",
   "execution_count": null,
   "id": "dccc77e5-8188-472b-bd85-b7bfaf593980",
   "metadata": {},
   "outputs": [],
   "source": []
  },
  {
   "cell_type": "code",
   "execution_count": 114,
   "id": "ae818574-be9d-41d3-b4fc-63c3d0818014",
   "metadata": {},
   "outputs": [
    {
     "data": {
      "text/html": [
       "<div>\n",
       "<style scoped>\n",
       "    .dataframe tbody tr th:only-of-type {\n",
       "        vertical-align: middle;\n",
       "    }\n",
       "\n",
       "    .dataframe tbody tr th {\n",
       "        vertical-align: top;\n",
       "    }\n",
       "\n",
       "    .dataframe thead th {\n",
       "        text-align: right;\n",
       "    }\n",
       "</style>\n",
       "<table border=\"1\" class=\"dataframe\">\n",
       "  <thead>\n",
       "    <tr style=\"text-align: right;\">\n",
       "      <th></th>\n",
       "      <th>SeasonStart</th>\n",
       "      <th>FGM</th>\n",
       "      <th>FGA</th>\n",
       "      <th>FG_PCT</th>\n",
       "      <th>FG3M</th>\n",
       "      <th>FG3A</th>\n",
       "      <th>FG3_PCT</th>\n",
       "      <th>FTM</th>\n",
       "      <th>FTA</th>\n",
       "      <th>OREB</th>\n",
       "      <th>DREB</th>\n",
       "      <th>REB</th>\n",
       "      <th>AST</th>\n",
       "      <th>STL</th>\n",
       "      <th>BLK</th>\n",
       "      <th>TOV</th>\n",
       "      <th>PF</th>\n",
       "      <th>PTS</th>\n",
       "      <th>FG%</th>\n",
       "      <th>3PT%</th>\n",
       "      <th>FT%</th>\n",
       "      <th>AST%</th>\n",
       "      <th>FG3A%</th>\n",
       "      <th>PTS/FGA</th>\n",
       "      <th>FG3M/FGM</th>\n",
       "      <th>FTA/FGA</th>\n",
       "      <th>TRU%</th>\n",
       "      <th>AST_TOV</th>\n",
       "    </tr>\n",
       "  </thead>\n",
       "  <tbody>\n",
       "    <tr>\n",
       "      <th>0</th>\n",
       "      <td>2019</td>\n",
       "      <td>39.677088</td>\n",
       "      <td>86.278265</td>\n",
       "      <td>0.137968</td>\n",
       "      <td>11.959828</td>\n",
       "      <td>33.397666</td>\n",
       "      <td>0.094312</td>\n",
       "      <td>17.470855</td>\n",
       "      <td>22.572298</td>\n",
       "      <td>9.728453</td>\n",
       "      <td>33.840955</td>\n",
       "      <td>43.569408</td>\n",
       "      <td>23.655560</td>\n",
       "      <td>7.410042</td>\n",
       "      <td>4.729405</td>\n",
       "      <td>13.518377</td>\n",
       "      <td>47615</td>\n",
       "      <td>254975</td>\n",
       "      <td>0.459874</td>\n",
       "      <td>0.358104</td>\n",
       "      <td>0.773995</td>\n",
       "      <td>0.596202</td>\n",
       "      <td>0.387092</td>\n",
       "      <td>2.741755</td>\n",
       "      <td>0.301429</td>\n",
       "      <td>0.261622</td>\n",
       "      <td>0.560746</td>\n",
       "      <td>1.749882</td>\n",
       "    </tr>\n",
       "    <tr>\n",
       "      <th>1</th>\n",
       "      <td>2020</td>\n",
       "      <td>40.655417</td>\n",
       "      <td>87.272843</td>\n",
       "      <td>0.143707</td>\n",
       "      <td>12.533536</td>\n",
       "      <td>34.209865</td>\n",
       "      <td>0.094093</td>\n",
       "      <td>16.806959</td>\n",
       "      <td>21.597011</td>\n",
       "      <td>9.720924</td>\n",
       "      <td>33.996936</td>\n",
       "      <td>43.717860</td>\n",
       "      <td>24.309097</td>\n",
       "      <td>7.419002</td>\n",
       "      <td>4.781144</td>\n",
       "      <td>12.945397</td>\n",
       "      <td>45152</td>\n",
       "      <td>260871</td>\n",
       "      <td>0.465843</td>\n",
       "      <td>0.366372</td>\n",
       "      <td>0.778208</td>\n",
       "      <td>0.597930</td>\n",
       "      <td>0.391988</td>\n",
       "      <td>2.721687</td>\n",
       "      <td>0.308287</td>\n",
       "      <td>0.247465</td>\n",
       "      <td>0.567260</td>\n",
       "      <td>1.877818</td>\n",
       "    </tr>\n",
       "    <tr>\n",
       "      <th>2</th>\n",
       "      <td>2021</td>\n",
       "      <td>40.366287</td>\n",
       "      <td>87.609339</td>\n",
       "      <td>0.134943</td>\n",
       "      <td>12.398631</td>\n",
       "      <td>35.056917</td>\n",
       "      <td>0.087214</td>\n",
       "      <td>16.946651</td>\n",
       "      <td>21.859059</td>\n",
       "      <td>10.246777</td>\n",
       "      <td>33.939514</td>\n",
       "      <td>44.186291</td>\n",
       "      <td>24.476055</td>\n",
       "      <td>7.577888</td>\n",
       "      <td>4.691957</td>\n",
       "      <td>13.019452</td>\n",
       "      <td>52038</td>\n",
       "      <td>290611</td>\n",
       "      <td>0.460753</td>\n",
       "      <td>0.353671</td>\n",
       "      <td>0.775269</td>\n",
       "      <td>0.606349</td>\n",
       "      <td>0.400150</td>\n",
       "      <td>2.726975</td>\n",
       "      <td>0.307153</td>\n",
       "      <td>0.249506</td>\n",
       "      <td>0.561665</td>\n",
       "      <td>1.879960</td>\n",
       "    </tr>\n",
       "  </tbody>\n",
       "</table>\n",
       "</div>"
      ],
      "text/plain": [
       "   SeasonStart        FGM        FGA    FG_PCT       FG3M       FG3A  \\\n",
       "0         2019  39.677088  86.278265  0.137968  11.959828  33.397666   \n",
       "1         2020  40.655417  87.272843  0.143707  12.533536  34.209865   \n",
       "2         2021  40.366287  87.609339  0.134943  12.398631  35.056917   \n",
       "\n",
       "    FG3_PCT        FTM        FTA       OREB       DREB        REB        AST  \\\n",
       "0  0.094312  17.470855  22.572298   9.728453  33.840955  43.569408  23.655560   \n",
       "1  0.094093  16.806959  21.597011   9.720924  33.996936  43.717860  24.309097   \n",
       "2  0.087214  16.946651  21.859059  10.246777  33.939514  44.186291  24.476055   \n",
       "\n",
       "        STL       BLK        TOV     PF     PTS       FG%      3PT%       FT%  \\\n",
       "0  7.410042  4.729405  13.518377  47615  254975  0.459874  0.358104  0.773995   \n",
       "1  7.419002  4.781144  12.945397  45152  260871  0.465843  0.366372  0.778208   \n",
       "2  7.577888  4.691957  13.019452  52038  290611  0.460753  0.353671  0.775269   \n",
       "\n",
       "       AST%     FG3A%   PTS/FGA  FG3M/FGM   FTA/FGA      TRU%   AST_TOV  \n",
       "0  0.596202  0.387092  2.741755  0.301429  0.261622  0.560746  1.749882  \n",
       "1  0.597930  0.391988  2.721687  0.308287  0.247465  0.567260  1.877818  \n",
       "2  0.606349  0.400150  2.726975  0.307153  0.249506  0.561665  1.879960  "
      ]
     },
     "execution_count": 114,
     "metadata": {},
     "output_type": "execute_result"
    }
   ],
   "source": [
    "change_per100_df = change_df.copy()\n",
    "change_per100_df\n",
    "\n",
    "for col in change_per100_df.columns[3:18]:\n",
    "    change_per100_df[col]=(change_per100_df[col]/change_per100_df['POSS_est'])*100\n",
    "    \n",
    "change_per100_df.drop(columns=['MIN', 'POSS_est'], inplace=True)\n",
    "change_per100_df"
   ]
  },
  {
   "cell_type": "code",
   "execution_count": 115,
   "id": "73cb0a3a-c798-4357-86a3-95e4372a4351",
   "metadata": {},
   "outputs": [
    {
     "data": {
      "application/vnd.plotly.v1+json": {
       "config": {
        "plotlyServerURL": "https://plot.ly"
       },
       "data": [
        {
         "name": "FGM",
         "type": "scatter",
         "visible": "legendonly",
         "x": [
          2019,
          2020,
          2021
         ],
         "y": [
          39.67708805491691,
          40.655417122569155,
          40.366287057637095
         ]
        },
        {
         "name": "FGA",
         "type": "scatter",
         "visible": "legendonly",
         "x": [
          2019,
          2020,
          2021
         ],
         "y": [
          86.2782646507894,
          87.27284264454605,
          87.60933885484576
         ]
        },
        {
         "name": "FG_PCT",
         "type": "scatter",
         "visible": "legendonly",
         "x": [
          2019,
          2020,
          2021
         ],
         "y": [
          0.13796808528067367,
          0.14370705262838213,
          0.1349432980350066
         ]
        },
        {
         "name": "FG3M",
         "type": "scatter",
         "visible": "legendonly",
         "x": [
          2019,
          2020,
          2021
         ],
         "y": [
          11.959828084297673,
          12.533536297246666,
          12.39863069239305
         ]
        },
        {
         "name": "FG3A",
         "type": "scatter",
         "visible": "legendonly",
         "x": [
          2019,
          2020,
          2021
         ],
         "y": [
          33.39766633171866,
          34.20986507096131,
          35.056917112466365
         ]
        },
        {
         "name": "FG3_PCT",
         "type": "scatter",
         "visible": "legendonly",
         "x": [
          2019,
          2020,
          2021
         ],
         "y": [
          0.09431164089933537,
          0.09409250478496135,
          0.08721427051976598
         ]
        },
        {
         "name": "FTM",
         "type": "scatter",
         "visible": "legendonly",
         "x": [
          2019,
          2020,
          2021
         ],
         "y": [
          17.470854745430415,
          16.80695936383979,
          16.94665130533911
         ]
        },
        {
         "name": "FTA",
         "type": "scatter",
         "x": [
          2019,
          2020,
          2021
         ],
         "y": [
          22.57229825299132,
          21.597010648309876,
          21.859059011618566
         ]
        },
        {
         "name": "OREB",
         "type": "scatter",
         "visible": "legendonly",
         "x": [
          2019,
          2020,
          2021
         ],
         "y": [
          9.728453195567765,
          9.720924053615999,
          10.246777181762038
         ]
        },
        {
         "name": "DREB",
         "type": "scatter",
         "visible": "legendonly",
         "x": [
          2019,
          2020,
          2021
         ],
         "y": [
          33.84095476563652,
          33.996936199553886,
          33.93951386367892
         ]
        },
        {
         "name": "REB",
         "type": "scatter",
         "visible": "legendonly",
         "x": [
          2019,
          2020,
          2021
         ],
         "y": [
          43.569407961204284,
          43.71786025316988,
          44.18629104544096
         ]
        },
        {
         "name": "AST",
         "type": "scatter",
         "visible": "legendonly",
         "x": [
          2019,
          2020,
          2021
         ],
         "y": [
          23.655560364365172,
          24.309096711614732,
          24.476055298355
         ]
        },
        {
         "name": "STL",
         "type": "scatter",
         "visible": "legendonly",
         "x": [
          2019,
          2020,
          2021
         ],
         "y": [
          7.410041886703839,
          7.419001772484397,
          7.577887930590395
         ]
        },
        {
         "name": "BLK",
         "type": "scatter",
         "visible": "legendonly",
         "x": [
          2019,
          2020,
          2021
         ],
         "y": [
          4.729405476399819,
          4.781143901403243,
          4.6919573026203745
         ]
        },
        {
         "name": "TOV",
         "type": "scatter",
         "visible": "legendonly",
         "x": [
          2019,
          2020,
          2021
         ],
         "y": [
          13.51837731346218,
          12.945396723813607,
          13.01945236180411
         ]
        },
        {
         "name": "PF",
         "type": "scatter",
         "visible": "legendonly",
         "x": [
          2019,
          2020,
          2021
         ],
         "y": [
          47615,
          45152,
          52038
         ]
        },
        {
         "name": "PTS",
         "type": "scatter",
         "visible": "legendonly",
         "x": [
          2019,
          2020,
          2021
         ],
         "y": [
          254975,
          260871,
          290611
         ]
        },
        {
         "name": "FG%",
         "type": "scatter",
         "x": [
          2019,
          2020,
          2021
         ],
         "y": [
          0.45987350598102095,
          0.4658427053666028,
          0.46075324372116755
         ]
        },
        {
         "name": "3PT%",
         "type": "scatter",
         "visible": true,
         "x": [
          2019,
          2020,
          2021
         ],
         "y": [
          0.3581037059747825,
          0.3663719886427039,
          0.3536714495634886
         ]
        },
        {
         "name": "FT%",
         "type": "scatter",
         "visible": "legendonly",
         "x": [
          2019,
          2020,
          2021
         ],
         "y": [
          0.7739953880467244,
          0.7782076713082074,
          0.7752690221629208
         ]
        },
        {
         "name": "AST%",
         "type": "scatter",
         "visible": "legendonly",
         "x": [
          2019,
          2020,
          2021
         ],
         "y": [
          0.5962020280224093,
          0.5979300775177623,
          0.606348938246582
         ]
        },
        {
         "name": "FG3A%",
         "type": "scatter",
         "visible": "legendonly",
         "x": [
          2019,
          2020,
          2021
         ],
         "y": [
          0.38709246722677443,
          0.39198751907617835,
          0.4001504585093366
         ]
        },
        {
         "name": "PTS/FGA",
         "type": "scatter",
         "visible": "legendonly",
         "x": [
          2019,
          2020,
          2021
         ],
         "y": [
          2.7417551103799047,
          2.7216872372168726,
          2.7269750114949
         ]
        },
        {
         "name": "FG3M/FGM",
         "type": "scatter",
         "visible": "legendonly",
         "x": [
          2019,
          2020,
          2021
         ],
         "y": [
          0.3014290783573664,
          0.30828699308286994,
          0.3071531120682375
         ]
        },
        {
         "name": "FTA/FGA",
         "type": "scatter",
         "visible": "legendonly",
         "x": [
          2019,
          2020,
          2021
         ],
         "y": [
          0.2616220706843435,
          0.24746541987033058,
          0.2495060377962152
         ]
        },
        {
         "name": "TRU%",
         "type": "scatter",
         "visible": "legendonly",
         "x": [
          2019,
          2020,
          2021
         ],
         "y": [
          0.560746080935249,
          0.5672598986059707,
          0.5616653190881382
         ]
        },
        {
         "name": "AST_TOV",
         "type": "scatter",
         "visible": "legendonly",
         "x": [
          2019,
          2020,
          2021
         ],
         "y": [
          1.7498816474672558,
          1.8778178243774575,
          1.8799604329105086
         ]
        }
       ],
       "layout": {
        "autosize": true,
        "template": {
         "data": {
          "bar": [
           {
            "error_x": {
             "color": "#2a3f5f"
            },
            "error_y": {
             "color": "#2a3f5f"
            },
            "marker": {
             "line": {
              "color": "#E5ECF6",
              "width": 0.5
             },
             "pattern": {
              "fillmode": "overlay",
              "size": 10,
              "solidity": 0.2
             }
            },
            "type": "bar"
           }
          ],
          "barpolar": [
           {
            "marker": {
             "line": {
              "color": "#E5ECF6",
              "width": 0.5
             },
             "pattern": {
              "fillmode": "overlay",
              "size": 10,
              "solidity": 0.2
             }
            },
            "type": "barpolar"
           }
          ],
          "carpet": [
           {
            "aaxis": {
             "endlinecolor": "#2a3f5f",
             "gridcolor": "white",
             "linecolor": "white",
             "minorgridcolor": "white",
             "startlinecolor": "#2a3f5f"
            },
            "baxis": {
             "endlinecolor": "#2a3f5f",
             "gridcolor": "white",
             "linecolor": "white",
             "minorgridcolor": "white",
             "startlinecolor": "#2a3f5f"
            },
            "type": "carpet"
           }
          ],
          "choropleth": [
           {
            "colorbar": {
             "outlinewidth": 0,
             "ticks": ""
            },
            "type": "choropleth"
           }
          ],
          "contour": [
           {
            "colorbar": {
             "outlinewidth": 0,
             "ticks": ""
            },
            "colorscale": [
             [
              0,
              "#0d0887"
             ],
             [
              0.1111111111111111,
              "#46039f"
             ],
             [
              0.2222222222222222,
              "#7201a8"
             ],
             [
              0.3333333333333333,
              "#9c179e"
             ],
             [
              0.4444444444444444,
              "#bd3786"
             ],
             [
              0.5555555555555556,
              "#d8576b"
             ],
             [
              0.6666666666666666,
              "#ed7953"
             ],
             [
              0.7777777777777778,
              "#fb9f3a"
             ],
             [
              0.8888888888888888,
              "#fdca26"
             ],
             [
              1,
              "#f0f921"
             ]
            ],
            "type": "contour"
           }
          ],
          "contourcarpet": [
           {
            "colorbar": {
             "outlinewidth": 0,
             "ticks": ""
            },
            "type": "contourcarpet"
           }
          ],
          "heatmap": [
           {
            "colorbar": {
             "outlinewidth": 0,
             "ticks": ""
            },
            "colorscale": [
             [
              0,
              "#0d0887"
             ],
             [
              0.1111111111111111,
              "#46039f"
             ],
             [
              0.2222222222222222,
              "#7201a8"
             ],
             [
              0.3333333333333333,
              "#9c179e"
             ],
             [
              0.4444444444444444,
              "#bd3786"
             ],
             [
              0.5555555555555556,
              "#d8576b"
             ],
             [
              0.6666666666666666,
              "#ed7953"
             ],
             [
              0.7777777777777778,
              "#fb9f3a"
             ],
             [
              0.8888888888888888,
              "#fdca26"
             ],
             [
              1,
              "#f0f921"
             ]
            ],
            "type": "heatmap"
           }
          ],
          "heatmapgl": [
           {
            "colorbar": {
             "outlinewidth": 0,
             "ticks": ""
            },
            "colorscale": [
             [
              0,
              "#0d0887"
             ],
             [
              0.1111111111111111,
              "#46039f"
             ],
             [
              0.2222222222222222,
              "#7201a8"
             ],
             [
              0.3333333333333333,
              "#9c179e"
             ],
             [
              0.4444444444444444,
              "#bd3786"
             ],
             [
              0.5555555555555556,
              "#d8576b"
             ],
             [
              0.6666666666666666,
              "#ed7953"
             ],
             [
              0.7777777777777778,
              "#fb9f3a"
             ],
             [
              0.8888888888888888,
              "#fdca26"
             ],
             [
              1,
              "#f0f921"
             ]
            ],
            "type": "heatmapgl"
           }
          ],
          "histogram": [
           {
            "marker": {
             "pattern": {
              "fillmode": "overlay",
              "size": 10,
              "solidity": 0.2
             }
            },
            "type": "histogram"
           }
          ],
          "histogram2d": [
           {
            "colorbar": {
             "outlinewidth": 0,
             "ticks": ""
            },
            "colorscale": [
             [
              0,
              "#0d0887"
             ],
             [
              0.1111111111111111,
              "#46039f"
             ],
             [
              0.2222222222222222,
              "#7201a8"
             ],
             [
              0.3333333333333333,
              "#9c179e"
             ],
             [
              0.4444444444444444,
              "#bd3786"
             ],
             [
              0.5555555555555556,
              "#d8576b"
             ],
             [
              0.6666666666666666,
              "#ed7953"
             ],
             [
              0.7777777777777778,
              "#fb9f3a"
             ],
             [
              0.8888888888888888,
              "#fdca26"
             ],
             [
              1,
              "#f0f921"
             ]
            ],
            "type": "histogram2d"
           }
          ],
          "histogram2dcontour": [
           {
            "colorbar": {
             "outlinewidth": 0,
             "ticks": ""
            },
            "colorscale": [
             [
              0,
              "#0d0887"
             ],
             [
              0.1111111111111111,
              "#46039f"
             ],
             [
              0.2222222222222222,
              "#7201a8"
             ],
             [
              0.3333333333333333,
              "#9c179e"
             ],
             [
              0.4444444444444444,
              "#bd3786"
             ],
             [
              0.5555555555555556,
              "#d8576b"
             ],
             [
              0.6666666666666666,
              "#ed7953"
             ],
             [
              0.7777777777777778,
              "#fb9f3a"
             ],
             [
              0.8888888888888888,
              "#fdca26"
             ],
             [
              1,
              "#f0f921"
             ]
            ],
            "type": "histogram2dcontour"
           }
          ],
          "mesh3d": [
           {
            "colorbar": {
             "outlinewidth": 0,
             "ticks": ""
            },
            "type": "mesh3d"
           }
          ],
          "parcoords": [
           {
            "line": {
             "colorbar": {
              "outlinewidth": 0,
              "ticks": ""
             }
            },
            "type": "parcoords"
           }
          ],
          "pie": [
           {
            "automargin": true,
            "type": "pie"
           }
          ],
          "scatter": [
           {
            "fillpattern": {
             "fillmode": "overlay",
             "size": 10,
             "solidity": 0.2
            },
            "type": "scatter"
           }
          ],
          "scatter3d": [
           {
            "line": {
             "colorbar": {
              "outlinewidth": 0,
              "ticks": ""
             }
            },
            "marker": {
             "colorbar": {
              "outlinewidth": 0,
              "ticks": ""
             }
            },
            "type": "scatter3d"
           }
          ],
          "scattercarpet": [
           {
            "marker": {
             "colorbar": {
              "outlinewidth": 0,
              "ticks": ""
             }
            },
            "type": "scattercarpet"
           }
          ],
          "scattergeo": [
           {
            "marker": {
             "colorbar": {
              "outlinewidth": 0,
              "ticks": ""
             }
            },
            "type": "scattergeo"
           }
          ],
          "scattergl": [
           {
            "marker": {
             "colorbar": {
              "outlinewidth": 0,
              "ticks": ""
             }
            },
            "type": "scattergl"
           }
          ],
          "scattermapbox": [
           {
            "marker": {
             "colorbar": {
              "outlinewidth": 0,
              "ticks": ""
             }
            },
            "type": "scattermapbox"
           }
          ],
          "scatterpolar": [
           {
            "marker": {
             "colorbar": {
              "outlinewidth": 0,
              "ticks": ""
             }
            },
            "type": "scatterpolar"
           }
          ],
          "scatterpolargl": [
           {
            "marker": {
             "colorbar": {
              "outlinewidth": 0,
              "ticks": ""
             }
            },
            "type": "scatterpolargl"
           }
          ],
          "scatterternary": [
           {
            "marker": {
             "colorbar": {
              "outlinewidth": 0,
              "ticks": ""
             }
            },
            "type": "scatterternary"
           }
          ],
          "surface": [
           {
            "colorbar": {
             "outlinewidth": 0,
             "ticks": ""
            },
            "colorscale": [
             [
              0,
              "#0d0887"
             ],
             [
              0.1111111111111111,
              "#46039f"
             ],
             [
              0.2222222222222222,
              "#7201a8"
             ],
             [
              0.3333333333333333,
              "#9c179e"
             ],
             [
              0.4444444444444444,
              "#bd3786"
             ],
             [
              0.5555555555555556,
              "#d8576b"
             ],
             [
              0.6666666666666666,
              "#ed7953"
             ],
             [
              0.7777777777777778,
              "#fb9f3a"
             ],
             [
              0.8888888888888888,
              "#fdca26"
             ],
             [
              1,
              "#f0f921"
             ]
            ],
            "type": "surface"
           }
          ],
          "table": [
           {
            "cells": {
             "fill": {
              "color": "#EBF0F8"
             },
             "line": {
              "color": "white"
             }
            },
            "header": {
             "fill": {
              "color": "#C8D4E3"
             },
             "line": {
              "color": "white"
             }
            },
            "type": "table"
           }
          ]
         },
         "layout": {
          "annotationdefaults": {
           "arrowcolor": "#2a3f5f",
           "arrowhead": 0,
           "arrowwidth": 1
          },
          "autotypenumbers": "strict",
          "coloraxis": {
           "colorbar": {
            "outlinewidth": 0,
            "ticks": ""
           }
          },
          "colorscale": {
           "diverging": [
            [
             0,
             "#8e0152"
            ],
            [
             0.1,
             "#c51b7d"
            ],
            [
             0.2,
             "#de77ae"
            ],
            [
             0.3,
             "#f1b6da"
            ],
            [
             0.4,
             "#fde0ef"
            ],
            [
             0.5,
             "#f7f7f7"
            ],
            [
             0.6,
             "#e6f5d0"
            ],
            [
             0.7,
             "#b8e186"
            ],
            [
             0.8,
             "#7fbc41"
            ],
            [
             0.9,
             "#4d9221"
            ],
            [
             1,
             "#276419"
            ]
           ],
           "sequential": [
            [
             0,
             "#0d0887"
            ],
            [
             0.1111111111111111,
             "#46039f"
            ],
            [
             0.2222222222222222,
             "#7201a8"
            ],
            [
             0.3333333333333333,
             "#9c179e"
            ],
            [
             0.4444444444444444,
             "#bd3786"
            ],
            [
             0.5555555555555556,
             "#d8576b"
            ],
            [
             0.6666666666666666,
             "#ed7953"
            ],
            [
             0.7777777777777778,
             "#fb9f3a"
            ],
            [
             0.8888888888888888,
             "#fdca26"
            ],
            [
             1,
             "#f0f921"
            ]
           ],
           "sequentialminus": [
            [
             0,
             "#0d0887"
            ],
            [
             0.1111111111111111,
             "#46039f"
            ],
            [
             0.2222222222222222,
             "#7201a8"
            ],
            [
             0.3333333333333333,
             "#9c179e"
            ],
            [
             0.4444444444444444,
             "#bd3786"
            ],
            [
             0.5555555555555556,
             "#d8576b"
            ],
            [
             0.6666666666666666,
             "#ed7953"
            ],
            [
             0.7777777777777778,
             "#fb9f3a"
            ],
            [
             0.8888888888888888,
             "#fdca26"
            ],
            [
             1,
             "#f0f921"
            ]
           ]
          },
          "colorway": [
           "#636efa",
           "#EF553B",
           "#00cc96",
           "#ab63fa",
           "#FFA15A",
           "#19d3f3",
           "#FF6692",
           "#B6E880",
           "#FF97FF",
           "#FECB52"
          ],
          "font": {
           "color": "#2a3f5f"
          },
          "geo": {
           "bgcolor": "white",
           "lakecolor": "white",
           "landcolor": "#E5ECF6",
           "showlakes": true,
           "showland": true,
           "subunitcolor": "white"
          },
          "hoverlabel": {
           "align": "left"
          },
          "hovermode": "closest",
          "mapbox": {
           "style": "light"
          },
          "paper_bgcolor": "white",
          "plot_bgcolor": "#E5ECF6",
          "polar": {
           "angularaxis": {
            "gridcolor": "white",
            "linecolor": "white",
            "ticks": ""
           },
           "bgcolor": "#E5ECF6",
           "radialaxis": {
            "gridcolor": "white",
            "linecolor": "white",
            "ticks": ""
           }
          },
          "scene": {
           "xaxis": {
            "backgroundcolor": "#E5ECF6",
            "gridcolor": "white",
            "gridwidth": 2,
            "linecolor": "white",
            "showbackground": true,
            "ticks": "",
            "zerolinecolor": "white"
           },
           "yaxis": {
            "backgroundcolor": "#E5ECF6",
            "gridcolor": "white",
            "gridwidth": 2,
            "linecolor": "white",
            "showbackground": true,
            "ticks": "",
            "zerolinecolor": "white"
           },
           "zaxis": {
            "backgroundcolor": "#E5ECF6",
            "gridcolor": "white",
            "gridwidth": 2,
            "linecolor": "white",
            "showbackground": true,
            "ticks": "",
            "zerolinecolor": "white"
           }
          },
          "shapedefaults": {
           "line": {
            "color": "#2a3f5f"
           }
          },
          "ternary": {
           "aaxis": {
            "gridcolor": "white",
            "linecolor": "white",
            "ticks": ""
           },
           "baxis": {
            "gridcolor": "white",
            "linecolor": "white",
            "ticks": ""
           },
           "bgcolor": "#E5ECF6",
           "caxis": {
            "gridcolor": "white",
            "linecolor": "white",
            "ticks": ""
           }
          },
          "title": {
           "x": 0.05
          },
          "xaxis": {
           "automargin": true,
           "gridcolor": "white",
           "linecolor": "white",
           "ticks": "",
           "title": {
            "standoff": 15
           },
           "zerolinecolor": "white",
           "zerolinewidth": 2
          },
          "yaxis": {
           "automargin": true,
           "gridcolor": "white",
           "linecolor": "white",
           "ticks": "",
           "title": {
            "standoff": 15
           },
           "zerolinecolor": "white",
           "zerolinewidth": 2
          }
         }
        },
        "xaxis": {
         "autorange": true,
         "range": [
          2018.8782542113322,
          2021.1217457886678
         ],
         "type": "linear"
        },
        "yaxis": {
         "autorange": true,
         "range": [
          -1.4799045487776432,
          24.405874251332452
         ],
         "type": "linear"
        }
       }
      },
      "image/png": "[encoded data removed]",
      "text/html": [
       "<div>                            <div id=\"38c7aa82-da54-4bd4-bb48-8a98d886dcbf\" class=\"plotly-graph-div\" style=\"height:525px; width:100%;\"></div>            <script type=\"text/javascript\">                require([\"plotly\"], function(Plotly) {                    window.PLOTLYENV=window.PLOTLYENV || {};                                    if (document.getElementById(\"38c7aa82-da54-4bd4-bb48-8a98d886dcbf\")) {                    Plotly.newPlot(                        \"38c7aa82-da54-4bd4-bb48-8a98d886dcbf\",                        [{\"name\":\"FGM\",\"x\":[2019,2020,2021],\"y\":[39.67708805491691,40.655417122569155,40.366287057637095],\"type\":\"scatter\"},{\"name\":\"FGA\",\"x\":[2019,2020,2021],\"y\":[86.2782646507894,87.27284264454605,87.60933885484576],\"type\":\"scatter\"},{\"name\":\"FG_PCT\",\"x\":[2019,2020,2021],\"y\":[0.13796808528067367,0.14370705262838213,0.1349432980350066],\"type\":\"scatter\"},{\"name\":\"FG3M\",\"x\":[2019,2020,2021],\"y\":[11.959828084297673,12.533536297246666,12.39863069239305],\"type\":\"scatter\"},{\"name\":\"FG3A\",\"x\":[2019,2020,2021],\"y\":[33.39766633171866,34.20986507096131,35.056917112466365],\"type\":\"scatter\"},{\"name\":\"FG3_PCT\",\"x\":[2019,2020,2021],\"y\":[0.09431164089933537,0.09409250478496135,0.08721427051976598],\"type\":\"scatter\"},{\"name\":\"FTM\",\"x\":[2019,2020,2021],\"y\":[17.470854745430415,16.80695936383979,16.94665130533911],\"type\":\"scatter\"},{\"name\":\"FTA\",\"x\":[2019,2020,2021],\"y\":[22.57229825299132,21.597010648309876,21.859059011618566],\"type\":\"scatter\"},{\"name\":\"OREB\",\"x\":[2019,2020,2021],\"y\":[9.728453195567765,9.720924053615999,10.246777181762038],\"type\":\"scatter\"},{\"name\":\"DREB\",\"x\":[2019,2020,2021],\"y\":[33.84095476563652,33.996936199553886,33.93951386367892],\"type\":\"scatter\"},{\"name\":\"REB\",\"x\":[2019,2020,2021],\"y\":[43.569407961204284,43.71786025316988,44.18629104544096],\"type\":\"scatter\"},{\"name\":\"AST\",\"x\":[2019,2020,2021],\"y\":[23.655560364365172,24.309096711614732,24.476055298355],\"type\":\"scatter\"},{\"name\":\"STL\",\"x\":[2019,2020,2021],\"y\":[7.410041886703839,7.419001772484397,7.577887930590395],\"type\":\"scatter\"},{\"name\":\"BLK\",\"x\":[2019,2020,2021],\"y\":[4.729405476399819,4.781143901403243,4.6919573026203745],\"type\":\"scatter\"},{\"name\":\"TOV\",\"x\":[2019,2020,2021],\"y\":[13.51837731346218,12.945396723813607,13.01945236180411],\"type\":\"scatter\"},{\"name\":\"PF\",\"x\":[2019,2020,2021],\"y\":[47615,45152,52038],\"type\":\"scatter\"},{\"name\":\"PTS\",\"x\":[2019,2020,2021],\"y\":[254975,260871,290611],\"type\":\"scatter\"},{\"name\":\"FG%\",\"x\":[2019,2020,2021],\"y\":[0.45987350598102095,0.4658427053666028,0.46075324372116755],\"type\":\"scatter\"},{\"name\":\"3PT%\",\"x\":[2019,2020,2021],\"y\":[0.3581037059747825,0.3663719886427039,0.3536714495634886],\"type\":\"scatter\"},{\"name\":\"FT%\",\"x\":[2019,2020,2021],\"y\":[0.7739953880467244,0.7782076713082074,0.7752690221629208],\"type\":\"scatter\"},{\"name\":\"AST%\",\"x\":[2019,2020,2021],\"y\":[0.5962020280224093,0.5979300775177623,0.606348938246582],\"type\":\"scatter\"},{\"name\":\"FG3A%\",\"x\":[2019,2020,2021],\"y\":[0.38709246722677443,0.39198751907617835,0.4001504585093366],\"type\":\"scatter\"},{\"name\":\"PTS/FGA\",\"x\":[2019,2020,2021],\"y\":[2.7417551103799047,2.7216872372168726,2.7269750114949],\"type\":\"scatter\"},{\"name\":\"FG3M/FGM\",\"x\":[2019,2020,2021],\"y\":[0.3014290783573664,0.30828699308286994,0.3071531120682375],\"type\":\"scatter\"},{\"name\":\"FTA/FGA\",\"x\":[2019,2020,2021],\"y\":[0.2616220706843435,0.24746541987033058,0.2495060377962152],\"type\":\"scatter\"},{\"name\":\"TRU%\",\"x\":[2019,2020,2021],\"y\":[0.560746080935249,0.5672598986059707,0.5616653190881382],\"type\":\"scatter\"},{\"name\":\"AST_TOV\",\"x\":[2019,2020,2021],\"y\":[1.7498816474672558,1.8778178243774575,1.8799604329105086],\"type\":\"scatter\"}],                        {\"template\":{\"data\":{\"histogram2dcontour\":[{\"type\":\"histogram2dcontour\",\"colorbar\":{\"outlinewidth\":0,\"ticks\":\"\"},\"colorscale\":[[0.0,\"#0d0887\"],[0.1111111111111111,\"#46039f\"],[0.2222222222222222,\"#7201a8\"],[0.3333333333333333,\"#9c179e\"],[0.4444444444444444,\"#bd3786\"],[0.5555555555555556,\"#d8576b\"],[0.6666666666666666,\"#ed7953\"],[0.7777777777777778,\"#fb9f3a\"],[0.8888888888888888,\"#fdca26\"],[1.0,\"#f0f921\"]]}],\"choropleth\":[{\"type\":\"choropleth\",\"colorbar\":{\"outlinewidth\":0,\"ticks\":\"\"}}],\"histogram2d\":[{\"type\":\"histogram2d\",\"colorbar\":{\"outlinewidth\":0,\"ticks\":\"\"},\"colorscale\":[[0.0,\"#0d0887\"],[0.1111111111111111,\"#46039f\"],[0.2222222222222222,\"#7201a8\"],[0.3333333333333333,\"#9c179e\"],[0.4444444444444444,\"#bd3786\"],[0.5555555555555556,\"#d8576b\"],[0.6666666666666666,\"#ed7953\"],[0.7777777777777778,\"#fb9f3a\"],[0.8888888888888888,\"#fdca26\"],[1.0,\"#f0f921\"]]}],\"heatmap\":[{\"type\":\"heatmap\",\"colorbar\":{\"outlinewidth\":0,\"ticks\":\"\"},\"colorscale\":[[0.0,\"#0d0887\"],[0.1111111111111111,\"#46039f\"],[0.2222222222222222,\"#7201a8\"],[0.3333333333333333,\"#9c179e\"],[0.4444444444444444,\"#bd3786\"],[0.5555555555555556,\"#d8576b\"],[0.6666666666666666,\"#ed7953\"],[0.7777777777777778,\"#fb9f3a\"],[0.8888888888888888,\"#fdca26\"],[1.0,\"#f0f921\"]]}],\"heatmapgl\":[{\"type\":\"heatmapgl\",\"colorbar\":{\"outlinewidth\":0,\"ticks\":\"\"},\"colorscale\":[[0.0,\"#0d0887\"],[0.1111111111111111,\"#46039f\"],[0.2222222222222222,\"#7201a8\"],[0.3333333333333333,\"#9c179e\"],[0.4444444444444444,\"#bd3786\"],[0.5555555555555556,\"#d8576b\"],[0.6666666666666666,\"#ed7953\"],[0.7777777777777778,\"#fb9f3a\"],[0.8888888888888888,\"#fdca26\"],[1.0,\"#f0f921\"]]}],\"contourcarpet\":[{\"type\":\"contourcarpet\",\"colorbar\":{\"outlinewidth\":0,\"ticks\":\"\"}}],\"contour\":[{\"type\":\"contour\",\"colorbar\":{\"outlinewidth\":0,\"ticks\":\"\"},\"colorscale\":[[0.0,\"#0d0887\"],[0.1111111111111111,\"#46039f\"],[0.2222222222222222,\"#7201a8\"],[0.3333333333333333,\"#9c179e\"],[0.4444444444444444,\"#bd3786\"],[0.5555555555555556,\"#d8576b\"],[0.6666666666666666,\"#ed7953\"],[0.7777777777777778,\"#fb9f3a\"],[0.8888888888888888,\"#fdca26\"],[1.0,\"#f0f921\"]]}],\"surface\":[{\"type\":\"surface\",\"colorbar\":{\"outlinewidth\":0,\"ticks\":\"\"},\"colorscale\":[[0.0,\"#0d0887\"],[0.1111111111111111,\"#46039f\"],[0.2222222222222222,\"#7201a8\"],[0.3333333333333333,\"#9c179e\"],[0.4444444444444444,\"#bd3786\"],[0.5555555555555556,\"#d8576b\"],[0.6666666666666666,\"#ed7953\"],[0.7777777777777778,\"#fb9f3a\"],[0.8888888888888888,\"#fdca26\"],[1.0,\"#f0f921\"]]}],\"mesh3d\":[{\"type\":\"mesh3d\",\"colorbar\":{\"outlinewidth\":0,\"ticks\":\"\"}}],\"scatter\":[{\"fillpattern\":{\"fillmode\":\"overlay\",\"size\":10,\"solidity\":0.2},\"type\":\"scatter\"}],\"parcoords\":[{\"type\":\"parcoords\",\"line\":{\"colorbar\":{\"outlinewidth\":0,\"ticks\":\"\"}}}],\"scatterpolargl\":[{\"type\":\"scatterpolargl\",\"marker\":{\"colorbar\":{\"outlinewidth\":0,\"ticks\":\"\"}}}],\"bar\":[{\"error_x\":{\"color\":\"#2a3f5f\"},\"error_y\":{\"color\":\"#2a3f5f\"},\"marker\":{\"line\":{\"color\":\"#E5ECF6\",\"width\":0.5},\"pattern\":{\"fillmode\":\"overlay\",\"size\":10,\"solidity\":0.2}},\"type\":\"bar\"}],\"scattergeo\":[{\"type\":\"scattergeo\",\"marker\":{\"colorbar\":{\"outlinewidth\":0,\"ticks\":\"\"}}}],\"scatterpolar\":[{\"type\":\"scatterpolar\",\"marker\":{\"colorbar\":{\"outlinewidth\":0,\"ticks\":\"\"}}}],\"histogram\":[{\"marker\":{\"pattern\":{\"fillmode\":\"overlay\",\"size\":10,\"solidity\":0.2}},\"type\":\"histogram\"}],\"scattergl\":[{\"type\":\"scattergl\",\"marker\":{\"colorbar\":{\"outlinewidth\":0,\"ticks\":\"\"}}}],\"scatter3d\":[{\"type\":\"scatter3d\",\"line\":{\"colorbar\":{\"outlinewidth\":0,\"ticks\":\"\"}},\"marker\":{\"colorbar\":{\"outlinewidth\":0,\"ticks\":\"\"}}}],\"scattermapbox\":[{\"type\":\"scattermapbox\",\"marker\":{\"colorbar\":{\"outlinewidth\":0,\"ticks\":\"\"}}}],\"scatterternary\":[{\"type\":\"scatterternary\",\"marker\":{\"colorbar\":{\"outlinewidth\":0,\"ticks\":\"\"}}}],\"scattercarpet\":[{\"type\":\"scattercarpet\",\"marker\":{\"colorbar\":{\"outlinewidth\":0,\"ticks\":\"\"}}}],\"carpet\":[{\"aaxis\":{\"endlinecolor\":\"#2a3f5f\",\"gridcolor\":\"white\",\"linecolor\":\"white\",\"minorgridcolor\":\"white\",\"startlinecolor\":\"#2a3f5f\"},\"baxis\":{\"endlinecolor\":\"#2a3f5f\",\"gridcolor\":\"white\",\"linecolor\":\"white\",\"minorgridcolor\":\"white\",\"startlinecolor\":\"#2a3f5f\"},\"type\":\"carpet\"}],\"table\":[{\"cells\":{\"fill\":{\"color\":\"#EBF0F8\"},\"line\":{\"color\":\"white\"}},\"header\":{\"fill\":{\"color\":\"#C8D4E3\"},\"line\":{\"color\":\"white\"}},\"type\":\"table\"}],\"barpolar\":[{\"marker\":{\"line\":{\"color\":\"#E5ECF6\",\"width\":0.5},\"pattern\":{\"fillmode\":\"overlay\",\"size\":10,\"solidity\":0.2}},\"type\":\"barpolar\"}],\"pie\":[{\"automargin\":true,\"type\":\"pie\"}]},\"layout\":{\"autotypenumbers\":\"strict\",\"colorway\":[\"#636efa\",\"#EF553B\",\"#00cc96\",\"#ab63fa\",\"#FFA15A\",\"#19d3f3\",\"#FF6692\",\"#B6E880\",\"#FF97FF\",\"#FECB52\"],\"font\":{\"color\":\"#2a3f5f\"},\"hovermode\":\"closest\",\"hoverlabel\":{\"align\":\"left\"},\"paper_bgcolor\":\"white\",\"plot_bgcolor\":\"#E5ECF6\",\"polar\":{\"bgcolor\":\"#E5ECF6\",\"angularaxis\":{\"gridcolor\":\"white\",\"linecolor\":\"white\",\"ticks\":\"\"},\"radialaxis\":{\"gridcolor\":\"white\",\"linecolor\":\"white\",\"ticks\":\"\"}},\"ternary\":{\"bgcolor\":\"#E5ECF6\",\"aaxis\":{\"gridcolor\":\"white\",\"linecolor\":\"white\",\"ticks\":\"\"},\"baxis\":{\"gridcolor\":\"white\",\"linecolor\":\"white\",\"ticks\":\"\"},\"caxis\":{\"gridcolor\":\"white\",\"linecolor\":\"white\",\"ticks\":\"\"}},\"coloraxis\":{\"colorbar\":{\"outlinewidth\":0,\"ticks\":\"\"}},\"colorscale\":{\"sequential\":[[0.0,\"#0d0887\"],[0.1111111111111111,\"#46039f\"],[0.2222222222222222,\"#7201a8\"],[0.3333333333333333,\"#9c179e\"],[0.4444444444444444,\"#bd3786\"],[0.5555555555555556,\"#d8576b\"],[0.6666666666666666,\"#ed7953\"],[0.7777777777777778,\"#fb9f3a\"],[0.8888888888888888,\"#fdca26\"],[1.0,\"#f0f921\"]],\"sequentialminus\":[[0.0,\"#0d0887\"],[0.1111111111111111,\"#46039f\"],[0.2222222222222222,\"#7201a8\"],[0.3333333333333333,\"#9c179e\"],[0.4444444444444444,\"#bd3786\"],[0.5555555555555556,\"#d8576b\"],[0.6666666666666666,\"#ed7953\"],[0.7777777777777778,\"#fb9f3a\"],[0.8888888888888888,\"#fdca26\"],[1.0,\"#f0f921\"]],\"diverging\":[[0,\"#8e0152\"],[0.1,\"#c51b7d\"],[0.2,\"#de77ae\"],[0.3,\"#f1b6da\"],[0.4,\"#fde0ef\"],[0.5,\"#f7f7f7\"],[0.6,\"#e6f5d0\"],[0.7,\"#b8e186\"],[0.8,\"#7fbc41\"],[0.9,\"#4d9221\"],[1,\"#276419\"]]},\"xaxis\":{\"gridcolor\":\"white\",\"linecolor\":\"white\",\"ticks\":\"\",\"title\":{\"standoff\":15},\"zerolinecolor\":\"white\",\"automargin\":true,\"zerolinewidth\":2},\"yaxis\":{\"gridcolor\":\"white\",\"linecolor\":\"white\",\"ticks\":\"\",\"title\":{\"standoff\":15},\"zerolinecolor\":\"white\",\"automargin\":true,\"zerolinewidth\":2},\"scene\":{\"xaxis\":{\"backgroundcolor\":\"#E5ECF6\",\"gridcolor\":\"white\",\"linecolor\":\"white\",\"showbackground\":true,\"ticks\":\"\",\"zerolinecolor\":\"white\",\"gridwidth\":2},\"yaxis\":{\"backgroundcolor\":\"#E5ECF6\",\"gridcolor\":\"white\",\"linecolor\":\"white\",\"showbackground\":true,\"ticks\":\"\",\"zerolinecolor\":\"white\",\"gridwidth\":2},\"zaxis\":{\"backgroundcolor\":\"#E5ECF6\",\"gridcolor\":\"white\",\"linecolor\":\"white\",\"showbackground\":true,\"ticks\":\"\",\"zerolinecolor\":\"white\",\"gridwidth\":2}},\"shapedefaults\":{\"line\":{\"color\":\"#2a3f5f\"}},\"annotationdefaults\":{\"arrowcolor\":\"#2a3f5f\",\"arrowhead\":0,\"arrowwidth\":1},\"geo\":{\"bgcolor\":\"white\",\"landcolor\":\"#E5ECF6\",\"subunitcolor\":\"white\",\"showland\":true,\"showlakes\":true,\"lakecolor\":\"white\"},\"title\":{\"x\":0.05},\"mapbox\":{\"style\":\"light\"}}}},                        {\"responsive\": true}                    ).then(function(){\n",
       "                            \n",
       "var gd = document.getElementById('38c7aa82-da54-4bd4-bb48-8a98d886dcbf');\n",
       "var x = new MutationObserver(function (mutations, observer) {{\n",
       "        var display = window.getComputedStyle(gd).display;\n",
       "        if (!display || display === 'none') {{\n",
       "            console.log([gd, 'removed!']);\n",
       "            Plotly.purge(gd);\n",
       "            observer.disconnect();\n",
       "        }}\n",
       "}});\n",
       "\n",
       "// Listen for the removal of the full notebook cells\n",
       "var notebookContainer = gd.closest('#notebook-container');\n",
       "if (notebookContainer) {{\n",
       "    x.observe(notebookContainer, {childList: true});\n",
       "}}\n",
       "\n",
       "// Listen for the clearing of the current output cell\n",
       "var outputEl = gd.closest('.output');\n",
       "if (outputEl) {{\n",
       "    x.observe(outputEl, {childList: true});\n",
       "}}\n",
       "\n",
       "                        })                };                });            </script>        </div>"
      ]
     },
     "metadata": {},
     "output_type": "display_data"
    }
   ],
   "source": [
    "fig = go.Figure()\n",
    "for col in change_per100_df.columns[1:]:\n",
    "    fig.add_trace(go.Scatter(x=change_per100_df['SeasonStart'],\n",
    "                            y=change_per100_df[col],name=col))\n",
    "fig.show()"
   ]
  },
  {
   "cell_type": "markdown",
   "id": "9a50879b-207f-41cd-bd2f-4f1f7bf618d8",
   "metadata": {},
   "source": [
    "Compare RS to Playoffs"
   ]
  },
  {
   "cell_type": "code",
   "execution_count": 117,
   "id": "69215b66-b250-4431-a003-55f8826cf2b6",
   "metadata": {},
   "outputs": [],
   "source": [
    "rs_change_df= rs_df.groupby('SeasonStart')[total_cols].sum().reset_index()\n",
    "playoff_change_df= playoffs_df.groupby('SeasonStart')[total_cols].sum().reset_index()\n"
   ]
  },
  {
   "cell_type": "code",
   "execution_count": 118,
   "id": "96986d2b-0970-44be-a271-08d2af431458",
   "metadata": {},
   "outputs": [
    {
     "data": {
      "text/html": [
       "<div>\n",
       "<style scoped>\n",
       "    .dataframe tbody tr th:only-of-type {\n",
       "        vertical-align: middle;\n",
       "    }\n",
       "\n",
       "    .dataframe tbody tr th {\n",
       "        vertical-align: top;\n",
       "    }\n",
       "\n",
       "    .dataframe thead th {\n",
       "        text-align: right;\n",
       "    }\n",
       "</style>\n",
       "<table border=\"1\" class=\"dataframe\">\n",
       "  <thead>\n",
       "    <tr style=\"text-align: right;\">\n",
       "      <th></th>\n",
       "      <th>SeasonStart</th>\n",
       "      <th>MIN</th>\n",
       "      <th>FGM</th>\n",
       "      <th>FGA</th>\n",
       "      <th>FG_PCT</th>\n",
       "      <th>FG3M</th>\n",
       "      <th>FG3A</th>\n",
       "      <th>FG3_PCT</th>\n",
       "      <th>FTM</th>\n",
       "      <th>FTA</th>\n",
       "      <th>OREB</th>\n",
       "      <th>DREB</th>\n",
       "      <th>REB</th>\n",
       "      <th>AST</th>\n",
       "      <th>STL</th>\n",
       "      <th>BLK</th>\n",
       "      <th>TOV</th>\n",
       "      <th>PF</th>\n",
       "      <th>PTS</th>\n",
       "      <th>POSS_est</th>\n",
       "      <th>POSS_per_48</th>\n",
       "      <th>FG%</th>\n",
       "      <th>3PT%</th>\n",
       "      <th>FT%</th>\n",
       "      <th>AST%</th>\n",
       "      <th>FG3A%</th>\n",
       "      <th>PTS/FGA</th>\n",
       "      <th>FG3M/FGM</th>\n",
       "      <th>FTA/FGA</th>\n",
       "      <th>TRU%</th>\n",
       "      <th>AST_TOV</th>\n",
       "    </tr>\n",
       "  </thead>\n",
       "  <tbody>\n",
       "    <tr>\n",
       "      <th>0</th>\n",
       "      <td>2019</td>\n",
       "      <td>235.129873</td>\n",
       "      <td>39.741774</td>\n",
       "      <td>86.378550</td>\n",
       "      <td>0.108107</td>\n",
       "      <td>11.875237</td>\n",
       "      <td>33.176460</td>\n",
       "      <td>0.072002</td>\n",
       "      <td>17.368831</td>\n",
       "      <td>22.473502</td>\n",
       "      <td>9.798838</td>\n",
       "      <td>33.803237</td>\n",
       "      <td>43.602075</td>\n",
       "      <td>23.716035</td>\n",
       "      <td>7.438668</td>\n",
       "      <td>4.765339</td>\n",
       "      <td>13.531948</td>\n",
       "      <td>20.205627</td>\n",
       "      <td>108.727615</td>\n",
       "      <td>217780.92</td>\n",
       "      <td>20.41425</td>\n",
       "      <td>0.460088</td>\n",
       "      <td>0.357942</td>\n",
       "      <td>0.772858</td>\n",
       "      <td>0.596753</td>\n",
       "      <td>0.384082</td>\n",
       "      <td>1.258734</td>\n",
       "      <td>0.298810</td>\n",
       "      <td>0.260175</td>\n",
       "      <td>0.560143</td>\n",
       "      <td>1.752596</td>\n",
       "    </tr>\n",
       "    <tr>\n",
       "      <th>1</th>\n",
       "      <td>2020</td>\n",
       "      <td>238.069848</td>\n",
       "      <td>40.637565</td>\n",
       "      <td>87.183600</td>\n",
       "      <td>0.110159</td>\n",
       "      <td>12.520406</td>\n",
       "      <td>34.156188</td>\n",
       "      <td>0.074413</td>\n",
       "      <td>16.730698</td>\n",
       "      <td>21.517093</td>\n",
       "      <td>9.692393</td>\n",
       "      <td>33.988197</td>\n",
       "      <td>43.680589</td>\n",
       "      <td>24.457861</td>\n",
       "      <td>7.466502</td>\n",
       "      <td>4.804198</td>\n",
       "      <td>13.041271</td>\n",
       "      <td>19.021868</td>\n",
       "      <td>110.526234</td>\n",
       "      <td>219058.40</td>\n",
       "      <td>20.16215</td>\n",
       "      <td>0.466115</td>\n",
       "      <td>0.366563</td>\n",
       "      <td>0.777554</td>\n",
       "      <td>0.601854</td>\n",
       "      <td>0.391773</td>\n",
       "      <td>1.267741</td>\n",
       "      <td>0.308099</td>\n",
       "      <td>0.246802</td>\n",
       "      <td>0.567359</td>\n",
       "      <td>1.875420</td>\n",
       "    </tr>\n",
       "    <tr>\n",
       "      <th>2</th>\n",
       "      <td>2021</td>\n",
       "      <td>240.309399</td>\n",
       "      <td>40.444286</td>\n",
       "      <td>87.713064</td>\n",
       "      <td>0.105761</td>\n",
       "      <td>12.383811</td>\n",
       "      <td>35.022979</td>\n",
       "      <td>0.069184</td>\n",
       "      <td>16.859678</td>\n",
       "      <td>21.766578</td>\n",
       "      <td>10.288949</td>\n",
       "      <td>33.966643</td>\n",
       "      <td>44.255592</td>\n",
       "      <td>24.540976</td>\n",
       "      <td>7.597520</td>\n",
       "      <td>4.692395</td>\n",
       "      <td>12.998590</td>\n",
       "      <td>19.550702</td>\n",
       "      <td>110.132061</td>\n",
       "      <td>247080.64</td>\n",
       "      <td>19.97425</td>\n",
       "      <td>0.461098</td>\n",
       "      <td>0.353591</td>\n",
       "      <td>0.774567</td>\n",
       "      <td>0.606785</td>\n",
       "      <td>0.399290</td>\n",
       "      <td>1.255595</td>\n",
       "      <td>0.306194</td>\n",
       "      <td>0.248157</td>\n",
       "      <td>0.561599</td>\n",
       "      <td>1.887972</td>\n",
       "    </tr>\n",
       "  </tbody>\n",
       "</table>\n",
       "</div>"
      ],
      "text/plain": [
       "   SeasonStart         MIN        FGM        FGA    FG_PCT       FG3M  \\\n",
       "0         2019  235.129873  39.741774  86.378550  0.108107  11.875237   \n",
       "1         2020  238.069848  40.637565  87.183600  0.110159  12.520406   \n",
       "2         2021  240.309399  40.444286  87.713064  0.105761  12.383811   \n",
       "\n",
       "        FG3A   FG3_PCT        FTM        FTA       OREB       DREB        REB  \\\n",
       "0  33.176460  0.072002  17.368831  22.473502   9.798838  33.803237  43.602075   \n",
       "1  34.156188  0.074413  16.730698  21.517093   9.692393  33.988197  43.680589   \n",
       "2  35.022979  0.069184  16.859678  21.766578  10.288949  33.966643  44.255592   \n",
       "\n",
       "         AST       STL       BLK        TOV         PF         PTS   POSS_est  \\\n",
       "0  23.716035  7.438668  4.765339  13.531948  20.205627  108.727615  217780.92   \n",
       "1  24.457861  7.466502  4.804198  13.041271  19.021868  110.526234  219058.40   \n",
       "2  24.540976  7.597520  4.692395  12.998590  19.550702  110.132061  247080.64   \n",
       "\n",
       "   POSS_per_48       FG%      3PT%       FT%      AST%     FG3A%   PTS/FGA  \\\n",
       "0     20.41425  0.460088  0.357942  0.772858  0.596753  0.384082  1.258734   \n",
       "1     20.16215  0.466115  0.366563  0.777554  0.601854  0.391773  1.267741   \n",
       "2     19.97425  0.461098  0.353591  0.774567  0.606785  0.399290  1.255595   \n",
       "\n",
       "   FG3M/FGM   FTA/FGA      TRU%   AST_TOV  \n",
       "0  0.298810  0.260175  0.560143  1.752596  \n",
       "1  0.308099  0.246802  0.567359  1.875420  \n",
       "2  0.306194  0.248157  0.561599  1.887972  "
      ]
     },
     "execution_count": 118,
     "metadata": {},
     "output_type": "execute_result"
    }
   ],
   "source": [
    "for i in [rs_change_df,playoff_change_df]:\n",
    "    i['POSS_est'] = i['FGA']-i['OREB']+i['TOV']+0.44*i['FTA']\n",
    "    i['POSS_per_48'] = (i['POSS_est']/i['MIN'])*48\n",
    "    \n",
    "    i['FG%']=i['FGM']/i['FGA']\n",
    "    i['3PT%']=i['FG3M']/i['FG3A']\n",
    "    i['FT%']=i['FTM']/i['FTA']\n",
    "    i['AST%']=i['AST']/i['FGM']\n",
    "    i['FG3A%']=i['FG3A']/i['FGA']\n",
    "    i['PTS/FGA']=i['PTS']/i['FGA']\n",
    "    i['FG3M/FGM']=i['FG3M']/i['FGM']\n",
    "    i['FTA/FGA']=i['FTA']/i['FGA']\n",
    "    i['TRU%']=0.5*i['PTS']/(i['FGA']+0.475*i['FTA'])\n",
    "    i['AST_TOV']=i['AST']/i['TOV']\n",
    "    \n",
    "    for col in total_cols:\n",
    "        i[col]=100*i[col]/i['POSS_est']\n",
    "        \n",
    "rs_change_df"
   ]
  },
  {
   "cell_type": "code",
   "execution_count": null,
   "id": "69c4cddf-8bfd-470b-9557-118a740ffe24",
   "metadata": {},
   "outputs": [],
   "source": []
  },
  {
   "cell_type": "code",
   "execution_count": null,
   "id": "9d8bcf3c-fc15-45d7-a370-35efb37eb952",
   "metadata": {},
   "outputs": [],
   "source": []
  },
  {
   "cell_type": "code",
   "execution_count": 113,
   "id": "026d9874-8c00-4423-a0e4-629edb2ad938",
   "metadata": {},
   "outputs": [
    {
     "data": {
      "text/plain": [
       "Year          0\n",
       "SeasonType    0\n",
       "PLAYER_ID     0\n",
       "RANK          0\n",
       "PLAYER        0\n",
       "TEAM_ID       0\n",
       "TEAM          0\n",
       "GP            0\n",
       "MIN           0\n",
       "FGM           0\n",
       "FGA           0\n",
       "FG_PCT        0\n",
       "FG3M          0\n",
       "FG3A          0\n",
       "FG3_PCT       0\n",
       "FTM           0\n",
       "FTA           0\n",
       "FT_PCT        0\n",
       "OREB          0\n",
       "DREB          0\n",
       "REB           0\n",
       "AST           0\n",
       "STL           0\n",
       "BLK           0\n",
       "TOV           0\n",
       "PF            0\n",
       "PTS           0\n",
       "EFF           0\n",
       "AST_TOV       0\n",
       "STL_TOV       0\n",
       "dtype: int64"
      ]
     },
     "execution_count": 113,
     "metadata": {},
     "output_type": "execute_result"
    }
   ],
   "source": [
    "# Check for nulls \n",
    "df.isnull().sum()"
   ]
  },
  {
   "cell_type": "code",
   "execution_count": 101,
   "id": "9d525195-ec34-4615-b370-02014cb0c3de",
   "metadata": {},
   "outputs": [
    {
     "data": {
      "text/plain": [
       "Index(['Year', 'SeasonType', 'PLAYER_ID', 'RANK', 'PLAYER', 'TEAM_ID', 'TEAM',\n",
       "       'GP', 'MIN', 'FGM', 'FGA', 'FG_PCT', 'FG3M', 'FG3A', 'FG3_PCT', 'FTM',\n",
       "       'FTA', 'FT_PCT', 'OREB', 'DREB', 'REB', 'AST', 'STL', 'BLK', 'TOV',\n",
       "       'PF', 'PTS', 'EFF', 'AST_TOV', 'STL_TOV'],\n",
       "      dtype='object')"
      ]
     },
     "execution_count": 101,
     "metadata": {},
     "output_type": "execute_result"
    }
   ],
   "source": [
    "# Check columns\n",
    "df.columns"
   ]
  },
  {
   "cell_type": "code",
   "execution_count": 103,
   "id": "89a5bc51-e2cc-4251-ba93-ca8d3df006b6",
   "metadata": {},
   "outputs": [],
   "source": [
    "cols = ['Year', 'SeasonType', 'PLAYER_ID', 'RANK', 'PLAYER', 'TEAM_ID', 'TEAM',\n",
    "       'GP', 'MIN', 'FGM', 'FGA', 'FG_PCT', 'FG3M', 'FG3A', 'FG3_PCT', 'FTM',\n",
    "       'FTA', 'FT_PCT', 'OREB', 'DREB', 'REB', 'AST', 'STL', 'BLK', 'TOV',\n",
    "       'PF', 'PTS', 'EFF', 'AST_TOV', 'STL_TOV']"
   ]
  },
  {
   "cell_type": "code",
   "execution_count": 104,
   "id": "ad11b7eb-bb74-453a-8364-d53131fdedd6",
   "metadata": {},
   "outputs": [
    {
     "data": {
      "text/plain": [
       "Year           object\n",
       "SeasonType     object\n",
       "PLAYER_ID      object\n",
       "RANK           object\n",
       "PLAYER         object\n",
       "TEAM_ID        object\n",
       "TEAM           object\n",
       "GP             object\n",
       "MIN            object\n",
       "FGM            object\n",
       "FGA            object\n",
       "FG_PCT        float64\n",
       "FG3M           object\n",
       "FG3A           object\n",
       "FG3_PCT       float64\n",
       "FTM            object\n",
       "FTA            object\n",
       "FT_PCT        float64\n",
       "OREB           object\n",
       "DREB           object\n",
       "REB            object\n",
       "AST            object\n",
       "STL            object\n",
       "BLK            object\n",
       "TOV            object\n",
       "PF             object\n",
       "PTS            object\n",
       "EFF            object\n",
       "AST_TOV       float64\n",
       "STL_TOV       float64\n",
       "dtype: object"
      ]
     },
     "execution_count": 104,
     "metadata": {},
     "output_type": "execute_result"
    }
   ],
   "source": [
    "df[cols].dtypes"
   ]
  },
  {
   "cell_type": "code",
   "execution_count": null,
   "id": "b15342bf-a21b-4c8b-840f-f4f8ec5b969a",
   "metadata": {},
   "outputs": [],
   "source": [
    "'''\n",
    "FLOAT COLUMN DEFINITIONS\n",
    "\n",
    "FG_PCT: Field Goal Percentage\n",
    "FG3_PCT: 3-point Field Goal Percentage\n",
    "CALCULATION: To calculate field goal percentage, divide the number of made shots by the \n",
    "             total number of shot attempts.\n",
    "DEFINITION: Field goal percentage is used to measure how well a player or team shoots \n",
    "             the ball during a game. \n",
    "\n",
    "             \n",
    "             \n",
    "             \n",
    "FT_PCT: Free throw Percentage\n",
    "CALCULATION: FT% = Free Throws Made ÷ Free Throw Attempts\n",
    "\n",
    "AST_TOV: Assist to Turnover Ratio\n",
    "CALCULATION: AST/TO = Assists ÷ Turnovers\n",
    "DEFINITION: Assist to turnover ratio puts a player’s assists in context with their turnovers.\n",
    "\n",
    "\n",
    "\n",
    "STL_TOV: Steal/Turnover Ratio\n",
    "CALCULATION: STL/TOV = Steals ÷ Turnovers\n",
    "DEFINITION: STL/TOV ratio is a measurement of how often a player (or team) forces a change \n",
    "             of possession by the other team (steal) to how often they lose possession of the \n",
    "             ball (turnover).\n",
    "\n",
    "             A higher STL/TOV means that the player (or team) frequently takes possession away \n",
    "             from the other team and rarely gives it up.\n",
    "             \n",
    "'''"
   ]
  },
  {
   "cell_type": "code",
   "execution_count": 110,
   "id": "21ab0f3b-c5e6-4664-836a-c17af927615c",
   "metadata": {},
   "outputs": [
    {
     "data": {
      "text/html": [
       "<div>\n",
       "<style scoped>\n",
       "    .dataframe tbody tr th:only-of-type {\n",
       "        vertical-align: middle;\n",
       "    }\n",
       "\n",
       "    .dataframe tbody tr th {\n",
       "        vertical-align: top;\n",
       "    }\n",
       "\n",
       "    .dataframe thead th {\n",
       "        text-align: right;\n",
       "    }\n",
       "</style>\n",
       "<table border=\"1\" class=\"dataframe\">\n",
       "  <thead>\n",
       "    <tr style=\"text-align: right;\">\n",
       "      <th></th>\n",
       "      <th>FG_PCT</th>\n",
       "      <th>FG3_PCT</th>\n",
       "      <th>FT_PCT</th>\n",
       "      <th>AST_TOV</th>\n",
       "      <th>STL_TOV</th>\n",
       "    </tr>\n",
       "  </thead>\n",
       "  <tbody>\n",
       "    <tr>\n",
       "      <th>count</th>\n",
       "      <td>2347.000000</td>\n",
       "      <td>2347.000000</td>\n",
       "      <td>2347.000000</td>\n",
       "      <td>2347.000000</td>\n",
       "      <td>2347.000000</td>\n",
       "    </tr>\n",
       "    <tr>\n",
       "      <th>mean</th>\n",
       "      <td>0.433931</td>\n",
       "      <td>0.286806</td>\n",
       "      <td>0.672260</td>\n",
       "      <td>1.642262</td>\n",
       "      <td>0.644337</td>\n",
       "    </tr>\n",
       "    <tr>\n",
       "      <th>std</th>\n",
       "      <td>0.144915</td>\n",
       "      <td>0.165590</td>\n",
       "      <td>0.275428</td>\n",
       "      <td>1.232089</td>\n",
       "      <td>0.589510</td>\n",
       "    </tr>\n",
       "    <tr>\n",
       "      <th>min</th>\n",
       "      <td>0.000000</td>\n",
       "      <td>0.000000</td>\n",
       "      <td>0.000000</td>\n",
       "      <td>0.000000</td>\n",
       "      <td>0.000000</td>\n",
       "    </tr>\n",
       "    <tr>\n",
       "      <th>25%</th>\n",
       "      <td>0.392000</td>\n",
       "      <td>0.222000</td>\n",
       "      <td>0.615000</td>\n",
       "      <td>0.965000</td>\n",
       "      <td>0.320000</td>\n",
       "    </tr>\n",
       "    <tr>\n",
       "      <th>50%</th>\n",
       "      <td>0.439000</td>\n",
       "      <td>0.333000</td>\n",
       "      <td>0.756000</td>\n",
       "      <td>1.500000</td>\n",
       "      <td>0.540000</td>\n",
       "    </tr>\n",
       "    <tr>\n",
       "      <th>75%</th>\n",
       "      <td>0.500000</td>\n",
       "      <td>0.382000</td>\n",
       "      <td>0.840000</td>\n",
       "      <td>2.180000</td>\n",
       "      <td>0.830000</td>\n",
       "    </tr>\n",
       "    <tr>\n",
       "      <th>max</th>\n",
       "      <td>1.000000</td>\n",
       "      <td>1.000000</td>\n",
       "      <td>1.000000</td>\n",
       "      <td>17.000000</td>\n",
       "      <td>8.000000</td>\n",
       "    </tr>\n",
       "  </tbody>\n",
       "</table>\n",
       "</div>"
      ],
      "text/plain": [
       "            FG_PCT      FG3_PCT       FT_PCT      AST_TOV      STL_TOV\n",
       "count  2347.000000  2347.000000  2347.000000  2347.000000  2347.000000\n",
       "mean      0.433931     0.286806     0.672260     1.642262     0.644337\n",
       "std       0.144915     0.165590     0.275428     1.232089     0.589510\n",
       "min       0.000000     0.000000     0.000000     0.000000     0.000000\n",
       "25%       0.392000     0.222000     0.615000     0.965000     0.320000\n",
       "50%       0.439000     0.333000     0.756000     1.500000     0.540000\n",
       "75%       0.500000     0.382000     0.840000     2.180000     0.830000\n",
       "max       1.000000     1.000000     1.000000    17.000000     8.000000"
      ]
     },
     "execution_count": 110,
     "metadata": {},
     "output_type": "execute_result"
    }
   ],
   "source": [
    "df[cols].select_dtypes(float).describe()"
   ]
  },
  {
   "cell_type": "code",
   "execution_count": 108,
   "id": "3f6759b6-37a4-4cb2-a170-2201afb13285",
   "metadata": {},
   "outputs": [
    {
     "data": {
      "text/html": [
       "<div>\n",
       "<style scoped>\n",
       "    .dataframe tbody tr th:only-of-type {\n",
       "        vertical-align: middle;\n",
       "    }\n",
       "\n",
       "    .dataframe tbody tr th {\n",
       "        vertical-align: top;\n",
       "    }\n",
       "\n",
       "    .dataframe thead th {\n",
       "        text-align: right;\n",
       "    }\n",
       "</style>\n",
       "<table border=\"1\" class=\"dataframe\">\n",
       "  <thead>\n",
       "    <tr style=\"text-align: right;\">\n",
       "      <th></th>\n",
       "      <th>FG_PCT</th>\n",
       "      <th>FG3_PCT</th>\n",
       "      <th>FT_PCT</th>\n",
       "      <th>AST_TOV</th>\n",
       "      <th>STL_TOV</th>\n",
       "    </tr>\n",
       "  </thead>\n",
       "  <tbody>\n",
       "    <tr>\n",
       "      <th>count</th>\n",
       "      <td>2347.000000</td>\n",
       "      <td>2347.000000</td>\n",
       "      <td>2347.000000</td>\n",
       "      <td>2347.000000</td>\n",
       "      <td>2347.000000</td>\n",
       "    </tr>\n",
       "    <tr>\n",
       "      <th>mean</th>\n",
       "      <td>0.433931</td>\n",
       "      <td>0.286806</td>\n",
       "      <td>0.672260</td>\n",
       "      <td>1.642262</td>\n",
       "      <td>0.644337</td>\n",
       "    </tr>\n",
       "    <tr>\n",
       "      <th>std</th>\n",
       "      <td>0.144915</td>\n",
       "      <td>0.165590</td>\n",
       "      <td>0.275428</td>\n",
       "      <td>1.232089</td>\n",
       "      <td>0.589510</td>\n",
       "    </tr>\n",
       "    <tr>\n",
       "      <th>min</th>\n",
       "      <td>0.000000</td>\n",
       "      <td>0.000000</td>\n",
       "      <td>0.000000</td>\n",
       "      <td>0.000000</td>\n",
       "      <td>0.000000</td>\n",
       "    </tr>\n",
       "    <tr>\n",
       "      <th>25%</th>\n",
       "      <td>0.392000</td>\n",
       "      <td>0.222000</td>\n",
       "      <td>0.615000</td>\n",
       "      <td>0.965000</td>\n",
       "      <td>0.320000</td>\n",
       "    </tr>\n",
       "    <tr>\n",
       "      <th>50%</th>\n",
       "      <td>0.439000</td>\n",
       "      <td>0.333000</td>\n",
       "      <td>0.756000</td>\n",
       "      <td>1.500000</td>\n",
       "      <td>0.540000</td>\n",
       "    </tr>\n",
       "    <tr>\n",
       "      <th>75%</th>\n",
       "      <td>0.500000</td>\n",
       "      <td>0.382000</td>\n",
       "      <td>0.840000</td>\n",
       "      <td>2.180000</td>\n",
       "      <td>0.830000</td>\n",
       "    </tr>\n",
       "    <tr>\n",
       "      <th>max</th>\n",
       "      <td>1.000000</td>\n",
       "      <td>1.000000</td>\n",
       "      <td>1.000000</td>\n",
       "      <td>17.000000</td>\n",
       "      <td>8.000000</td>\n",
       "    </tr>\n",
       "  </tbody>\n",
       "</table>\n",
       "</div>"
      ],
      "text/plain": [
       "            FG_PCT      FG3_PCT       FT_PCT      AST_TOV      STL_TOV\n",
       "count  2347.000000  2347.000000  2347.000000  2347.000000  2347.000000\n",
       "mean      0.433931     0.286806     0.672260     1.642262     0.644337\n",
       "std       0.144915     0.165590     0.275428     1.232089     0.589510\n",
       "min       0.000000     0.000000     0.000000     0.000000     0.000000\n",
       "25%       0.392000     0.222000     0.615000     0.965000     0.320000\n",
       "50%       0.439000     0.333000     0.756000     1.500000     0.540000\n",
       "75%       0.500000     0.382000     0.840000     2.180000     0.830000\n",
       "max       1.000000     1.000000     1.000000    17.000000     8.000000"
      ]
     },
     "execution_count": 108,
     "metadata": {},
     "output_type": "execute_result"
    }
   ],
   "source": [
    "# Chaining\n",
    "(df\n",
    " [cols]\n",
    " .select_dtypes(float)\n",
    " .describe()\n",
    ")"
   ]
  },
  {
   "cell_type": "code",
   "execution_count": 111,
   "id": "4e7b0c5f-d096-41ee-8e8b-ee1c468d0b5c",
   "metadata": {},
   "outputs": [
    {
     "data": {
      "text/html": [
       "<div>\n",
       "<style scoped>\n",
       "    .dataframe tbody tr th:only-of-type {\n",
       "        vertical-align: middle;\n",
       "    }\n",
       "\n",
       "    .dataframe tbody tr th {\n",
       "        vertical-align: top;\n",
       "    }\n",
       "\n",
       "    .dataframe thead th {\n",
       "        text-align: right;\n",
       "    }\n",
       "</style>\n",
       "<table border=\"1\" class=\"dataframe\">\n",
       "  <thead>\n",
       "    <tr style=\"text-align: right;\">\n",
       "      <th></th>\n",
       "      <th>FG_PCT</th>\n",
       "      <th>FG3_PCT</th>\n",
       "      <th>FT_PCT</th>\n",
       "      <th>AST_TOV</th>\n",
       "      <th>STL_TOV</th>\n",
       "    </tr>\n",
       "  </thead>\n",
       "  <tbody>\n",
       "    <tr>\n",
       "      <th>0</th>\n",
       "      <td>0.444</td>\n",
       "      <td>0.355</td>\n",
       "      <td>0.865</td>\n",
       "      <td>1.66</td>\n",
       "      <td>0.41</td>\n",
       "    </tr>\n",
       "    <tr>\n",
       "      <th>1</th>\n",
       "      <td>0.463</td>\n",
       "      <td>0.401</td>\n",
       "      <td>0.888</td>\n",
       "      <td>2.73</td>\n",
       "      <td>0.36</td>\n",
       "    </tr>\n",
       "    <tr>\n",
       "      <th>2</th>\n",
       "      <td>0.489</td>\n",
       "      <td>0.354</td>\n",
       "      <td>0.919</td>\n",
       "      <td>1.73</td>\n",
       "      <td>0.19</td>\n",
       "    </tr>\n",
       "    <tr>\n",
       "      <th>3</th>\n",
       "      <td>0.553</td>\n",
       "      <td>0.304</td>\n",
       "      <td>0.633</td>\n",
       "      <td>1.54</td>\n",
       "      <td>0.27</td>\n",
       "    </tr>\n",
       "    <tr>\n",
       "      <th>4</th>\n",
       "      <td>0.437</td>\n",
       "      <td>0.361</td>\n",
       "      <td>0.860</td>\n",
       "      <td>1.94</td>\n",
       "      <td>0.23</td>\n",
       "    </tr>\n",
       "    <tr>\n",
       "      <th>...</th>\n",
       "      <td>...</td>\n",
       "      <td>...</td>\n",
       "      <td>...</td>\n",
       "      <td>...</td>\n",
       "      <td>...</td>\n",
       "    </tr>\n",
       "    <tr>\n",
       "      <th>212</th>\n",
       "      <td>0.000</td>\n",
       "      <td>0.000</td>\n",
       "      <td>0.000</td>\n",
       "      <td>0.00</td>\n",
       "      <td>0.00</td>\n",
       "    </tr>\n",
       "    <tr>\n",
       "      <th>213</th>\n",
       "      <td>0.000</td>\n",
       "      <td>0.000</td>\n",
       "      <td>0.000</td>\n",
       "      <td>1.00</td>\n",
       "      <td>1.00</td>\n",
       "    </tr>\n",
       "    <tr>\n",
       "      <th>214</th>\n",
       "      <td>0.000</td>\n",
       "      <td>0.000</td>\n",
       "      <td>0.000</td>\n",
       "      <td>3.00</td>\n",
       "      <td>1.00</td>\n",
       "    </tr>\n",
       "    <tr>\n",
       "      <th>215</th>\n",
       "      <td>0.000</td>\n",
       "      <td>0.000</td>\n",
       "      <td>0.000</td>\n",
       "      <td>0.00</td>\n",
       "      <td>0.00</td>\n",
       "    </tr>\n",
       "    <tr>\n",
       "      <th>216</th>\n",
       "      <td>0.000</td>\n",
       "      <td>0.000</td>\n",
       "      <td>0.000</td>\n",
       "      <td>0.00</td>\n",
       "      <td>0.00</td>\n",
       "    </tr>\n",
       "  </tbody>\n",
       "</table>\n",
       "<p>2347 rows × 5 columns</p>\n",
       "</div>"
      ],
      "text/plain": [
       "     FG_PCT  FG3_PCT  FT_PCT  AST_TOV  STL_TOV\n",
       "0     0.444    0.355   0.865     1.66     0.41\n",
       "1     0.463    0.401   0.888     2.73     0.36\n",
       "2     0.489    0.354   0.919     1.73     0.19\n",
       "3     0.553    0.304   0.633     1.54     0.27\n",
       "4     0.437    0.361   0.860     1.94     0.23\n",
       "..      ...      ...     ...      ...      ...\n",
       "212   0.000    0.000   0.000     0.00     0.00\n",
       "213   0.000    0.000   0.000     1.00     1.00\n",
       "214   0.000    0.000   0.000     3.00     1.00\n",
       "215   0.000    0.000   0.000     0.00     0.00\n",
       "216   0.000    0.000   0.000     0.00     0.00\n",
       "\n",
       "[2347 rows x 5 columns]"
      ]
     },
     "execution_count": 111,
     "metadata": {},
     "output_type": "execute_result"
    }
   ],
   "source": [
    "# Analyze float columns\n",
    "(df\n",
    " [cols]\n",
    " .select_dtypes(float)\n",
    ")"
   ]
  },
  {
   "cell_type": "code",
   "execution_count": 112,
   "id": "9e28bc70-bece-4c76-9977-7c50fcb39d04",
   "metadata": {},
   "outputs": [
    {
     "data": {
      "text/plain": [
       "count    2347.000000\n",
       "mean        0.433931\n",
       "std         0.144915\n",
       "min         0.000000\n",
       "25%         0.392000\n",
       "50%         0.439000\n",
       "75%         0.500000\n",
       "max         1.000000\n",
       "Name: FG_PCT, dtype: float64"
      ]
     },
     "execution_count": 112,
     "metadata": {},
     "output_type": "execute_result"
    }
   ],
   "source": [
    "# Column summary\n",
    "df.FG_PCT.describe()"
   ]
  },
  {
   "cell_type": "code",
   "execution_count": 114,
   "id": "9ffb619a-fbab-4cfb-ab09-2b63b7edd9ca",
   "metadata": {},
   "outputs": [
    {
     "data": {
      "text/html": [
       "<div>\n",
       "<style scoped>\n",
       "    .dataframe tbody tr th:only-of-type {\n",
       "        vertical-align: middle;\n",
       "    }\n",
       "\n",
       "    .dataframe tbody tr th {\n",
       "        vertical-align: top;\n",
       "    }\n",
       "\n",
       "    .dataframe thead th {\n",
       "        text-align: right;\n",
       "    }\n",
       "</style>\n",
       "<table border=\"1\" class=\"dataframe\">\n",
       "  <thead>\n",
       "    <tr style=\"text-align: right;\">\n",
       "      <th></th>\n",
       "      <th>Year</th>\n",
       "      <th>SeasonType</th>\n",
       "      <th>PLAYER_ID</th>\n",
       "      <th>RANK</th>\n",
       "      <th>PLAYER</th>\n",
       "      <th>TEAM_ID</th>\n",
       "      <th>TEAM</th>\n",
       "      <th>GP</th>\n",
       "      <th>MIN</th>\n",
       "      <th>FGM</th>\n",
       "      <th>FGA</th>\n",
       "      <th>FG3M</th>\n",
       "      <th>FG3A</th>\n",
       "      <th>FTM</th>\n",
       "      <th>FTA</th>\n",
       "      <th>OREB</th>\n",
       "      <th>DREB</th>\n",
       "      <th>REB</th>\n",
       "      <th>AST</th>\n",
       "      <th>STL</th>\n",
       "      <th>BLK</th>\n",
       "      <th>TOV</th>\n",
       "      <th>PF</th>\n",
       "      <th>PTS</th>\n",
       "      <th>EFF</th>\n",
       "    </tr>\n",
       "  </thead>\n",
       "  <tbody>\n",
       "    <tr>\n",
       "      <th>0</th>\n",
       "      <td>2019-20</td>\n",
       "      <td>Regular%20Season</td>\n",
       "      <td>201935</td>\n",
       "      <td>1</td>\n",
       "      <td>James Harden</td>\n",
       "      <td>1610612745</td>\n",
       "      <td>HOU</td>\n",
       "      <td>68</td>\n",
       "      <td>2483</td>\n",
       "      <td>672</td>\n",
       "      <td>1514</td>\n",
       "      <td>299</td>\n",
       "      <td>843</td>\n",
       "      <td>692</td>\n",
       "      <td>800</td>\n",
       "      <td>70</td>\n",
       "      <td>376</td>\n",
       "      <td>446</td>\n",
       "      <td>512</td>\n",
       "      <td>125</td>\n",
       "      <td>60</td>\n",
       "      <td>308</td>\n",
       "      <td>227</td>\n",
       "      <td>2335</td>\n",
       "      <td>2220</td>\n",
       "    </tr>\n",
       "    <tr>\n",
       "      <th>1</th>\n",
       "      <td>2019-20</td>\n",
       "      <td>Regular%20Season</td>\n",
       "      <td>203081</td>\n",
       "      <td>2</td>\n",
       "      <td>Damian Lillard</td>\n",
       "      <td>1610612757</td>\n",
       "      <td>POR</td>\n",
       "      <td>66</td>\n",
       "      <td>2474</td>\n",
       "      <td>624</td>\n",
       "      <td>1349</td>\n",
       "      <td>270</td>\n",
       "      <td>674</td>\n",
       "      <td>460</td>\n",
       "      <td>518</td>\n",
       "      <td>33</td>\n",
       "      <td>251</td>\n",
       "      <td>284</td>\n",
       "      <td>530</td>\n",
       "      <td>70</td>\n",
       "      <td>22</td>\n",
       "      <td>194</td>\n",
       "      <td>114</td>\n",
       "      <td>1978</td>\n",
       "      <td>1907</td>\n",
       "    </tr>\n",
       "    <tr>\n",
       "      <th>2</th>\n",
       "      <td>2019-20</td>\n",
       "      <td>Regular%20Season</td>\n",
       "      <td>1626164</td>\n",
       "      <td>3</td>\n",
       "      <td>Devin Booker</td>\n",
       "      <td>1610612756</td>\n",
       "      <td>PHX</td>\n",
       "      <td>70</td>\n",
       "      <td>2512</td>\n",
       "      <td>627</td>\n",
       "      <td>1283</td>\n",
       "      <td>141</td>\n",
       "      <td>398</td>\n",
       "      <td>468</td>\n",
       "      <td>509</td>\n",
       "      <td>29</td>\n",
       "      <td>268</td>\n",
       "      <td>297</td>\n",
       "      <td>456</td>\n",
       "      <td>49</td>\n",
       "      <td>18</td>\n",
       "      <td>264</td>\n",
       "      <td>213</td>\n",
       "      <td>1863</td>\n",
       "      <td>1722</td>\n",
       "    </tr>\n",
       "    <tr>\n",
       "      <th>3</th>\n",
       "      <td>2019-20</td>\n",
       "      <td>Regular%20Season</td>\n",
       "      <td>203507</td>\n",
       "      <td>4</td>\n",
       "      <td>Giannis Antetokounmpo</td>\n",
       "      <td>1610612749</td>\n",
       "      <td>MIL</td>\n",
       "      <td>63</td>\n",
       "      <td>1917</td>\n",
       "      <td>685</td>\n",
       "      <td>1238</td>\n",
       "      <td>89</td>\n",
       "      <td>293</td>\n",
       "      <td>398</td>\n",
       "      <td>629</td>\n",
       "      <td>140</td>\n",
       "      <td>716</td>\n",
       "      <td>856</td>\n",
       "      <td>354</td>\n",
       "      <td>61</td>\n",
       "      <td>66</td>\n",
       "      <td>230</td>\n",
       "      <td>195</td>\n",
       "      <td>1857</td>\n",
       "      <td>2180</td>\n",
       "    </tr>\n",
       "    <tr>\n",
       "      <th>4</th>\n",
       "      <td>2019-20</td>\n",
       "      <td>Regular%20Season</td>\n",
       "      <td>1629027</td>\n",
       "      <td>5</td>\n",
       "      <td>Trae Young</td>\n",
       "      <td>1610612737</td>\n",
       "      <td>ATL</td>\n",
       "      <td>60</td>\n",
       "      <td>2120</td>\n",
       "      <td>546</td>\n",
       "      <td>1249</td>\n",
       "      <td>205</td>\n",
       "      <td>568</td>\n",
       "      <td>481</td>\n",
       "      <td>559</td>\n",
       "      <td>32</td>\n",
       "      <td>223</td>\n",
       "      <td>255</td>\n",
       "      <td>560</td>\n",
       "      <td>65</td>\n",
       "      <td>8</td>\n",
       "      <td>289</td>\n",
       "      <td>104</td>\n",
       "      <td>1778</td>\n",
       "      <td>1596</td>\n",
       "    </tr>\n",
       "    <tr>\n",
       "      <th>...</th>\n",
       "      <td>...</td>\n",
       "      <td>...</td>\n",
       "      <td>...</td>\n",
       "      <td>...</td>\n",
       "      <td>...</td>\n",
       "      <td>...</td>\n",
       "      <td>...</td>\n",
       "      <td>...</td>\n",
       "      <td>...</td>\n",
       "      <td>...</td>\n",
       "      <td>...</td>\n",
       "      <td>...</td>\n",
       "      <td>...</td>\n",
       "      <td>...</td>\n",
       "      <td>...</td>\n",
       "      <td>...</td>\n",
       "      <td>...</td>\n",
       "      <td>...</td>\n",
       "      <td>...</td>\n",
       "      <td>...</td>\n",
       "      <td>...</td>\n",
       "      <td>...</td>\n",
       "      <td>...</td>\n",
       "      <td>...</td>\n",
       "      <td>...</td>\n",
       "    </tr>\n",
       "    <tr>\n",
       "      <th>212</th>\n",
       "      <td>2021-22</td>\n",
       "      <td>Playoffs</td>\n",
       "      <td>1629006</td>\n",
       "      <td>206</td>\n",
       "      <td>Josh Okogie</td>\n",
       "      <td>1610612750</td>\n",
       "      <td>MIN</td>\n",
       "      <td>1</td>\n",
       "      <td>2</td>\n",
       "      <td>0</td>\n",
       "      <td>0</td>\n",
       "      <td>0</td>\n",
       "      <td>0</td>\n",
       "      <td>0</td>\n",
       "      <td>0</td>\n",
       "      <td>0</td>\n",
       "      <td>0</td>\n",
       "      <td>0</td>\n",
       "      <td>0</td>\n",
       "      <td>0</td>\n",
       "      <td>0</td>\n",
       "      <td>0</td>\n",
       "      <td>0</td>\n",
       "      <td>0</td>\n",
       "      <td>0</td>\n",
       "    </tr>\n",
       "    <tr>\n",
       "      <th>213</th>\n",
       "      <td>2021-22</td>\n",
       "      <td>Playoffs</td>\n",
       "      <td>1630556</td>\n",
       "      <td>206</td>\n",
       "      <td>Kessler Edwards</td>\n",
       "      <td>1610612751</td>\n",
       "      <td>BKN</td>\n",
       "      <td>2</td>\n",
       "      <td>7</td>\n",
       "      <td>0</td>\n",
       "      <td>0</td>\n",
       "      <td>0</td>\n",
       "      <td>0</td>\n",
       "      <td>0</td>\n",
       "      <td>0</td>\n",
       "      <td>0</td>\n",
       "      <td>0</td>\n",
       "      <td>0</td>\n",
       "      <td>1</td>\n",
       "      <td>1</td>\n",
       "      <td>0</td>\n",
       "      <td>1</td>\n",
       "      <td>3</td>\n",
       "      <td>0</td>\n",
       "      <td>1</td>\n",
       "    </tr>\n",
       "    <tr>\n",
       "      <th>214</th>\n",
       "      <td>2021-22</td>\n",
       "      <td>Playoffs</td>\n",
       "      <td>1630201</td>\n",
       "      <td>206</td>\n",
       "      <td>Malachi Flynn</td>\n",
       "      <td>1610612761</td>\n",
       "      <td>TOR</td>\n",
       "      <td>6</td>\n",
       "      <td>36</td>\n",
       "      <td>0</td>\n",
       "      <td>7</td>\n",
       "      <td>0</td>\n",
       "      <td>3</td>\n",
       "      <td>0</td>\n",
       "      <td>0</td>\n",
       "      <td>2</td>\n",
       "      <td>1</td>\n",
       "      <td>3</td>\n",
       "      <td>3</td>\n",
       "      <td>1</td>\n",
       "      <td>0</td>\n",
       "      <td>1</td>\n",
       "      <td>6</td>\n",
       "      <td>0</td>\n",
       "      <td>-1</td>\n",
       "    </tr>\n",
       "    <tr>\n",
       "      <th>215</th>\n",
       "      <td>2021-22</td>\n",
       "      <td>Playoffs</td>\n",
       "      <td>202693</td>\n",
       "      <td>206</td>\n",
       "      <td>Markieff Morris</td>\n",
       "      <td>1610612748</td>\n",
       "      <td>MIA</td>\n",
       "      <td>2</td>\n",
       "      <td>3</td>\n",
       "      <td>0</td>\n",
       "      <td>1</td>\n",
       "      <td>0</td>\n",
       "      <td>0</td>\n",
       "      <td>0</td>\n",
       "      <td>0</td>\n",
       "      <td>0</td>\n",
       "      <td>1</td>\n",
       "      <td>1</td>\n",
       "      <td>0</td>\n",
       "      <td>0</td>\n",
       "      <td>0</td>\n",
       "      <td>1</td>\n",
       "      <td>2</td>\n",
       "      <td>0</td>\n",
       "      <td>-1</td>\n",
       "    </tr>\n",
       "    <tr>\n",
       "      <th>216</th>\n",
       "      <td>2021-22</td>\n",
       "      <td>Playoffs</td>\n",
       "      <td>200794</td>\n",
       "      <td>206</td>\n",
       "      <td>Paul Millsap</td>\n",
       "      <td>1610612755</td>\n",
       "      <td>PHI</td>\n",
       "      <td>1</td>\n",
       "      <td>6</td>\n",
       "      <td>0</td>\n",
       "      <td>0</td>\n",
       "      <td>0</td>\n",
       "      <td>0</td>\n",
       "      <td>0</td>\n",
       "      <td>0</td>\n",
       "      <td>0</td>\n",
       "      <td>1</td>\n",
       "      <td>1</td>\n",
       "      <td>1</td>\n",
       "      <td>0</td>\n",
       "      <td>0</td>\n",
       "      <td>0</td>\n",
       "      <td>1</td>\n",
       "      <td>0</td>\n",
       "      <td>2</td>\n",
       "    </tr>\n",
       "  </tbody>\n",
       "</table>\n",
       "<p>2347 rows × 25 columns</p>\n",
       "</div>"
      ],
      "text/plain": [
       "        Year        SeasonType PLAYER_ID RANK                 PLAYER  \\\n",
       "0    2019-20  Regular%20Season    201935    1           James Harden   \n",
       "1    2019-20  Regular%20Season    203081    2         Damian Lillard   \n",
       "2    2019-20  Regular%20Season   1626164    3           Devin Booker   \n",
       "3    2019-20  Regular%20Season    203507    4  Giannis Antetokounmpo   \n",
       "4    2019-20  Regular%20Season   1629027    5             Trae Young   \n",
       "..       ...               ...       ...  ...                    ...   \n",
       "212  2021-22          Playoffs   1629006  206            Josh Okogie   \n",
       "213  2021-22          Playoffs   1630556  206        Kessler Edwards   \n",
       "214  2021-22          Playoffs   1630201  206          Malachi Flynn   \n",
       "215  2021-22          Playoffs    202693  206        Markieff Morris   \n",
       "216  2021-22          Playoffs    200794  206           Paul Millsap   \n",
       "\n",
       "        TEAM_ID TEAM  GP   MIN  FGM   FGA FG3M FG3A  FTM  FTA OREB DREB  REB  \\\n",
       "0    1610612745  HOU  68  2483  672  1514  299  843  692  800   70  376  446   \n",
       "1    1610612757  POR  66  2474  624  1349  270  674  460  518   33  251  284   \n",
       "2    1610612756  PHX  70  2512  627  1283  141  398  468  509   29  268  297   \n",
       "3    1610612749  MIL  63  1917  685  1238   89  293  398  629  140  716  856   \n",
       "4    1610612737  ATL  60  2120  546  1249  205  568  481  559   32  223  255   \n",
       "..          ...  ...  ..   ...  ...   ...  ...  ...  ...  ...  ...  ...  ...   \n",
       "212  1610612750  MIN   1     2    0     0    0    0    0    0    0    0    0   \n",
       "213  1610612751  BKN   2     7    0     0    0    0    0    0    0    0    0   \n",
       "214  1610612761  TOR   6    36    0     7    0    3    0    0    2    1    3   \n",
       "215  1610612748  MIA   2     3    0     1    0    0    0    0    0    1    1   \n",
       "216  1610612755  PHI   1     6    0     0    0    0    0    0    0    1    1   \n",
       "\n",
       "     AST  STL BLK  TOV   PF   PTS   EFF  \n",
       "0    512  125  60  308  227  2335  2220  \n",
       "1    530   70  22  194  114  1978  1907  \n",
       "2    456   49  18  264  213  1863  1722  \n",
       "3    354   61  66  230  195  1857  2180  \n",
       "4    560   65   8  289  104  1778  1596  \n",
       "..   ...  ...  ..  ...  ...   ...   ...  \n",
       "212    0    0   0    0    0     0     0  \n",
       "213    1    1   0    1    3     0     1  \n",
       "214    3    1   0    1    6     0    -1  \n",
       "215    0    0   0    1    2     0    -1  \n",
       "216    1    0   0    0    1     0     2  \n",
       "\n",
       "[2347 rows x 25 columns]"
      ]
     },
     "execution_count": 114,
     "metadata": {},
     "output_type": "execute_result"
    }
   ],
   "source": [
    "(df\n",
    " [cols]\n",
    " .select_dtypes(object)\n",
    ")"
   ]
  },
  {
   "cell_type": "code",
   "execution_count": null,
   "id": "18f70143-dc96-49b3-9988-682ecb412719",
   "metadata": {},
   "outputs": [],
   "source": []
  }
 ],
 "metadata": {
  "kernelspec": {
   "display_name": "Python 3 (ipykernel)",
   "language": "python",
   "name": "python3"
  },
  "language_info": {
   "codemirror_mode": {
    "name": "ipython",
    "version": 3
   },
   "file_extension": ".py",
   "mimetype": "text/x-python",
   "name": "python",
   "nbconvert_exporter": "python",
   "pygments_lexer": "ipython3",
   "version": "3.9.7"
  }
 },
 "nbformat": 4,
 "nbformat_minor": 5
}
